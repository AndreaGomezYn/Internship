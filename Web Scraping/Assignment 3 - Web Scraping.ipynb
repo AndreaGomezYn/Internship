{
 "cells": [
  {
   "cell_type": "markdown",
   "id": "7fe63337",
   "metadata": {},
   "source": [
    "# Assignment 3 - Web Scraping"
   ]
  },
  {
   "cell_type": "code",
   "execution_count": 1,
   "id": "28e0110b",
   "metadata": {},
   "outputs": [],
   "source": [
    "import selenium\n",
    "import pandas as pd\n",
    "import time\n",
    "from bs4 import BeautifulSoup\n",
    "\n",
    "# Import Selenium webdriver\n",
    "from selenium import webdriver\n",
    "\n",
    "# Import required exceptions which need to be handled\n",
    "from selenium.common.exceptions import StaleElementReferenceException, NoSuchElementException, ElementNotInteractableException, ElementClickInterceptedException\n",
    "from selenium.webdriver.common.keys import Keys\n",
    "\n",
    "# Import requests\n",
    "import requests\n",
    "\n",
    "from selenium.webdriver.common.by import By\n",
    "import urllib.request\n",
    "import os"
   ]
  },
  {
   "cell_type": "markdown",
   "id": "3781bcd5",
   "metadata": {},
   "source": [
    "### 1. Write a python program which searches all the product under a particular product from www.amazon.in. The product to be searched will be taken as input from user. For e.g. If user input is ‘guitar’. Then search for guitars. "
   ]
  },
  {
   "cell_type": "code",
   "execution_count": 2,
   "id": "fbdb5cfc",
   "metadata": {},
   "outputs": [],
   "source": [
    "driver=webdriver.Chrome(r\"C:\\Users\\JPGD\\Documents\\ANDREA GOMEZ\\FLIP ROBO TECHNOLOGIES INTERNSHIP\\chromedriver_win32 2\\chromedriver.exe\")"
   ]
  },
  {
   "cell_type": "code",
   "execution_count": 3,
   "id": "08080bdc",
   "metadata": {},
   "outputs": [],
   "source": [
    "# Opening the page on automated chrome browser\n",
    "driver.get(\"https://www.amazon.in/\")"
   ]
  },
  {
   "cell_type": "code",
   "execution_count": 4,
   "id": "14ecfb45",
   "metadata": {},
   "outputs": [
    {
     "name": "stdout",
     "output_type": "stream",
     "text": [
      "Please enter the product you are looking for: guitar\n"
     ]
    }
   ],
   "source": [
    "# Choose product\n",
    "product=str(input(\"Please enter the product you are looking for: \"))"
   ]
  },
  {
   "cell_type": "code",
   "execution_count": 5,
   "id": "ba37e4bc",
   "metadata": {},
   "outputs": [],
   "source": [
    "# Entering search\n",
    "\n",
    "search_product=driver.find_element(By.XPATH,'/html/body/div[1]/header/div/div[1]/div[2]/div/form/div[2]/div[1]/input')\n",
    "search_product.send_keys(product)"
   ]
  },
  {
   "cell_type": "code",
   "execution_count": 6,
   "id": "8c9db6d1",
   "metadata": {},
   "outputs": [],
   "source": [
    "# Click the search button\n",
    "\n",
    "search_button=driver.find_element(By.XPATH,'/html/body/div[1]/header/div/div[1]/div[2]/div/form/div[3]/div/span')\n",
    "search_button.click()"
   ]
  },
  {
   "cell_type": "markdown",
   "id": "96f26fda",
   "metadata": {},
   "source": [
    "### 2. In the above question, now scrape the following details of each product listed in first 3 pages of your search results and save it in a data frame and csv. In case if any product has less than 3 pages in search results then scrape all the products available under that product name. Details to be scraped are: \"Brand Name\", \"Name of the Product\", \"Price\", \"Return/Exchange\", \"Expected Delivery\", \"Availability\" and “Product URL”. In case, if any of the details are missing for any of the product then replace it by “-“. "
   ]
  },
  {
   "cell_type": "code",
   "execution_count": 7,
   "id": "54b4e80d",
   "metadata": {},
   "outputs": [],
   "source": [
    "# Fetch URL to open each product link\n",
    "start=0\n",
    "end=3\n",
    "\n",
    "product_opening_url=[]\n",
    "\n",
    "for page in range (start,end):\n",
    "    url=driver.find_elements(By.XPATH,'//a[@class=\"a-link-normal s-underline-text s-underline-link-text s-link-style a-text-normal\"]')\n",
    "    for i in url:\n",
    "        product_opening_url.append(i.get_attribute('href'))\n",
    "    next_button_p=driver.find_elements(By.XPATH,'/html/body/div[1]/div[2]/div[1]/div[1]/div/span[1]/div[1]/div[67]/div/div/span/a[3]')"
   ]
  },
  {
   "cell_type": "code",
   "execution_count": 9,
   "id": "55aca46a",
   "metadata": {},
   "outputs": [
    {
     "name": "stdout",
     "output_type": "stream",
     "text": [
      "['https://www.amazon.in/sspa/click?ie=UTF8&spc=MToyODc1MDcxNTQxNTk3NDE2OjE2ODYxNjY1NTM6c3BfYXRmOjIwMTY2MDU3MTIyMTk4OjowOjo&url=%2Fenya-Acoustic-Beginner-Packaging-Enya_Black_Acoustic_03%2Fdp%2FB0C53Y7MPB%2Fref%3Dsr_1_1_sspa%3Fcrid%3D3VGP8XTVE8JGU%26keywords%3Dguitar%26qid%3D1686166553%26sprefix%3Dguitar%252Caps%252C136%26sr%3D8-1-spons%26sp_csd%3Dd2lkZ2V0TmFtZT1zcF9hdGY%26psc%3D1', 'https://www.amazon.in/sspa/click?ie=UTF8&spc=MToyODc1MDcxNTQxNTk3NDE2OjE2ODYxNjY1NTM6c3BfYXRmOjIwMTUyMjU5MzgxMjk4OjowOjo&url=%2FMedellin-Acoustic-adjustable-Truss-rod-learning%2Fdp%2FB0BMKX4HNP%2Fref%3Dsr_1_2_sspa%3Fcrid%3D3VGP8XTVE8JGU%26keywords%3Dguitar%26qid%3D1686166553%26sprefix%3Dguitar%252Caps%252C136%26sr%3D8-2-spons%26sp_csd%3Dd2lkZ2V0TmFtZT1zcF9hdGY%26psc%3D1%26smid%3DAM04Z7MH4HSDD', 'https://www.amazon.in/sspa/click?ie=UTF8&spc=MToyODc1MDcxNTQxNTk3NDE2OjE2ODYxNjY1NTM6c3BfYXRmOjIwMTIxNzg0MjQwOTk4OjowOjo&url=%2FKadence-Frontier-Acoustic-Guitar-Equalizer%2Fdp%2FB01HRIHJWY%2Fref%3Dsr_1_3_sspa%3Fcrid%3D3VGP8XTVE8JGU%26keywords%3Dguitar%26qid%3D1686166553%26sprefix%3Dguitar%252Caps%252C136%26sr%3D8-3-spons%26sp_csd%3Dd2lkZ2V0TmFtZT1zcF9hdGY%26psc%3D1', 'https://www.amazon.in/sspa/click?ie=UTF8&spc=MToyODc1MDcxNTQxNTk3NDE2OjE2ODYxNjY1NTM6c3BfYXRmOjIwMDk2NjA4NzUwNDk4OjowOjo&url=%2FKadence-Frontier-Acoustic-Guitar-Strings%2Fdp%2FB01GDZ46AA%2Fref%3Dsr_1_4_sspa%3Fcrid%3D3VGP8XTVE8JGU%26keywords%3Dguitar%26qid%3D1686166553%26sprefix%3Dguitar%252Caps%252C136%26sr%3D8-4-spons%26sp_csd%3Dd2lkZ2V0TmFtZT1zcF9hdGY%26psc%3D1%26smid%3DAM04Z7MH4HSDD', 'https://www.amazon.in/Juarez-Acoustic-Cutaway-038C-Strings/dp/B017NPCSLI/ref=sr_1_5?crid=3VGP8XTVE8JGU&keywords=guitar&qid=1686166553&sprefix=guitar%2Caps%2C136&sr=8-5', 'https://www.amazon.in/Intern-INT-38C-Acoustic-Guitar-Black/dp/B073B6TQQY/ref=sr_1_6?crid=3VGP8XTVE8JGU&keywords=guitar&qid=1686166553&sprefix=guitar%2Caps%2C136&sr=8-6', 'https://www.amazon.in/Yamaha-F280-Acoustic-Guitar-Natural/dp/B08317Y4VP/ref=sr_1_7?crid=3VGP8XTVE8JGU&keywords=guitar&qid=1686166553&sprefix=guitar%2Caps%2C136&sr=8-7', 'https://aax-eu.amazon.in/x/c/RF6SH4gj2UuRqlIfXjZ5ggIAAAGIl1vFjQMAAAH2AQBvbm9fdHhuX2JpZDIgICBvbm9fdHhuX2ltcDEgICDQYIOb/https://www.amazon.in/Kadence-Slowhand-Premium-Acoustic-Instrument/dp/B077SZ667X/ref=sxin_14_sbv_search_btf?content-id=amzn1.sym.ea7f11f8-e26c-4b10-84ad-15aa33ea30ac%3Aamzn1.sym.ea7f11f8-e26c-4b10-84ad-15aa33ea30ac&crid=3VGP8XTVE8JGU&cv_ct_cx=guitar&keywords=guitar&pd_rd_i=B077SZ667X&pd_rd_r=c5cc3a82-1a7b-4350-910d-53ccb1d01823&pd_rd_w=nRviL&pd_rd_wg=vnX5o&pf_rd_p=ea7f11f8-e26c-4b10-84ad-15aa33ea30ac&pf_rd_r=3DC2HAXAV7WZAP141RDK&qid=1686166553&sbo=RZvfv%2F%2FHxDF%2BO5021pAnSA%3D%3D&sprefix=guitar%2Caps%2C136&sr=1-1-9131241a-a358-4619-a7b8-0f5a65d91d81', 'https://www.amazon.in/JUAREZ-JRZ38C-Acoustic-Sunburst-Strings/dp/B01FYYTDTU/ref=sr_1_8?crid=3VGP8XTVE8JGU&keywords=guitar&qid=1686166553&sprefix=guitar%2Caps%2C136&sr=8-8', 'https://www.amazon.in/Kadence-Frontier-Acoustic-Guitar-Strings/dp/B01GDZ46AA/ref=sr_1_9?crid=3VGP8XTVE8JGU&keywords=guitar&qid=1686166553&sprefix=guitar%2Caps%2C136&sr=8-9', 'https://www.amazon.in/Juarez-Acoustic-Guitar-Cutaway-Strings/dp/B076QHZ4HZ/ref=sr_1_10?crid=3VGP8XTVE8JGU&keywords=guitar&qid=1686166553&sprefix=guitar%2Caps%2C136&sr=8-10', 'https://www.amazon.in/Intern-Acoustic-Steel-string-plectrums-INT-38C-WH/dp/B09LR94Z2X/ref=sr_1_11?crid=3VGP8XTVE8JGU&keywords=guitar&qid=1686166553&sprefix=guitar%2Caps%2C136&sr=8-11', 'https://www.amazon.in/JUAREZ-JRZ38C-Acoustic-Sunburst-Strings/dp/B01FYYTDS6/ref=sr_1_12?crid=3VGP8XTVE8JGU&keywords=guitar&qid=1686166553&sprefix=guitar%2Caps%2C136&sr=8-12', 'https://www.amazon.in/Intern-INT-38C-Acoustic-Guitar-Blue/dp/B073B5RZBV/ref=sr_1_13?crid=3VGP8XTVE8JGU&keywords=guitar&qid=1686166553&sprefix=guitar%2Caps%2C136&sr=8-13', 'https://www.amazon.in/Henrix-Acoustic-Guitar-Die-cast-Dual-action/dp/B07VNDW6QF/ref=sr_1_14?crid=3VGP8XTVE8JGU&keywords=guitar&qid=1686166553&sprefix=guitar%2Caps%2C136&sr=8-14', 'https://www.amazon.in/Juarez-JRZ-ST01-6-String-Electric-Without/dp/B01FYZSOGM/ref=sr_1_15?crid=3VGP8XTVE8JGU&keywords=guitar&qid=1686166553&sprefix=guitar%2Caps%2C136&sr=8-15', 'https://www.amazon.in/Yamaha-Classical-Guitar-C40-02/dp/B003UGCUFE/ref=sr_1_16?crid=3VGP8XTVE8JGU&keywords=guitar&qid=1686166553&sprefix=guitar%2Caps%2C136&sr=8-16', 'https://www.amazon.in/Intern-38-inch-Cutaway-Design-Acoustic/dp/B07X4PN85R/ref=sr_1_17?crid=3VGP8XTVE8JGU&keywords=guitar&qid=1686166553&sprefix=guitar%2Caps%2C136&sr=8-17', 'https://www.amazon.in/Kadence-Frontier-Acoustic-Guitar-Equalizer/dp/B01HRIHJWY/ref=sr_1_18?crid=3VGP8XTVE8JGU&keywords=guitar&qid=1686166553&sprefix=guitar%2Caps%2C136&sr=8-18', 'https://www.amazon.in/Medellin-Acoustic-adjustable-Truss-rod-learning/dp/B0BMKX4HNP/ref=sr_1_19?crid=3VGP8XTVE8JGU&keywords=guitar&qid=1686166553&sprefix=guitar%2Caps%2C136&sr=8-19', 'https://www.amazon.in/Kadence-Professional-Guitar-Sunburst-Strings/dp/B07SXH9JKX/ref=sr_1_20?crid=3VGP8XTVE8JGU&keywords=guitar&qid=1686166553&sprefix=guitar%2Caps%2C136&sr=8-20', 'https://www.amazon.in/sspa/click?ie=UTF8&spc=MToyODc1MDcxNTQxNTk3NDE2OjE2ODYxNjY1NTM6c3BfbXRmOjIwMTUyMjMzNjkwNTk4OjowOjo&url=%2FKadence-Professional-Guitar-Sunburst-Strings%2Fdp%2FB07SXH9JKX%2Fref%3Dsr_1_21_sspa%3Fcrid%3D3VGP8XTVE8JGU%26keywords%3Dguitar%26qid%3D1686166553%26sprefix%3Dguitar%252Caps%252C136%26sr%3D8-21-spons%26sp_csd%3Dd2lkZ2V0TmFtZT1zcF9tdGY%26psc%3D1', 'https://www.amazon.in/sspa/click?ie=UTF8&spc=MToyODc1MDcxNTQxNTk3NDE2OjE2ODYxNjY1NTM6c3BfbXRmOjIwMTUyMjMzNjkwODk4OjowOjo&url=%2FKadence-6-strings-Acoustic-Guitar-Natural%2Fdp%2FB07JKYWGJN%2Fref%3Dsr_1_22_sspa%3Fcrid%3D3VGP8XTVE8JGU%26keywords%3Dguitar%26qid%3D1686166553%26sprefix%3Dguitar%252Caps%252C136%26sr%3D8-22-spons%26sp_csd%3Dd2lkZ2V0TmFtZT1zcF9tdGY%26psc%3D1%26smid%3DAM04Z7MH4HSDD', 'https://www.amazon.in/sspa/click?ie=UTF8&spc=MToyODc1MDcxNTQxNTk3NDE2OjE2ODYxNjY1NTM6c3BfbXRmOjIwMDQ5MTI5MTM2MzAxOjowOjo&url=%2FGUITAR-BRO-Acoustic-Beginner-Accessories%2Fdp%2FB07TC7TWCR%2Fref%3Dsr_1_23_sspa%3Fcrid%3D3VGP8XTVE8JGU%26keywords%3Dguitar%26qid%3D1686166553%26sprefix%3Dguitar%252Caps%252C136%26sr%3D8-23-spons%26sp_csd%3Dd2lkZ2V0TmFtZT1zcF9tdGY%26psc%3D1', 'https://www.amazon.in/sspa/click?ie=UTF8&spc=MToyODc1MDcxNTQxNTk3NDE2OjE2ODYxNjY1NTM6c3BfbXRmOjIwMTY2MzUyMTA0Nzk4OjowOjo&url=%2FRMC-POLO-GUITAR-YEARS-WARRANTY%2Fdp%2FB0C2NFQ953%2Fref%3Dsr_1_24_sspa%3Fcrid%3D3VGP8XTVE8JGU%26keywords%3Dguitar%26qid%3D1686166553%26sprefix%3Dguitar%252Caps%252C136%26sr%3D8-24-spons%26sp_csd%3Dd2lkZ2V0TmFtZT1zcF9tdGY%26psc%3D1', 'https://www.amazon.in/Kadence-Frontier-Acoustic-Guitar-Strings/dp/B078GTJP5Y/ref=sr_1_25?crid=3VGP8XTVE8JGU&keywords=guitar&qid=1686166553&sprefix=guitar%2Caps%2C136&sr=8-25', 'https://www.amazon.in/Intern-INT-38C-Acoustic-Guitar-Sunburst/dp/B073B5MJRM/ref=sr_1_26?crid=3VGP8XTVE8JGU&keywords=guitar&qid=1686166553&sprefix=guitar%2Caps%2C136&sr=8-26', 'https://www.amazon.in/Juarez-Acoustic-Cutaway-BK-Strings/dp/B076T3RHMG/ref=sr_1_27?crid=3VGP8XTVE8JGU&keywords=guitar&qid=1686166553&sprefix=guitar%2Caps%2C136&sr=8-27', 'https://www.amazon.in/Yamaha-FX280-acoustic-Dreadnought-Natural/dp/B09HR6BNFQ/ref=sr_1_28?crid=3VGP8XTVE8JGU&keywords=guitar&qid=1686166553&sprefix=guitar%2Caps%2C136&sr=8-28', 'https://www.amazon.in/Kadence-Slowhand-Premium-Acoustic-Instrument/dp/B077SZ667X/ref=sr_1_29?crid=3VGP8XTVE8JGU&keywords=guitar&qid=1686166553&sprefix=guitar%2Caps%2C136&sr=8-29', 'https://www.amazon.in/Acoustic-Plectrums-Beginner-Learners-configuration/dp/B0B4SSB8BJ/ref=sr_1_30?crid=3VGP8XTVE8JGU&keywords=guitar&qid=1686166553&sprefix=guitar%2Caps%2C136&sr=8-30', 'https://www.amazon.in/Yamaha-FSX80C-Acoustic-Cutaway-Guitar/dp/B09HL5WFDX/ref=sr_1_31?crid=3VGP8XTVE8JGU&keywords=guitar&qid=1686166553&sprefix=guitar%2Caps%2C136&sr=8-31', 'https://www.amazon.in/Revel-RVL-38C-LGP-3TS-Linden-Acoustic-Sunburst/dp/B085HV4YW7/ref=sr_1_32?crid=3VGP8XTVE8JGU&keywords=guitar&qid=1686166553&sprefix=guitar%2Caps%2C136&sr=8-32', 'https://www.amazon.in/Juarez-Acoustic-Guitar-Cutaway-Strings/dp/B084VRCCN7/ref=sr_1_33?crid=3VGP8XTVE8JGU&keywords=guitar&qid=1686166553&sprefix=guitar%2Caps%2C136&sr=8-33', 'https://www.amazon.in/Acoustic-plectrums-stability-resistance-Electric/dp/B09YH937P2/ref=sr_1_34?crid=3VGP8XTVE8JGU&keywords=guitar&qid=1686166553&sprefix=guitar%2Caps%2C136&sr=8-34', 'https://www.amazon.in/Yamaha-F310-Acoustic-Guitar-Natural/dp/B08Z3C1GRM/ref=sr_1_35?crid=3VGP8XTVE8JGU&keywords=guitar&qid=1686166553&sprefix=guitar%2Caps%2C136&sr=8-35', 'https://www.amazon.in/Vault-LP1MN-Style-Electric-Guitar/dp/B071WPLXRG/ref=sr_1_36?crid=3VGP8XTVE8JGU&keywords=guitar&qid=1686166553&sprefix=guitar%2Caps%2C136&sr=8-36', 'https://www.amazon.in/Cort-AF510E-Semi-Acoustic-Guitar-Black/dp/B00L5F93DE/ref=sr_1_37?crid=3VGP8XTVE8JGU&keywords=guitar&qid=1686166553&sprefix=guitar%2Caps%2C136&sr=8-37', 'https://www.amazon.in/Acoustic-Pick-up-stability-professional-amplificaiton/dp/B09YH8X5CL/ref=sr_1_38?crid=3VGP8XTVE8JGU&keywords=guitar&qid=1686166553&sprefix=guitar%2Caps%2C136&sr=8-38', 'https://www.amazon.in/Yamaha-F370-Acoustic-Guitar-Natural/dp/B000WITPJM/ref=sr_1_39?crid=3VGP8XTVE8JGU&keywords=guitar&qid=1686166553&sprefix=guitar%2Caps%2C136&sr=8-39', 'https://www.amazon.in/Ibanez-V50NJP-VS-Acoustic-Dreadnought-Sunburst/dp/B00775TDU4/ref=sr_1_40?crid=3VGP8XTVE8JGU&keywords=guitar&qid=1686166553&sprefix=guitar%2Caps%2C136&sr=8-40', 'https://www.amazon.in/Fender-Classic-Design-Dreadnought-Acoustic/dp/B07HYS18LJ/ref=sr_1_41?crid=3VGP8XTVE8JGU&keywords=guitar&qid=1686166553&sprefix=guitar%2Caps%2C136&sr=8-41', 'https://www.amazon.in/Cort-AF515CE-6-String-Electro-Acoustic/dp/B07P6XSHQC/ref=sr_1_42?crid=3VGP8XTVE8JGU&keywords=guitar&qid=1686166553&sprefix=guitar%2Caps%2C136&sr=8-42', 'https://www.amazon.in/FX280-acoustic-Dreadnought-Tobacco-Sunburst/dp/B09HR7BXGW/ref=sr_1_43?crid=3VGP8XTVE8JGU&keywords=guitar&qid=1686166553&sprefix=guitar%2Caps%2C136&sr=8-43', 'https://www.amazon.in/Fender-SA105CEBK-Acoustic-Guitar/dp/B01N6KME9M/ref=sr_1_44?crid=3VGP8XTVE8JGU&keywords=guitar&qid=1686166553&sprefix=guitar%2Caps%2C136&sr=8-44', 'https://www.amazon.in/Yamaha-FSX80C-Acoustic-Cutaway-Natural/dp/B09HL3GFZF/ref=sr_1_45?crid=3VGP8XTVE8JGU&keywords=guitar&qid=1686166553&sprefix=guitar%2Caps%2C136&sr=8-45', 'https://www.amazon.in/JUAREZ-Arp%C3%A9ggio-Acoustic-Guitar-Spruce/dp/B08KGCFXKP/ref=sr_1_46?crid=3VGP8XTVE8JGU&keywords=guitar&qid=1686166553&sprefix=guitar%2Caps%2C136&sr=8-46', 'https://www.amazon.in/Cort-Strings-Electric-Right-Handed-without/dp/B00LCRUAKU/ref=sr_1_47?crid=3VGP8XTVE8JGU&keywords=guitar&qid=1686166553&sprefix=guitar%2Caps%2C136&sr=8-47', 'https://www.amazon.in/Fender-FA-125CE-Dreadnought-Fingerboard-Natural/dp/B07R16NMKH/ref=sr_1_48?crid=3VGP8XTVE8JGU&keywords=guitar&qid=1686166553&sprefix=guitar%2Caps%2C136&sr=8-48', 'https://www.amazon.in/Martin-Smith-W-101-SB-PK-Acoustic-Guitar/dp/B019MY0ZGI/ref=sr_1_49?crid=3VGP8XTVE8JGU&keywords=guitar&qid=1686166553&sprefix=guitar%2Caps%2C136&sr=8-49', 'https://www.amazon.in/JUAREZ-JRZ41C-ACOUSTIC-GUITAR-SUNBURST/dp/B07X1XQC4Z/ref=sr_1_50?crid=3VGP8XTVE8JGU&keywords=guitar&qid=1686166553&sprefix=guitar%2Caps%2C136&sr=8-50', 'https://www.amazon.in/Yamaha-FS100C-Acoustic-Guitar-Natural/dp/B08Z3DVN8N/ref=sr_1_51?crid=3VGP8XTVE8JGU&keywords=guitar&qid=1686166553&sprefix=guitar%2Caps%2C136&sr=8-51', 'https://www.amazon.in/Cort-CAP810-OP-Acoustic-Plectrums-Complete/dp/B08D7SWGG5/ref=sr_1_52?crid=3VGP8XTVE8JGU&keywords=guitar&qid=1686166553&sprefix=guitar%2Caps%2C136&sr=8-52', 'https://www.amazon.in/Parlor-Compact-Acoustic-Guitar-Standard/dp/B0BJK1332J/ref=sr_1_53?crid=3VGP8XTVE8JGU&keywords=guitar&qid=1686166553&sprefix=guitar%2Caps%2C136&sr=8-53', 'https://www.amazon.in/Intern-INT-38C-Acoustic-Guitar-Kit/dp/B073B6TF31/ref=sr_1_54?crid=3VGP8XTVE8JGU&keywords=guitar&qid=1686166553&sprefix=guitar%2Caps%2C136&sr=8-54', 'https://www.amazon.in/JUAREZ-Arpeggio-Guitar-JRA41SP-RD-K-red/dp/B08MW8CWG8/ref=sr_1_55?crid=3VGP8XTVE8JGU&keywords=guitar&qid=1686166553&sprefix=guitar%2Caps%2C136&sr=8-55', 'https://www.amazon.in/Ibanez-MD39C-NT-Cutaway-Acoustic-MD39CSB/dp/B07KYKTRKX/ref=sr_1_56?crid=3VGP8XTVE8JGU&keywords=guitar&qid=1686166553&sprefix=guitar%2Caps%2C136&sr=8-56', 'https://www.amazon.in/sspa/click?ie=UTF8&spc=MToyODc1MDcxNTQxNTk3NDE2OjE2ODYxNjY1NTM6c3BfYnRmOjIwMTU1MTc4NjQwNjk4OjowOjo&url=%2FSamara-SA39CE-Cutaway-Electro-Acoustic-Guitar%2Fdp%2FB09DT1QHVV%2Fref%3Dsr_1_57_sspa%3Fcrid%3D3VGP8XTVE8JGU%26keywords%3Dguitar%26qid%3D1686166553%26sprefix%3Dguitar%252Caps%252C136%26sr%3D8-57-spons%26sp_csd%3Dd2lkZ2V0TmFtZT1zcF9idGY%26psc%3D1', 'https://www.amazon.in/sspa/click?ie=UTF8&spc=MToyODc1MDcxNTQxNTk3NDE2OjE2ODYxNjY1NTM6c3BfYnRmOjIwMDc4MzM2ODg3NDk4OjowOjo&url=%2FBlueberry-B-D38-Acoustic-Inbuilt-Strings%2Fdp%2FB07PHYZZP1%2Fref%3Dsr_1_58_sspa%3Fcrid%3D3VGP8XTVE8JGU%26keywords%3Dguitar%26qid%3D1686166553%26sprefix%3Dguitar%252Caps%252C136%26sr%3D8-58-spons%26sp_csd%3Dd2lkZ2V0TmFtZT1zcF9idGY%26psc%3D1', 'https://www.amazon.in/sspa/click?ie=UTF8&spc=MToyODc1MDcxNTQxNTk3NDE2OjE2ODYxNjY1NTM6c3BfYnRmOjIwMTI3OTU1MDA1Nzk4OjowOjo&url=%2FBlueberry-B-40Y-Acoustic-Inbuilt-Strings%2Fdp%2FB07PKQMDK5%2Fref%3Dsr_1_59_sspa%3Fcrid%3D3VGP8XTVE8JGU%26keywords%3Dguitar%26qid%3D1686166553%26sprefix%3Dguitar%252Caps%252C136%26sr%3D8-59-spons%26sp_csd%3Dd2lkZ2V0TmFtZT1zcF9idGY%26psc%3D1', 'https://www.amazon.in/sspa/click?ie=UTF8&spc=MToyODc1MDcxNTQxNTk3NDE2OjE2ODYxNjY1NTM6c3BfYnRmOjIwMTI3OTkwMDI4OTk4OjowOjo&url=%2FBlueberry-VIP-301-30Inch-Acoustic-Guitar%2Fdp%2FB0BVVFNXMD%2Fref%3Dsr_1_60_sspa%3Fcrid%3D3VGP8XTVE8JGU%26keywords%3Dguitar%26qid%3D1686166553%26sprefix%3Dguitar%252Caps%252C136%26sr%3D8-60-spons%26sp_csd%3Dd2lkZ2V0TmFtZT1zcF9idGY%26psc%3D1', 'https://aax-eu.amazon.in/x/c/RL7c2E7Hu9Pkqa68AdIFDeMAAAGIl1vFmAMAAAH2AQBvbm9fdHhuX2JpZDEgICBvbm9fdHhuX2ltcDEgICAWL6Mg/https://www.amazon.in/Rosewood-Fretboard-Acoustic-Strings-K-Retail/dp/B07KLG8C4P/ref=sxbs_sbv_search_btf?content-id=amzn1.sym.bb07d3e1-4df6-48c1-9e83-7a3205f60b8a%3Aamzn1.sym.bb07d3e1-4df6-48c1-9e83-7a3205f60b8a&crid=3VGP8XTVE8JGU&cv_ct_cx=guitar&keywords=guitar&pd_rd_i=B07KLG8C4P&pd_rd_r=8ce1d63e-6193-48c3-9694-fbf49ee9bd13&pd_rd_w=2Nxid&pd_rd_wg=JYW4K&pf_rd_p=bb07d3e1-4df6-48c1-9e83-7a3205f60b8a&pf_rd_r=3DC2HAXAV7WZAP141RDK&qid=1686166553&sbo=RZvfv%2F%2FHxDF%2BO5021pAnSA%3D%3D&sprefix=guitar%2Caps%2C136&sr=1-1-f1821008-9dea-4812-b2b6-4a6e4a4f2d55', 'https://www.amazon.in/sspa/click?ie=UTF8&spc=MToyODc1MDcxNTQxNTk3NDE2OjE2ODYxNjY1NTM6c3BfYXRmOjIwMTY2MDU3MTIyMTk4OjowOjo&url=%2Fenya-Acoustic-Beginner-Packaging-Enya_Black_Acoustic_03%2Fdp%2FB0C53Y7MPB%2Fref%3Dsr_1_1_sspa%3Fcrid%3D3VGP8XTVE8JGU%26keywords%3Dguitar%26qid%3D1686166553%26sprefix%3Dguitar%252Caps%252C136%26sr%3D8-1-spons%26sp_csd%3Dd2lkZ2V0TmFtZT1zcF9hdGY%26psc%3D1', 'https://www.amazon.in/sspa/click?ie=UTF8&spc=MToyODc1MDcxNTQxNTk3NDE2OjE2ODYxNjY1NTM6c3BfYXRmOjIwMTUyMjU5MzgxMjk4OjowOjo&url=%2FMedellin-Acoustic-adjustable-Truss-rod-learning%2Fdp%2FB0BMKX4HNP%2Fref%3Dsr_1_2_sspa%3Fcrid%3D3VGP8XTVE8JGU%26keywords%3Dguitar%26qid%3D1686166553%26sprefix%3Dguitar%252Caps%252C136%26sr%3D8-2-spons%26sp_csd%3Dd2lkZ2V0TmFtZT1zcF9hdGY%26psc%3D1%26smid%3DAM04Z7MH4HSDD', 'https://www.amazon.in/sspa/click?ie=UTF8&spc=MToyODc1MDcxNTQxNTk3NDE2OjE2ODYxNjY1NTM6c3BfYXRmOjIwMTIxNzg0MjQwOTk4OjowOjo&url=%2FKadence-Frontier-Acoustic-Guitar-Equalizer%2Fdp%2FB01HRIHJWY%2Fref%3Dsr_1_3_sspa%3Fcrid%3D3VGP8XTVE8JGU%26keywords%3Dguitar%26qid%3D1686166553%26sprefix%3Dguitar%252Caps%252C136%26sr%3D8-3-spons%26sp_csd%3Dd2lkZ2V0TmFtZT1zcF9hdGY%26psc%3D1', 'https://www.amazon.in/sspa/click?ie=UTF8&spc=MToyODc1MDcxNTQxNTk3NDE2OjE2ODYxNjY1NTM6c3BfYXRmOjIwMDk2NjA4NzUwNDk4OjowOjo&url=%2FKadence-Frontier-Acoustic-Guitar-Strings%2Fdp%2FB01GDZ46AA%2Fref%3Dsr_1_4_sspa%3Fcrid%3D3VGP8XTVE8JGU%26keywords%3Dguitar%26qid%3D1686166553%26sprefix%3Dguitar%252Caps%252C136%26sr%3D8-4-spons%26sp_csd%3Dd2lkZ2V0TmFtZT1zcF9hdGY%26psc%3D1%26smid%3DAM04Z7MH4HSDD', 'https://www.amazon.in/Juarez-Acoustic-Cutaway-038C-Strings/dp/B017NPCSLI/ref=sr_1_5?crid=3VGP8XTVE8JGU&keywords=guitar&qid=1686166553&sprefix=guitar%2Caps%2C136&sr=8-5', 'https://www.amazon.in/Intern-INT-38C-Acoustic-Guitar-Black/dp/B073B6TQQY/ref=sr_1_6?crid=3VGP8XTVE8JGU&keywords=guitar&qid=1686166553&sprefix=guitar%2Caps%2C136&sr=8-6', 'https://www.amazon.in/Yamaha-F280-Acoustic-Guitar-Natural/dp/B08317Y4VP/ref=sr_1_7?crid=3VGP8XTVE8JGU&keywords=guitar&qid=1686166553&sprefix=guitar%2Caps%2C136&sr=8-7', 'https://aax-eu.amazon.in/x/c/RF6SH4gj2UuRqlIfXjZ5ggIAAAGIl1vFjQMAAAH2AQBvbm9fdHhuX2JpZDIgICBvbm9fdHhuX2ltcDEgICDQYIOb/https://www.amazon.in/Kadence-Slowhand-Premium-Acoustic-Instrument/dp/B077SZ667X/ref=sxin_14_sbv_search_btf?content-id=amzn1.sym.ea7f11f8-e26c-4b10-84ad-15aa33ea30ac%3Aamzn1.sym.ea7f11f8-e26c-4b10-84ad-15aa33ea30ac&crid=3VGP8XTVE8JGU&cv_ct_cx=guitar&keywords=guitar&pd_rd_i=B077SZ667X&pd_rd_r=c5cc3a82-1a7b-4350-910d-53ccb1d01823&pd_rd_w=nRviL&pd_rd_wg=vnX5o&pf_rd_p=ea7f11f8-e26c-4b10-84ad-15aa33ea30ac&pf_rd_r=3DC2HAXAV7WZAP141RDK&qid=1686166553&sbo=RZvfv%2F%2FHxDF%2BO5021pAnSA%3D%3D&sprefix=guitar%2Caps%2C136&sr=1-1-9131241a-a358-4619-a7b8-0f5a65d91d81', 'https://www.amazon.in/JUAREZ-JRZ38C-Acoustic-Sunburst-Strings/dp/B01FYYTDTU/ref=sr_1_8?crid=3VGP8XTVE8JGU&keywords=guitar&qid=1686166553&sprefix=guitar%2Caps%2C136&sr=8-8', 'https://www.amazon.in/Kadence-Frontier-Acoustic-Guitar-Strings/dp/B01GDZ46AA/ref=sr_1_9?crid=3VGP8XTVE8JGU&keywords=guitar&qid=1686166553&sprefix=guitar%2Caps%2C136&sr=8-9', 'https://www.amazon.in/Juarez-Acoustic-Guitar-Cutaway-Strings/dp/B076QHZ4HZ/ref=sr_1_10?crid=3VGP8XTVE8JGU&keywords=guitar&qid=1686166553&sprefix=guitar%2Caps%2C136&sr=8-10', 'https://www.amazon.in/Intern-Acoustic-Steel-string-plectrums-INT-38C-WH/dp/B09LR94Z2X/ref=sr_1_11?crid=3VGP8XTVE8JGU&keywords=guitar&qid=1686166553&sprefix=guitar%2Caps%2C136&sr=8-11', 'https://www.amazon.in/JUAREZ-JRZ38C-Acoustic-Sunburst-Strings/dp/B01FYYTDS6/ref=sr_1_12?crid=3VGP8XTVE8JGU&keywords=guitar&qid=1686166553&sprefix=guitar%2Caps%2C136&sr=8-12', 'https://www.amazon.in/Intern-INT-38C-Acoustic-Guitar-Blue/dp/B073B5RZBV/ref=sr_1_13?crid=3VGP8XTVE8JGU&keywords=guitar&qid=1686166553&sprefix=guitar%2Caps%2C136&sr=8-13', 'https://www.amazon.in/Henrix-Acoustic-Guitar-Die-cast-Dual-action/dp/B07VNDW6QF/ref=sr_1_14?crid=3VGP8XTVE8JGU&keywords=guitar&qid=1686166553&sprefix=guitar%2Caps%2C136&sr=8-14', 'https://www.amazon.in/Juarez-JRZ-ST01-6-String-Electric-Without/dp/B01FYZSOGM/ref=sr_1_15?crid=3VGP8XTVE8JGU&keywords=guitar&qid=1686166553&sprefix=guitar%2Caps%2C136&sr=8-15', 'https://www.amazon.in/Yamaha-Classical-Guitar-C40-02/dp/B003UGCUFE/ref=sr_1_16?crid=3VGP8XTVE8JGU&keywords=guitar&qid=1686166553&sprefix=guitar%2Caps%2C136&sr=8-16', 'https://www.amazon.in/Intern-38-inch-Cutaway-Design-Acoustic/dp/B07X4PN85R/ref=sr_1_17?crid=3VGP8XTVE8JGU&keywords=guitar&qid=1686166553&sprefix=guitar%2Caps%2C136&sr=8-17', 'https://www.amazon.in/Kadence-Frontier-Acoustic-Guitar-Equalizer/dp/B01HRIHJWY/ref=sr_1_18?crid=3VGP8XTVE8JGU&keywords=guitar&qid=1686166553&sprefix=guitar%2Caps%2C136&sr=8-18', 'https://www.amazon.in/Medellin-Acoustic-adjustable-Truss-rod-learning/dp/B0BMKX4HNP/ref=sr_1_19?crid=3VGP8XTVE8JGU&keywords=guitar&qid=1686166553&sprefix=guitar%2Caps%2C136&sr=8-19', 'https://www.amazon.in/Kadence-Professional-Guitar-Sunburst-Strings/dp/B07SXH9JKX/ref=sr_1_20?crid=3VGP8XTVE8JGU&keywords=guitar&qid=1686166553&sprefix=guitar%2Caps%2C136&sr=8-20', 'https://www.amazon.in/sspa/click?ie=UTF8&spc=MToyODc1MDcxNTQxNTk3NDE2OjE2ODYxNjY1NTM6c3BfbXRmOjIwMTUyMjMzNjkwNTk4OjowOjo&url=%2FKadence-Professional-Guitar-Sunburst-Strings%2Fdp%2FB07SXH9JKX%2Fref%3Dsr_1_21_sspa%3Fcrid%3D3VGP8XTVE8JGU%26keywords%3Dguitar%26qid%3D1686166553%26sprefix%3Dguitar%252Caps%252C136%26sr%3D8-21-spons%26sp_csd%3Dd2lkZ2V0TmFtZT1zcF9tdGY%26psc%3D1', 'https://www.amazon.in/sspa/click?ie=UTF8&spc=MToyODc1MDcxNTQxNTk3NDE2OjE2ODYxNjY1NTM6c3BfbXRmOjIwMTUyMjMzNjkwODk4OjowOjo&url=%2FKadence-6-strings-Acoustic-Guitar-Natural%2Fdp%2FB07JKYWGJN%2Fref%3Dsr_1_22_sspa%3Fcrid%3D3VGP8XTVE8JGU%26keywords%3Dguitar%26qid%3D1686166553%26sprefix%3Dguitar%252Caps%252C136%26sr%3D8-22-spons%26sp_csd%3Dd2lkZ2V0TmFtZT1zcF9tdGY%26psc%3D1%26smid%3DAM04Z7MH4HSDD', 'https://www.amazon.in/sspa/click?ie=UTF8&spc=MToyODc1MDcxNTQxNTk3NDE2OjE2ODYxNjY1NTM6c3BfbXRmOjIwMDQ5MTI5MTM2MzAxOjowOjo&url=%2FGUITAR-BRO-Acoustic-Beginner-Accessories%2Fdp%2FB07TC7TWCR%2Fref%3Dsr_1_23_sspa%3Fcrid%3D3VGP8XTVE8JGU%26keywords%3Dguitar%26qid%3D1686166553%26sprefix%3Dguitar%252Caps%252C136%26sr%3D8-23-spons%26sp_csd%3Dd2lkZ2V0TmFtZT1zcF9tdGY%26psc%3D1', 'https://www.amazon.in/sspa/click?ie=UTF8&spc=MToyODc1MDcxNTQxNTk3NDE2OjE2ODYxNjY1NTM6c3BfbXRmOjIwMTY2MzUyMTA0Nzk4OjowOjo&url=%2FRMC-POLO-GUITAR-YEARS-WARRANTY%2Fdp%2FB0C2NFQ953%2Fref%3Dsr_1_24_sspa%3Fcrid%3D3VGP8XTVE8JGU%26keywords%3Dguitar%26qid%3D1686166553%26sprefix%3Dguitar%252Caps%252C136%26sr%3D8-24-spons%26sp_csd%3Dd2lkZ2V0TmFtZT1zcF9tdGY%26psc%3D1', 'https://www.amazon.in/Kadence-Frontier-Acoustic-Guitar-Strings/dp/B078GTJP5Y/ref=sr_1_25?crid=3VGP8XTVE8JGU&keywords=guitar&qid=1686166553&sprefix=guitar%2Caps%2C136&sr=8-25', 'https://www.amazon.in/Intern-INT-38C-Acoustic-Guitar-Sunburst/dp/B073B5MJRM/ref=sr_1_26?crid=3VGP8XTVE8JGU&keywords=guitar&qid=1686166553&sprefix=guitar%2Caps%2C136&sr=8-26', 'https://www.amazon.in/Juarez-Acoustic-Cutaway-BK-Strings/dp/B076T3RHMG/ref=sr_1_27?crid=3VGP8XTVE8JGU&keywords=guitar&qid=1686166553&sprefix=guitar%2Caps%2C136&sr=8-27', 'https://www.amazon.in/Yamaha-FX280-acoustic-Dreadnought-Natural/dp/B09HR6BNFQ/ref=sr_1_28?crid=3VGP8XTVE8JGU&keywords=guitar&qid=1686166553&sprefix=guitar%2Caps%2C136&sr=8-28', 'https://www.amazon.in/Kadence-Slowhand-Premium-Acoustic-Instrument/dp/B077SZ667X/ref=sr_1_29?crid=3VGP8XTVE8JGU&keywords=guitar&qid=1686166553&sprefix=guitar%2Caps%2C136&sr=8-29', 'https://www.amazon.in/Acoustic-Plectrums-Beginner-Learners-configuration/dp/B0B4SSB8BJ/ref=sr_1_30?crid=3VGP8XTVE8JGU&keywords=guitar&qid=1686166553&sprefix=guitar%2Caps%2C136&sr=8-30', 'https://www.amazon.in/Yamaha-FSX80C-Acoustic-Cutaway-Guitar/dp/B09HL5WFDX/ref=sr_1_31?crid=3VGP8XTVE8JGU&keywords=guitar&qid=1686166553&sprefix=guitar%2Caps%2C136&sr=8-31', 'https://www.amazon.in/Revel-RVL-38C-LGP-3TS-Linden-Acoustic-Sunburst/dp/B085HV4YW7/ref=sr_1_32?crid=3VGP8XTVE8JGU&keywords=guitar&qid=1686166553&sprefix=guitar%2Caps%2C136&sr=8-32', 'https://www.amazon.in/Juarez-Acoustic-Guitar-Cutaway-Strings/dp/B084VRCCN7/ref=sr_1_33?crid=3VGP8XTVE8JGU&keywords=guitar&qid=1686166553&sprefix=guitar%2Caps%2C136&sr=8-33', 'https://www.amazon.in/Acoustic-plectrums-stability-resistance-Electric/dp/B09YH937P2/ref=sr_1_34?crid=3VGP8XTVE8JGU&keywords=guitar&qid=1686166553&sprefix=guitar%2Caps%2C136&sr=8-34', 'https://www.amazon.in/Yamaha-F310-Acoustic-Guitar-Natural/dp/B08Z3C1GRM/ref=sr_1_35?crid=3VGP8XTVE8JGU&keywords=guitar&qid=1686166553&sprefix=guitar%2Caps%2C136&sr=8-35', 'https://www.amazon.in/Vault-LP1MN-Style-Electric-Guitar/dp/B071WPLXRG/ref=sr_1_36?crid=3VGP8XTVE8JGU&keywords=guitar&qid=1686166553&sprefix=guitar%2Caps%2C136&sr=8-36', 'https://www.amazon.in/Cort-AF510E-Semi-Acoustic-Guitar-Black/dp/B00L5F93DE/ref=sr_1_37?crid=3VGP8XTVE8JGU&keywords=guitar&qid=1686166553&sprefix=guitar%2Caps%2C136&sr=8-37', 'https://www.amazon.in/Acoustic-Pick-up-stability-professional-amplificaiton/dp/B09YH8X5CL/ref=sr_1_38?crid=3VGP8XTVE8JGU&keywords=guitar&qid=1686166553&sprefix=guitar%2Caps%2C136&sr=8-38', 'https://www.amazon.in/Yamaha-F370-Acoustic-Guitar-Natural/dp/B000WITPJM/ref=sr_1_39?crid=3VGP8XTVE8JGU&keywords=guitar&qid=1686166553&sprefix=guitar%2Caps%2C136&sr=8-39', 'https://www.amazon.in/Ibanez-V50NJP-VS-Acoustic-Dreadnought-Sunburst/dp/B00775TDU4/ref=sr_1_40?crid=3VGP8XTVE8JGU&keywords=guitar&qid=1686166553&sprefix=guitar%2Caps%2C136&sr=8-40', 'https://www.amazon.in/Fender-Classic-Design-Dreadnought-Acoustic/dp/B07HYS18LJ/ref=sr_1_41?crid=3VGP8XTVE8JGU&keywords=guitar&qid=1686166553&sprefix=guitar%2Caps%2C136&sr=8-41', 'https://www.amazon.in/Cort-AF515CE-6-String-Electro-Acoustic/dp/B07P6XSHQC/ref=sr_1_42?crid=3VGP8XTVE8JGU&keywords=guitar&qid=1686166553&sprefix=guitar%2Caps%2C136&sr=8-42', 'https://www.amazon.in/FX280-acoustic-Dreadnought-Tobacco-Sunburst/dp/B09HR7BXGW/ref=sr_1_43?crid=3VGP8XTVE8JGU&keywords=guitar&qid=1686166553&sprefix=guitar%2Caps%2C136&sr=8-43', 'https://www.amazon.in/Fender-SA105CEBK-Acoustic-Guitar/dp/B01N6KME9M/ref=sr_1_44?crid=3VGP8XTVE8JGU&keywords=guitar&qid=1686166553&sprefix=guitar%2Caps%2C136&sr=8-44', 'https://www.amazon.in/Yamaha-FSX80C-Acoustic-Cutaway-Natural/dp/B09HL3GFZF/ref=sr_1_45?crid=3VGP8XTVE8JGU&keywords=guitar&qid=1686166553&sprefix=guitar%2Caps%2C136&sr=8-45', 'https://www.amazon.in/JUAREZ-Arp%C3%A9ggio-Acoustic-Guitar-Spruce/dp/B08KGCFXKP/ref=sr_1_46?crid=3VGP8XTVE8JGU&keywords=guitar&qid=1686166553&sprefix=guitar%2Caps%2C136&sr=8-46', 'https://www.amazon.in/Cort-Strings-Electric-Right-Handed-without/dp/B00LCRUAKU/ref=sr_1_47?crid=3VGP8XTVE8JGU&keywords=guitar&qid=1686166553&sprefix=guitar%2Caps%2C136&sr=8-47', 'https://www.amazon.in/Fender-FA-125CE-Dreadnought-Fingerboard-Natural/dp/B07R16NMKH/ref=sr_1_48?crid=3VGP8XTVE8JGU&keywords=guitar&qid=1686166553&sprefix=guitar%2Caps%2C136&sr=8-48', 'https://www.amazon.in/Martin-Smith-W-101-SB-PK-Acoustic-Guitar/dp/B019MY0ZGI/ref=sr_1_49?crid=3VGP8XTVE8JGU&keywords=guitar&qid=1686166553&sprefix=guitar%2Caps%2C136&sr=8-49', 'https://www.amazon.in/JUAREZ-JRZ41C-ACOUSTIC-GUITAR-SUNBURST/dp/B07X1XQC4Z/ref=sr_1_50?crid=3VGP8XTVE8JGU&keywords=guitar&qid=1686166553&sprefix=guitar%2Caps%2C136&sr=8-50', 'https://www.amazon.in/Yamaha-FS100C-Acoustic-Guitar-Natural/dp/B08Z3DVN8N/ref=sr_1_51?crid=3VGP8XTVE8JGU&keywords=guitar&qid=1686166553&sprefix=guitar%2Caps%2C136&sr=8-51', 'https://www.amazon.in/Cort-CAP810-OP-Acoustic-Plectrums-Complete/dp/B08D7SWGG5/ref=sr_1_52?crid=3VGP8XTVE8JGU&keywords=guitar&qid=1686166553&sprefix=guitar%2Caps%2C136&sr=8-52', 'https://www.amazon.in/Parlor-Compact-Acoustic-Guitar-Standard/dp/B0BJK1332J/ref=sr_1_53?crid=3VGP8XTVE8JGU&keywords=guitar&qid=1686166553&sprefix=guitar%2Caps%2C136&sr=8-53', 'https://www.amazon.in/Intern-INT-38C-Acoustic-Guitar-Kit/dp/B073B6TF31/ref=sr_1_54?crid=3VGP8XTVE8JGU&keywords=guitar&qid=1686166553&sprefix=guitar%2Caps%2C136&sr=8-54', 'https://www.amazon.in/JUAREZ-Arpeggio-Guitar-JRA41SP-RD-K-red/dp/B08MW8CWG8/ref=sr_1_55?crid=3VGP8XTVE8JGU&keywords=guitar&qid=1686166553&sprefix=guitar%2Caps%2C136&sr=8-55', 'https://www.amazon.in/Ibanez-MD39C-NT-Cutaway-Acoustic-MD39CSB/dp/B07KYKTRKX/ref=sr_1_56?crid=3VGP8XTVE8JGU&keywords=guitar&qid=1686166553&sprefix=guitar%2Caps%2C136&sr=8-56', 'https://www.amazon.in/sspa/click?ie=UTF8&spc=MToyODc1MDcxNTQxNTk3NDE2OjE2ODYxNjY1NTM6c3BfYnRmOjIwMTU1MTc4NjQwNjk4OjowOjo&url=%2FSamara-SA39CE-Cutaway-Electro-Acoustic-Guitar%2Fdp%2FB09DT1QHVV%2Fref%3Dsr_1_57_sspa%3Fcrid%3D3VGP8XTVE8JGU%26keywords%3Dguitar%26qid%3D1686166553%26sprefix%3Dguitar%252Caps%252C136%26sr%3D8-57-spons%26sp_csd%3Dd2lkZ2V0TmFtZT1zcF9idGY%26psc%3D1', 'https://www.amazon.in/sspa/click?ie=UTF8&spc=MToyODc1MDcxNTQxNTk3NDE2OjE2ODYxNjY1NTM6c3BfYnRmOjIwMDc4MzM2ODg3NDk4OjowOjo&url=%2FBlueberry-B-D38-Acoustic-Inbuilt-Strings%2Fdp%2FB07PHYZZP1%2Fref%3Dsr_1_58_sspa%3Fcrid%3D3VGP8XTVE8JGU%26keywords%3Dguitar%26qid%3D1686166553%26sprefix%3Dguitar%252Caps%252C136%26sr%3D8-58-spons%26sp_csd%3Dd2lkZ2V0TmFtZT1zcF9idGY%26psc%3D1', 'https://www.amazon.in/sspa/click?ie=UTF8&spc=MToyODc1MDcxNTQxNTk3NDE2OjE2ODYxNjY1NTM6c3BfYnRmOjIwMTI3OTU1MDA1Nzk4OjowOjo&url=%2FBlueberry-B-40Y-Acoustic-Inbuilt-Strings%2Fdp%2FB07PKQMDK5%2Fref%3Dsr_1_59_sspa%3Fcrid%3D3VGP8XTVE8JGU%26keywords%3Dguitar%26qid%3D1686166553%26sprefix%3Dguitar%252Caps%252C136%26sr%3D8-59-spons%26sp_csd%3Dd2lkZ2V0TmFtZT1zcF9idGY%26psc%3D1', 'https://www.amazon.in/sspa/click?ie=UTF8&spc=MToyODc1MDcxNTQxNTk3NDE2OjE2ODYxNjY1NTM6c3BfYnRmOjIwMTI3OTkwMDI4OTk4OjowOjo&url=%2FBlueberry-VIP-301-30Inch-Acoustic-Guitar%2Fdp%2FB0BVVFNXMD%2Fref%3Dsr_1_60_sspa%3Fcrid%3D3VGP8XTVE8JGU%26keywords%3Dguitar%26qid%3D1686166553%26sprefix%3Dguitar%252Caps%252C136%26sr%3D8-60-spons%26sp_csd%3Dd2lkZ2V0TmFtZT1zcF9idGY%26psc%3D1', 'https://aax-eu.amazon.in/x/c/RL7c2E7Hu9Pkqa68AdIFDeMAAAGIl1vFmAMAAAH2AQBvbm9fdHhuX2JpZDEgICBvbm9fdHhuX2ltcDEgICAWL6Mg/https://www.amazon.in/Rosewood-Fretboard-Acoustic-Strings-K-Retail/dp/B07KLG8C4P/ref=sxbs_sbv_search_btf?content-id=amzn1.sym.bb07d3e1-4df6-48c1-9e83-7a3205f60b8a%3Aamzn1.sym.bb07d3e1-4df6-48c1-9e83-7a3205f60b8a&crid=3VGP8XTVE8JGU&cv_ct_cx=guitar&keywords=guitar&pd_rd_i=B07KLG8C4P&pd_rd_r=8ce1d63e-6193-48c3-9694-fbf49ee9bd13&pd_rd_w=2Nxid&pd_rd_wg=JYW4K&pf_rd_p=bb07d3e1-4df6-48c1-9e83-7a3205f60b8a&pf_rd_r=3DC2HAXAV7WZAP141RDK&qid=1686166553&sbo=RZvfv%2F%2FHxDF%2BO5021pAnSA%3D%3D&sprefix=guitar%2Caps%2C136&sr=1-1-f1821008-9dea-4812-b2b6-4a6e4a4f2d55', 'https://www.amazon.in/sspa/click?ie=UTF8&spc=MToyODc1MDcxNTQxNTk3NDE2OjE2ODYxNjY1NTM6c3BfYXRmOjIwMTY2MDU3MTIyMTk4OjowOjo&url=%2Fenya-Acoustic-Beginner-Packaging-Enya_Black_Acoustic_03%2Fdp%2FB0C53Y7MPB%2Fref%3Dsr_1_1_sspa%3Fcrid%3D3VGP8XTVE8JGU%26keywords%3Dguitar%26qid%3D1686166553%26sprefix%3Dguitar%252Caps%252C136%26sr%3D8-1-spons%26sp_csd%3Dd2lkZ2V0TmFtZT1zcF9hdGY%26psc%3D1', 'https://www.amazon.in/sspa/click?ie=UTF8&spc=MToyODc1MDcxNTQxNTk3NDE2OjE2ODYxNjY1NTM6c3BfYXRmOjIwMTUyMjU5MzgxMjk4OjowOjo&url=%2FMedellin-Acoustic-adjustable-Truss-rod-learning%2Fdp%2FB0BMKX4HNP%2Fref%3Dsr_1_2_sspa%3Fcrid%3D3VGP8XTVE8JGU%26keywords%3Dguitar%26qid%3D1686166553%26sprefix%3Dguitar%252Caps%252C136%26sr%3D8-2-spons%26sp_csd%3Dd2lkZ2V0TmFtZT1zcF9hdGY%26psc%3D1%26smid%3DAM04Z7MH4HSDD', 'https://www.amazon.in/sspa/click?ie=UTF8&spc=MToyODc1MDcxNTQxNTk3NDE2OjE2ODYxNjY1NTM6c3BfYXRmOjIwMTIxNzg0MjQwOTk4OjowOjo&url=%2FKadence-Frontier-Acoustic-Guitar-Equalizer%2Fdp%2FB01HRIHJWY%2Fref%3Dsr_1_3_sspa%3Fcrid%3D3VGP8XTVE8JGU%26keywords%3Dguitar%26qid%3D1686166553%26sprefix%3Dguitar%252Caps%252C136%26sr%3D8-3-spons%26sp_csd%3Dd2lkZ2V0TmFtZT1zcF9hdGY%26psc%3D1', 'https://www.amazon.in/sspa/click?ie=UTF8&spc=MToyODc1MDcxNTQxNTk3NDE2OjE2ODYxNjY1NTM6c3BfYXRmOjIwMDk2NjA4NzUwNDk4OjowOjo&url=%2FKadence-Frontier-Acoustic-Guitar-Strings%2Fdp%2FB01GDZ46AA%2Fref%3Dsr_1_4_sspa%3Fcrid%3D3VGP8XTVE8JGU%26keywords%3Dguitar%26qid%3D1686166553%26sprefix%3Dguitar%252Caps%252C136%26sr%3D8-4-spons%26sp_csd%3Dd2lkZ2V0TmFtZT1zcF9hdGY%26psc%3D1%26smid%3DAM04Z7MH4HSDD', 'https://www.amazon.in/Juarez-Acoustic-Cutaway-038C-Strings/dp/B017NPCSLI/ref=sr_1_5?crid=3VGP8XTVE8JGU&keywords=guitar&qid=1686166553&sprefix=guitar%2Caps%2C136&sr=8-5', 'https://www.amazon.in/Intern-INT-38C-Acoustic-Guitar-Black/dp/B073B6TQQY/ref=sr_1_6?crid=3VGP8XTVE8JGU&keywords=guitar&qid=1686166553&sprefix=guitar%2Caps%2C136&sr=8-6', 'https://www.amazon.in/Yamaha-F280-Acoustic-Guitar-Natural/dp/B08317Y4VP/ref=sr_1_7?crid=3VGP8XTVE8JGU&keywords=guitar&qid=1686166553&sprefix=guitar%2Caps%2C136&sr=8-7', 'https://aax-eu.amazon.in/x/c/RF6SH4gj2UuRqlIfXjZ5ggIAAAGIl1vFjQMAAAH2AQBvbm9fdHhuX2JpZDIgICBvbm9fdHhuX2ltcDEgICDQYIOb/https://www.amazon.in/Kadence-Slowhand-Premium-Acoustic-Instrument/dp/B077SZ667X/ref=sxin_14_sbv_search_btf?content-id=amzn1.sym.ea7f11f8-e26c-4b10-84ad-15aa33ea30ac%3Aamzn1.sym.ea7f11f8-e26c-4b10-84ad-15aa33ea30ac&crid=3VGP8XTVE8JGU&cv_ct_cx=guitar&keywords=guitar&pd_rd_i=B077SZ667X&pd_rd_r=c5cc3a82-1a7b-4350-910d-53ccb1d01823&pd_rd_w=nRviL&pd_rd_wg=vnX5o&pf_rd_p=ea7f11f8-e26c-4b10-84ad-15aa33ea30ac&pf_rd_r=3DC2HAXAV7WZAP141RDK&qid=1686166553&sbo=RZvfv%2F%2FHxDF%2BO5021pAnSA%3D%3D&sprefix=guitar%2Caps%2C136&sr=1-1-9131241a-a358-4619-a7b8-0f5a65d91d81', 'https://www.amazon.in/JUAREZ-JRZ38C-Acoustic-Sunburst-Strings/dp/B01FYYTDTU/ref=sr_1_8?crid=3VGP8XTVE8JGU&keywords=guitar&qid=1686166553&sprefix=guitar%2Caps%2C136&sr=8-8', 'https://www.amazon.in/Kadence-Frontier-Acoustic-Guitar-Strings/dp/B01GDZ46AA/ref=sr_1_9?crid=3VGP8XTVE8JGU&keywords=guitar&qid=1686166553&sprefix=guitar%2Caps%2C136&sr=8-9', 'https://www.amazon.in/Juarez-Acoustic-Guitar-Cutaway-Strings/dp/B076QHZ4HZ/ref=sr_1_10?crid=3VGP8XTVE8JGU&keywords=guitar&qid=1686166553&sprefix=guitar%2Caps%2C136&sr=8-10', 'https://www.amazon.in/Intern-Acoustic-Steel-string-plectrums-INT-38C-WH/dp/B09LR94Z2X/ref=sr_1_11?crid=3VGP8XTVE8JGU&keywords=guitar&qid=1686166553&sprefix=guitar%2Caps%2C136&sr=8-11', 'https://www.amazon.in/JUAREZ-JRZ38C-Acoustic-Sunburst-Strings/dp/B01FYYTDS6/ref=sr_1_12?crid=3VGP8XTVE8JGU&keywords=guitar&qid=1686166553&sprefix=guitar%2Caps%2C136&sr=8-12', 'https://www.amazon.in/Intern-INT-38C-Acoustic-Guitar-Blue/dp/B073B5RZBV/ref=sr_1_13?crid=3VGP8XTVE8JGU&keywords=guitar&qid=1686166553&sprefix=guitar%2Caps%2C136&sr=8-13', 'https://www.amazon.in/Henrix-Acoustic-Guitar-Die-cast-Dual-action/dp/B07VNDW6QF/ref=sr_1_14?crid=3VGP8XTVE8JGU&keywords=guitar&qid=1686166553&sprefix=guitar%2Caps%2C136&sr=8-14', 'https://www.amazon.in/Juarez-JRZ-ST01-6-String-Electric-Without/dp/B01FYZSOGM/ref=sr_1_15?crid=3VGP8XTVE8JGU&keywords=guitar&qid=1686166553&sprefix=guitar%2Caps%2C136&sr=8-15', 'https://www.amazon.in/Yamaha-Classical-Guitar-C40-02/dp/B003UGCUFE/ref=sr_1_16?crid=3VGP8XTVE8JGU&keywords=guitar&qid=1686166553&sprefix=guitar%2Caps%2C136&sr=8-16', 'https://www.amazon.in/Intern-38-inch-Cutaway-Design-Acoustic/dp/B07X4PN85R/ref=sr_1_17?crid=3VGP8XTVE8JGU&keywords=guitar&qid=1686166553&sprefix=guitar%2Caps%2C136&sr=8-17', 'https://www.amazon.in/Kadence-Frontier-Acoustic-Guitar-Equalizer/dp/B01HRIHJWY/ref=sr_1_18?crid=3VGP8XTVE8JGU&keywords=guitar&qid=1686166553&sprefix=guitar%2Caps%2C136&sr=8-18', 'https://www.amazon.in/Medellin-Acoustic-adjustable-Truss-rod-learning/dp/B0BMKX4HNP/ref=sr_1_19?crid=3VGP8XTVE8JGU&keywords=guitar&qid=1686166553&sprefix=guitar%2Caps%2C136&sr=8-19', 'https://www.amazon.in/Kadence-Professional-Guitar-Sunburst-Strings/dp/B07SXH9JKX/ref=sr_1_20?crid=3VGP8XTVE8JGU&keywords=guitar&qid=1686166553&sprefix=guitar%2Caps%2C136&sr=8-20', 'https://www.amazon.in/sspa/click?ie=UTF8&spc=MToyODc1MDcxNTQxNTk3NDE2OjE2ODYxNjY1NTM6c3BfbXRmOjIwMTUyMjMzNjkwNTk4OjowOjo&url=%2FKadence-Professional-Guitar-Sunburst-Strings%2Fdp%2FB07SXH9JKX%2Fref%3Dsr_1_21_sspa%3Fcrid%3D3VGP8XTVE8JGU%26keywords%3Dguitar%26qid%3D1686166553%26sprefix%3Dguitar%252Caps%252C136%26sr%3D8-21-spons%26sp_csd%3Dd2lkZ2V0TmFtZT1zcF9tdGY%26psc%3D1', 'https://www.amazon.in/sspa/click?ie=UTF8&spc=MToyODc1MDcxNTQxNTk3NDE2OjE2ODYxNjY1NTM6c3BfbXRmOjIwMTUyMjMzNjkwODk4OjowOjo&url=%2FKadence-6-strings-Acoustic-Guitar-Natural%2Fdp%2FB07JKYWGJN%2Fref%3Dsr_1_22_sspa%3Fcrid%3D3VGP8XTVE8JGU%26keywords%3Dguitar%26qid%3D1686166553%26sprefix%3Dguitar%252Caps%252C136%26sr%3D8-22-spons%26sp_csd%3Dd2lkZ2V0TmFtZT1zcF9tdGY%26psc%3D1%26smid%3DAM04Z7MH4HSDD', 'https://www.amazon.in/sspa/click?ie=UTF8&spc=MToyODc1MDcxNTQxNTk3NDE2OjE2ODYxNjY1NTM6c3BfbXRmOjIwMDQ5MTI5MTM2MzAxOjowOjo&url=%2FGUITAR-BRO-Acoustic-Beginner-Accessories%2Fdp%2FB07TC7TWCR%2Fref%3Dsr_1_23_sspa%3Fcrid%3D3VGP8XTVE8JGU%26keywords%3Dguitar%26qid%3D1686166553%26sprefix%3Dguitar%252Caps%252C136%26sr%3D8-23-spons%26sp_csd%3Dd2lkZ2V0TmFtZT1zcF9tdGY%26psc%3D1', 'https://www.amazon.in/sspa/click?ie=UTF8&spc=MToyODc1MDcxNTQxNTk3NDE2OjE2ODYxNjY1NTM6c3BfbXRmOjIwMTY2MzUyMTA0Nzk4OjowOjo&url=%2FRMC-POLO-GUITAR-YEARS-WARRANTY%2Fdp%2FB0C2NFQ953%2Fref%3Dsr_1_24_sspa%3Fcrid%3D3VGP8XTVE8JGU%26keywords%3Dguitar%26qid%3D1686166553%26sprefix%3Dguitar%252Caps%252C136%26sr%3D8-24-spons%26sp_csd%3Dd2lkZ2V0TmFtZT1zcF9tdGY%26psc%3D1', 'https://www.amazon.in/Kadence-Frontier-Acoustic-Guitar-Strings/dp/B078GTJP5Y/ref=sr_1_25?crid=3VGP8XTVE8JGU&keywords=guitar&qid=1686166553&sprefix=guitar%2Caps%2C136&sr=8-25', 'https://www.amazon.in/Intern-INT-38C-Acoustic-Guitar-Sunburst/dp/B073B5MJRM/ref=sr_1_26?crid=3VGP8XTVE8JGU&keywords=guitar&qid=1686166553&sprefix=guitar%2Caps%2C136&sr=8-26', 'https://www.amazon.in/Juarez-Acoustic-Cutaway-BK-Strings/dp/B076T3RHMG/ref=sr_1_27?crid=3VGP8XTVE8JGU&keywords=guitar&qid=1686166553&sprefix=guitar%2Caps%2C136&sr=8-27', 'https://www.amazon.in/Yamaha-FX280-acoustic-Dreadnought-Natural/dp/B09HR6BNFQ/ref=sr_1_28?crid=3VGP8XTVE8JGU&keywords=guitar&qid=1686166553&sprefix=guitar%2Caps%2C136&sr=8-28', 'https://www.amazon.in/Kadence-Slowhand-Premium-Acoustic-Instrument/dp/B077SZ667X/ref=sr_1_29?crid=3VGP8XTVE8JGU&keywords=guitar&qid=1686166553&sprefix=guitar%2Caps%2C136&sr=8-29', 'https://www.amazon.in/Acoustic-Plectrums-Beginner-Learners-configuration/dp/B0B4SSB8BJ/ref=sr_1_30?crid=3VGP8XTVE8JGU&keywords=guitar&qid=1686166553&sprefix=guitar%2Caps%2C136&sr=8-30', 'https://www.amazon.in/Yamaha-FSX80C-Acoustic-Cutaway-Guitar/dp/B09HL5WFDX/ref=sr_1_31?crid=3VGP8XTVE8JGU&keywords=guitar&qid=1686166553&sprefix=guitar%2Caps%2C136&sr=8-31', 'https://www.amazon.in/Revel-RVL-38C-LGP-3TS-Linden-Acoustic-Sunburst/dp/B085HV4YW7/ref=sr_1_32?crid=3VGP8XTVE8JGU&keywords=guitar&qid=1686166553&sprefix=guitar%2Caps%2C136&sr=8-32', 'https://www.amazon.in/Juarez-Acoustic-Guitar-Cutaway-Strings/dp/B084VRCCN7/ref=sr_1_33?crid=3VGP8XTVE8JGU&keywords=guitar&qid=1686166553&sprefix=guitar%2Caps%2C136&sr=8-33', 'https://www.amazon.in/Acoustic-plectrums-stability-resistance-Electric/dp/B09YH937P2/ref=sr_1_34?crid=3VGP8XTVE8JGU&keywords=guitar&qid=1686166553&sprefix=guitar%2Caps%2C136&sr=8-34', 'https://www.amazon.in/Yamaha-F310-Acoustic-Guitar-Natural/dp/B08Z3C1GRM/ref=sr_1_35?crid=3VGP8XTVE8JGU&keywords=guitar&qid=1686166553&sprefix=guitar%2Caps%2C136&sr=8-35', 'https://www.amazon.in/Vault-LP1MN-Style-Electric-Guitar/dp/B071WPLXRG/ref=sr_1_36?crid=3VGP8XTVE8JGU&keywords=guitar&qid=1686166553&sprefix=guitar%2Caps%2C136&sr=8-36', 'https://www.amazon.in/Cort-AF510E-Semi-Acoustic-Guitar-Black/dp/B00L5F93DE/ref=sr_1_37?crid=3VGP8XTVE8JGU&keywords=guitar&qid=1686166553&sprefix=guitar%2Caps%2C136&sr=8-37', 'https://www.amazon.in/Acoustic-Pick-up-stability-professional-amplificaiton/dp/B09YH8X5CL/ref=sr_1_38?crid=3VGP8XTVE8JGU&keywords=guitar&qid=1686166553&sprefix=guitar%2Caps%2C136&sr=8-38', 'https://www.amazon.in/Yamaha-F370-Acoustic-Guitar-Natural/dp/B000WITPJM/ref=sr_1_39?crid=3VGP8XTVE8JGU&keywords=guitar&qid=1686166553&sprefix=guitar%2Caps%2C136&sr=8-39', 'https://www.amazon.in/Ibanez-V50NJP-VS-Acoustic-Dreadnought-Sunburst/dp/B00775TDU4/ref=sr_1_40?crid=3VGP8XTVE8JGU&keywords=guitar&qid=1686166553&sprefix=guitar%2Caps%2C136&sr=8-40', 'https://www.amazon.in/Fender-Classic-Design-Dreadnought-Acoustic/dp/B07HYS18LJ/ref=sr_1_41?crid=3VGP8XTVE8JGU&keywords=guitar&qid=1686166553&sprefix=guitar%2Caps%2C136&sr=8-41', 'https://www.amazon.in/Cort-AF515CE-6-String-Electro-Acoustic/dp/B07P6XSHQC/ref=sr_1_42?crid=3VGP8XTVE8JGU&keywords=guitar&qid=1686166553&sprefix=guitar%2Caps%2C136&sr=8-42', 'https://www.amazon.in/FX280-acoustic-Dreadnought-Tobacco-Sunburst/dp/B09HR7BXGW/ref=sr_1_43?crid=3VGP8XTVE8JGU&keywords=guitar&qid=1686166553&sprefix=guitar%2Caps%2C136&sr=8-43', 'https://www.amazon.in/Fender-SA105CEBK-Acoustic-Guitar/dp/B01N6KME9M/ref=sr_1_44?crid=3VGP8XTVE8JGU&keywords=guitar&qid=1686166553&sprefix=guitar%2Caps%2C136&sr=8-44', 'https://www.amazon.in/Yamaha-FSX80C-Acoustic-Cutaway-Natural/dp/B09HL3GFZF/ref=sr_1_45?crid=3VGP8XTVE8JGU&keywords=guitar&qid=1686166553&sprefix=guitar%2Caps%2C136&sr=8-45', 'https://www.amazon.in/JUAREZ-Arp%C3%A9ggio-Acoustic-Guitar-Spruce/dp/B08KGCFXKP/ref=sr_1_46?crid=3VGP8XTVE8JGU&keywords=guitar&qid=1686166553&sprefix=guitar%2Caps%2C136&sr=8-46', 'https://www.amazon.in/Cort-Strings-Electric-Right-Handed-without/dp/B00LCRUAKU/ref=sr_1_47?crid=3VGP8XTVE8JGU&keywords=guitar&qid=1686166553&sprefix=guitar%2Caps%2C136&sr=8-47', 'https://www.amazon.in/Fender-FA-125CE-Dreadnought-Fingerboard-Natural/dp/B07R16NMKH/ref=sr_1_48?crid=3VGP8XTVE8JGU&keywords=guitar&qid=1686166553&sprefix=guitar%2Caps%2C136&sr=8-48', 'https://www.amazon.in/Martin-Smith-W-101-SB-PK-Acoustic-Guitar/dp/B019MY0ZGI/ref=sr_1_49?crid=3VGP8XTVE8JGU&keywords=guitar&qid=1686166553&sprefix=guitar%2Caps%2C136&sr=8-49', 'https://www.amazon.in/JUAREZ-JRZ41C-ACOUSTIC-GUITAR-SUNBURST/dp/B07X1XQC4Z/ref=sr_1_50?crid=3VGP8XTVE8JGU&keywords=guitar&qid=1686166553&sprefix=guitar%2Caps%2C136&sr=8-50', 'https://www.amazon.in/Yamaha-FS100C-Acoustic-Guitar-Natural/dp/B08Z3DVN8N/ref=sr_1_51?crid=3VGP8XTVE8JGU&keywords=guitar&qid=1686166553&sprefix=guitar%2Caps%2C136&sr=8-51', 'https://www.amazon.in/Cort-CAP810-OP-Acoustic-Plectrums-Complete/dp/B08D7SWGG5/ref=sr_1_52?crid=3VGP8XTVE8JGU&keywords=guitar&qid=1686166553&sprefix=guitar%2Caps%2C136&sr=8-52', 'https://www.amazon.in/Parlor-Compact-Acoustic-Guitar-Standard/dp/B0BJK1332J/ref=sr_1_53?crid=3VGP8XTVE8JGU&keywords=guitar&qid=1686166553&sprefix=guitar%2Caps%2C136&sr=8-53', 'https://www.amazon.in/Intern-INT-38C-Acoustic-Guitar-Kit/dp/B073B6TF31/ref=sr_1_54?crid=3VGP8XTVE8JGU&keywords=guitar&qid=1686166553&sprefix=guitar%2Caps%2C136&sr=8-54', 'https://www.amazon.in/JUAREZ-Arpeggio-Guitar-JRA41SP-RD-K-red/dp/B08MW8CWG8/ref=sr_1_55?crid=3VGP8XTVE8JGU&keywords=guitar&qid=1686166553&sprefix=guitar%2Caps%2C136&sr=8-55', 'https://www.amazon.in/Ibanez-MD39C-NT-Cutaway-Acoustic-MD39CSB/dp/B07KYKTRKX/ref=sr_1_56?crid=3VGP8XTVE8JGU&keywords=guitar&qid=1686166553&sprefix=guitar%2Caps%2C136&sr=8-56', 'https://www.amazon.in/sspa/click?ie=UTF8&spc=MToyODc1MDcxNTQxNTk3NDE2OjE2ODYxNjY1NTM6c3BfYnRmOjIwMTU1MTc4NjQwNjk4OjowOjo&url=%2FSamara-SA39CE-Cutaway-Electro-Acoustic-Guitar%2Fdp%2FB09DT1QHVV%2Fref%3Dsr_1_57_sspa%3Fcrid%3D3VGP8XTVE8JGU%26keywords%3Dguitar%26qid%3D1686166553%26sprefix%3Dguitar%252Caps%252C136%26sr%3D8-57-spons%26sp_csd%3Dd2lkZ2V0TmFtZT1zcF9idGY%26psc%3D1', 'https://www.amazon.in/sspa/click?ie=UTF8&spc=MToyODc1MDcxNTQxNTk3NDE2OjE2ODYxNjY1NTM6c3BfYnRmOjIwMDc4MzM2ODg3NDk4OjowOjo&url=%2FBlueberry-B-D38-Acoustic-Inbuilt-Strings%2Fdp%2FB07PHYZZP1%2Fref%3Dsr_1_58_sspa%3Fcrid%3D3VGP8XTVE8JGU%26keywords%3Dguitar%26qid%3D1686166553%26sprefix%3Dguitar%252Caps%252C136%26sr%3D8-58-spons%26sp_csd%3Dd2lkZ2V0TmFtZT1zcF9idGY%26psc%3D1', 'https://www.amazon.in/sspa/click?ie=UTF8&spc=MToyODc1MDcxNTQxNTk3NDE2OjE2ODYxNjY1NTM6c3BfYnRmOjIwMTI3OTU1MDA1Nzk4OjowOjo&url=%2FBlueberry-B-40Y-Acoustic-Inbuilt-Strings%2Fdp%2FB07PKQMDK5%2Fref%3Dsr_1_59_sspa%3Fcrid%3D3VGP8XTVE8JGU%26keywords%3Dguitar%26qid%3D1686166553%26sprefix%3Dguitar%252Caps%252C136%26sr%3D8-59-spons%26sp_csd%3Dd2lkZ2V0TmFtZT1zcF9idGY%26psc%3D1', 'https://www.amazon.in/sspa/click?ie=UTF8&spc=MToyODc1MDcxNTQxNTk3NDE2OjE2ODYxNjY1NTM6c3BfYnRmOjIwMTI3OTkwMDI4OTk4OjowOjo&url=%2FBlueberry-VIP-301-30Inch-Acoustic-Guitar%2Fdp%2FB0BVVFNXMD%2Fref%3Dsr_1_60_sspa%3Fcrid%3D3VGP8XTVE8JGU%26keywords%3Dguitar%26qid%3D1686166553%26sprefix%3Dguitar%252Caps%252C136%26sr%3D8-60-spons%26sp_csd%3Dd2lkZ2V0TmFtZT1zcF9idGY%26psc%3D1', 'https://aax-eu.amazon.in/x/c/RL7c2E7Hu9Pkqa68AdIFDeMAAAGIl1vFmAMAAAH2AQBvbm9fdHhuX2JpZDEgICBvbm9fdHhuX2ltcDEgICAWL6Mg/https://www.amazon.in/Rosewood-Fretboard-Acoustic-Strings-K-Retail/dp/B07KLG8C4P/ref=sxbs_sbv_search_btf?content-id=amzn1.sym.bb07d3e1-4df6-48c1-9e83-7a3205f60b8a%3Aamzn1.sym.bb07d3e1-4df6-48c1-9e83-7a3205f60b8a&crid=3VGP8XTVE8JGU&cv_ct_cx=guitar&keywords=guitar&pd_rd_i=B07KLG8C4P&pd_rd_r=8ce1d63e-6193-48c3-9694-fbf49ee9bd13&pd_rd_w=2Nxid&pd_rd_wg=JYW4K&pf_rd_p=bb07d3e1-4df6-48c1-9e83-7a3205f60b8a&pf_rd_r=3DC2HAXAV7WZAP141RDK&qid=1686166553&sbo=RZvfv%2F%2FHxDF%2BO5021pAnSA%3D%3D&sprefix=guitar%2Caps%2C136&sr=1-1-f1821008-9dea-4812-b2b6-4a6e4a4f2d55']\n"
     ]
    },
    {
     "data": {
      "text/plain": [
       "186"
      ]
     },
     "execution_count": 9,
     "metadata": {},
     "output_type": "execute_result"
    }
   ],
   "source": [
    "#print(product_opening_url)\n",
    "len(product_opening_url)"
   ]
  },
  {
   "cell_type": "code",
   "execution_count": 13,
   "id": "86379fc1",
   "metadata": {},
   "outputs": [],
   "source": [
    "# Create empty lists\n",
    "Brand_Name_P1=[]\n",
    "Name_P1=[]\n",
    "Price_P1=[]\n",
    "Return_Exchange_P1=[]\n",
    "Expected_Delivery_P1=[]\n",
    "Availability_P1=[]\n",
    "# URL_P1=[]"
   ]
  },
  {
   "cell_type": "code",
   "execution_count": 15,
   "id": "cecfca48",
   "metadata": {},
   "outputs": [],
   "source": [
    "for i in product_opening_url:\n",
    "    driver.get(i)\n",
    "    time.sleep(10)\n",
    "    try:\n",
    "        brand_p1=driver.find_element(By.XPATH,'/html/body/div[2]/div[2]/div[5]/div[3]/div[4]/div[46]/div/table/tbody/tr[1]/td[2]/span')\n",
    "        Brand_Name_P1.append(brand_p1.text)\n",
    "        name_p1=driver.find_element(By.XPATH,'/html/body/div[2]/div[2]/div[5]/div[3]/div[4]/div[1]/div/h1/span')\n",
    "        Name_P1.append(name_p1.text)\n",
    "        price_p1=driver.find_element(By.XPATH,'/html/body/div[2]/div[2]/div[5]/div[3]/div[4]/div[12]/div[3]/div[1]/span[1]/span[1]')\n",
    "        Price_P1.append(price_p1.text)\n",
    "        r_ex_p1=driver.find_element(By.XPATH,'/html/body/div[2]/div[2]/div[5]/div[3]/div[4]/div[24]/div[2]/div/div/div/div[2]/span/div[2]/span')\n",
    "        Return_Exchange_P1.append(r_ex_p1.text)\n",
    "        ex_deliv=driver.find_element(By.XPATH,'/html/body/div[2]/div[2]/div[5]/div[3]/div[1]/div[3]/div/div[1]/div/div/div/form/div/div/div/div/div[3]/div/div[2]/div[9]/div[1]/div/div/div/span/span')\n",
    "        Expected_Delivery_P1.append(ex_deliv.text)\n",
    "        availability_p1=driver.find_element(By.XPATH,'/html/body/div[2]/div[2]/div[5]/div[3]/div[1]/div[3]/div/div[1]/div/div/div/form/div/div/div/div/div[3]/div/div[4]/div/div[1]/span')\n",
    "        Availability_P1.append(availability_p1.text)\n",
    "        \n",
    "    except NoSuchElementException:\n",
    "        Brand_Name_P1.append('-')\n",
    "        Name_P1.append('-')\n",
    "        Price_P1.append('-')\n",
    "        Return_Exchange_P1.append('-')\n",
    "        Expected_Delivery_P1.append('-')\n",
    "        Availability_P1.append('-')"
   ]
  },
  {
   "cell_type": "code",
   "execution_count": 21,
   "id": "9b5a4b06",
   "metadata": {},
   "outputs": [
    {
     "data": {
      "text/plain": [
       "'https://aax-eu.amazon.in/x/c/RL7c2E7Hu9Pkqa68AdIFDeMAAAGIl1vFmAMAAAH2AQBvbm9fdHhuX2JpZDEgICBvbm9fdHhuX2ltcDEgICAWL6Mg/https://www.amazon.in/Rosewood-Fretboard-Acoustic-Strings-K-Retail/dp/B07KLG8C4P/ref=sxbs_sbv_search_btf?content-id=amzn1.sym.bb07d3e1-4df6-48c1-9e83-7a3205f60b8a%3Aamzn1.sym.bb07d3e1-4df6-48c1-9e83-7a3205f60b8a&crid=3VGP8XTVE8JGU&cv_ct_cx=guitar&keywords=guitar&pd_rd_i=B07KLG8C4P&pd_rd_r=8ce1d63e-6193-48c3-9694-fbf49ee9bd13&pd_rd_w=2Nxid&pd_rd_wg=JYW4K&pf_rd_p=bb07d3e1-4df6-48c1-9e83-7a3205f60b8a&pf_rd_r=3DC2HAXAV7WZAP141RDK&qid=1686166553&sbo=RZvfv%2F%2FHxDF%2BO5021pAnSA%3D%3D&sprefix=guitar%2Caps%2C136&sr=1-1-f1821008-9dea-4812-b2b6-4a6e4a4f2d55'"
      ]
     },
     "execution_count": 21,
     "metadata": {},
     "output_type": "execute_result"
    }
   ],
   "source": [
    "product_opening_url[-1]"
   ]
  },
  {
   "cell_type": "code",
   "execution_count": 1,
   "id": "ae2e4a59",
   "metadata": {},
   "outputs": [],
   "source": [
    "#print(len(Brand_Name_P1),len(Name_P1),len(Price_P1),len(Return_Exchange_P1),len(Expected_Delivery_P1),len(Availability_P1),len(product_opening_url))"
   ]
  },
  {
   "cell_type": "code",
   "execution_count": 2,
   "id": "f2339e2d",
   "metadata": {},
   "outputs": [],
   "source": [
    "#Name_P1"
   ]
  },
  {
   "cell_type": "code",
   "execution_count": 20,
   "id": "06daaa0a",
   "metadata": {},
   "outputs": [
    {
     "data": {
      "text/html": [
       "<div>\n",
       "<style scoped>\n",
       "    .dataframe tbody tr th:only-of-type {\n",
       "        vertical-align: middle;\n",
       "    }\n",
       "\n",
       "    .dataframe tbody tr th {\n",
       "        vertical-align: top;\n",
       "    }\n",
       "\n",
       "    .dataframe thead th {\n",
       "        text-align: right;\n",
       "    }\n",
       "</style>\n",
       "<table border=\"1\" class=\"dataframe\">\n",
       "  <thead>\n",
       "    <tr style=\"text-align: right;\">\n",
       "      <th></th>\n",
       "      <th>Brand</th>\n",
       "      <th>Name</th>\n",
       "      <th>Price</th>\n",
       "      <th>Return_Exchange</th>\n",
       "      <th>Expected Delivery</th>\n",
       "      <th>Availability</th>\n",
       "      <th>URL</th>\n",
       "    </tr>\n",
       "  </thead>\n",
       "  <tbody>\n",
       "    <tr>\n",
       "      <th>1</th>\n",
       "      <td>enya</td>\n",
       "      <td>enya Nova Go Carbon Fiber Acoustic Guitar 1/2 ...</td>\n",
       "      <td></td>\n",
       "      <td>7 days Returnable</td>\n",
       "      <td>Monday, 12 June</td>\n",
       "      <td>Only 2 left in stock</td>\n",
       "      <td>https://www.amazon.in/sspa/click?ie=UTF8&amp;spc=M...</td>\n",
       "    </tr>\n",
       "    <tr>\n",
       "      <th>2</th>\n",
       "      <td>Medellin</td>\n",
       "      <td>Medellin 38\" Acoustic Guitar premium wood with...</td>\n",
       "      <td>-</td>\n",
       "      <td>-</td>\n",
       "      <td>-</td>\n",
       "      <td>-</td>\n",
       "      <td>https://www.amazon.in/sspa/click?ie=UTF8&amp;spc=M...</td>\n",
       "    </tr>\n",
       "    <tr>\n",
       "      <th>3</th>\n",
       "      <td>-</td>\n",
       "      <td>-</td>\n",
       "      <td>-</td>\n",
       "      <td>-</td>\n",
       "      <td>-</td>\n",
       "      <td>-</td>\n",
       "      <td>https://www.amazon.in/sspa/click?ie=UTF8&amp;spc=M...</td>\n",
       "    </tr>\n",
       "    <tr>\n",
       "      <th>4</th>\n",
       "      <td>Kadence</td>\n",
       "      <td>Kadence Frontier Jumbo Semi Acoustic Guitar Wi...</td>\n",
       "      <td>-</td>\n",
       "      <td>-</td>\n",
       "      <td>-</td>\n",
       "      <td>-</td>\n",
       "      <td>https://www.amazon.in/sspa/click?ie=UTF8&amp;spc=M...</td>\n",
       "    </tr>\n",
       "    <tr>\n",
       "      <th>5</th>\n",
       "      <td>-</td>\n",
       "      <td>-</td>\n",
       "      <td>-</td>\n",
       "      <td>-</td>\n",
       "      <td>-</td>\n",
       "      <td>-</td>\n",
       "      <td>https://www.amazon.in/Juarez-Acoustic-Cutaway-...</td>\n",
       "    </tr>\n",
       "    <tr>\n",
       "      <th>...</th>\n",
       "      <td>...</td>\n",
       "      <td>...</td>\n",
       "      <td>...</td>\n",
       "      <td>...</td>\n",
       "      <td>...</td>\n",
       "      <td>...</td>\n",
       "      <td>...</td>\n",
       "    </tr>\n",
       "    <tr>\n",
       "      <th>182</th>\n",
       "      <td>-</td>\n",
       "      <td>-</td>\n",
       "      <td>-</td>\n",
       "      <td>-</td>\n",
       "      <td>-</td>\n",
       "      <td>-</td>\n",
       "      <td>https://www.amazon.in/sspa/click?ie=UTF8&amp;spc=M...</td>\n",
       "    </tr>\n",
       "    <tr>\n",
       "      <th>183</th>\n",
       "      <td>-</td>\n",
       "      <td>-</td>\n",
       "      <td>-</td>\n",
       "      <td>-</td>\n",
       "      <td>-</td>\n",
       "      <td>-</td>\n",
       "      <td>https://www.amazon.in/sspa/click?ie=UTF8&amp;spc=M...</td>\n",
       "    </tr>\n",
       "    <tr>\n",
       "      <th>184</th>\n",
       "      <td>Samara</td>\n",
       "      <td>Samara SA39CE BK 39\" Cutaway Electro-Acoustic ...</td>\n",
       "      <td>-</td>\n",
       "      <td>-</td>\n",
       "      <td>-</td>\n",
       "      <td>-</td>\n",
       "      <td>https://www.amazon.in/sspa/click?ie=UTF8&amp;spc=M...</td>\n",
       "    </tr>\n",
       "    <tr>\n",
       "      <th>185</th>\n",
       "      <td>-</td>\n",
       "      <td>-</td>\n",
       "      <td>-</td>\n",
       "      <td>-</td>\n",
       "      <td>-</td>\n",
       "      <td>-</td>\n",
       "      <td>https://www.amazon.in/sspa/click?ie=UTF8&amp;spc=M...</td>\n",
       "    </tr>\n",
       "    <tr>\n",
       "      <th>186</th>\n",
       "      <td>blueberry</td>\n",
       "      <td>Blueberry B-D38 38 Incheses wood Acoustic Guit...</td>\n",
       "      <td>-</td>\n",
       "      <td>-</td>\n",
       "      <td>-</td>\n",
       "      <td>-</td>\n",
       "      <td>https://aax-eu.amazon.in/x/c/RL7c2E7Hu9Pkqa68A...</td>\n",
       "    </tr>\n",
       "  </tbody>\n",
       "</table>\n",
       "<p>186 rows × 7 columns</p>\n",
       "</div>"
      ],
      "text/plain": [
       "         Brand                                               Name Price  \\\n",
       "1         enya  enya Nova Go Carbon Fiber Acoustic Guitar 1/2 ...         \n",
       "2     Medellin  Medellin 38\" Acoustic Guitar premium wood with...     -   \n",
       "3            -                                                  -     -   \n",
       "4      Kadence  Kadence Frontier Jumbo Semi Acoustic Guitar Wi...     -   \n",
       "5            -                                                  -     -   \n",
       "..         ...                                                ...   ...   \n",
       "182          -                                                  -     -   \n",
       "183          -                                                  -     -   \n",
       "184     Samara  Samara SA39CE BK 39\" Cutaway Electro-Acoustic ...     -   \n",
       "185          -                                                  -     -   \n",
       "186  blueberry  Blueberry B-D38 38 Incheses wood Acoustic Guit...     -   \n",
       "\n",
       "       Return_Exchange Expected Delivery          Availability  \\\n",
       "1    7 days Returnable   Monday, 12 June  Only 2 left in stock   \n",
       "2                    -                 -                     -   \n",
       "3                    -                 -                     -   \n",
       "4                    -                 -                     -   \n",
       "5                    -                 -                     -   \n",
       "..                 ...               ...                   ...   \n",
       "182                  -                 -                     -   \n",
       "183                  -                 -                     -   \n",
       "184                  -                 -                     -   \n",
       "185                  -                 -                     -   \n",
       "186                  -                 -                     -   \n",
       "\n",
       "                                                   URL  \n",
       "1    https://www.amazon.in/sspa/click?ie=UTF8&spc=M...  \n",
       "2    https://www.amazon.in/sspa/click?ie=UTF8&spc=M...  \n",
       "3    https://www.amazon.in/sspa/click?ie=UTF8&spc=M...  \n",
       "4    https://www.amazon.in/sspa/click?ie=UTF8&spc=M...  \n",
       "5    https://www.amazon.in/Juarez-Acoustic-Cutaway-...  \n",
       "..                                                 ...  \n",
       "182  https://www.amazon.in/sspa/click?ie=UTF8&spc=M...  \n",
       "183  https://www.amazon.in/sspa/click?ie=UTF8&spc=M...  \n",
       "184  https://www.amazon.in/sspa/click?ie=UTF8&spc=M...  \n",
       "185  https://www.amazon.in/sspa/click?ie=UTF8&spc=M...  \n",
       "186  https://aax-eu.amazon.in/x/c/RL7c2E7Hu9Pkqa68A...  \n",
       "\n",
       "[186 rows x 7 columns]"
      ]
     },
     "execution_count": 20,
     "metadata": {},
     "output_type": "execute_result"
    }
   ],
   "source": [
    "# Create DataFrame\n",
    "\n",
    "df1=pd.DataFrame({'Brand':Brand_Name_P1[0:186],'Name':Name_P1[0:186],'Price':Price_P1,'Return_Exchange':Return_Exchange_P1,'Expected Delivery':Expected_Delivery_P1,'Availability':Availability_P1,'URL':product_opening_url})\n",
    "df1.index+=1\n",
    "df1"
   ]
  },
  {
   "cell_type": "markdown",
   "id": "87201adc",
   "metadata": {},
   "source": [
    "### 3. Write a python program to access the search bar and search button on images.google.com and scrape 10 images each for keywords ‘fruits’, ‘cars’ and ‘Machine Learning’, ‘Guitar’, ‘Cakes’. "
   ]
  },
  {
   "cell_type": "code",
   "execution_count": 4,
   "id": "e2d5d2d7",
   "metadata": {},
   "outputs": [],
   "source": [
    "driver=webdriver.Chrome(r\"C:\\Users\\JPGD\\Documents\\ANDREA GOMEZ\\FLIP ROBO TECHNOLOGIES INTERNSHIP\\chromedriver_win32 2\\chromedriver.exe\")"
   ]
  },
  {
   "cell_type": "code",
   "execution_count": 5,
   "id": "dbfa916c",
   "metadata": {},
   "outputs": [],
   "source": [
    "# Opening the page on automated chrome browser\n",
    "driver.get(\"https://images.google.com/\")"
   ]
  },
  {
   "cell_type": "code",
   "execution_count": 6,
   "id": "f880e4a7",
   "metadata": {},
   "outputs": [],
   "source": [
    "# Close popup window\n",
    "\n",
    "close_w=driver.find_element(By.XPATH,'/html/body/div[2]/div[2]/div[3]/span/div/div/div/div[3]/div[1]/button[1]/div')\n",
    "close_w.click()"
   ]
  },
  {
   "cell_type": "code",
   "execution_count": 7,
   "id": "48242a57",
   "metadata": {},
   "outputs": [],
   "source": [
    "# Entering search 1\n",
    "\n",
    "search_product1=driver.find_element(By.XPATH,'/html/body/div[1]/div[3]/form/div[1]/div[1]/div[1]/div/div[2]/textarea')\n",
    "search_product1.send_keys('fruits')"
   ]
  },
  {
   "cell_type": "code",
   "execution_count": 8,
   "id": "5626e268",
   "metadata": {},
   "outputs": [],
   "source": [
    "# Click the search button\n",
    "\n",
    "search_button=driver.find_element(By.XPATH,'/html/body/div[1]/div[3]/form/div[1]/div[1]/div[1]/button/div/span')\n",
    "search_button.click()"
   ]
  },
  {
   "cell_type": "code",
   "execution_count": 30,
   "id": "17d6e2ca",
   "metadata": {},
   "outputs": [
    {
     "name": "stdout",
     "output_type": "stream",
     "text": [
      "Downloading 0 of 10 images\n",
      "Downloading 1 of 10 images\n",
      "Downloading 2 of 10 images\n",
      "Downloading 3 of 10 images\n",
      "Downloading 4 of 10 images\n",
      "Downloading 5 of 10 images\n",
      "Downloading 6 of 10 images\n",
      "Downloading 7 of 10 images\n",
      "Downloading 8 of 10 images\n",
      "Downloading 9 of 10 images\n",
      "Downloading 10 of 10 images\n"
     ]
    }
   ],
   "source": [
    "# Download fruits images\n",
    "for _ in range(20):\n",
    "    driver.execute_script(\"window.scrollBy(0,1000)\")\n",
    "\n",
    "images=driver.find_elements(By.XPATH,'//img[@class=\"rg_i Q4LuWd\"]')\n",
    "\n",
    "img_urls=[]\n",
    "img_data=[]\n",
    "for image in images:\n",
    "    source=image.get_attribute('src')\n",
    "    if source is not None:\n",
    "        if(source[0:4]=='http'):\n",
    "            img_urls.append(source)\n",
    "            \n",
    "for i in range (len(img_urls)):\n",
    "    # Get just 10 images\n",
    "    if i>10:\n",
    "        break\n",
    "    print(\"Downloading {0} of {1} images\".format(i,10))\n",
    "    response=requests.get(img_urls[i])\n",
    "    file=open(r\"C:\\Users\\JPGD\\Documents\\ANDREA GOMEZ\\FLIP ROBO TECHNOLOGIES INTERNSHIP\\Images\\Assignment 3 - Q3\"+str(i)+\".jpg\",\"wb\")\n",
    "    file.write(response.content)"
   ]
  },
  {
   "cell_type": "code",
   "execution_count": 17,
   "id": "44b39324",
   "metadata": {},
   "outputs": [],
   "source": [
    "# Opening the page on automated chrome browser\n",
    "driver.get(\"https://images.google.com/\")"
   ]
  },
  {
   "cell_type": "code",
   "execution_count": 19,
   "id": "f21fb662",
   "metadata": {},
   "outputs": [],
   "source": [
    "# Entering search 2\n",
    "\n",
    "search_product2=driver.find_element(By.XPATH,'/html/body/div[1]/div[3]/form/div[1]/div[1]/div[1]/div/div[2]/textarea')\n",
    "search_product2.send_keys('cars')"
   ]
  },
  {
   "cell_type": "code",
   "execution_count": 22,
   "id": "c9b3e967",
   "metadata": {},
   "outputs": [],
   "source": [
    "# Click the search button\n",
    "\n",
    "search_button=driver.find_element(By.XPATH,'/html/body/div[1]/div[3]/form/div[1]/div[1]/div[1]/button/div/span')\n",
    "search_button.click()"
   ]
  },
  {
   "cell_type": "code",
   "execution_count": 27,
   "id": "44f2c5e7",
   "metadata": {},
   "outputs": [
    {
     "name": "stdout",
     "output_type": "stream",
     "text": [
      "Downloading 0 of 10 images\n",
      "Downloading 1 of 10 images\n",
      "Downloading 2 of 10 images\n",
      "Downloading 3 of 10 images\n",
      "Downloading 4 of 10 images\n",
      "Downloading 5 of 10 images\n",
      "Downloading 6 of 10 images\n",
      "Downloading 7 of 10 images\n",
      "Downloading 8 of 10 images\n",
      "Downloading 9 of 10 images\n",
      "Downloading 10 of 10 images\n"
     ]
    }
   ],
   "source": [
    "# Download machine learning images\n",
    "for _ in range(20):\n",
    "    driver.execute_script(\"window.scrollBy(0,1000)\")\n",
    "\n",
    "images=driver.find_elements(By.XPATH,'//img[@class=\"rg_i Q4LuWd\"]')\n",
    "\n",
    "img_urls_c=[]\n",
    "img_data_c=[]\n",
    "for image in images:\n",
    "    source=image.get_attribute('src')\n",
    "    if source is not None:\n",
    "        if(source[0:4]=='http'):\n",
    "            img_urls_c.append(source)\n",
    "            \n",
    "for i in range (len(img_urls_c)):\n",
    "    # Get just 10 images\n",
    "    if i>10:\n",
    "        break\n",
    "    print(\"Downloading {0} of {1} images\".format(i,10))\n",
    "    response=requests.get(img_urls_c[i])\n",
    "    file=open(r\"C:\\Users\\JPGD\\Documents\\ANDREA GOMEZ\\FLIP ROBO TECHNOLOGIES INTERNSHIP\\Images\\Assignment 3 - Q3\"+str(i)+\".jpg\",\"wb\")\n",
    "    file.write(response.content)"
   ]
  },
  {
   "cell_type": "code",
   "execution_count": 33,
   "id": "09c15bb4",
   "metadata": {},
   "outputs": [],
   "source": [
    "# Entering search 3\n",
    "\n",
    "search_product3=driver.find_element(By.XPATH,'/html/body/div[1]/div[3]/form/div[1]/div[1]/div[1]/div/div[2]/textarea')\n",
    "search_product3.send_keys('Machine Learning')"
   ]
  },
  {
   "cell_type": "code",
   "execution_count": 34,
   "id": "1ff6d7c8",
   "metadata": {},
   "outputs": [],
   "source": [
    "# Click the search button\n",
    "\n",
    "search_button=driver.find_element(By.XPATH,'/html/body/div[1]/div[3]/form/div[1]/div[1]/div[1]/button/div/span')\n",
    "search_button.click()"
   ]
  },
  {
   "cell_type": "code",
   "execution_count": 35,
   "id": "36ad454f",
   "metadata": {},
   "outputs": [
    {
     "name": "stdout",
     "output_type": "stream",
     "text": [
      "Downloading 0 of 10 images\n",
      "Downloading 1 of 10 images\n",
      "Downloading 2 of 10 images\n",
      "Downloading 3 of 10 images\n",
      "Downloading 4 of 10 images\n",
      "Downloading 5 of 10 images\n",
      "Downloading 6 of 10 images\n",
      "Downloading 7 of 10 images\n",
      "Downloading 8 of 10 images\n",
      "Downloading 9 of 10 images\n",
      "Downloading 10 of 10 images\n"
     ]
    }
   ],
   "source": [
    "# Download machine learning images\n",
    "for _ in range(20):\n",
    "    driver.execute_script(\"window.scrollBy(0,1000)\")\n",
    "\n",
    "images=driver.find_elements(By.XPATH,'//img[@class=\"rg_i Q4LuWd\"]')\n",
    "\n",
    "img_urls_m=[]\n",
    "img_data_m=[]\n",
    "for image in images:\n",
    "    source=image.get_attribute('src')\n",
    "    if source is not None:\n",
    "        if(source[0:4]=='http'):\n",
    "            img_urls_m.append(source)\n",
    "            \n",
    "for i in range (len(img_urls_m)):\n",
    "    # Get just 10 images\n",
    "    if i>10:\n",
    "        break\n",
    "    print(\"Downloading {0} of {1} images\".format(i,10))\n",
    "    response=requests.get(img_urls_m[i])\n",
    "    file=open(r\"C:\\Users\\JPGD\\Documents\\ANDREA GOMEZ\\FLIP ROBO TECHNOLOGIES INTERNSHIP\\Images\\Assignment 3 - Q3\"+str(i)+\".jpg\",\"wb\")\n",
    "    file.write(response.content)"
   ]
  },
  {
   "cell_type": "code",
   "execution_count": 36,
   "id": "90ba8bcd",
   "metadata": {},
   "outputs": [],
   "source": [
    "# Opening the page on automated chrome browser\n",
    "driver.get(\"https://images.google.com/\")"
   ]
  },
  {
   "cell_type": "code",
   "execution_count": 38,
   "id": "8f3feb3b",
   "metadata": {},
   "outputs": [],
   "source": [
    "# Entering search 4\n",
    "search_product4=driver.find_element(By.XPATH,'/html/body/div[1]/div[3]/form/div[1]/div[1]/div[1]/div/div[2]/textarea')\n",
    "search_product4.send_keys('Guitar')"
   ]
  },
  {
   "cell_type": "code",
   "execution_count": 39,
   "id": "ddea429a",
   "metadata": {},
   "outputs": [],
   "source": [
    "# Click the search button\n",
    "\n",
    "search_button=driver.find_element(By.XPATH,'/html/body/div[1]/div[3]/form/div[1]/div[1]/div[1]/button/div/span')\n",
    "search_button.click()"
   ]
  },
  {
   "cell_type": "code",
   "execution_count": 40,
   "id": "d860d856",
   "metadata": {},
   "outputs": [
    {
     "name": "stdout",
     "output_type": "stream",
     "text": [
      "Downloading 0 of 10 images\n",
      "Downloading 1 of 10 images\n",
      "Downloading 2 of 10 images\n",
      "Downloading 3 of 10 images\n",
      "Downloading 4 of 10 images\n",
      "Downloading 5 of 10 images\n",
      "Downloading 6 of 10 images\n",
      "Downloading 7 of 10 images\n",
      "Downloading 8 of 10 images\n",
      "Downloading 9 of 10 images\n",
      "Downloading 10 of 10 images\n"
     ]
    }
   ],
   "source": [
    "# Entering search 4\n",
    "\n",
    "# Download machine learning images\n",
    "for _ in range(20):\n",
    "    driver.execute_script(\"window.scrollBy(0,1000)\")\n",
    "\n",
    "images=driver.find_elements(By.XPATH,'//img[@class=\"rg_i Q4LuWd\"]')\n",
    "\n",
    "img_urls_g=[]\n",
    "img_data_g=[]\n",
    "for image in images:\n",
    "    source=image.get_attribute('src')\n",
    "    if source is not None:\n",
    "        if(source[0:4]=='http'):\n",
    "            img_urls_g.append(source)\n",
    "            \n",
    "for i in range (len(img_urls_g)):\n",
    "    # Get just 10 images\n",
    "    if i>10:\n",
    "        break\n",
    "    print(\"Downloading {0} of {1} images\".format(i,10))\n",
    "    response=requests.get(img_urls_g[i])\n",
    "    file=open(r\"C:\\Users\\JPGD\\Documents\\ANDREA GOMEZ\\FLIP ROBO TECHNOLOGIES INTERNSHIP\\Images\\Assignment 3 - Q3\"+str(i)+\".jpg\",\"wb\")\n",
    "    file.write(response.content)"
   ]
  },
  {
   "cell_type": "code",
   "execution_count": 41,
   "id": "65610c11",
   "metadata": {},
   "outputs": [],
   "source": [
    "# Opening the page on automated chrome browser\n",
    "driver.get(\"https://images.google.com/\")"
   ]
  },
  {
   "cell_type": "code",
   "execution_count": 42,
   "id": "b3881947",
   "metadata": {},
   "outputs": [],
   "source": [
    "# Entering search 5\n",
    "search_product5=driver.find_element(By.XPATH,'/html/body/div[1]/div[3]/form/div[1]/div[1]/div[1]/div/div[2]/textarea')\n",
    "search_product5.send_keys('Cakes')"
   ]
  },
  {
   "cell_type": "code",
   "execution_count": 43,
   "id": "79c76794",
   "metadata": {},
   "outputs": [],
   "source": [
    "# Click the search button\n",
    "search_button=driver.find_element(By.XPATH,'/html/body/div[1]/div[3]/form/div[1]/div[1]/div[1]/button/div/span')\n",
    "search_button.click()"
   ]
  },
  {
   "cell_type": "code",
   "execution_count": 46,
   "id": "18450d1b",
   "metadata": {},
   "outputs": [
    {
     "name": "stdout",
     "output_type": "stream",
     "text": [
      "Downloading 0 of 10 images\n",
      "Downloading 1 of 10 images\n",
      "Downloading 2 of 10 images\n",
      "Downloading 3 of 10 images\n",
      "Downloading 4 of 10 images\n",
      "Downloading 5 of 10 images\n",
      "Downloading 6 of 10 images\n",
      "Downloading 7 of 10 images\n",
      "Downloading 8 of 10 images\n",
      "Downloading 9 of 10 images\n",
      "Downloading 10 of 10 images\n"
     ]
    }
   ],
   "source": [
    "# Entering search 4\n",
    "\n",
    "# Download cakes images\n",
    "for _ in range(20):\n",
    "    driver.execute_script(\"window.scrollBy(0,1000)\")\n",
    "\n",
    "images=driver.find_elements(By.XPATH,'//img[@class=\"rg_i Q4LuWd\"]')\n",
    "\n",
    "img_urls_ck=[]\n",
    "img_data_ck=[]\n",
    "for image in images:\n",
    "    source=image.get_attribute('src')\n",
    "    if source is not None:\n",
    "        if(source[0:4]=='http'):\n",
    "            img_urls_ck.append(source)\n",
    "            \n",
    "for i in range (len(img_urls_ck)):\n",
    "    # Get just 10 images\n",
    "    if i>10:\n",
    "        break\n",
    "    print(\"Downloading {0} of {1} images\".format(i,10))\n",
    "    response=requests.get(img_urls_ck[i])\n",
    "    file=open(r\"C:\\Users\\JPGD\\Documents\\ANDREA GOMEZ\\FLIP ROBO TECHNOLOGIES INTERNSHIP\\Images\\Assignment 3 - Q3\"+str(i)+\".jpg\",\"wb\")\n",
    "    file.write(response.content)"
   ]
  },
  {
   "cell_type": "markdown",
   "id": "4d4359ea",
   "metadata": {},
   "source": [
    "### 4. Write a python program to search for a smartphone(e.g.: Oneplus Nord, pixel 4A, etc.) on www.flipkart.com and scrape following details for all the search results displayed on 1st page. Details to be scraped: “Brand Name”, “Smartphone name”, “Colour”, “RAM”, “Storage(ROM)”, “Primary Camera”, “Secondary Camera”, “Display Size”, “Battery Capacity”, “Price”, “Product URL”. If any of the details is missing then replace it by “- “. Save your results in a dataframe and CSV.\n"
   ]
  },
  {
   "cell_type": "code",
   "execution_count": 2,
   "id": "ca7d41f8",
   "metadata": {},
   "outputs": [],
   "source": [
    "driver=webdriver.Chrome(r\"C:\\Users\\JPGD\\Documents\\ANDREA GOMEZ\\FLIP ROBO TECHNOLOGIES INTERNSHIP\\chromedriver_win32 2\\chromedriver.exe\")"
   ]
  },
  {
   "cell_type": "code",
   "execution_count": 3,
   "id": "038d1556",
   "metadata": {},
   "outputs": [],
   "source": [
    "# Opening the page on automated chrome browser\n",
    "driver.get(\"https://www.flipkart.com/\")"
   ]
  },
  {
   "cell_type": "code",
   "execution_count": 4,
   "id": "e6580869",
   "metadata": {},
   "outputs": [],
   "source": [
    "# Close popup Window using XPATH.\n",
    "closeW=driver.find_element(By.XPATH,\"/html/body/div[2]/div/div/button\")\n",
    "closeW.click()"
   ]
  },
  {
   "cell_type": "code",
   "execution_count": 5,
   "id": "a8296961",
   "metadata": {},
   "outputs": [],
   "source": [
    "# Entering product in the search - \n",
    "designation = driver.find_element(By.CLASS_NAME,\"_3704LK\")\n",
    "designation.send_keys('iPhone 14 Plus')"
   ]
  },
  {
   "cell_type": "code",
   "execution_count": 6,
   "id": "a752f812",
   "metadata": {},
   "outputs": [],
   "source": [
    "# Click the search button\n",
    "search=driver.find_element(By.CLASS_NAME,\"L0Z3Pu\")\n",
    "search.click()"
   ]
  },
  {
   "cell_type": "code",
   "execution_count": 8,
   "id": "e4b03891",
   "metadata": {},
   "outputs": [],
   "source": [
    "# Fetch URL to open each product link\n",
    "phone_opening_url=[]\n",
    "\n",
    "url=driver.find_elements(By.XPATH,'//a[@class=\"_1fQZEK\"]')\n",
    "for i in url:\n",
    "       phone_opening_url.append(i.get_attribute('href'))\n",
    "\n",
    "#phone_opening_url"
   ]
  },
  {
   "cell_type": "code",
   "execution_count": 60,
   "id": "123fce4c",
   "metadata": {},
   "outputs": [],
   "source": [
    "# Create empty lists\n",
    "Brand_P2=[]\n",
    "Name_P2=[]\n",
    "Colour_P2=[]\n",
    "RAM=[]\n",
    "Storage_ROM=[]\n",
    "Primary_Camera=[]\n",
    "Secondary_Camera=[]\n",
    "Display_Size=[]\n",
    "Battery_Capacity=[]\n",
    "Price=[]\n",
    "#Product URL”"
   ]
  },
  {
   "cell_type": "code",
   "execution_count": 61,
   "id": "be732195",
   "metadata": {},
   "outputs": [],
   "source": [
    "for i in phone_opening_url:\n",
    "    driver.get(i)\n",
    "    time.sleep(10)\n",
    "    try:\n",
    "        brand_p2=driver.find_element(By.XPATH,'//span[@class=\"B_NuCI\"]')\n",
    "        Brand_P2.append(brand_p2.text)\n",
    "        name_p2=driver.find_element(By.XPATH,'//span[@class=\"B_NuCI\"]')\n",
    "        Name_P2.append(name_p2.text)\n",
    "        colour_p2=driver.find_element(By.XPATH,'/html/body/div[1]/div/div[3]/div[1]/div[2]/div[10]/div[4]/div/div[2]/div[1]/div[1]/table/tbody/tr[4]/td[2]/ul/li')\n",
    "        Colour_P2.append(colour_p2.text)\n",
    "        ram_p2=driver.find_element(By.XPATH,'//li[@class=\"_21Ahn-\"]')\n",
    "        RAM.append(ram_p2.text)\n",
    "        storage_rom=driver.find_element(By.XPATH,'//li[@class=\"_21Ahn-\"]')\n",
    "        Storage_ROM.append(storage_rom.text)\n",
    "        primary_camera=driver.find_element(By.XPATH,'//td[@class=\"URwL2w col col-9-12\"]')\n",
    "        Primary_Camera.append(primary_camera.text)\n",
    "        secondary_camera=driver.find_element(By.XPATH,'/html/body/div[1]/div/div[3]/div[1]/div[2]/div[10]/div[4]/div/div[2]/div[1]/div[5]/table/tbody/tr[6]/td[2]/ul/li')\n",
    "        Secondary_Camera.append(secondary_camera.text)\n",
    "        display_size=driver.find_element(By.XPATH,'/html/body/div[1]/div/div[3]/div[1]/div[2]/div[10]/div[4]/div/div[2]/div[1]/div[2]/table/tbody/tr[1]/td[2]/ul/li')\n",
    "        Display_Size.append(display_size.text)\n",
    "        #battery_capacity=driver.find_element(By.XPATH,'')\n",
    "        #Battery_Capacity.append(battery_capacity.text)\n",
    "        price_p2=driver.find_element(By.XPATH,'//div[@class=\"_30jeq3 _16Jk6d\"]')\n",
    "        Price.append(price_p2.text)\n",
    "        \n",
    "    except NoSuchElementException:\n",
    "        #Brand_P2.append('-')\n",
    "        #Name_P2.append('-')\n",
    "        Colour_P2.append('-')\n",
    "        RAM.append('-')\n",
    "        Storage_ROM.append('-')\n",
    "        Primary_Camera.append('-')\n",
    "        Secondary_Camera.append('-')\n",
    "        Display_Size.append('-')\n",
    "        #Battery_Capacity.append('-')\n",
    "        Price.append('-')"
   ]
  },
  {
   "cell_type": "code",
   "execution_count": 62,
   "id": "8b3178a2",
   "metadata": {},
   "outputs": [
    {
     "name": "stdout",
     "output_type": "stream",
     "text": [
      "18 18 18 18 18 18 18 18 18 18\n"
     ]
    }
   ],
   "source": [
    "print(len(Brand_P2),len(Name_P2),len(Colour_P2),len(RAM),len(Storage_ROM),len(Primary_Camera),len(Secondary_Camera),len(Display_Size),\n",
    "      len(Price),len(phone_opening_url))"
   ]
  },
  {
   "cell_type": "code",
   "execution_count": 63,
   "id": "7bebbcdf",
   "metadata": {},
   "outputs": [
    {
     "data": {
      "text/html": [
       "<div>\n",
       "<style scoped>\n",
       "    .dataframe tbody tr th:only-of-type {\n",
       "        vertical-align: middle;\n",
       "    }\n",
       "\n",
       "    .dataframe tbody tr th {\n",
       "        vertical-align: top;\n",
       "    }\n",
       "\n",
       "    .dataframe thead th {\n",
       "        text-align: right;\n",
       "    }\n",
       "</style>\n",
       "<table border=\"1\" class=\"dataframe\">\n",
       "  <thead>\n",
       "    <tr style=\"text-align: right;\">\n",
       "      <th></th>\n",
       "      <th>Brand</th>\n",
       "      <th>Name</th>\n",
       "      <th>Colour</th>\n",
       "      <th>Storage ROM</th>\n",
       "      <th>Primary Camera</th>\n",
       "      <th>Secondary Camera</th>\n",
       "      <th>Display Size</th>\n",
       "      <th>Price</th>\n",
       "      <th>URL</th>\n",
       "    </tr>\n",
       "  </thead>\n",
       "  <tbody>\n",
       "    <tr>\n",
       "      <th>1</th>\n",
       "      <td>APPLE iPhone 14 Plus (Midnight, 128 GB)</td>\n",
       "      <td>APPLE iPhone 14 Plus (Midnight, 128 GB)</td>\n",
       "      <td>Midnight</td>\n",
       "      <td>128 GB ROM</td>\n",
       "      <td>Handset, USB-C to Lightning Cable, Documentation</td>\n",
       "      <td></td>\n",
       "      <td></td>\n",
       "      <td>₹78,499</td>\n",
       "      <td>https://www.flipkart.com/apple-iphone-14-plus-...</td>\n",
       "    </tr>\n",
       "    <tr>\n",
       "      <th>2</th>\n",
       "      <td>APPLE iPhone 14 Plus (Blue, 128 GB)</td>\n",
       "      <td>APPLE iPhone 14 Plus (Blue, 128 GB)</td>\n",
       "      <td>Blue</td>\n",
       "      <td>128 GB ROM</td>\n",
       "      <td>Handset, USB-C to Lightning Cable, Documentation</td>\n",
       "      <td></td>\n",
       "      <td></td>\n",
       "      <td>₹78,499</td>\n",
       "      <td>https://www.flipkart.com/apple-iphone-14-plus-...</td>\n",
       "    </tr>\n",
       "    <tr>\n",
       "      <th>3</th>\n",
       "      <td>APPLE iPhone 14 Plus (Starlight, 128 GB)</td>\n",
       "      <td>APPLE iPhone 14 Plus (Starlight, 128 GB)</td>\n",
       "      <td>Starlight</td>\n",
       "      <td>128 GB ROM</td>\n",
       "      <td>Handset, USB-C to Lightning Cable, Documentation</td>\n",
       "      <td></td>\n",
       "      <td></td>\n",
       "      <td>₹78,499</td>\n",
       "      <td>https://www.flipkart.com/apple-iphone-14-plus-...</td>\n",
       "    </tr>\n",
       "    <tr>\n",
       "      <th>4</th>\n",
       "      <td>APPLE iPhone 14 Plus ((PRODUCT)RED, 128 GB)</td>\n",
       "      <td>APPLE iPhone 14 Plus ((PRODUCT)RED, 128 GB)</td>\n",
       "      <td>(PRODUCT)RED</td>\n",
       "      <td>128 GB ROM</td>\n",
       "      <td>Handset, USB-C to Lightning Cable, Documentation</td>\n",
       "      <td></td>\n",
       "      <td></td>\n",
       "      <td>₹77,999</td>\n",
       "      <td>https://www.flipkart.com/apple-iphone-14-plus-...</td>\n",
       "    </tr>\n",
       "    <tr>\n",
       "      <th>5</th>\n",
       "      <td>APPLE iPhone 14 Plus (Purple, 128 GB)</td>\n",
       "      <td>APPLE iPhone 14 Plus (Purple, 128 GB)</td>\n",
       "      <td>Purple</td>\n",
       "      <td>128 GB ROM</td>\n",
       "      <td>Handset, USB-C to Lightning Cable, Documentation</td>\n",
       "      <td></td>\n",
       "      <td></td>\n",
       "      <td>₹78,499</td>\n",
       "      <td>https://www.flipkart.com/apple-iphone-14-plus-...</td>\n",
       "    </tr>\n",
       "    <tr>\n",
       "      <th>6</th>\n",
       "      <td>APPLE iPhone 14 Plus (Blue, 256 GB)</td>\n",
       "      <td>APPLE iPhone 14 Plus (Blue, 256 GB)</td>\n",
       "      <td>Blue</td>\n",
       "      <td>256 GB ROM</td>\n",
       "      <td>Handset, USB-C to Lightning Cable, Documentation</td>\n",
       "      <td></td>\n",
       "      <td></td>\n",
       "      <td>₹88,499</td>\n",
       "      <td>https://www.flipkart.com/apple-iphone-14-plus-...</td>\n",
       "    </tr>\n",
       "    <tr>\n",
       "      <th>7</th>\n",
       "      <td>APPLE iPhone 14 Plus (Purple, 256 GB)</td>\n",
       "      <td>APPLE iPhone 14 Plus (Purple, 256 GB)</td>\n",
       "      <td>Purple</td>\n",
       "      <td>256 GB ROM</td>\n",
       "      <td>Handset, USB-C to Lightning Cable, Documentation</td>\n",
       "      <td></td>\n",
       "      <td></td>\n",
       "      <td>₹88,499</td>\n",
       "      <td>https://www.flipkart.com/apple-iphone-14-plus-...</td>\n",
       "    </tr>\n",
       "    <tr>\n",
       "      <th>8</th>\n",
       "      <td>APPLE iPhone 14 Plus (Midnight, 512 GB)</td>\n",
       "      <td>APPLE iPhone 14 Plus (Midnight, 512 GB)</td>\n",
       "      <td>Midnight</td>\n",
       "      <td>512 GB ROM</td>\n",
       "      <td>Handset, USB-C to Lightning Cable, Documentation</td>\n",
       "      <td></td>\n",
       "      <td></td>\n",
       "      <td>₹1,08,499</td>\n",
       "      <td>https://www.flipkart.com/apple-iphone-14-plus-...</td>\n",
       "    </tr>\n",
       "    <tr>\n",
       "      <th>9</th>\n",
       "      <td>APPLE iPhone 14 Plus (Purple, 512 GB)</td>\n",
       "      <td>APPLE iPhone 14 Plus (Purple, 512 GB)</td>\n",
       "      <td>Purple</td>\n",
       "      <td>512 GB ROM</td>\n",
       "      <td>Handset, USB-C to Lightning Cable, Documentation</td>\n",
       "      <td></td>\n",
       "      <td></td>\n",
       "      <td>₹1,08,499</td>\n",
       "      <td>https://www.flipkart.com/apple-iphone-14-plus-...</td>\n",
       "    </tr>\n",
       "    <tr>\n",
       "      <th>10</th>\n",
       "      <td>APPLE iPhone 14 Plus (Starlight, 512 GB)</td>\n",
       "      <td>APPLE iPhone 14 Plus (Starlight, 512 GB)</td>\n",
       "      <td>Starlight</td>\n",
       "      <td>512 GB ROM</td>\n",
       "      <td>Handset, USB-C to Lightning Cable, Documentation</td>\n",
       "      <td></td>\n",
       "      <td></td>\n",
       "      <td>₹1,08,499</td>\n",
       "      <td>https://www.flipkart.com/apple-iphone-14-plus-...</td>\n",
       "    </tr>\n",
       "    <tr>\n",
       "      <th>11</th>\n",
       "      <td>APPLE iPhone 14 Plus ((PRODUCT)RED, 512 GB)</td>\n",
       "      <td>APPLE iPhone 14 Plus ((PRODUCT)RED, 512 GB)</td>\n",
       "      <td>-</td>\n",
       "      <td>-</td>\n",
       "      <td>-</td>\n",
       "      <td>-</td>\n",
       "      <td>-</td>\n",
       "      <td>-</td>\n",
       "      <td>https://www.flipkart.com/apple-iphone-14-plus-...</td>\n",
       "    </tr>\n",
       "    <tr>\n",
       "      <th>12</th>\n",
       "      <td>APPLE iPhone 14 Plus (Yellow, 512 GB)</td>\n",
       "      <td>APPLE iPhone 14 Plus (Yellow, 512 GB)</td>\n",
       "      <td>Yellow</td>\n",
       "      <td>512 GB ROM</td>\n",
       "      <td>Handset, USB-C to Lightning Cable, Documentation</td>\n",
       "      <td></td>\n",
       "      <td></td>\n",
       "      <td>₹1,08,499</td>\n",
       "      <td>https://www.flipkart.com/apple-iphone-14-plus-...</td>\n",
       "    </tr>\n",
       "    <tr>\n",
       "      <th>13</th>\n",
       "      <td>APPLE iPhone 14 Plus (Blue, 512 GB)</td>\n",
       "      <td>APPLE iPhone 14 Plus (Blue, 512 GB)</td>\n",
       "      <td>Blue</td>\n",
       "      <td>512 GB ROM</td>\n",
       "      <td>Handset, USB-C to Lightning Cable, Documentation</td>\n",
       "      <td></td>\n",
       "      <td></td>\n",
       "      <td>₹1,08,499</td>\n",
       "      <td>https://www.flipkart.com/apple-iphone-14-plus-...</td>\n",
       "    </tr>\n",
       "    <tr>\n",
       "      <th>14</th>\n",
       "      <td>APPLE iPhone 14 Plus ((PRODUCT)RED, 256 GB)</td>\n",
       "      <td>APPLE iPhone 14 Plus ((PRODUCT)RED, 256 GB)</td>\n",
       "      <td>(PRODUCT)RED</td>\n",
       "      <td>256 GB ROM</td>\n",
       "      <td>Handset, USB-C to Lightning Cable, Documentation</td>\n",
       "      <td></td>\n",
       "      <td></td>\n",
       "      <td>₹88,499</td>\n",
       "      <td>https://www.flipkart.com/apple-iphone-14-plus-...</td>\n",
       "    </tr>\n",
       "    <tr>\n",
       "      <th>15</th>\n",
       "      <td>APPLE iPhone 14 Plus (Starlight, 256 GB)</td>\n",
       "      <td>APPLE iPhone 14 Plus (Starlight, 256 GB)</td>\n",
       "      <td>Starlight</td>\n",
       "      <td>256 GB ROM</td>\n",
       "      <td>Handset, USB-C to Lightning Cable, Documentation</td>\n",
       "      <td></td>\n",
       "      <td></td>\n",
       "      <td>₹88,499</td>\n",
       "      <td>https://www.flipkart.com/apple-iphone-14-plus-...</td>\n",
       "    </tr>\n",
       "    <tr>\n",
       "      <th>16</th>\n",
       "      <td>APPLE iPhone 14 Plus (Midnight, 256 GB)</td>\n",
       "      <td>APPLE iPhone 14 Plus (Midnight, 256 GB)</td>\n",
       "      <td>-</td>\n",
       "      <td>-</td>\n",
       "      <td>-</td>\n",
       "      <td>-</td>\n",
       "      <td>-</td>\n",
       "      <td>-</td>\n",
       "      <td>https://www.flipkart.com/apple-iphone-14-plus-...</td>\n",
       "    </tr>\n",
       "    <tr>\n",
       "      <th>17</th>\n",
       "      <td>APPLE iPhone 14 Plus (Yellow, 128 GB)</td>\n",
       "      <td>APPLE iPhone 14 Plus (Yellow, 128 GB)</td>\n",
       "      <td>-</td>\n",
       "      <td>-</td>\n",
       "      <td>-</td>\n",
       "      <td>-</td>\n",
       "      <td>-</td>\n",
       "      <td>-</td>\n",
       "      <td>https://www.flipkart.com/apple-iphone-14-plus-...</td>\n",
       "    </tr>\n",
       "    <tr>\n",
       "      <th>18</th>\n",
       "      <td>APPLE iPhone 14 Plus (Yellow, 256 GB)</td>\n",
       "      <td>APPLE iPhone 14 Plus (Yellow, 256 GB)</td>\n",
       "      <td>-</td>\n",
       "      <td>-</td>\n",
       "      <td>-</td>\n",
       "      <td>-</td>\n",
       "      <td>-</td>\n",
       "      <td>-</td>\n",
       "      <td>https://www.flipkart.com/apple-iphone-14-plus-...</td>\n",
       "    </tr>\n",
       "  </tbody>\n",
       "</table>\n",
       "</div>"
      ],
      "text/plain": [
       "                                          Brand  \\\n",
       "1       APPLE iPhone 14 Plus (Midnight, 128 GB)   \n",
       "2           APPLE iPhone 14 Plus (Blue, 128 GB)   \n",
       "3      APPLE iPhone 14 Plus (Starlight, 128 GB)   \n",
       "4   APPLE iPhone 14 Plus ((PRODUCT)RED, 128 GB)   \n",
       "5         APPLE iPhone 14 Plus (Purple, 128 GB)   \n",
       "6           APPLE iPhone 14 Plus (Blue, 256 GB)   \n",
       "7         APPLE iPhone 14 Plus (Purple, 256 GB)   \n",
       "8       APPLE iPhone 14 Plus (Midnight, 512 GB)   \n",
       "9         APPLE iPhone 14 Plus (Purple, 512 GB)   \n",
       "10     APPLE iPhone 14 Plus (Starlight, 512 GB)   \n",
       "11  APPLE iPhone 14 Plus ((PRODUCT)RED, 512 GB)   \n",
       "12        APPLE iPhone 14 Plus (Yellow, 512 GB)   \n",
       "13          APPLE iPhone 14 Plus (Blue, 512 GB)   \n",
       "14  APPLE iPhone 14 Plus ((PRODUCT)RED, 256 GB)   \n",
       "15     APPLE iPhone 14 Plus (Starlight, 256 GB)   \n",
       "16      APPLE iPhone 14 Plus (Midnight, 256 GB)   \n",
       "17        APPLE iPhone 14 Plus (Yellow, 128 GB)   \n",
       "18        APPLE iPhone 14 Plus (Yellow, 256 GB)   \n",
       "\n",
       "                                           Name        Colour Storage ROM  \\\n",
       "1       APPLE iPhone 14 Plus (Midnight, 128 GB)      Midnight  128 GB ROM   \n",
       "2           APPLE iPhone 14 Plus (Blue, 128 GB)          Blue  128 GB ROM   \n",
       "3      APPLE iPhone 14 Plus (Starlight, 128 GB)     Starlight  128 GB ROM   \n",
       "4   APPLE iPhone 14 Plus ((PRODUCT)RED, 128 GB)  (PRODUCT)RED  128 GB ROM   \n",
       "5         APPLE iPhone 14 Plus (Purple, 128 GB)        Purple  128 GB ROM   \n",
       "6           APPLE iPhone 14 Plus (Blue, 256 GB)          Blue  256 GB ROM   \n",
       "7         APPLE iPhone 14 Plus (Purple, 256 GB)        Purple  256 GB ROM   \n",
       "8       APPLE iPhone 14 Plus (Midnight, 512 GB)      Midnight  512 GB ROM   \n",
       "9         APPLE iPhone 14 Plus (Purple, 512 GB)        Purple  512 GB ROM   \n",
       "10     APPLE iPhone 14 Plus (Starlight, 512 GB)     Starlight  512 GB ROM   \n",
       "11  APPLE iPhone 14 Plus ((PRODUCT)RED, 512 GB)             -           -   \n",
       "12        APPLE iPhone 14 Plus (Yellow, 512 GB)        Yellow  512 GB ROM   \n",
       "13          APPLE iPhone 14 Plus (Blue, 512 GB)          Blue  512 GB ROM   \n",
       "14  APPLE iPhone 14 Plus ((PRODUCT)RED, 256 GB)  (PRODUCT)RED  256 GB ROM   \n",
       "15     APPLE iPhone 14 Plus (Starlight, 256 GB)     Starlight  256 GB ROM   \n",
       "16      APPLE iPhone 14 Plus (Midnight, 256 GB)             -           -   \n",
       "17        APPLE iPhone 14 Plus (Yellow, 128 GB)             -           -   \n",
       "18        APPLE iPhone 14 Plus (Yellow, 256 GB)             -           -   \n",
       "\n",
       "                                      Primary Camera Secondary Camera  \\\n",
       "1   Handset, USB-C to Lightning Cable, Documentation                    \n",
       "2   Handset, USB-C to Lightning Cable, Documentation                    \n",
       "3   Handset, USB-C to Lightning Cable, Documentation                    \n",
       "4   Handset, USB-C to Lightning Cable, Documentation                    \n",
       "5   Handset, USB-C to Lightning Cable, Documentation                    \n",
       "6   Handset, USB-C to Lightning Cable, Documentation                    \n",
       "7   Handset, USB-C to Lightning Cable, Documentation                    \n",
       "8   Handset, USB-C to Lightning Cable, Documentation                    \n",
       "9   Handset, USB-C to Lightning Cable, Documentation                    \n",
       "10  Handset, USB-C to Lightning Cable, Documentation                    \n",
       "11                                                 -                -   \n",
       "12  Handset, USB-C to Lightning Cable, Documentation                    \n",
       "13  Handset, USB-C to Lightning Cable, Documentation                    \n",
       "14  Handset, USB-C to Lightning Cable, Documentation                    \n",
       "15  Handset, USB-C to Lightning Cable, Documentation                    \n",
       "16                                                 -                -   \n",
       "17                                                 -                -   \n",
       "18                                                 -                -   \n",
       "\n",
       "   Display Size      Price                                                URL  \n",
       "1                  ₹78,499  https://www.flipkart.com/apple-iphone-14-plus-...  \n",
       "2                  ₹78,499  https://www.flipkart.com/apple-iphone-14-plus-...  \n",
       "3                  ₹78,499  https://www.flipkart.com/apple-iphone-14-plus-...  \n",
       "4                  ₹77,999  https://www.flipkart.com/apple-iphone-14-plus-...  \n",
       "5                  ₹78,499  https://www.flipkart.com/apple-iphone-14-plus-...  \n",
       "6                  ₹88,499  https://www.flipkart.com/apple-iphone-14-plus-...  \n",
       "7                  ₹88,499  https://www.flipkart.com/apple-iphone-14-plus-...  \n",
       "8                ₹1,08,499  https://www.flipkart.com/apple-iphone-14-plus-...  \n",
       "9                ₹1,08,499  https://www.flipkart.com/apple-iphone-14-plus-...  \n",
       "10               ₹1,08,499  https://www.flipkart.com/apple-iphone-14-plus-...  \n",
       "11            -          -  https://www.flipkart.com/apple-iphone-14-plus-...  \n",
       "12               ₹1,08,499  https://www.flipkart.com/apple-iphone-14-plus-...  \n",
       "13               ₹1,08,499  https://www.flipkart.com/apple-iphone-14-plus-...  \n",
       "14                 ₹88,499  https://www.flipkart.com/apple-iphone-14-plus-...  \n",
       "15                 ₹88,499  https://www.flipkart.com/apple-iphone-14-plus-...  \n",
       "16            -          -  https://www.flipkart.com/apple-iphone-14-plus-...  \n",
       "17            -          -  https://www.flipkart.com/apple-iphone-14-plus-...  \n",
       "18            -          -  https://www.flipkart.com/apple-iphone-14-plus-...  "
      ]
     },
     "execution_count": 63,
     "metadata": {},
     "output_type": "execute_result"
    }
   ],
   "source": [
    "df4=pd.DataFrame({'Brand':Brand_P2,'Name':Name_P2,'Colour':Colour_P2,'Storage ROM':Storage_ROM,'Primary Camera':Primary_Camera,'Secondary Camera':Secondary_Camera,'Display Size':Display_Size,'Price':Price,'URL':phone_opening_url})\n",
    "df4.index+=1\n",
    "df4"
   ]
  },
  {
   "cell_type": "markdown",
   "id": "9556c9f4",
   "metadata": {},
   "source": [
    "### 5. Write a program to scrap geospatial coordinates (latitude, longitude) of a city searched on google maps."
   ]
  },
  {
   "cell_type": "code",
   "execution_count": 54,
   "id": "2f895a18",
   "metadata": {},
   "outputs": [],
   "source": [
    "from selenium.webdriver.chrome.options import Options\n",
    "chrome_options=Options()\n",
    "chrome_options.add_argument('--incognito')"
   ]
  },
  {
   "cell_type": "code",
   "execution_count": 59,
   "id": "e84d211d",
   "metadata": {},
   "outputs": [],
   "source": [
    "driver=webdriver.Chrome(r\"C:\\Users\\JPGD\\Documents\\ANDREA GOMEZ\\FLIP ROBO TECHNOLOGIES INTERNSHIP\\chromedriver_win32 2\\chromedriver.exe\",options=chrome_options)"
   ]
  },
  {
   "cell_type": "code",
   "execution_count": 60,
   "id": "b7eacccb",
   "metadata": {},
   "outputs": [],
   "source": [
    "# Opening the page on automated chrome browser\n",
    "driver.get(\"https://www.google.com/maps\")\n",
    "time.sleep(5)"
   ]
  },
  {
   "cell_type": "code",
   "execution_count": 62,
   "id": "a8acb790",
   "metadata": {},
   "outputs": [],
   "source": [
    "# Close popup window\n",
    "closew=driver.find_element(By.XPATH,\"/html/body/c-wiz/div/div/div/div[2]/div[1]/div[3]/div[1]/div[1]/form[1]/div/div/button/span\")\n",
    "closew.click()"
   ]
  },
  {
   "cell_type": "code",
   "execution_count": 63,
   "id": "55ff67fa",
   "metadata": {},
   "outputs": [],
   "source": [
    "# Search Google Maps in Google\n",
    "#try:\n",
    "city_search=driver.find_element(By.XPATH,\"/html/body/div[3]/div[9]/div[3]/div[1]/div[1]/div/div[2]/form/input[1]\")\n",
    "city_search.send_keys('Quito')\n",
    "#except NoSuchElementException as e:\n",
    "    #print(\"Exception raised : \",e)\n",
    "    #element=driver.find_element(By.XPATH,'/html/body/div[1]/div[3]/form/div[1]/div[1]/div[1]/div/div[2]/textarea')\n",
    "    #city_search.send_keys('Google Maps')\n"
   ]
  },
  {
   "cell_type": "code",
   "execution_count": 64,
   "id": "79bcd2e8",
   "metadata": {},
   "outputs": [],
   "source": [
    "# Click the search button\n",
    "search=driver.find_element(By.XPATH,\"/html/body/div[3]/div[9]/div[3]/div[1]/div[1]/div/div[2]/div[1]/button\")\n",
    "search.click()"
   ]
  },
  {
   "cell_type": "code",
   "execution_count": 68,
   "id": "f2b82dfe",
   "metadata": {},
   "outputs": [
    {
     "name": "stdout",
     "output_type": "stream",
     "text": [
      "URL Extracted:  https://www.google.com/maps/place/Quito,+Ecuador/@-0.1865913,-78.759534,10z/data=!3m1!4b1!4m6!3m5!1s0x91d59a4002427c9f:0x44b991e158ef5572!8m2!3d-0.1806532!4d-78.4678382!16zL20vMDFkdHEx?entry=ttu\n"
     ]
    }
   ],
   "source": [
    "import re\n",
    "url_string=driver.current_url\n",
    "print(\"URL Extracted: \",url_string)\n",
    "lat_lng=re.findall(r'@(.*)data',url_string)"
   ]
  },
  {
   "cell_type": "code",
   "execution_count": 103,
   "id": "2173171e",
   "metadata": {},
   "outputs": [
    {
     "name": "stdout",
     "output_type": "stream",
     "text": [
      "['-0.1865913,-78.759534,10z/']\n"
     ]
    }
   ],
   "source": [
    "print(lat_lng)\n",
    "latitude=[i.split(\",\",1)[0] for i in lat_lng]\n",
    "#longitude=[i.split(\",\",1)[1] for i in lat_lng]\n",
    "longitude=[i.replace(\"z/\",\"\") for i in longitude]"
   ]
  },
  {
   "cell_type": "code",
   "execution_count": 104,
   "id": "04857693",
   "metadata": {},
   "outputs": [
    {
     "name": "stdout",
     "output_type": "stream",
     "text": [
      "['-0.1865913']\n",
      "['-78.759534,10']\n"
     ]
    }
   ],
   "source": [
    "print(latitude)\n",
    "print(longitude)"
   ]
  },
  {
   "cell_type": "code",
   "execution_count": 105,
   "id": "1628f502",
   "metadata": {},
   "outputs": [
    {
     "data": {
      "text/html": [
       "<div>\n",
       "<style scoped>\n",
       "    .dataframe tbody tr th:only-of-type {\n",
       "        vertical-align: middle;\n",
       "    }\n",
       "\n",
       "    .dataframe tbody tr th {\n",
       "        vertical-align: top;\n",
       "    }\n",
       "\n",
       "    .dataframe thead th {\n",
       "        text-align: right;\n",
       "    }\n",
       "</style>\n",
       "<table border=\"1\" class=\"dataframe\">\n",
       "  <thead>\n",
       "    <tr style=\"text-align: right;\">\n",
       "      <th></th>\n",
       "      <th>Latitude</th>\n",
       "      <th>Longitude</th>\n",
       "    </tr>\n",
       "  </thead>\n",
       "  <tbody>\n",
       "    <tr>\n",
       "      <th>1</th>\n",
       "      <td>-0.1865913</td>\n",
       "      <td>-78.759534,10</td>\n",
       "    </tr>\n",
       "  </tbody>\n",
       "</table>\n",
       "</div>"
      ],
      "text/plain": [
       "     Latitude      Longitude\n",
       "1  -0.1865913  -78.759534,10"
      ]
     },
     "execution_count": 105,
     "metadata": {},
     "output_type": "execute_result"
    }
   ],
   "source": [
    "df5=pd.DataFrame({'Latitude':latitude,'Longitude':longitude})\n",
    "df5.index+=1\n",
    "df5"
   ]
  },
  {
   "cell_type": "markdown",
   "id": "39f2dd26",
   "metadata": {},
   "source": [
    "## 6. Write a program to scrap all the available details of best gaming laptops from digit.in. "
   ]
  },
  {
   "cell_type": "code",
   "execution_count": 106,
   "id": "aedffb47",
   "metadata": {},
   "outputs": [],
   "source": [
    "driver=webdriver.Chrome(r\"C:\\Users\\JPGD\\Documents\\ANDREA GOMEZ\\FLIP ROBO TECHNOLOGIES INTERNSHIP\\chromedriver_win32 2\\chromedriver.exe\",options=chrome_options)"
   ]
  },
  {
   "cell_type": "code",
   "execution_count": 107,
   "id": "e3121848",
   "metadata": {},
   "outputs": [],
   "source": [
    "# Opening the page on automated chrome browser\n",
    "driver.get(\"https://www.digit.in/\")\n",
    "time.sleep(5)"
   ]
  },
  {
   "cell_type": "code",
   "execution_count": 110,
   "id": "734887e5",
   "metadata": {},
   "outputs": [],
   "source": [
    "# Click \"laptops\" button\n",
    "search=driver.find_element(By.XPATH,\"/html/body/div[2]/div/ul/li[2]/span\")\n",
    "search.click()"
   ]
  },
  {
   "cell_type": "code",
   "execution_count": 111,
   "id": "5ae1014f",
   "metadata": {},
   "outputs": [],
   "source": [
    "# Click \"best\" button\n",
    "search=driver.find_element(By.XPATH,\"/html/body/div[2]/div/ul/li[2]/div[2]/div/div[1]/span[4]/strong\")\n",
    "search.click()"
   ]
  },
  {
   "cell_type": "code",
   "execution_count": 112,
   "id": "582103c3",
   "metadata": {},
   "outputs": [],
   "source": [
    "# Click \"Best gaming laptops in India\" button\n",
    "search=driver.find_element(By.XPATH,\"/html/body/div[2]/div/ul/li[2]/div[2]/div/div[5]/div/div[2]/a/span\")\n",
    "search.click()"
   ]
  },
  {
   "cell_type": "code",
   "execution_count": 197,
   "id": "b577acd8",
   "metadata": {},
   "outputs": [
    {
     "name": "stdout",
     "output_type": "stream",
     "text": [
      "[['Windows 11 Home'], ['17.3\" (2560 x 1440)'], ['13th Gen Intel Core i7-13700HX | 5.0 GHz'], ['1 TB SSD/16 GB DDR5'], ['Windows 11 Home'], ['17.3\" (3840 x 2160)'], ['12th Gen Intel Core i9-12900HX | 3.6 GHz'], ['2 TB SSD/64 GB DDR5'], ['Windows 11 Home'], ['16\" (2560 x 1600)'], ['12th Gen Intel Core i7-12700H | 4.7 GHz'], ['1 TB SSD/32 GB DDR5'], ['Windows 11 Home'], ['18\" (1920 x 1200)'], ['13th Gen Intel Core i9-13980HX | 2.2 GHz'], ['1 TB SSD/32 GB DDR5'], ['Windows 11 Home'], ['16\" (2560 x 1600)'], ['13th Gen Intel Core i7-13700HX | NA'], ['1 TB SSD/16 GB DDR5'], ['Windows 11 Home'], ['14\" (1920 x 1200)'], ['AMD Ryzen 9-6900HS | 4.9 GHz'], ['1 TB SSD/16 GB DDR5'], ['Windows 11 Home'], ['15.6\" (1920 x 1080)'], ['12th Gen Intel Core i7-12650H | 4.7 GHz'], ['1 TB SSD/16 GB DDR5']]\n"
     ]
    }
   ],
   "source": [
    "# Create empty lists\n",
    "laptop_data=[]\n",
    "\n",
    "# Scraping laptop details\n",
    "windows_tag=driver.find_elements(By.CLASS_NAME,\"value\")\n",
    "\n",
    "for i in windows_tag:\n",
    "    laptop_data.append(i.text.split(\",\"))\n",
    "    #re.split(\"|\",\",\")\n",
    "print(laptop_data)"
   ]
  },
  {
   "cell_type": "code",
   "execution_count": 213,
   "id": "9a7fa44a",
   "metadata": {},
   "outputs": [],
   "source": [
    "OS=laptop_data[::4]\n",
    "Display=laptop_data[1::4]\n",
    "Processor=laptop_data[2::4]\n",
    "Memory=laptop_data[3::4]"
   ]
  },
  {
   "cell_type": "code",
   "execution_count": 214,
   "id": "62c0699c",
   "metadata": {},
   "outputs": [
    {
     "data": {
      "text/html": [
       "<div>\n",
       "<style scoped>\n",
       "    .dataframe tbody tr th:only-of-type {\n",
       "        vertical-align: middle;\n",
       "    }\n",
       "\n",
       "    .dataframe tbody tr th {\n",
       "        vertical-align: top;\n",
       "    }\n",
       "\n",
       "    .dataframe thead th {\n",
       "        text-align: right;\n",
       "    }\n",
       "</style>\n",
       "<table border=\"1\" class=\"dataframe\">\n",
       "  <thead>\n",
       "    <tr style=\"text-align: right;\">\n",
       "      <th></th>\n",
       "      <th>OS</th>\n",
       "      <th>Display</th>\n",
       "      <th>Processor</th>\n",
       "      <th>Memory</th>\n",
       "    </tr>\n",
       "  </thead>\n",
       "  <tbody>\n",
       "    <tr>\n",
       "      <th>1</th>\n",
       "      <td>[Windows 11 Home]</td>\n",
       "      <td>[17.3\" (2560 x 1440)]</td>\n",
       "      <td>[13th Gen Intel Core i7-13700HX | 5.0 GHz]</td>\n",
       "      <td>[1 TB SSD/16 GB DDR5]</td>\n",
       "    </tr>\n",
       "    <tr>\n",
       "      <th>2</th>\n",
       "      <td>[Windows 11 Home]</td>\n",
       "      <td>[17.3\" (3840 x 2160)]</td>\n",
       "      <td>[12th Gen Intel Core i9-12900HX | 3.6 GHz]</td>\n",
       "      <td>[2 TB SSD/64 GB DDR5]</td>\n",
       "    </tr>\n",
       "    <tr>\n",
       "      <th>3</th>\n",
       "      <td>[Windows 11 Home]</td>\n",
       "      <td>[16\" (2560 x 1600)]</td>\n",
       "      <td>[12th Gen Intel Core i7-12700H | 4.7 GHz]</td>\n",
       "      <td>[1 TB SSD/32 GB DDR5]</td>\n",
       "    </tr>\n",
       "    <tr>\n",
       "      <th>4</th>\n",
       "      <td>[Windows 11 Home]</td>\n",
       "      <td>[18\" (1920 x 1200)]</td>\n",
       "      <td>[13th Gen Intel Core i9-13980HX | 2.2 GHz]</td>\n",
       "      <td>[1 TB SSD/32 GB DDR5]</td>\n",
       "    </tr>\n",
       "    <tr>\n",
       "      <th>5</th>\n",
       "      <td>[Windows 11 Home]</td>\n",
       "      <td>[16\" (2560 x 1600)]</td>\n",
       "      <td>[13th Gen Intel Core i7-13700HX | NA]</td>\n",
       "      <td>[1 TB SSD/16 GB DDR5]</td>\n",
       "    </tr>\n",
       "    <tr>\n",
       "      <th>6</th>\n",
       "      <td>[Windows 11 Home]</td>\n",
       "      <td>[14\" (1920 x 1200)]</td>\n",
       "      <td>[AMD Ryzen 9-6900HS | 4.9 GHz]</td>\n",
       "      <td>[1 TB SSD/16 GB DDR5]</td>\n",
       "    </tr>\n",
       "    <tr>\n",
       "      <th>7</th>\n",
       "      <td>[Windows 11 Home]</td>\n",
       "      <td>[15.6\" (1920 x 1080)]</td>\n",
       "      <td>[12th Gen Intel Core i7-12650H | 4.7 GHz]</td>\n",
       "      <td>[1 TB SSD/16 GB DDR5]</td>\n",
       "    </tr>\n",
       "  </tbody>\n",
       "</table>\n",
       "</div>"
      ],
      "text/plain": [
       "                  OS                Display  \\\n",
       "1  [Windows 11 Home]  [17.3\" (2560 x 1440)]   \n",
       "2  [Windows 11 Home]  [17.3\" (3840 x 2160)]   \n",
       "3  [Windows 11 Home]    [16\" (2560 x 1600)]   \n",
       "4  [Windows 11 Home]    [18\" (1920 x 1200)]   \n",
       "5  [Windows 11 Home]    [16\" (2560 x 1600)]   \n",
       "6  [Windows 11 Home]    [14\" (1920 x 1200)]   \n",
       "7  [Windows 11 Home]  [15.6\" (1920 x 1080)]   \n",
       "\n",
       "                                    Processor                 Memory  \n",
       "1  [13th Gen Intel Core i7-13700HX | 5.0 GHz]  [1 TB SSD/16 GB DDR5]  \n",
       "2  [12th Gen Intel Core i9-12900HX | 3.6 GHz]  [2 TB SSD/64 GB DDR5]  \n",
       "3   [12th Gen Intel Core i7-12700H | 4.7 GHz]  [1 TB SSD/32 GB DDR5]  \n",
       "4  [13th Gen Intel Core i9-13980HX | 2.2 GHz]  [1 TB SSD/32 GB DDR5]  \n",
       "5       [13th Gen Intel Core i7-13700HX | NA]  [1 TB SSD/16 GB DDR5]  \n",
       "6              [AMD Ryzen 9-6900HS | 4.9 GHz]  [1 TB SSD/16 GB DDR5]  \n",
       "7   [12th Gen Intel Core i7-12650H | 4.7 GHz]  [1 TB SSD/16 GB DDR5]  "
      ]
     },
     "execution_count": 214,
     "metadata": {},
     "output_type": "execute_result"
    }
   ],
   "source": [
    "df6=pd.DataFrame({'OS':OS,'Display':Display,'Processor':Processor,'Memory':Memory})\n",
    "df6.index+=1\n",
    "df6"
   ]
  },
  {
   "cell_type": "markdown",
   "id": "5d9c583c",
   "metadata": {},
   "source": [
    "## 7. Write a python program to scrape the details for all billionaires from www.forbes.com. Details to be scrapped: “Rank”, “Name”, “Net worth”, “Age”, “Citizenship”, “Source”, “Industry”. "
   ]
  },
  {
   "cell_type": "code",
   "execution_count": 169,
   "id": "c8c56c8b",
   "metadata": {},
   "outputs": [],
   "source": [
    "driver=webdriver.Chrome(r\"C:\\Users\\JPGD\\Documents\\ANDREA GOMEZ\\FLIP ROBO TECHNOLOGIES INTERNSHIP\\chromedriver_win32 2\\chromedriver.exe\",options=chrome_options)"
   ]
  },
  {
   "cell_type": "code",
   "execution_count": 170,
   "id": "26f7b281",
   "metadata": {},
   "outputs": [],
   "source": [
    "# Opening the page on automated chrome browser\n",
    "driver.get(\"https://www.forbes.com/\")\n",
    "time.sleep(5)"
   ]
  },
  {
   "cell_type": "code",
   "execution_count": 171,
   "id": "0b961362",
   "metadata": {},
   "outputs": [],
   "source": [
    "# Close popup window\n",
    "closew=driver.find_element(By.XPATH,\"/html/body/div[1]/div/div/div/div[2]/button[2]/span\")\n",
    "closew.click()"
   ]
  },
  {
   "cell_type": "code",
   "execution_count": 174,
   "id": "7a70d04f",
   "metadata": {},
   "outputs": [],
   "source": [
    "# Click on list option from dropdown menu on left side\n",
    "\n",
    "list_opt=driver.find_element(By.XPATH,\"/html/body/div[1]/header/nav/div[1]/div[1]/div/div\")\n",
    "list_opt.click()"
   ]
  },
  {
   "cell_type": "code",
   "execution_count": 175,
   "id": "f56c796f",
   "metadata": {},
   "outputs": [],
   "source": [
    "# Click on selected option (\"Billionaires\")\n",
    "\n",
    "opt=driver.find_element(By.XPATH,\"/html/body/div[1]/header/nav/div[1]/div[1]/div/div[2]/ul/li[2]/div[1]\")\n",
    "opt.click()"
   ]
  },
  {
   "cell_type": "code",
   "execution_count": 176,
   "id": "f82fd329",
   "metadata": {},
   "outputs": [],
   "source": [
    "# Click on selected option (\"View all Billionaires\")\n",
    "\n",
    "opt_next=driver.find_element(By.XPATH,\"/html/body/div[1]/header/nav/div[1]/div[1]/div/div[2]/ul/li[2]/div[2]/div[3]/ul/li[1]/a\")\n",
    "opt_next.click()"
   ]
  },
  {
   "cell_type": "code",
   "execution_count": 229,
   "id": "776ae675",
   "metadata": {},
   "outputs": [],
   "source": [
    "# Create empty lists\n",
    "Rank=[]\n",
    "Data=[]"
   ]
  },
  {
   "cell_type": "code",
   "execution_count": 230,
   "id": "99e216eb",
   "metadata": {},
   "outputs": [],
   "source": [
    "#Scraping data from website\n",
    "\n",
    "rank_t=driver.find_elements(By.XPATH,'//div[@class=\"Table_rank___YBhk Table_dataCell__2QCve\"]')\n",
    "data=driver.find_elements(By.XPATH,'//div[@class=\"TableRow_cell__db-hv Table_cell__houv9\"]')\n",
    "#net_worth_t=driver.find_elements(By.XPATH,'//div[@class=\"Table_netWorth___L4R5 Table_dataCell__2QCve\"]')\n",
    "#citizenship_t=driver.find_elements(By.XPATH,\"/html/body/div[1]/div[2]/div[3]/div[2]/div[2]/div[2]/div[1]/div[1]/div[1]/div[2]/div[1]/div/div[5]\")\n",
    "#industry_t=driver.find_elements(By.XPATH,\"/html/body/div[1]/div[2]/div[3]/div[2]/div[2]/div[2]/div[1]/div[1]/div[1]/div[2]/div[1]/div/div[7]/div\")\n",
    "for i in rank_t:\n",
    "    Rank.append(i.text)\n",
    "for i in data:\n",
    "    Data.append(i.text)"
   ]
  },
  {
   "cell_type": "code",
   "execution_count": 232,
   "id": "7cec472e",
   "metadata": {},
   "outputs": [
    {
     "name": "stdout",
     "output_type": "stream",
     "text": [
      "200 200 200 200 200 200 200\n"
     ]
    }
   ],
   "source": [
    "# Creating lists\n",
    "\n",
    "Name=Data[1::7]\n",
    "Net_worth=Data[2::7]\n",
    "Age=Data[3::7]\n",
    "Citizenship=Data[4::7]\n",
    "Source=Data[5::7]\n",
    "Industry=Data[6::7]\n",
    "\n",
    "print(len(Name),len(Net_worth),len(Age),len(Citizenship),len(Source),len(Rank),len(Industry))"
   ]
  },
  {
   "cell_type": "code",
   "execution_count": 233,
   "id": "9bc3e561",
   "metadata": {},
   "outputs": [
    {
     "data": {
      "text/html": [
       "<div>\n",
       "<style scoped>\n",
       "    .dataframe tbody tr th:only-of-type {\n",
       "        vertical-align: middle;\n",
       "    }\n",
       "\n",
       "    .dataframe tbody tr th {\n",
       "        vertical-align: top;\n",
       "    }\n",
       "\n",
       "    .dataframe thead th {\n",
       "        text-align: right;\n",
       "    }\n",
       "</style>\n",
       "<table border=\"1\" class=\"dataframe\">\n",
       "  <thead>\n",
       "    <tr style=\"text-align: right;\">\n",
       "      <th></th>\n",
       "      <th>Rank</th>\n",
       "      <th>Name</th>\n",
       "      <th>Net Worth</th>\n",
       "      <th>Age</th>\n",
       "      <th>Citizenship</th>\n",
       "      <th>Source</th>\n",
       "      <th>Industry</th>\n",
       "    </tr>\n",
       "  </thead>\n",
       "  <tbody>\n",
       "    <tr>\n",
       "      <th>1</th>\n",
       "      <td></td>\n",
       "      <td>Bernard Arnault &amp; family</td>\n",
       "      <td>$211 B</td>\n",
       "      <td>74</td>\n",
       "      <td>France</td>\n",
       "      <td>LVMH</td>\n",
       "      <td>Fashion &amp; Retail</td>\n",
       "    </tr>\n",
       "    <tr>\n",
       "      <th>2</th>\n",
       "      <td></td>\n",
       "      <td>Elon Musk</td>\n",
       "      <td>$180 B</td>\n",
       "      <td>51</td>\n",
       "      <td>United States</td>\n",
       "      <td>Tesla, SpaceX</td>\n",
       "      <td>Automotive</td>\n",
       "    </tr>\n",
       "    <tr>\n",
       "      <th>3</th>\n",
       "      <td></td>\n",
       "      <td>Jeff Bezos</td>\n",
       "      <td>$114 B</td>\n",
       "      <td>59</td>\n",
       "      <td>United States</td>\n",
       "      <td>Amazon</td>\n",
       "      <td>Technology</td>\n",
       "    </tr>\n",
       "    <tr>\n",
       "      <th>4</th>\n",
       "      <td></td>\n",
       "      <td>Larry Ellison</td>\n",
       "      <td>$107 B</td>\n",
       "      <td>78</td>\n",
       "      <td>United States</td>\n",
       "      <td>Oracle</td>\n",
       "      <td>Technology</td>\n",
       "    </tr>\n",
       "    <tr>\n",
       "      <th>5</th>\n",
       "      <td></td>\n",
       "      <td>Warren Buffett</td>\n",
       "      <td>$106 B</td>\n",
       "      <td>92</td>\n",
       "      <td>United States</td>\n",
       "      <td>Berkshire Hathaway</td>\n",
       "      <td>Finance &amp; Investments</td>\n",
       "    </tr>\n",
       "    <tr>\n",
       "      <th>...</th>\n",
       "      <td>...</td>\n",
       "      <td>...</td>\n",
       "      <td>...</td>\n",
       "      <td>...</td>\n",
       "      <td>...</td>\n",
       "      <td>...</td>\n",
       "      <td>...</td>\n",
       "    </tr>\n",
       "    <tr>\n",
       "      <th>196</th>\n",
       "      <td></td>\n",
       "      <td>Jin Baofang</td>\n",
       "      <td>$9.6 B</td>\n",
       "      <td>70</td>\n",
       "      <td>China</td>\n",
       "      <td>Solar panels</td>\n",
       "      <td>Energy</td>\n",
       "    </tr>\n",
       "    <tr>\n",
       "      <th>197</th>\n",
       "      <td></td>\n",
       "      <td>Luo Liguo &amp; family</td>\n",
       "      <td>$9.6 B</td>\n",
       "      <td>67</td>\n",
       "      <td>China</td>\n",
       "      <td>Chemicals</td>\n",
       "      <td>Manufacturing</td>\n",
       "    </tr>\n",
       "    <tr>\n",
       "      <th>198</th>\n",
       "      <td></td>\n",
       "      <td>Marijke Mars</td>\n",
       "      <td>$9.6 B</td>\n",
       "      <td>58</td>\n",
       "      <td>United States</td>\n",
       "      <td>Candy, pet food</td>\n",
       "      <td>Food &amp; Beverage</td>\n",
       "    </tr>\n",
       "    <tr>\n",
       "      <th>199</th>\n",
       "      <td></td>\n",
       "      <td>Pamela Mars</td>\n",
       "      <td>$9.6 B</td>\n",
       "      <td>62</td>\n",
       "      <td>United States</td>\n",
       "      <td>Candy, pet food</td>\n",
       "      <td>Food &amp; Beverage</td>\n",
       "    </tr>\n",
       "    <tr>\n",
       "      <th>200</th>\n",
       "      <td></td>\n",
       "      <td>Valerie Mars</td>\n",
       "      <td>$9.6 B</td>\n",
       "      <td>64</td>\n",
       "      <td>United States</td>\n",
       "      <td>Candy, pet food</td>\n",
       "      <td>Food &amp; Beverage</td>\n",
       "    </tr>\n",
       "  </tbody>\n",
       "</table>\n",
       "<p>200 rows × 7 columns</p>\n",
       "</div>"
      ],
      "text/plain": [
       "    Rank                      Name Net Worth Age    Citizenship  \\\n",
       "1         Bernard Arnault & family    $211 B  74         France   \n",
       "2                        Elon Musk    $180 B  51  United States   \n",
       "3                       Jeff Bezos    $114 B  59  United States   \n",
       "4                    Larry Ellison    $107 B  78  United States   \n",
       "5                   Warren Buffett    $106 B  92  United States   \n",
       "..   ...                       ...       ...  ..            ...   \n",
       "196                    Jin Baofang    $9.6 B  70          China   \n",
       "197             Luo Liguo & family    $9.6 B  67          China   \n",
       "198                   Marijke Mars    $9.6 B  58  United States   \n",
       "199                    Pamela Mars    $9.6 B  62  United States   \n",
       "200                   Valerie Mars    $9.6 B  64  United States   \n",
       "\n",
       "                 Source               Industry  \n",
       "1                  LVMH       Fashion & Retail  \n",
       "2         Tesla, SpaceX             Automotive  \n",
       "3                Amazon             Technology  \n",
       "4                Oracle             Technology  \n",
       "5    Berkshire Hathaway  Finance & Investments  \n",
       "..                  ...                    ...  \n",
       "196        Solar panels                 Energy  \n",
       "197           Chemicals          Manufacturing  \n",
       "198     Candy, pet food        Food & Beverage  \n",
       "199     Candy, pet food        Food & Beverage  \n",
       "200     Candy, pet food        Food & Beverage  \n",
       "\n",
       "[200 rows x 7 columns]"
      ]
     },
     "execution_count": 233,
     "metadata": {},
     "output_type": "execute_result"
    }
   ],
   "source": [
    "df7=pd.DataFrame({'Rank':Rank,'Name':Name,'Net Worth':Net_worth,'Age':Age,'Citizenship':Citizenship,'Source':Source,'Industry':Industry})\n",
    "df7.index+=1\n",
    "df7"
   ]
  },
  {
   "cell_type": "markdown",
   "id": "4a46be32",
   "metadata": {},
   "source": [
    "## 8. Write a program to extract at least 500 Comments, Comment up vote and time when comment was posted from any YouTube Video."
   ]
  },
  {
   "cell_type": "code",
   "execution_count": 3,
   "id": "1f49778e",
   "metadata": {},
   "outputs": [],
   "source": [
    "driver=webdriver.Chrome(r\"C:\\Users\\JPGD\\Documents\\ANDREA GOMEZ\\FLIP ROBO TECHNOLOGIES INTERNSHIP\\chromedriver_win32 2\\chromedriver.exe\")"
   ]
  },
  {
   "cell_type": "code",
   "execution_count": 4,
   "id": "7f9d4706",
   "metadata": {},
   "outputs": [],
   "source": [
    "# Opening the page on automated chrome browser\n",
    "driver.get(\"https://www.youtube.com/\")\n",
    "time.sleep(5)"
   ]
  },
  {
   "cell_type": "code",
   "execution_count": 5,
   "id": "56745a4d",
   "metadata": {},
   "outputs": [],
   "source": [
    "# Close popup window\n",
    "closew=driver.find_element(By.XPATH,\"/html/body/ytd-app/ytd-consent-bump-v2-lightbox/tp-yt-paper-dialog/div[4]/div[2]/div[6]/div[1]/ytd-button-renderer[1]/yt-button-shape/button/yt-touch-feedback-shape/div/div[2]\")\n",
    "closew.click()"
   ]
  },
  {
   "cell_type": "code",
   "execution_count": 10,
   "id": "ca6462d5",
   "metadata": {},
   "outputs": [],
   "source": [
    "# Search topic\n",
    "try: \n",
    "    video = driver.find_element(By.XPATH,\"/html/body/ytd-app/div[1]/div/ytd-masthead/div[4]/div[2]/ytd-searchbox/form/div[1]/div[1]/input\")\n",
    "    video.send_keys('Te doy gloria')\n",
    "except ElementNotInteractableException as e:\n",
    "    print(\"Exception raised : \",e)\n",
    "    video = driver.find_element(By.XPATH,'//div[@class=\"ytd-searchbox-spt\"]')\n",
    "    video.send_keys('Te doy gloria')"
   ]
  },
  {
   "cell_type": "code",
   "execution_count": 11,
   "id": "82feba0a",
   "metadata": {},
   "outputs": [],
   "source": [
    "# Click search button\n",
    "search=driver.find_element(By.XPATH,\"/html/body/ytd-app/div[1]/div/ytd-masthead/div[4]/div[2]/ytd-searchbox/button/yt-icon\")\n",
    "search.click()"
   ]
  },
  {
   "cell_type": "code",
   "execution_count": 12,
   "id": "aad1f0c1",
   "metadata": {},
   "outputs": [],
   "source": [
    "# Open first video\n",
    "search=driver.find_element(By.XPATH,\"/html/body/ytd-app/div[1]/ytd-page-manager/ytd-search/div[1]/ytd-two-column-search-results-renderer/div/ytd-section-list-renderer/div[2]/ytd-item-section-renderer/div[3]/ytd-video-renderer[1]/div[1]/div/div[1]/div/h3/a/yt-formatted-string\")\n",
    "search.click()\n",
    "time.sleep(200)"
   ]
  },
  {
   "cell_type": "code",
   "execution_count": 60,
   "id": "910a7299",
   "metadata": {},
   "outputs": [],
   "source": [
    "info_video=[]\n",
    "voteV=[]\n",
    "# Scraping Video Info\n",
    "info_q8=driver.find_elements(By.CLASS_NAME,'style-scope ytd-comment-renderer')\n",
    "driver.execute_script(\"window.scrollTo(0,1000)\")\n",
    "for i in info_q8[0:500]:\n",
    "    info_video.append(i.text.split(\"\\n\"))\n",
    "# Scraping votes\n",
    "vote_q8=driver.find_elements(By.ID,'vote-count-middle')\n",
    "for i in vote_q8[0:500]:\n",
    "    voteV.append(i.text.split(\"\\n\"))\n",
    "#info_video"
   ]
  },
  {
   "cell_type": "code",
   "execution_count": 61,
   "id": "ba7a51f3",
   "metadata": {},
   "outputs": [
    {
     "data": {
      "text/plain": [
       "500"
      ]
     },
     "execution_count": 61,
     "metadata": {},
     "output_type": "execute_result"
    }
   ],
   "source": [
    "len(info_video)\n",
    "len(voteV)"
   ]
  },
  {
   "cell_type": "code",
   "execution_count": 68,
   "id": "abcfcefa",
   "metadata": {},
   "outputs": [],
   "source": [
    "#info_video"
   ]
  },
  {
   "cell_type": "code",
   "execution_count": 66,
   "id": "e3b45994",
   "metadata": {},
   "outputs": [],
   "source": [
    "# Get data from info_video list\n",
    "comments=[x[2] for x in info_video]\n",
    "time=[x[1] for x in info_video]"
   ]
  },
  {
   "cell_type": "code",
   "execution_count": 67,
   "id": "1b6bc51c",
   "metadata": {},
   "outputs": [
    {
     "data": {
      "text/html": [
       "<div>\n",
       "<style scoped>\n",
       "    .dataframe tbody tr th:only-of-type {\n",
       "        vertical-align: middle;\n",
       "    }\n",
       "\n",
       "    .dataframe tbody tr th {\n",
       "        vertical-align: top;\n",
       "    }\n",
       "\n",
       "    .dataframe thead th {\n",
       "        text-align: right;\n",
       "    }\n",
       "</style>\n",
       "<table border=\"1\" class=\"dataframe\">\n",
       "  <thead>\n",
       "    <tr style=\"text-align: right;\">\n",
       "      <th></th>\n",
       "      <th>Comment</th>\n",
       "      <th>Vote</th>\n",
       "      <th>Time</th>\n",
       "    </tr>\n",
       "  </thead>\n",
       "  <tbody>\n",
       "    <tr>\n",
       "      <th>1</th>\n",
       "      <td>nunca me canso de escuchar esta bonita alabanza</td>\n",
       "      <td>[32]</td>\n",
       "      <td>hace 3 años</td>\n",
       "    </tr>\n",
       "    <tr>\n",
       "      <th>2</th>\n",
       "      <td>Me encanta esta canción y más porque recuerdo ...</td>\n",
       "      <td>[9]</td>\n",
       "      <td>hace 3 años</td>\n",
       "    </tr>\n",
       "    <tr>\n",
       "      <th>3</th>\n",
       "      <td>Quiero alabarte por siempre, entregar mi vida ...</td>\n",
       "      <td>[23]</td>\n",
       "      <td>hace 3 años</td>\n",
       "    </tr>\n",
       "    <tr>\n",
       "      <th>4</th>\n",
       "      <td>Esperamos este video haya sido de bendición pa...</td>\n",
       "      <td>[20]</td>\n",
       "      <td>hace 2 años (editado)</td>\n",
       "    </tr>\n",
       "    <tr>\n",
       "      <th>5</th>\n",
       "      <td>Yo no era cristiano pero esta alabanza me anim...</td>\n",
       "      <td>[46]</td>\n",
       "      <td>hace 1 año</td>\n",
       "    </tr>\n",
       "    <tr>\n",
       "      <th>...</th>\n",
       "      <td>...</td>\n",
       "      <td>...</td>\n",
       "      <td>...</td>\n",
       "    </tr>\n",
       "    <tr>\n",
       "      <th>496</th>\n",
       "      <td>Gloria a dios</td>\n",
       "      <td>[]</td>\n",
       "      <td>hace 3 años</td>\n",
       "    </tr>\n",
       "    <tr>\n",
       "      <th>497</th>\n",
       "      <td>Parce picante es la mejor dios siempre vas en ...</td>\n",
       "      <td>[]</td>\n",
       "      <td>hace 3 años</td>\n",
       "    </tr>\n",
       "    <tr>\n",
       "      <th>498</th>\n",
       "      <td>️️️️️</td>\n",
       "      <td>[1]</td>\n",
       "      <td>hace 2 años</td>\n",
       "    </tr>\n",
       "    <tr>\n",
       "      <th>499</th>\n",
       "      <td>Dios. Es grande por siempre lo amo</td>\n",
       "      <td>[44]</td>\n",
       "      <td>hace 4 años</td>\n",
       "    </tr>\n",
       "    <tr>\n",
       "      <th>500</th>\n",
       "      <td>Amen gloria a Dios</td>\n",
       "      <td>[2]</td>\n",
       "      <td>hace 2 años</td>\n",
       "    </tr>\n",
       "  </tbody>\n",
       "</table>\n",
       "<p>500 rows × 3 columns</p>\n",
       "</div>"
      ],
      "text/plain": [
       "                                               Comment  Vote  \\\n",
       "1      nunca me canso de escuchar esta bonita alabanza  [32]   \n",
       "2    Me encanta esta canción y más porque recuerdo ...   [9]   \n",
       "3    Quiero alabarte por siempre, entregar mi vida ...  [23]   \n",
       "4    Esperamos este video haya sido de bendición pa...  [20]   \n",
       "5    Yo no era cristiano pero esta alabanza me anim...  [46]   \n",
       "..                                                 ...   ...   \n",
       "496                                      Gloria a dios    []   \n",
       "497  Parce picante es la mejor dios siempre vas en ...    []   \n",
       "498                                              ️️️️️   [1]   \n",
       "499                 Dios. Es grande por siempre lo amo  [44]   \n",
       "500                                 Amen gloria a Dios   [2]   \n",
       "\n",
       "                      Time  \n",
       "1              hace 3 años  \n",
       "2              hace 3 años  \n",
       "3              hace 3 años  \n",
       "4    hace 2 años (editado)  \n",
       "5               hace 1 año  \n",
       "..                     ...  \n",
       "496            hace 3 años  \n",
       "497            hace 3 años  \n",
       "498            hace 2 años  \n",
       "499            hace 4 años  \n",
       "500            hace 2 años  \n",
       "\n",
       "[500 rows x 3 columns]"
      ]
     },
     "execution_count": 67,
     "metadata": {},
     "output_type": "execute_result"
    }
   ],
   "source": [
    "df8=pd.DataFrame({'Comment':comments,'Vote':voteV,'Time':time})\n",
    "df8.index+=1\n",
    "df8"
   ]
  },
  {
   "cell_type": "code",
   "execution_count": 252,
   "id": "4a977b74",
   "metadata": {},
   "outputs": [
    {
     "data": {
      "text/plain": [
       "['https://www.youtube.com/watch?v=KUPWymASiTE&pp=ygUNdGUgZG95IGdsb3JpYQ%3D%3D']"
      ]
     },
     "execution_count": 252,
     "metadata": {},
     "output_type": "execute_result"
    }
   ],
   "source": [
    "# fetch URL\n",
    "\n",
    "# Fetch URL to open each product link\n",
    "#video_opening_url=[]\n",
    "\n",
    "#url=driver.find_elements(By.XPATH,\"/html/body/ytd-app/div[1]/ytd-page-manager/ytd-search/div[1]/ytd-two-column-search-results-renderer/div/ytd-section-list-renderer/div[2]/ytd-item-section-renderer/div[3]/ytd-video-renderer[1]/div[1]/div/div[1]/div/h3/a\")\n",
    "#video_opening_url.append(i.get_attribute('href'))\n",
    "    \n",
    "#video_opening_url"
   ]
  },
  {
   "cell_type": "markdown",
   "id": "05f5619d",
   "metadata": {},
   "source": [
    "## 9. Write a python program to scrape a data for all available Hostels from https://www.hostelworld.com/ in “London” location. You have to scrape hostel name, distance from city centre, ratings, total reviews, overall reviews, privates from price, dorms from price, facilities and property description. "
   ]
  },
  {
   "cell_type": "code",
   "execution_count": 9,
   "id": "067b4774",
   "metadata": {},
   "outputs": [],
   "source": [
    "driver=webdriver.Chrome(r\"C:\\Users\\JPGD\\Documents\\ANDREA GOMEZ\\FLIP ROBO TECHNOLOGIES INTERNSHIP\\chromedriver_win32 2\\chromedriver.exe\")"
   ]
  },
  {
   "cell_type": "code",
   "execution_count": 10,
   "id": "45d5e9fa",
   "metadata": {},
   "outputs": [],
   "source": [
    "# Opening the page on automated chrome browser\n",
    "driver.get(\"https://www.hostelworld.com/\")\n",
    "#time.sleep(3)"
   ]
  },
  {
   "cell_type": "code",
   "execution_count": 11,
   "id": "b8ee13ac",
   "metadata": {},
   "outputs": [],
   "source": [
    "# Close cookies window\n",
    "closew=driver.find_element(By.XPATH,'/html/body/div[3]/div/div/div[4]/div/div/div[2]/button[2]')\n",
    "closew.click()\n",
    "#time.sleep(3)"
   ]
  },
  {
   "cell_type": "code",
   "execution_count": 22,
   "id": "ba50b036",
   "metadata": {},
   "outputs": [],
   "source": [
    "# Search hostels in london\n",
    "try:\n",
    "    search_h = driver.find_element(By.XPATH,'/html/body/div[3]/div/div/div[2]/div[2]/div[2]/div/div[2]/div/div/div[2]/div/div[1]/div/div[1]/div/div/div[2]/input')\n",
    "    search_h.send_keys('London')\n",
    "except NoSuchElementException as e:\n",
    "    print(\"Exception raised : \",e)\n",
    "    search_h = driver.find_element(By.CLASS_NAME,'search-icon icon')\n",
    "    search_h.send_keys('London')"
   ]
  },
  {
   "cell_type": "code",
   "execution_count": 23,
   "id": "af1e26b0",
   "metadata": {},
   "outputs": [],
   "source": [
    "# Select location from drop-down list\n",
    "Search_b=driver.find_element(By.XPATH,'/html/body/div[3]/div/div/div[2]/div[2]/div[2]/div/div[2]/div/div/div[2]/div/div[1]/div/div[2]/div/ul/li[2]/button')\n",
    "Search_b.click()"
   ]
  },
  {
   "cell_type": "code",
   "execution_count": 24,
   "id": "391304e4",
   "metadata": {},
   "outputs": [],
   "source": [
    "# Click next button\n",
    "Search_b=driver.find_element(By.XPATH,'/html/body/div[3]/div/div/div[2]/div[2]/div[2]/div/div[2]/div/div/div[3]/div/div/button[2]')\n",
    "Search_b.click()"
   ]
  },
  {
   "cell_type": "code",
   "execution_count": 27,
   "id": "4a339792",
   "metadata": {},
   "outputs": [],
   "source": [
    "# Click search button\n",
    "Search_b=driver.find_element(By.XPATH,'/html/body/div[3]/div/div/div[2]/div[2]/div[2]/div/div[2]/div/div/div[3]/div/div/button')\n",
    "Search_b.click()"
   ]
  },
  {
   "cell_type": "code",
   "execution_count": 167,
   "id": "b2ed8e7c",
   "metadata": {},
   "outputs": [],
   "source": [
    "import re"
   ]
  },
  {
   "cell_type": "code",
   "execution_count": 28,
   "id": "0f40f323",
   "metadata": {},
   "outputs": [],
   "source": [
    "# Fetch URL to open each hotel link\n",
    "\n",
    "start=0\n",
    "end=2\n",
    "\n",
    "hotel_opening_url=[]\n",
    "\n",
    "for page in range (start,end):\n",
    "    url=driver.find_elements(By.XPATH,'//a[@class=\"nuxt-link\"]')\n",
    "    for i in url:\n",
    "        hotel_opening_url.append(i.get_attribute('href'))\n",
    "    next_button_p=driver.find_elements(By.XPATH,\"/html/body/div[3]/div/div/div[2]/div[2]/div[2]/div/div/div/div/div/div[4]/div/button[2]/div/svg/use\")"
   ]
  },
  {
   "cell_type": "code",
   "execution_count": 47,
   "id": "fec0ff4f",
   "metadata": {},
   "outputs": [],
   "source": [
    "#len(hotel_opening_url)"
   ]
  },
  {
   "cell_type": "code",
   "execution_count": 46,
   "id": "6e8e2027",
   "metadata": {},
   "outputs": [],
   "source": [
    "#hotel_opening_url"
   ]
  },
  {
   "cell_type": "code",
   "execution_count": 31,
   "id": "37b2feec",
   "metadata": {},
   "outputs": [],
   "source": [
    "# Create empty lists\n",
    "Hostel_name=[]\n",
    "Distance_from_city_centre=[]\n",
    "ratings=[]\n",
    "total_reviews=[]\n",
    "overall_reviews=[]\n",
    "privates_from_price=[]\n",
    "dorms_from_price=[]\n",
    "facilities=[]\n",
    "property_description=[]"
   ]
  },
  {
   "cell_type": "code",
   "execution_count": null,
   "id": "3eaff447",
   "metadata": {},
   "outputs": [],
   "source": [
    "hotel_n=driver.find_elements(By.CLASS_NAME,\"property-name\")\n",
    "rat=driver.find_elements(By.CLASS_NAME,\"score orange big\")\n",
    "tr=driver.find_elements(By.XPATH,\"/html/body/div[3]/div/div/div[2]/section/div[6]/div/div[1]/div[1]/div[2]/div[2]\")\n",
    "pfp=driver.find_elements(By.XPATH,\"/html/body/div[3]/div/div/div[2]/section/div[8]/div/div/section/div/div[1]/div[2]/div[2]/div/div[2]/div[1]/div/div[1]/div[1]/div\")\n",
    "dfp=driver.find_elements(By.XPATH,\"/html/body/div[3]/div/div/div[2]/section/div[8]/div/div/section/div/div/div[3]/div[2]/div/div[2]/div[1]/div/div[1]/div[2]/div[1]\")\n",
    "fties=driver.find_elements(By.CLASS_NAME,\"facility-sections\")\n",
    "p_descrip=driver.find_elements(By.XPATH,\"/html/body/div[3]/div/div/div[2]/section/div[6]/div/div[2]/div[2]/div/div[2]\")\n",
    "#ov_r=driver.find_elements(By.CLASS_NAME\n",
    "#dist=driver.find_elements(By.CLASS_NAME,)"
   ]
  },
  {
   "cell_type": "code",
   "execution_count": 42,
   "id": "8d81475b",
   "metadata": {},
   "outputs": [],
   "source": [
    "for i in hotel_opening_url:\n",
    "    driver.get(i)\n",
    "    time.sleep(10)\n",
    "    try:\n",
    "        hotel_n=driver.find_element(By.CLASS_NAME,\"title-2\")\n",
    "        Hostel_name.append(hotel_n.text)\n",
    "        rat=driver.find_element(By.CLASS_NAME,\"score orange big\")\n",
    "        ratings.append(rat.text)\n",
    "        tr=driver.find_element(By.XPATH,\"/html/body/div[3]/div/div/div[2]/section/div[6]/div/div[1]/div[1]/div[2]/div[2]\")\n",
    "        total_reviews.append(tr.text)\n",
    "        pfp=driver.find_element(By.XPATH,\"/html/body/div[3]/div/div/div[2]/section/div[8]/div/div/section/div/div[1]/div[2]/div[2]/div/div[2]/div[1]/div/div[1]/div[1]/div\")\n",
    "        privates_from_price.append(pfp.text)\n",
    "        dfp=driver.find_element(By.XPATH,\"/html/body/div[3]/div/div/div[2]/section/div[8]/div/div/section/div/div/div[3]/div[2]/div/div[2]/div[1]/div/div[1]/div[2]/div[1]\")\n",
    "        dorms_from_price.append(dfp.text)\n",
    "        fties=driver.find_element(By.CLASS_NAME,\"facility-sections\")\n",
    "        facilities.append(fties.text)\n",
    "        p_descrip=driver.find_element(By.XPATH,\"/html/body/div[3]/div/div/div[2]/section/div[6]/div/div[2]/div[2]/div/div[2]\")\n",
    "        property_description.append(p_descrip.text)\n",
    "    except NoSuchElementException:\n",
    "        Hostel_name.append(\"-\")\n",
    "        ratings.append(\"-\")\n",
    "        total_reviews.append(\"-\")\n",
    "        privates_from_price.append(\"-\")\n",
    "        dorms_from_price.append(\"-\")\n",
    "        facilities.append(\"-\")\n",
    "        property_description.append(\"-\")\n"
   ]
  }
 ],
 "metadata": {
  "kernelspec": {
   "display_name": "Python 3",
   "language": "python",
   "name": "python3"
  },
  "language_info": {
   "codemirror_mode": {
    "name": "ipython",
    "version": 3
   },
   "file_extension": ".py",
   "mimetype": "text/x-python",
   "name": "python",
   "nbconvert_exporter": "python",
   "pygments_lexer": "ipython3",
   "version": "3.8.8"
  }
 },
 "nbformat": 4,
 "nbformat_minor": 5
}
