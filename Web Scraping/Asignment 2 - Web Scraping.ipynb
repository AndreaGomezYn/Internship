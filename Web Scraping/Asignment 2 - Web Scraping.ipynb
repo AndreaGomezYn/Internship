{
 "cells": [
  {
   "cell_type": "markdown",
   "id": "780777fe",
   "metadata": {},
   "source": [
    "# Asignment 2 - Web Scraping"
   ]
  },
  {
   "cell_type": "code",
   "execution_count": 1,
   "id": "47fb99d2",
   "metadata": {},
   "outputs": [],
   "source": [
    "import selenium\n",
    "import pandas as pd\n",
    "from selenium import webdriver\n",
    "import warnings\n",
    "warnings.filterwarnings('ignore')\n",
    "from selenium.webdriver.common.by import By\n",
    "from selenium.webdriver.common.action_chains import ActionChains\n",
    "from selenium.webdriver.common.keys import Keys\n",
    "import time\n",
    "from selenium.webdriver.chrome.service import Service"
   ]
  },
  {
   "cell_type": "markdown",
   "id": "275b5dbf",
   "metadata": {},
   "source": [
    "## Q1: Write a python program to scrape data for “Data Analyst” Job position in “Bangalore” location. You\n",
    "have to scrape the job-title, job-location, company_name, experience_required. You have to scrape first 10\n",
    "jobs data.\n",
    "\n",
    "This task will be done in following steps:\n",
    "1. First get the webpage https://www.shine.com/\n",
    "2. Enter “Data Analyst” in “Skill, Designations, Companies” field and enter “Bangalore” in “enter the location” field.\n",
    "3. Then click the search button.\n",
    "4. Then scrape the data for the first 10 jobs results you get.\n",
    "5. Finally create a dataframe of the scraped data."
   ]
  },
  {
   "cell_type": "code",
   "execution_count": 51,
   "id": "95d044f6",
   "metadata": {},
   "outputs": [],
   "source": [
    "# Connection to the driver\n",
    "driver=webdriver.Chrome(r\"C:\\Users\\JPGD\\Documents\\ANDREA GOMEZ\\FLIP ROBO TECHNOLOGIES INTERNSHIP\\chromedriver_win32 2\\chromedriver.exe\")\n",
    "# driver=webdriver.Chrome(r\"chromedriver.exe\")"
   ]
  },
  {
   "cell_type": "code",
   "execution_count": 52,
   "id": "33dc18dd",
   "metadata": {},
   "outputs": [],
   "source": [
    "# Opening the page on automated chrome browser\n",
    "driver.get(\"https://www.shine.com/\")"
   ]
  },
  {
   "cell_type": "code",
   "execution_count": 54,
   "id": "d29856b1",
   "metadata": {},
   "outputs": [],
   "source": [
    "closepw=driver.find_element(By.XPATH,'/html/body/div[1]/div[2]/div/div/button')\n",
    "closepw.click()\n",
    "driver.implicitly_wait(10)\n",
    "time.sleep(3)"
   ]
  },
  {
   "cell_type": "code",
   "execution_count": null,
   "id": "1000ed95",
   "metadata": {},
   "outputs": [],
   "source": [
    "#searchb=driver.find_element(By.XPATH,'/html/body/div[1]/header[2]/div[2]/div[1]/input')\n",
    "#searchb.click()"
   ]
  },
  {
   "cell_type": "code",
   "execution_count": 56,
   "id": "d4738717",
   "metadata": {},
   "outputs": [],
   "source": [
    "# Entering designation as required in the question - \n",
    "\n",
    "designation = driver.find_element(By.XPATH,\"/html/body/div[1]/header[2]/div[2]/div[1]/input\")\n",
    "designation.send_keys('Data Analyst')"
   ]
  },
  {
   "cell_type": "code",
   "execution_count": 58,
   "id": "cf31c1e3",
   "metadata": {},
   "outputs": [],
   "source": [
    "search=driver.find_element(By.XPATH,\"/html/body/div[1]/header[2]/div[2]/div[1]/span/span[1]\")\n",
    "search.click()"
   ]
  },
  {
   "cell_type": "code",
   "execution_count": 59,
   "id": "9e761fd8",
   "metadata": {},
   "outputs": [],
   "source": [
    "job_title=driver.find_element(By.XPATH,\"/html/body/div[1]/div[4]/div/div[2]/div[2]/div/form/div/div[1]/ul/li[1]/div/input\")\n",
    "job_title.send_keys('Data Analyst')"
   ]
  },
  {
   "cell_type": "code",
   "execution_count": 61,
   "id": "994377c7",
   "metadata": {},
   "outputs": [],
   "source": [
    "search=driver.find_element(By.XPATH,\"/html/body/div[1]/div[4]/div/div[2]/div[2]/div/form/div/div[2]/div/button\")\n",
    "search.click()"
   ]
  },
  {
   "cell_type": "code",
   "execution_count": 117,
   "id": "8c3db7cf",
   "metadata": {},
   "outputs": [],
   "source": [
    "# Create empty lists\n",
    "Data_Analyst_Jobs=[]"
   ]
  },
  {
   "cell_type": "code",
   "execution_count": 118,
   "id": "7781ff25",
   "metadata": {},
   "outputs": [
    {
     "data": {
      "text/plain": [
       "['Data Analyst Internship in Pune',\n",
       " 'Data Analyst',\n",
       " 'Cloud/D&A/Microsoft/AI - Data Analyst',\n",
       " 'Data Analyst',\n",
       " 'Data Analyst Internship at Mumbai',\n",
       " 'Endurance Data Analyst',\n",
       " 'How relevant did you find the job search results ?',\n",
       " 'Consultant - Data Analyst - Data Analytics',\n",
       " 'Data Quality Analyst',\n",
       " 'Urgent applicants for Data Analyst - Senior Associate 2']"
      ]
     },
     "execution_count": 118,
     "metadata": {},
     "output_type": "execute_result"
    }
   ],
   "source": [
    "job_da_tags=driver.find_elements('tag name','h2')\n",
    "for i in job_da_tags[0:10]:\n",
    "    Data_Analyst_Jobs.append(i.text)\n",
    "    Data_Analyst_Jobs.remove('How relevant did you find the job search results ?')"
   ]
  },
  {
   "cell_type": "code",
   "execution_count": 78,
   "id": "86891530",
   "metadata": {},
   "outputs": [
    {
     "data": {
      "text/plain": [
       "True"
      ]
     },
     "execution_count": 78,
     "metadata": {},
     "output_type": "execute_result"
    }
   ],
   "source": [
    "# if i == 'How relevant did you find the job search results ?' in Data_Analyst_Jobs:\n",
    "#          continue"
   ]
  },
  {
   "cell_type": "code",
   "execution_count": null,
   "id": "97a9d70f",
   "metadata": {},
   "outputs": [],
   "source": [
    "#location=driver.find_element(By.CLASS_NAME,\"form-control  \")\n",
    "#ActionChains(driver)\\\n",
    "        #.key_down(Keys.SHIFT)\\\n",
    "        #.send_keys(\"Bangalore\")\\\n",
    "        #.perform()"
   ]
  },
  {
   "cell_type": "code",
   "execution_count": 119,
   "id": "6cb6ebe0",
   "metadata": {},
   "outputs": [
    {
     "data": {
      "text/html": [
       "<div>\n",
       "<style scoped>\n",
       "    .dataframe tbody tr th:only-of-type {\n",
       "        vertical-align: middle;\n",
       "    }\n",
       "\n",
       "    .dataframe tbody tr th {\n",
       "        vertical-align: top;\n",
       "    }\n",
       "\n",
       "    .dataframe thead th {\n",
       "        text-align: right;\n",
       "    }\n",
       "</style>\n",
       "<table border=\"1\" class=\"dataframe\">\n",
       "  <thead>\n",
       "    <tr style=\"text-align: right;\">\n",
       "      <th></th>\n",
       "      <th>Position</th>\n",
       "    </tr>\n",
       "  </thead>\n",
       "  <tbody>\n",
       "    <tr>\n",
       "      <th>1</th>\n",
       "      <td>Data Analyst Internship in Pune</td>\n",
       "    </tr>\n",
       "    <tr>\n",
       "      <th>2</th>\n",
       "      <td>Data Analyst</td>\n",
       "    </tr>\n",
       "    <tr>\n",
       "      <th>3</th>\n",
       "      <td>Cloud/D&amp;A/Microsoft/AI - Data Analyst</td>\n",
       "    </tr>\n",
       "    <tr>\n",
       "      <th>4</th>\n",
       "      <td>Data Analyst</td>\n",
       "    </tr>\n",
       "    <tr>\n",
       "      <th>5</th>\n",
       "      <td>Data Analyst Internship at Mumbai</td>\n",
       "    </tr>\n",
       "    <tr>\n",
       "      <th>6</th>\n",
       "      <td>Endurance Data Analyst</td>\n",
       "    </tr>\n",
       "    <tr>\n",
       "      <th>7</th>\n",
       "      <td>How relevant did you find the job search resul...</td>\n",
       "    </tr>\n",
       "    <tr>\n",
       "      <th>8</th>\n",
       "      <td>Consultant - Data Analyst - Data Analytics</td>\n",
       "    </tr>\n",
       "    <tr>\n",
       "      <th>9</th>\n",
       "      <td>Data Quality Analyst</td>\n",
       "    </tr>\n",
       "    <tr>\n",
       "      <th>10</th>\n",
       "      <td>Urgent applicants for Data Analyst - Senior As...</td>\n",
       "    </tr>\n",
       "  </tbody>\n",
       "</table>\n",
       "</div>"
      ],
      "text/plain": [
       "                                             Position\n",
       "1                     Data Analyst Internship in Pune\n",
       "2                                        Data Analyst\n",
       "3               Cloud/D&A/Microsoft/AI - Data Analyst\n",
       "4                                        Data Analyst\n",
       "5                   Data Analyst Internship at Mumbai\n",
       "6                              Endurance Data Analyst\n",
       "7   How relevant did you find the job search resul...\n",
       "8          Consultant - Data Analyst - Data Analytics\n",
       "9                                Data Quality Analyst\n",
       "10  Urgent applicants for Data Analyst - Senior As..."
      ]
     },
     "execution_count": 119,
     "metadata": {},
     "output_type": "execute_result"
    }
   ],
   "source": [
    "# Create DataFrame\n",
    "df1=pd.DataFrame({'Position':Data_Analyst_Jobs})\n",
    "df1.index+=1\n",
    "df1"
   ]
  },
  {
   "cell_type": "code",
   "execution_count": null,
   "id": "30934b03",
   "metadata": {},
   "outputs": [],
   "source": [
    "df1=pd.DataFrame({'Job Title':job_title,'Location':job_location})\n",
    "df1"
   ]
  },
  {
   "cell_type": "markdown",
   "id": "a39a0ea7",
   "metadata": {},
   "source": [
    "## Q2:Write a python program to scrape data for “Data Scientist” Job position in “Bangalore” location. You have to scrape the job-title, job-location, company_name. You have to scrape first 10 jobs data.\n",
    "This task will be done in following steps:\n",
    "1. First get the webpage https://www.shine.com/\n",
    "2. Enter “Data Analyst” in “Skill, Designations, Companies” field and enter “Bangalore” in “enter the location” field.\n",
    "3. Then click the searchbutton.\n",
    "4. Then scrape the data for the first 10 jobs results youget.\n",
    "5. Finally create a dataframe of the scraped data."
   ]
  },
  {
   "cell_type": "code",
   "execution_count": 120,
   "id": "7ca94395",
   "metadata": {},
   "outputs": [],
   "source": [
    "# Connection to the driver\n",
    "driver=webdriver.Chrome(r\"C:\\Users\\JPGD\\Documents\\ANDREA GOMEZ\\FLIP ROBO TECHNOLOGIES INTERNSHIP\\chromedriver_win32 2\\chromedriver.exe\")\n",
    "# driver=webdriver.Chrome(r\"chromedriver.exe\")"
   ]
  },
  {
   "cell_type": "code",
   "execution_count": 121,
   "id": "30025973",
   "metadata": {},
   "outputs": [],
   "source": [
    "# Opening the page on automated chrome browser\n",
    "driver.get(\"https://www.shine.com/\")"
   ]
  },
  {
   "cell_type": "code",
   "execution_count": 124,
   "id": "d5d967e8",
   "metadata": {},
   "outputs": [],
   "source": [
    "closepw=driver.find_element(By.XPATH,'/html/body/div[1]/div[2]/div/div/button')\n",
    "closepw.click()\n",
    "driver.implicitly_wait(10)\n",
    "time.sleep(3)"
   ]
  },
  {
   "cell_type": "code",
   "execution_count": 128,
   "id": "72e863f7",
   "metadata": {},
   "outputs": [],
   "source": [
    "# Entering designation as required in the question - \n",
    "\n",
    "designation = driver.find_element(By.XPATH,\"/html/body/div[1]/header[2]/div[2]/div[1]/input\")\n",
    "designation.send_keys('Data Analyst')"
   ]
  },
  {
   "cell_type": "code",
   "execution_count": 129,
   "id": "fe766915",
   "metadata": {},
   "outputs": [],
   "source": [
    "search=driver.find_element(By.XPATH,\"/html/body/div[1]/header[2]/div[2]/div[1]/span/span[1]\")\n",
    "search.click()"
   ]
  },
  {
   "cell_type": "code",
   "execution_count": 130,
   "id": "f5deae7d",
   "metadata": {},
   "outputs": [],
   "source": [
    "job_title=driver.find_element(By.XPATH,\"/html/body/div[1]/div[4]/div/div[2]/div[2]/div/form/div/div[1]/ul/li[1]/div/input\")\n",
    "job_title.send_keys('Data Analyst')"
   ]
  },
  {
   "cell_type": "code",
   "execution_count": 131,
   "id": "1da26fc0",
   "metadata": {},
   "outputs": [],
   "source": [
    "location=driver.find_element(By.XPATH,\"/html/body/div[1]/div[4]/div/div[2]/div[2]/div/form/div/div[1]/ul/li[2]/div/input\")\n",
    "location.send_keys('Bangalore')"
   ]
  },
  {
   "cell_type": "code",
   "execution_count": 133,
   "id": "76664f89",
   "metadata": {},
   "outputs": [],
   "source": [
    "search2=driver.find_element(By.XPATH,\"/html/body/div[1]/div[4]/div/div[2]/div[2]/div/form/div/div[2]/div/button\")\n",
    "search2.click()"
   ]
  },
  {
   "cell_type": "code",
   "execution_count": 205,
   "id": "4e3a8267",
   "metadata": {},
   "outputs": [],
   "source": [
    "# Create empty list\n",
    "job=[]\n",
    "Location=[]\n",
    "Location2=[]"
   ]
  },
  {
   "cell_type": "code",
   "execution_count": 146,
   "id": "e60615ca",
   "metadata": {},
   "outputs": [],
   "source": [
    "job_tds=driver.find_elements('tag name','h2')\n",
    "for i in job_tds:\n",
    "    job.append(i.text)\n",
    "job.remove('How relevant did you find the job search results ?')\n",
    "job_10=job[0:10]"
   ]
  },
  {
   "cell_type": "code",
   "execution_count": 206,
   "id": "0a4aba73",
   "metadata": {},
   "outputs": [
    {
     "data": {
      "text/plain": [
       "['Bangalore',\n",
       " 'Bangalore',\n",
       " 'Bangalore',\n",
       " 'Bangalore',\n",
       " 'Bangalore',\n",
       " 'Bangalore',\n",
       " 'Bangalore',\n",
       " 'Bangalore',\n",
       " 'Bangalore',\n",
       " 'Bangalore']"
      ]
     },
     "execution_count": 206,
     "metadata": {},
     "output_type": "execute_result"
    }
   ],
   "source": [
    "location_tags=driver.find_elements(By.CLASS_NAME,'jobCard_jobCard_lists__fdnsc')\n",
    "for i in location_tags[0:10]:\n",
    "    Location.append(i.text.split('\\n'))\n",
    "    Location2=[i[1] for i in Location]\n",
    "    #Location=Location[1]\n",
    "#Location2_10=Location2[0:10]\n",
    "Location2"
   ]
  },
  {
   "cell_type": "code",
   "execution_count": 207,
   "id": "213b44de",
   "metadata": {},
   "outputs": [
    {
     "data": {
      "text/html": [
       "<div>\n",
       "<style scoped>\n",
       "    .dataframe tbody tr th:only-of-type {\n",
       "        vertical-align: middle;\n",
       "    }\n",
       "\n",
       "    .dataframe tbody tr th {\n",
       "        vertical-align: top;\n",
       "    }\n",
       "\n",
       "    .dataframe thead th {\n",
       "        text-align: right;\n",
       "    }\n",
       "</style>\n",
       "<table border=\"1\" class=\"dataframe\">\n",
       "  <thead>\n",
       "    <tr style=\"text-align: right;\">\n",
       "      <th></th>\n",
       "      <th>Position</th>\n",
       "      <th>Location</th>\n",
       "    </tr>\n",
       "  </thead>\n",
       "  <tbody>\n",
       "    <tr>\n",
       "      <th>1</th>\n",
       "      <td>Data Analyst</td>\n",
       "      <td>Bangalore</td>\n",
       "    </tr>\n",
       "    <tr>\n",
       "      <th>2</th>\n",
       "      <td>Data Analyst</td>\n",
       "      <td>Bangalore</td>\n",
       "    </tr>\n",
       "    <tr>\n",
       "      <th>3</th>\n",
       "      <td>Data Analyst</td>\n",
       "      <td>Bangalore</td>\n",
       "    </tr>\n",
       "    <tr>\n",
       "      <th>4</th>\n",
       "      <td>We have requirement for Data Analyst - Associa...</td>\n",
       "      <td>Bangalore</td>\n",
       "    </tr>\n",
       "    <tr>\n",
       "      <th>5</th>\n",
       "      <td>Data Analyst-Bangalore</td>\n",
       "      <td>Bangalore</td>\n",
       "    </tr>\n",
       "    <tr>\n",
       "      <th>6</th>\n",
       "      <td>Cloud/D&amp;A/Microsoft/AI - Data Analyst</td>\n",
       "      <td>Bangalore</td>\n",
       "    </tr>\n",
       "    <tr>\n",
       "      <th>7</th>\n",
       "      <td>Endurance Data Analyst</td>\n",
       "      <td>Bangalore</td>\n",
       "    </tr>\n",
       "    <tr>\n",
       "      <th>8</th>\n",
       "      <td>Consultant - Data Analyst - Data Analytics</td>\n",
       "      <td>Bangalore</td>\n",
       "    </tr>\n",
       "    <tr>\n",
       "      <th>9</th>\n",
       "      <td>We have requirement for Client Data Analyst</td>\n",
       "      <td>Bangalore</td>\n",
       "    </tr>\n",
       "    <tr>\n",
       "      <th>10</th>\n",
       "      <td>Urgent Requirement for Reference Data Analyst ...</td>\n",
       "      <td>Bangalore</td>\n",
       "    </tr>\n",
       "  </tbody>\n",
       "</table>\n",
       "</div>"
      ],
      "text/plain": [
       "                                             Position   Location\n",
       "1                                        Data Analyst  Bangalore\n",
       "2                                        Data Analyst  Bangalore\n",
       "3                                        Data Analyst  Bangalore\n",
       "4   We have requirement for Data Analyst - Associa...  Bangalore\n",
       "5                              Data Analyst-Bangalore  Bangalore\n",
       "6               Cloud/D&A/Microsoft/AI - Data Analyst  Bangalore\n",
       "7                              Endurance Data Analyst  Bangalore\n",
       "8          Consultant - Data Analyst - Data Analytics  Bangalore\n",
       "9         We have requirement for Client Data Analyst  Bangalore\n",
       "10  Urgent Requirement for Reference Data Analyst ...  Bangalore"
      ]
     },
     "execution_count": 207,
     "metadata": {},
     "output_type": "execute_result"
    }
   ],
   "source": [
    "df3=pd.DataFrame({'Position':job_10,'Location':Location2})\n",
    "df3.index+=1\n",
    "df3"
   ]
  },
  {
   "cell_type": "markdown",
   "id": "ad406f02",
   "metadata": {},
   "source": [
    "## Q3: In this question you have to scrape data using the filters available on the webpage as shown below:\n",
    "You have to use the location and salary filter.\n",
    "You have to scrape data for “Data Scientist” designation for first 10 job results.\n",
    "You have to scrape the job-title, job-location, company name, experience required.\n",
    "The location filter to be used is “Delhi/NCR”. The salary filter to be used is “3-6” lakhs\n",
    "The task will be done as shown in the below steps:\n",
    "1. first get thewebpage https://www.shine.com/\n",
    "2. Enter “Data Scientist” in “Skill, Designations, and Companies” field.\n",
    "3. Then click the searchbutton.\n",
    "4. Then apply the location filter and salary filter by checking the respectiveboxes\n",
    "5. Then scrape the data for the first 10 jobs results youget.\n",
    "6. Finally create a dataframe of the scrapeddata."
   ]
  },
  {
   "cell_type": "code",
   "execution_count": 341,
   "id": "e130240f",
   "metadata": {},
   "outputs": [],
   "source": [
    "# Connection to the driver\n",
    "driver=webdriver.Chrome(r\"C:\\Users\\JPGD\\Documents\\ANDREA GOMEZ\\FLIP ROBO TECHNOLOGIES INTERNSHIP\\chromedriver_win32 2\\chromedriver.exe\")\n",
    "# driver=webdriver.Chrome(r\"chromedriver.exe\")"
   ]
  },
  {
   "cell_type": "code",
   "execution_count": 342,
   "id": "ae1d9cac",
   "metadata": {},
   "outputs": [],
   "source": [
    "# Opening the page on automated chrome browser\n",
    "driver.get(\"https://www.shine.com/\")\n"
   ]
  },
  {
   "cell_type": "code",
   "execution_count": 343,
   "id": "49baa69c",
   "metadata": {},
   "outputs": [],
   "source": [
    "# Wait until the website is fully opened before running this line\n",
    "closepw=driver.find_element(By.XPATH,'/html/body/div[1]/div[2]/div/div/button')\n",
    "closepw.click()"
   ]
  },
  {
   "cell_type": "code",
   "execution_count": 344,
   "id": "1baaef90",
   "metadata": {},
   "outputs": [],
   "source": [
    "# Entering designation as required in the question - \n",
    "\n",
    "designation = driver.find_element(By.XPATH,\"/html/body/div[1]/header[1]/div[3]/div/div/div[1]/div/input\")\n",
    "designation.send_keys('Data Scientist')"
   ]
  },
  {
   "cell_type": "code",
   "execution_count": 347,
   "id": "02446c1e",
   "metadata": {},
   "outputs": [],
   "source": [
    "search=driver.find_element(By.CLASS_NAME,\"SearchBarRight\")\n",
    "search.click()"
   ]
  },
  {
   "cell_type": "code",
   "execution_count": 348,
   "id": "2ac7c3a7",
   "metadata": {},
   "outputs": [],
   "source": [
    "job_title=driver.find_element(By.XPATH,\"/html/body/div[1]/div[4]/div/div[2]/div[2]/div/form/div/div[1]/ul/li[1]/div/input\")\n",
    "job_title.send_keys('Data Scientist')\n",
    "\n",
    "location=driver.find_element(By.XPATH,\"/html/body/div[1]/div[4]/div/div[2]/div[2]/div/form/div/div[1]/ul/li[2]/div/input\")\n",
    "location.send_keys('Delhi')"
   ]
  },
  {
   "cell_type": "code",
   "execution_count": 349,
   "id": "61e16deb",
   "metadata": {},
   "outputs": [],
   "source": [
    "# Select Delhi-NCR Region\n",
    "Delhi_s=driver.find_element(By.XPATH,'/html/body/div[1]/div[4]/div/div[2]/div[2]/div/form/div/div[1]/ul/li[2]/div/ul/li[3]')\n",
    "Delhi_s.click()"
   ]
  },
  {
   "cell_type": "code",
   "execution_count": 350,
   "id": "f8d2ae2d",
   "metadata": {},
   "outputs": [],
   "source": [
    "# Click Search\n",
    "Adv_s=driver.find_element(By.XPATH,'/html/body/div[1]/div[4]/div/div[2]/div[2]/div/form/div/div[2]/div/button')\n",
    "Adv_s.click()"
   ]
  },
  {
   "cell_type": "code",
   "execution_count": 351,
   "id": "8e122c46",
   "metadata": {},
   "outputs": [],
   "source": [
    "# Click Salary\n",
    "Adv_s_2=driver.find_element(By.XPATH,'/html/body/div[1]/div[1]/div[4]/div/div[1]/div/div[2]/div/ul/li[3]/button')\n",
    "Adv_s_2.click()"
   ]
  },
  {
   "cell_type": "code",
   "execution_count": 352,
   "id": "e49e4baf",
   "metadata": {},
   "outputs": [],
   "source": [
    "# Select Salary range\n",
    "Adv_s_3=driver.find_element(By.XPATH,'/html/body/div[1]/div[1]/div[4]/div/div[1]/div/div[2]/div[2]/div/div/div/div[3]/div/div/div/ul/li[3]/span/label')\n",
    "Adv_s_3.click()"
   ]
  },
  {
   "cell_type": "code",
   "execution_count": 353,
   "id": "a222010c",
   "metadata": {},
   "outputs": [],
   "source": [
    "# Click show results\n",
    "search2=driver.find_element(By.XPATH,\"/html/body/div[1]/div[1]/div[4]/div/div[1]/div/div[2]/div[2]/div/div/div/div[4]/button[2]\")\n",
    "search2.click()"
   ]
  },
  {
   "cell_type": "code",
   "execution_count": 354,
   "id": "92e2ee0a",
   "metadata": {},
   "outputs": [],
   "source": [
    "# Click Location\n",
    "Adv_s_2=driver.find_element(By.XPATH,'/html/body/div[1]/div[1]/div[4]/div/div[1]/div/div[2]/div/ul/li[1]/button')\n",
    "Adv_s_2.click()"
   ]
  },
  {
   "cell_type": "code",
   "execution_count": 355,
   "id": "9447ff11",
   "metadata": {},
   "outputs": [],
   "source": [
    "# Select Delhi\n",
    "\n",
    "Adv_s_2=driver.find_element(By.XPATH,'/html/body/div[1]/div[1]/div[4]/div/div[1]/div/div[2]/div[2]/div/div/div/div[3]/div/div/div/ul/li[3]/span/label')\n",
    "Adv_s_2.click()"
   ]
  },
  {
   "cell_type": "code",
   "execution_count": 356,
   "id": "63f77a45",
   "metadata": {},
   "outputs": [],
   "source": [
    "# Click show results\n",
    "search2=driver.find_element(By.XPATH,\"/html/body/div[1]/div[1]/div[4]/div/div[1]/div/div[2]/div[2]/div/div/div/div[4]/button[2]\")\n",
    "search2.click()"
   ]
  },
  {
   "cell_type": "code",
   "execution_count": 357,
   "id": "0768ef28",
   "metadata": {},
   "outputs": [],
   "source": [
    "# Create empty lists\n",
    "job_title_DS=[]\n",
    "job_location_DS=[]\n",
    "job_location_DS_2=[]\n",
    "company_name_DS=[]\n",
    "experience_DS=[]"
   ]
  },
  {
   "cell_type": "code",
   "execution_count": 358,
   "id": "427b6ed0",
   "metadata": {},
   "outputs": [],
   "source": [
    "# Scraping job titles\n",
    "job_t_tags=driver.find_elements('tag name','h2')\n",
    "for i in job_t_tags:\n",
    "    job_title_DS.append(i.text)\n",
    "job_title_DS.remove('How relevant did you find the job search results ?')\n",
    "job_title_DS=job_title_DS[0:10]\n",
    "## Scraping job location and experience required\n",
    "job_l_tags=driver.find_elements(By.CLASS_NAME,'jobCard_jobCard_lists__fdnsc')\n",
    "for p in job_l_tags[0:10]:\n",
    "    job_location_DS.append(p.text.split('\\n'))\n",
    "    job_location_DS_2=[i[1] for i in job_location_DS]\n",
    "    experience_DS=[i[0] for i in job_location_DS]\n",
    "# Scraping company name\n",
    "company_name_tags=driver.find_elements(By.CLASS_NAME,'jobCard_jobCard_cName__mYnow')\n",
    "for x in company_name_tags[0:10]:\n",
    "    company_name_DS.append(x.text)\n",
    "#company_name_DS"
   ]
  },
  {
   "cell_type": "code",
   "execution_count": 359,
   "id": "cec86874",
   "metadata": {},
   "outputs": [
    {
     "name": "stdout",
     "output_type": "stream",
     "text": [
      "10 10 10 10\n"
     ]
    }
   ],
   "source": [
    "print(len(job_title_DS),len(job_location_DS_2),len(experience_DS),len(company_name_DS))"
   ]
  },
  {
   "cell_type": "code",
   "execution_count": 360,
   "id": "8a25944a",
   "metadata": {},
   "outputs": [
    {
     "data": {
      "text/html": [
       "<div>\n",
       "<style scoped>\n",
       "    .dataframe tbody tr th:only-of-type {\n",
       "        vertical-align: middle;\n",
       "    }\n",
       "\n",
       "    .dataframe tbody tr th {\n",
       "        vertical-align: top;\n",
       "    }\n",
       "\n",
       "    .dataframe thead th {\n",
       "        text-align: right;\n",
       "    }\n",
       "</style>\n",
       "<table border=\"1\" class=\"dataframe\">\n",
       "  <thead>\n",
       "    <tr style=\"text-align: right;\">\n",
       "      <th></th>\n",
       "      <th>Position</th>\n",
       "      <th>Location</th>\n",
       "      <th>Experience Required</th>\n",
       "      <th>Company Name</th>\n",
       "    </tr>\n",
       "  </thead>\n",
       "  <tbody>\n",
       "    <tr>\n",
       "      <th>1</th>\n",
       "      <td>Req. For Data Scientist -Reputed Data Analytic...</td>\n",
       "      <td>Delhi</td>\n",
       "      <td>2 to 6 Yrs</td>\n",
       "      <td>seven consultancy</td>\n",
       "    </tr>\n",
       "    <tr>\n",
       "      <th>2</th>\n",
       "      <td>For Senior Data Scientist-Reputed IT Industry</td>\n",
       "      <td>Delhi</td>\n",
       "      <td>4 to 8 Yrs</td>\n",
       "      <td>seven consultancy</td>\n",
       "    </tr>\n",
       "    <tr>\n",
       "      <th>3</th>\n",
       "      <td>Req. now Data Scientist</td>\n",
       "      <td>Delhi</td>\n",
       "      <td>3 to 5 Yrs</td>\n",
       "      <td>seven consultancy</td>\n",
       "    </tr>\n",
       "    <tr>\n",
       "      <th>4</th>\n",
       "      <td>Req. post for Junior AI Data Scientist-Reputed...</td>\n",
       "      <td>Delhi</td>\n",
       "      <td>1 to 3 Yrs</td>\n",
       "      <td>seven consultancy</td>\n",
       "    </tr>\n",
       "    <tr>\n",
       "      <th>5</th>\n",
       "      <td>Data Scientist</td>\n",
       "      <td>Delhi</td>\n",
       "      <td>0 to 1 Yr</td>\n",
       "      <td>quiscon biotech</td>\n",
       "    </tr>\n",
       "    <tr>\n",
       "      <th>6</th>\n",
       "      <td>Data Scientist</td>\n",
       "      <td>Delhi</td>\n",
       "      <td>0 to 3 Yrs</td>\n",
       "      <td>quiscon biotech</td>\n",
       "    </tr>\n",
       "    <tr>\n",
       "      <th>7</th>\n",
       "      <td>Data Scientist</td>\n",
       "      <td>Delhi</td>\n",
       "      <td>3 to 5 Yrs</td>\n",
       "      <td>srinsoft technologies</td>\n",
       "    </tr>\n",
       "    <tr>\n",
       "      <th>8</th>\n",
       "      <td>Sr Data Scientist</td>\n",
       "      <td>Delhi</td>\n",
       "      <td>1 to 4 Yrs</td>\n",
       "      <td>target corporation india pvt ltd</td>\n",
       "    </tr>\n",
       "    <tr>\n",
       "      <th>9</th>\n",
       "      <td>Mahindra Comviva - Data Scientist</td>\n",
       "      <td>Delhi</td>\n",
       "      <td>2 to 5 Yrs</td>\n",
       "      <td>comviva</td>\n",
       "    </tr>\n",
       "    <tr>\n",
       "      <th>10</th>\n",
       "      <td>Data Scientist</td>\n",
       "      <td>Delhi</td>\n",
       "      <td>3 to 6 Yrs</td>\n",
       "      <td>skyleaf consultants</td>\n",
       "    </tr>\n",
       "  </tbody>\n",
       "</table>\n",
       "</div>"
      ],
      "text/plain": [
       "                                             Position Location  \\\n",
       "1   Req. For Data Scientist -Reputed Data Analytic...    Delhi   \n",
       "2       For Senior Data Scientist-Reputed IT Industry    Delhi   \n",
       "3                             Req. now Data Scientist    Delhi   \n",
       "4   Req. post for Junior AI Data Scientist-Reputed...    Delhi   \n",
       "5                                      Data Scientist    Delhi   \n",
       "6                                      Data Scientist    Delhi   \n",
       "7                                      Data Scientist    Delhi   \n",
       "8                                   Sr Data Scientist    Delhi   \n",
       "9                   Mahindra Comviva - Data Scientist    Delhi   \n",
       "10                                     Data Scientist    Delhi   \n",
       "\n",
       "   Experience Required                      Company Name  \n",
       "1           2 to 6 Yrs                 seven consultancy  \n",
       "2           4 to 8 Yrs                 seven consultancy  \n",
       "3           3 to 5 Yrs                 seven consultancy  \n",
       "4           1 to 3 Yrs                 seven consultancy  \n",
       "5            0 to 1 Yr                   quiscon biotech  \n",
       "6           0 to 3 Yrs                   quiscon biotech  \n",
       "7           3 to 5 Yrs             srinsoft technologies  \n",
       "8           1 to 4 Yrs  target corporation india pvt ltd  \n",
       "9           2 to 5 Yrs                           comviva  \n",
       "10          3 to 6 Yrs               skyleaf consultants  "
      ]
     },
     "execution_count": 360,
     "metadata": {},
     "output_type": "execute_result"
    }
   ],
   "source": [
    "df4=pd.DataFrame({'Position':job_title_DS,'Location':job_location_DS_2,'Experience Required':experience_DS,'Company Name':company_name_DS})\n",
    "df4.index+=1\n",
    "df4"
   ]
  },
  {
   "cell_type": "markdown",
   "id": "14fe2cff",
   "metadata": {},
   "source": [
    "## Q4: Scrape data of first 100 sunglasses listings on flipkart.com. You have to scrape four attributes:\n",
    "1. Brand\n",
    "2. ProductDescription\n",
    "3. Price\n",
    "\n",
    "The attributes which you have to scrape is ticked marked in the below image.\n",
    "To scrape the data you have to go through following steps:\n",
    "1. Go to Flipkart webpage by url :https://www.flipkart.com/\n",
    "2. Enter “sunglasses” in the search field where “search for products, brands and more” is written and click the search icon\n",
    "3. After that you will reach to the page having a lot of sunglasses. From this page you can scrap the required data as usual.\n",
    "4. After scraping data from the first page, go to the “Next” Button at the bottom other page , then click on it.\n",
    "5. Now scrape data from this page asusual\n",
    "6. Repeat this until you get data for 100sunglasses."
   ]
  },
  {
   "cell_type": "code",
   "execution_count": 308,
   "id": "a2770781",
   "metadata": {},
   "outputs": [],
   "source": [
    "# Connection to the driver\n",
    "driver=webdriver.Chrome(r\"C:\\Users\\JPGD\\Documents\\ANDREA GOMEZ\\FLIP ROBO TECHNOLOGIES INTERNSHIP\\chromedriver_win32 2\\chromedriver.exe\")\n",
    "# driver=webdriver.Chrome(r\"chromedriver.exe\")"
   ]
  },
  {
   "cell_type": "code",
   "execution_count": 309,
   "id": "6ea866e6",
   "metadata": {},
   "outputs": [],
   "source": [
    "# Opening the website on automated chrome browser\n",
    "driver.get(\"https://www.flipkart.com/\")"
   ]
  },
  {
   "cell_type": "code",
   "execution_count": 310,
   "id": "35774dcb",
   "metadata": {},
   "outputs": [],
   "source": [
    "# Close popup Window using class name\n",
    "#closeW=driver.find_element(By.CLASS_NAME,\"_2QfC02\")\n",
    "#closeW.click()"
   ]
  },
  {
   "cell_type": "code",
   "execution_count": 311,
   "id": "33c2a390",
   "metadata": {},
   "outputs": [],
   "source": [
    "# Close popup Window using XPATH.\n",
    "closeW=driver.find_element(By.XPATH,\"/html/body/div[2]/div/div/button\")\n",
    "closeW.click()"
   ]
  },
  {
   "cell_type": "code",
   "execution_count": 312,
   "id": "97a1de7d",
   "metadata": {},
   "outputs": [],
   "source": [
    "# Entering product in the search - \n",
    "\n",
    "designation = driver.find_element(By.CLASS_NAME,\"_3704LK\")\n",
    "designation.send_keys('sunglasses')"
   ]
  },
  {
   "cell_type": "code",
   "execution_count": 313,
   "id": "1575da7b",
   "metadata": {},
   "outputs": [],
   "source": [
    "# Click the search button\n",
    "search=driver.find_element(By.CLASS_NAME,\"L0Z3Pu\")\n",
    "search.click()"
   ]
  },
  {
   "cell_type": "code",
   "execution_count": 322,
   "id": "3475361e",
   "metadata": {},
   "outputs": [],
   "source": [
    "# Create empty lists\n",
    "\n",
    "brand=[]\n",
    "product_description=[]\n",
    "price=[]"
   ]
  },
  {
   "cell_type": "code",
   "execution_count": 323,
   "id": "cfa1ed90",
   "metadata": {},
   "outputs": [],
   "source": [
    "start=0\n",
    "end=3\n",
    "\n",
    "for page in range(start,end):\n",
    "    # Scraping sunglasses Brand from the given website\n",
    "    brand_tags=driver.find_elements(By.CLASS_NAME,'_2WkVRV')\n",
    "    for i in brand_tags:\n",
    "        brd=i.text\n",
    "        brand.append(brd)\n",
    "        brand=brand[0:100]\n",
    "    # Scraping sunglasses product_description from the given website\n",
    "    pdescrip_tags=driver.find_elements(By.CLASS_NAME,'IRpwTa')\n",
    "    for x in pdescrip_tags:\n",
    "        pds=x.text\n",
    "        product_description.append(pds)\n",
    "        product_description=product_description[0:100]\n",
    "    # Scraping sunglasses price from the given website\n",
    "    price_tags=driver.find_elements(By.CLASS_NAME,'_30jeq3')\n",
    "    for y in price_tags:\n",
    "        pr=y.text\n",
    "        price.append(pr)\n",
    "        price=price[0:100]\n",
    "    next_button=driver.find_element(By.CLASS_NAME,'_1LKTO3')\n",
    "    next_button.click()\n",
    "    time.sleep(3)\n",
    "#print(brand)\n",
    "#len(brand)\n",
    "#print(brand[0:100])"
   ]
  },
  {
   "cell_type": "code",
   "execution_count": 324,
   "id": "865ec295",
   "metadata": {},
   "outputs": [
    {
     "name": "stdout",
     "output_type": "stream",
     "text": [
      "100 100 100\n"
     ]
    }
   ],
   "source": [
    "print(len(brand), len(product_description),len(price))"
   ]
  },
  {
   "cell_type": "code",
   "execution_count": 325,
   "id": "79d7d211",
   "metadata": {},
   "outputs": [
    {
     "data": {
      "text/html": [
       "<div>\n",
       "<style scoped>\n",
       "    .dataframe tbody tr th:only-of-type {\n",
       "        vertical-align: middle;\n",
       "    }\n",
       "\n",
       "    .dataframe tbody tr th {\n",
       "        vertical-align: top;\n",
       "    }\n",
       "\n",
       "    .dataframe thead th {\n",
       "        text-align: right;\n",
       "    }\n",
       "</style>\n",
       "<table border=\"1\" class=\"dataframe\">\n",
       "  <thead>\n",
       "    <tr style=\"text-align: right;\">\n",
       "      <th></th>\n",
       "      <th>Brand</th>\n",
       "      <th>Product Description</th>\n",
       "      <th>Price</th>\n",
       "    </tr>\n",
       "  </thead>\n",
       "  <tbody>\n",
       "    <tr>\n",
       "      <th>1</th>\n",
       "      <td>Fastrack</td>\n",
       "      <td>UV Protection Aviator Sunglasses (58)</td>\n",
       "      <td>₹869</td>\n",
       "    </tr>\n",
       "    <tr>\n",
       "      <th>2</th>\n",
       "      <td>METRONAUT</td>\n",
       "      <td>UV Protection Sunglass</td>\n",
       "      <td>₹259</td>\n",
       "    </tr>\n",
       "    <tr>\n",
       "      <th>3</th>\n",
       "      <td>Elligator</td>\n",
       "      <td>Others Cat-eye, Retro Square, Wayfarer Sunglas...</td>\n",
       "      <td>₹149</td>\n",
       "    </tr>\n",
       "    <tr>\n",
       "      <th>4</th>\n",
       "      <td>ROZZETTA CRAFT</td>\n",
       "      <td>UV Protection, Gradient Rectangular Sunglasses...</td>\n",
       "      <td>₹423</td>\n",
       "    </tr>\n",
       "    <tr>\n",
       "      <th>5</th>\n",
       "      <td>kingsunglasses</td>\n",
       "      <td>UV Protection Rectangular Sunglasses (Free Size)</td>\n",
       "      <td>₹180</td>\n",
       "    </tr>\n",
       "    <tr>\n",
       "      <th>...</th>\n",
       "      <td>...</td>\n",
       "      <td>...</td>\n",
       "      <td>...</td>\n",
       "    </tr>\n",
       "    <tr>\n",
       "      <th>96</th>\n",
       "      <td>OAKLEY</td>\n",
       "      <td>Rectangular Sunglass</td>\n",
       "      <td>₹449</td>\n",
       "    </tr>\n",
       "    <tr>\n",
       "      <th>97</th>\n",
       "      <td>Fastrack</td>\n",
       "      <td>UV Protection Wayfarer Sunglasses (Free Size)</td>\n",
       "      <td>₹599</td>\n",
       "    </tr>\n",
       "    <tr>\n",
       "      <th>98</th>\n",
       "      <td>PIRASO</td>\n",
       "      <td>UV Protection Cat-eye Sunglasses (55)</td>\n",
       "      <td>₹396</td>\n",
       "    </tr>\n",
       "    <tr>\n",
       "      <th>99</th>\n",
       "      <td>PIRASO</td>\n",
       "      <td>UV Protection Aviator Sunglasses (58)</td>\n",
       "      <td>₹599</td>\n",
       "    </tr>\n",
       "    <tr>\n",
       "      <th>100</th>\n",
       "      <td>Youth Club</td>\n",
       "      <td>UV Protection Round, Cat-eye, Spectacle Sungla...</td>\n",
       "      <td>₹129</td>\n",
       "    </tr>\n",
       "  </tbody>\n",
       "</table>\n",
       "<p>100 rows × 3 columns</p>\n",
       "</div>"
      ],
      "text/plain": [
       "              Brand                                Product Description Price\n",
       "1          Fastrack              UV Protection Aviator Sunglasses (58)  ₹869\n",
       "2         METRONAUT                             UV Protection Sunglass  ₹259\n",
       "3         Elligator  Others Cat-eye, Retro Square, Wayfarer Sunglas...  ₹149\n",
       "4    ROZZETTA CRAFT  UV Protection, Gradient Rectangular Sunglasses...  ₹423\n",
       "5    kingsunglasses   UV Protection Rectangular Sunglasses (Free Size)  ₹180\n",
       "..              ...                                                ...   ...\n",
       "96           OAKLEY                               Rectangular Sunglass  ₹449\n",
       "97         Fastrack      UV Protection Wayfarer Sunglasses (Free Size)  ₹599\n",
       "98           PIRASO              UV Protection Cat-eye Sunglasses (55)  ₹396\n",
       "99           PIRASO              UV Protection Aviator Sunglasses (58)  ₹599\n",
       "100      Youth Club  UV Protection Round, Cat-eye, Spectacle Sungla...  ₹129\n",
       "\n",
       "[100 rows x 3 columns]"
      ]
     },
     "execution_count": 325,
     "metadata": {},
     "output_type": "execute_result"
    }
   ],
   "source": [
    "df4=pd.DataFrame({\"Brand\":brand,\"Product Description\":product_description,\"Price\":price})\n",
    "df4.index+=1\n",
    "df4"
   ]
  },
  {
   "cell_type": "markdown",
   "id": "5b27fb81",
   "metadata": {},
   "source": [
    "## Q5: Scrape 100 reviews data from flipkart.com for iphone11 phone. You have to go the link:\n",
    "https://www.flipkart.com/apple-iphone-11-black-64-gb/productreviews/itm4e5041ba101fd?pid=MOBFWQ6BXGJCEYNY&lid=LSTMOBFWQ6BXGJCEYNYZXSHRJ&market\n",
    "place=FLIPKART\n",
    "As shown in the above page you have to scrape the tick marked attributes. These are:\n",
    "1. Rating\n",
    "2. Review summary\n",
    "3. Full review\n",
    "4. You have to scrape this data for first 100reviews."
   ]
  },
  {
   "cell_type": "code",
   "execution_count": 178,
   "id": "f2742fc2",
   "metadata": {},
   "outputs": [],
   "source": [
    "# Connection to the driver\n",
    "driver=webdriver.Chrome(r\"C:\\Users\\JPGD\\Documents\\ANDREA GOMEZ\\FLIP ROBO TECHNOLOGIES INTERNSHIP\\chromedriver_win32 2\\chromedriver.exe\")\n",
    "# driver=webdriver.Chrome(r\"chromedriver.exe\")"
   ]
  },
  {
   "cell_type": "code",
   "execution_count": 179,
   "id": "443e3a0a",
   "metadata": {},
   "outputs": [],
   "source": [
    "# Opening the page on automated chrome browser\n",
    "driver.get(\"https://www.flipkart.com/apple-iphone-11-black-64-gb/p/itm4e5041ba101fd?pid=MOBFWQ6BXGJCEYNY&lid=LSTMOBFWQ6BXGJCEYNYZXSHRJ&marketplace=FLIPKART&q=iphone+black+64+gb&store=tyy%2F4io&srno=s_1_1&otracker=search&otracker1=search&fm=organic&iid=58b5d2ec-58c9-4abc-8ac3-37bbcf48ed76.MOBFWQ6BXGJCEYNY.SEARCH&ppt=pp&ppn=pp&ssid=lm0ibgioc00000001685794417703&qH=4edccf3956c76eea\")"
   ]
  },
  {
   "cell_type": "code",
   "execution_count": 180,
   "id": "a3fb3733",
   "metadata": {},
   "outputs": [],
   "source": [
    "# Close popup Window using XPATH.\n",
    "#closeW=driver.find_element(By.XPATH,\"/html/body/div[2]/div/div/button\")\n",
    "#closeW.click()"
   ]
  },
  {
   "cell_type": "code",
   "execution_count": 181,
   "id": "3c46cee5",
   "metadata": {},
   "outputs": [],
   "source": [
    "# Entering search\n",
    "#product = driver.find_element(By.CLASS_NAME,\"_3704LK\")\n",
    "#product.send_keys('Iphone 14 64')"
   ]
  },
  {
   "cell_type": "code",
   "execution_count": 182,
   "id": "e568f2bd",
   "metadata": {},
   "outputs": [],
   "source": [
    "# View reviews.\n",
    "viewReviews=driver.find_element(By.XPATH,\"/html/body/div[1]/div/div[3]/div[1]/div[2]/div[9]/div[7]/div/a/div/span\")\n",
    "viewReviews.click()"
   ]
  },
  {
   "cell_type": "code",
   "execution_count": 187,
   "id": "705f6a8c",
   "metadata": {},
   "outputs": [],
   "source": [
    "# Create empty lists\n",
    "rating=[]\n",
    "review_summary=[]\n",
    "full_review=[]"
   ]
  },
  {
   "cell_type": "code",
   "execution_count": 188,
   "id": "508a5f0a",
   "metadata": {},
   "outputs": [],
   "source": [
    "start=0\n",
    "end=10\n",
    "\n",
    "for page in range(start,end):\n",
    "    # Scraping rating from website\n",
    "    rating_tags=driver.find_elements(By.XPATH,'//div[@class=\"_3LWZlK _1BLPMq\"]')\n",
    "    for x in rating_tags:\n",
    "        rt2=x.text\n",
    "        rating.append(rt2)\n",
    "        rating=rating[0:100]\n",
    "    # Scraping review_summary from website\n",
    "    review_s_tags=driver.find_elements(By.XPATH,'//p[@class=\"_2-N8zT\"]')\n",
    "    for y in review_s_tags:\n",
    "        rst=y.text\n",
    "        review_summary.append(rst)\n",
    "        review_summary=review_summary[0:100]\n",
    "    # Scraping full_review from website\n",
    "    full_review_tags=driver.find_elements(By.XPATH,'//div[@class=\"t-ZTKy\"]')\n",
    "    for z in full_review_tags:\n",
    "        frs=z.text\n",
    "        full_review.append(frs)\n",
    "        full_review=full_review[0:100]\n",
    "    next_button=driver.find_element(By.XPATH,'//a[@class=\"_1LKTO3\"]')\n",
    "    next_button.click()\n",
    "    time.sleep(3)\n"
   ]
  },
  {
   "cell_type": "code",
   "execution_count": 189,
   "id": "a66ff504",
   "metadata": {},
   "outputs": [
    {
     "name": "stdout",
     "output_type": "stream",
     "text": [
      "100 100 100\n"
     ]
    }
   ],
   "source": [
    "print(len(rating),len(review_summary),len(full_review))"
   ]
  },
  {
   "cell_type": "code",
   "execution_count": 191,
   "id": "088ba25f",
   "metadata": {},
   "outputs": [
    {
     "data": {
      "text/html": [
       "<div>\n",
       "<style scoped>\n",
       "    .dataframe tbody tr th:only-of-type {\n",
       "        vertical-align: middle;\n",
       "    }\n",
       "\n",
       "    .dataframe tbody tr th {\n",
       "        vertical-align: top;\n",
       "    }\n",
       "\n",
       "    .dataframe thead th {\n",
       "        text-align: right;\n",
       "    }\n",
       "</style>\n",
       "<table border=\"1\" class=\"dataframe\">\n",
       "  <thead>\n",
       "    <tr style=\"text-align: right;\">\n",
       "      <th></th>\n",
       "      <th>Rating</th>\n",
       "      <th>Review Summary</th>\n",
       "      <th>Full Review</th>\n",
       "    </tr>\n",
       "  </thead>\n",
       "  <tbody>\n",
       "    <tr>\n",
       "      <th>1</th>\n",
       "      <td>5</td>\n",
       "      <td>Fabulous!</td>\n",
       "      <td>This is my first iOS phone. I am very happy wi...</td>\n",
       "    </tr>\n",
       "    <tr>\n",
       "      <th>2</th>\n",
       "      <td>5</td>\n",
       "      <td>Classy product</td>\n",
       "      <td>Best and amazing product.....phone looks so pr...</td>\n",
       "    </tr>\n",
       "    <tr>\n",
       "      <th>3</th>\n",
       "      <td>5</td>\n",
       "      <td>Worth every penny</td>\n",
       "      <td>i11 is worthy to buy, too much happy with the ...</td>\n",
       "    </tr>\n",
       "    <tr>\n",
       "      <th>4</th>\n",
       "      <td>5</td>\n",
       "      <td>Perfect product!</td>\n",
       "      <td>It’s a must buy who is looking for an upgrade ...</td>\n",
       "    </tr>\n",
       "    <tr>\n",
       "      <th>5</th>\n",
       "      <td>4</td>\n",
       "      <td>Good choice</td>\n",
       "      <td>So far it’s been an AMAZING experience coming ...</td>\n",
       "    </tr>\n",
       "    <tr>\n",
       "      <th>...</th>\n",
       "      <td>...</td>\n",
       "      <td>...</td>\n",
       "      <td>...</td>\n",
       "    </tr>\n",
       "    <tr>\n",
       "      <th>96</th>\n",
       "      <td>5</td>\n",
       "      <td>Worth every penny</td>\n",
       "      <td>Previously I was using one plus 3t it was a gr...</td>\n",
       "    </tr>\n",
       "    <tr>\n",
       "      <th>97</th>\n",
       "      <td>4</td>\n",
       "      <td>Pretty good</td>\n",
       "      <td>I was using Iphone 6s and also Oneplus 6t. Bot...</td>\n",
       "    </tr>\n",
       "    <tr>\n",
       "      <th>98</th>\n",
       "      <td>5</td>\n",
       "      <td>Perfect product!</td>\n",
       "      <td>Value for money\\n5 star rating\\nExcellent came...</td>\n",
       "    </tr>\n",
       "    <tr>\n",
       "      <th>99</th>\n",
       "      <td>5</td>\n",
       "      <td>Highly recommended</td>\n",
       "      <td>What a camera .....just awesome ..you can feel...</td>\n",
       "    </tr>\n",
       "    <tr>\n",
       "      <th>100</th>\n",
       "      <td>5</td>\n",
       "      <td>Great product</td>\n",
       "      <td>Amazing Powerful and Durable Gadget.\\n\\nI’m am...</td>\n",
       "    </tr>\n",
       "  </tbody>\n",
       "</table>\n",
       "<p>100 rows × 3 columns</p>\n",
       "</div>"
      ],
      "text/plain": [
       "    Rating      Review Summary  \\\n",
       "1        5           Fabulous!   \n",
       "2        5      Classy product   \n",
       "3        5   Worth every penny   \n",
       "4        5    Perfect product!   \n",
       "5        4         Good choice   \n",
       "..     ...                 ...   \n",
       "96       5   Worth every penny   \n",
       "97       4         Pretty good   \n",
       "98       5    Perfect product!   \n",
       "99       5  Highly recommended   \n",
       "100      5       Great product   \n",
       "\n",
       "                                           Full Review  \n",
       "1    This is my first iOS phone. I am very happy wi...  \n",
       "2    Best and amazing product.....phone looks so pr...  \n",
       "3    i11 is worthy to buy, too much happy with the ...  \n",
       "4    It’s a must buy who is looking for an upgrade ...  \n",
       "5    So far it’s been an AMAZING experience coming ...  \n",
       "..                                                 ...  \n",
       "96   Previously I was using one plus 3t it was a gr...  \n",
       "97   I was using Iphone 6s and also Oneplus 6t. Bot...  \n",
       "98   Value for money\\n5 star rating\\nExcellent came...  \n",
       "99   What a camera .....just awesome ..you can feel...  \n",
       "100  Amazing Powerful and Durable Gadget.\\n\\nI’m am...  \n",
       "\n",
       "[100 rows x 3 columns]"
      ]
     },
     "execution_count": 191,
     "metadata": {},
     "output_type": "execute_result"
    }
   ],
   "source": [
    "# Create DataFrame\n",
    "df5=pd.DataFrame({\"Rating\":rating,\"Review Summary\":review_summary,\"Full Review\":full_review})\n",
    "df5.index+=1\n",
    "df5"
   ]
  },
  {
   "cell_type": "markdown",
   "id": "31232f1e",
   "metadata": {},
   "source": [
    "## Q6: Scrape data for first 100 sneakers you find when you visit flipkart.com and search for “sneakers” in the\n",
    "search field.\n",
    "You have to scrape 3 attributes of each sneaker:\n",
    "1. Brand\n",
    "2. Product Description\n",
    "3. Price\n",
    "As shown in the below image, you have to scrape the above attributes."
   ]
  },
  {
   "cell_type": "code",
   "execution_count": 196,
   "id": "8c754f9b",
   "metadata": {},
   "outputs": [],
   "source": [
    "# Connection to the driver\n",
    "driver=webdriver.Chrome(r\"C:\\Users\\JPGD\\Documents\\ANDREA GOMEZ\\FLIP ROBO TECHNOLOGIES INTERNSHIP\\chromedriver_win32 2\\chromedriver.exe\")\n",
    "# driver=webdriver.Chrome(r\"chromedriver.exe\")"
   ]
  },
  {
   "cell_type": "code",
   "execution_count": 197,
   "id": "6b1ef79f",
   "metadata": {},
   "outputs": [],
   "source": [
    "# Opening the page on automated chrome browser\n",
    "driver.get(\"https://www.flipkart.com/\")"
   ]
  },
  {
   "cell_type": "code",
   "execution_count": 198,
   "id": "79c1963d",
   "metadata": {},
   "outputs": [],
   "source": [
    "# Close popup Window using XPATH.\n",
    "closeW=driver.find_element(By.XPATH,\"/html/body/div[2]/div/div/button\")\n",
    "closeW.click()"
   ]
  },
  {
   "cell_type": "code",
   "execution_count": 199,
   "id": "a691dfd6",
   "metadata": {},
   "outputs": [],
   "source": [
    "# Entering search\n",
    "product = driver.find_element(By.CLASS_NAME,\"_3704LK\")\n",
    "product.send_keys('Sneakers')"
   ]
  },
  {
   "cell_type": "code",
   "execution_count": 200,
   "id": "575d11f3",
   "metadata": {},
   "outputs": [],
   "source": [
    "# Click the search button\n",
    "search=driver.find_element(By.CLASS_NAME,\"L0Z3Pu\")\n",
    "search.click()"
   ]
  },
  {
   "cell_type": "code",
   "execution_count": 210,
   "id": "08c900ec",
   "metadata": {},
   "outputs": [],
   "source": [
    "# Create empty lists\n",
    "brand=[]\n",
    "product_description=[]\n",
    "price=[]"
   ]
  },
  {
   "cell_type": "code",
   "execution_count": 211,
   "id": "7041e85f",
   "metadata": {},
   "outputs": [
    {
     "name": "stdout",
     "output_type": "stream",
     "text": [
      "['SFR', 'BRUTON', 'BIRDE', 'PUMA', 'aadi', 'asian', 'Labbin', 'BRUTON', 'PUMA', 'PUMA', 'RapidBox', 'BRUTON', 'Kraasa', 'PUMA', 'BRUTON', 'aadi', 'BRUTON', 'BRUTON', 'Shozie', 'aadi', 'Brainer', 'Shozie', 'World Wear Footwear', 'Layasa', 'aadi', 'RED TAPE', 'BRUTON', 'WHITE WALKERS', 'Sparx', 'PUMA', 'kardam&sons', 'aadi', 'Shozie', 'RED TAPE', \"K' Footlance\", 'K- FOOTLANCE', 'WHITE WALKERS', 'Footox', 'asian', 'PUMA', 'Airson', 'K- FOOTLANCE', 'PUMA', 'asian', 'PUMA', 'WHITE WALKERS', 'SFR', 'Magnolia', 'HRX by Hrithik Roshan', 'BRUTON', 'BRUTON', 'aadi', 'HIGHLANDER', 'PUMA', 'Sparx', 'Labbin', 'HOTSTYLE', 'BRUTON', 'BERSACHE', 'PUMA', 'K- FOOTLANCE', 'BRUTON', 'U.S. POLO ASSN.', 'PUMA', 'HRX by Hrithik Roshan', 'Magnolia', 'RapidBox', 'BRUTON', 'K- FOOTLANCE', 'BIRDE', 'aadi', 'Xtoon', 'RED TAPE', 'asian', 'SFR', 'asian', 'Lee Won', 'aadi', 'World Wear Footwear', 'PUMA', 'SFR', 'BRUTON', 'BIRDE', 'PUMA', 'aadi', 'asian', 'Labbin', 'BRUTON', 'PUMA', 'PUMA', 'RapidBox', 'BRUTON', 'Kraasa', 'PUMA', 'BRUTON', 'aadi', 'BRUTON', 'BRUTON', 'Shozie', 'aadi']\n"
     ]
    }
   ],
   "source": [
    "start=0\n",
    "end=10\n",
    "\n",
    "for page in range(start,end):\n",
    "    # Scraping brand from website\n",
    "    brand_tags=driver.find_elements(By.XPATH,\"//div[@class='_2WkVRV']\")\n",
    "    for i in brand_tags:\n",
    "        br=i.text\n",
    "        brand.append(br)\n",
    "        brand=brand[0:100]\n",
    "    # Scraping product description from website\n",
    "    product_des2_tags=driver.find_elements(By.XPATH,\"//a[@class='IRpwTa']\")\n",
    "    for x in product_des2_tags:\n",
    "        pdt=x.text\n",
    "        product_description.append(pdt)\n",
    "        product_description=product_description[0:100]\n",
    "    # Scraping price from website\n",
    "    price_tags=driver.find_elements(By.XPATH,\"//div[@class='_30jeq3']\")\n",
    "    for y in price_tags:\n",
    "        ptg=y.text\n",
    "        price.append(ptg)\n",
    "        price=price[0:100]\n",
    "    next_button=driver.find_element(By.XPATH,'//a[@class=\"_1LKTO3\"]')\n",
    "    next_button.click()\n",
    "    time.sleep(3)"
   ]
  },
  {
   "cell_type": "code",
   "execution_count": 212,
   "id": "334491a2",
   "metadata": {},
   "outputs": [
    {
     "name": "stdout",
     "output_type": "stream",
     "text": [
      "100 100 100\n"
     ]
    }
   ],
   "source": [
    "print(len(brand),len(product_description),len(price))"
   ]
  },
  {
   "cell_type": "code",
   "execution_count": 214,
   "id": "2930da42",
   "metadata": {},
   "outputs": [
    {
     "data": {
      "text/html": [
       "<div>\n",
       "<style scoped>\n",
       "    .dataframe tbody tr th:only-of-type {\n",
       "        vertical-align: middle;\n",
       "    }\n",
       "\n",
       "    .dataframe tbody tr th {\n",
       "        vertical-align: top;\n",
       "    }\n",
       "\n",
       "    .dataframe thead th {\n",
       "        text-align: right;\n",
       "    }\n",
       "</style>\n",
       "<table border=\"1\" class=\"dataframe\">\n",
       "  <thead>\n",
       "    <tr style=\"text-align: right;\">\n",
       "      <th></th>\n",
       "      <th>Brand</th>\n",
       "      <th>Product Description</th>\n",
       "      <th>Price</th>\n",
       "    </tr>\n",
       "  </thead>\n",
       "  <tbody>\n",
       "    <tr>\n",
       "      <th>1</th>\n",
       "      <td>SFR</td>\n",
       "      <td>2003-NAAVY-8 Sneakers For Men</td>\n",
       "      <td>₹369</td>\n",
       "    </tr>\n",
       "    <tr>\n",
       "      <th>2</th>\n",
       "      <td>BRUTON</td>\n",
       "      <td>Combo Pack Of 2 Casual Shoes Sneakers For Men</td>\n",
       "      <td>₹399</td>\n",
       "    </tr>\n",
       "    <tr>\n",
       "      <th>3</th>\n",
       "      <td>BIRDE</td>\n",
       "      <td>Combo Pack of 2 Casual Shoes Sneakers For Men</td>\n",
       "      <td>₹479</td>\n",
       "    </tr>\n",
       "    <tr>\n",
       "      <th>4</th>\n",
       "      <td>PUMA</td>\n",
       "      <td>Hustle V2 Sneakers For Men</td>\n",
       "      <td>₹1,499</td>\n",
       "    </tr>\n",
       "    <tr>\n",
       "      <th>5</th>\n",
       "      <td>aadi</td>\n",
       "      <td>Synthetic Leather |Lightweight|Comfort|Summer|...</td>\n",
       "      <td>₹279</td>\n",
       "    </tr>\n",
       "    <tr>\n",
       "      <th>...</th>\n",
       "      <td>...</td>\n",
       "      <td>...</td>\n",
       "      <td>...</td>\n",
       "    </tr>\n",
       "    <tr>\n",
       "      <th>96</th>\n",
       "      <td>aadi</td>\n",
       "      <td>Sneakers For Men</td>\n",
       "      <td>₹349</td>\n",
       "    </tr>\n",
       "    <tr>\n",
       "      <th>97</th>\n",
       "      <td>BRUTON</td>\n",
       "      <td>Combo Pack Of 2 Casual Shoes Sneakers For Men</td>\n",
       "      <td>₹399</td>\n",
       "    </tr>\n",
       "    <tr>\n",
       "      <th>98</th>\n",
       "      <td>BRUTON</td>\n",
       "      <td>Combo Pack Of 2 Casual Shoes Sneakers For Men</td>\n",
       "      <td>₹399</td>\n",
       "    </tr>\n",
       "    <tr>\n",
       "      <th>99</th>\n",
       "      <td>Shozie</td>\n",
       "      <td>Sneakers For Women</td>\n",
       "      <td>₹439</td>\n",
       "    </tr>\n",
       "    <tr>\n",
       "      <th>100</th>\n",
       "      <td>aadi</td>\n",
       "      <td>Lightweight,Comfort,Summer,Trendy,Walking,Outd...</td>\n",
       "      <td>₹249</td>\n",
       "    </tr>\n",
       "  </tbody>\n",
       "</table>\n",
       "<p>100 rows × 3 columns</p>\n",
       "</div>"
      ],
      "text/plain": [
       "      Brand                                Product Description   Price\n",
       "1       SFR                      2003-NAAVY-8 Sneakers For Men    ₹369\n",
       "2    BRUTON      Combo Pack Of 2 Casual Shoes Sneakers For Men    ₹399\n",
       "3     BIRDE      Combo Pack of 2 Casual Shoes Sneakers For Men    ₹479\n",
       "4      PUMA                         Hustle V2 Sneakers For Men  ₹1,499\n",
       "5      aadi  Synthetic Leather |Lightweight|Comfort|Summer|...    ₹279\n",
       "..      ...                                                ...     ...\n",
       "96     aadi                                   Sneakers For Men    ₹349\n",
       "97   BRUTON      Combo Pack Of 2 Casual Shoes Sneakers For Men    ₹399\n",
       "98   BRUTON      Combo Pack Of 2 Casual Shoes Sneakers For Men    ₹399\n",
       "99   Shozie                                 Sneakers For Women    ₹439\n",
       "100    aadi  Lightweight,Comfort,Summer,Trendy,Walking,Outd...    ₹249\n",
       "\n",
       "[100 rows x 3 columns]"
      ]
     },
     "execution_count": 214,
     "metadata": {},
     "output_type": "execute_result"
    }
   ],
   "source": [
    "df6=pd.DataFrame({'Brand':brand,'Product Description':product_description,'Price':price})\n",
    "df6.index+=1\n",
    "df6"
   ]
  },
  {
   "cell_type": "markdown",
   "id": "cb741865",
   "metadata": {},
   "source": [
    "## Q7: Go to webpage https://www.amazon.in/ Enter “Laptop” in the search field and then click the search icon. Then\n",
    "set CPU Type filter to “Intel Core i7” as shown in the below image:\n",
    "After setting the filters scrape first 10 laptops data. You have to scrape 3 attributes for each laptop:\n",
    "1. Title\n",
    "2. Ratings\n",
    "3. Price"
   ]
  },
  {
   "cell_type": "code",
   "execution_count": 170,
   "id": "207662e1",
   "metadata": {},
   "outputs": [],
   "source": [
    "# Connection to the driver\n",
    "driver=webdriver.Chrome(r\"C:\\Users\\JPGD\\Documents\\ANDREA GOMEZ\\FLIP ROBO TECHNOLOGIES INTERNSHIP\\chromedriver_win32 2\\chromedriver.exe\")\n",
    "# driver=webdriver.Chrome(r\"chromedriver.exe\")"
   ]
  },
  {
   "cell_type": "code",
   "execution_count": 171,
   "id": "233fa0e6",
   "metadata": {},
   "outputs": [],
   "source": [
    "# Opening the naukri page on automated chrome browser\n",
    "driver.get(\"https://www.amazon.in/\")"
   ]
  },
  {
   "cell_type": "code",
   "execution_count": 172,
   "id": "89d119d0",
   "metadata": {},
   "outputs": [],
   "source": [
    "# Entering search \n",
    "\n",
    "product_search = driver.find_element(By.XPATH,\"/html/body/div[1]/header/div/div[1]/div[2]/div/form/div[2]/div[1]/input\")\n",
    "product_search.send_keys('Laptop')\n",
    "#time.sleep(3)"
   ]
  },
  {
   "cell_type": "code",
   "execution_count": 173,
   "id": "bc0f1118",
   "metadata": {},
   "outputs": [],
   "source": [
    "# Click the search button\n",
    "search=driver.find_element(By.XPATH,\"/html/body/div[1]/header/div/div[1]/div[2]/div/form/div[3]/div/span/input\")\n",
    "search.click()"
   ]
  },
  {
   "cell_type": "code",
   "execution_count": 174,
   "id": "bc8325f1",
   "metadata": {},
   "outputs": [],
   "source": [
    "# Click Intel Core i7 button\n",
    "search_ct=driver.find_element(By.XPATH,\"/html/body/div[1]/div[2]/div[1]/div[2]/div/div[3]/span/div[1]/div/div/div[6]/ul[6]/span[9]/li/span/a/div/label/i\")\n",
    "search_ct.click()"
   ]
  },
  {
   "cell_type": "code",
   "execution_count": 240,
   "id": "b71793bb",
   "metadata": {},
   "outputs": [],
   "source": [
    "# Create empty lists\n",
    "title=[]\n",
    "rating=[]\n",
    "price_l=[]"
   ]
  },
  {
   "cell_type": "code",
   "execution_count": 241,
   "id": "887453c1",
   "metadata": {},
   "outputs": [],
   "source": [
    "# Scraping titles from the given website\n",
    "\n",
    "#title_tags=driver.find_elements(By.XPATH,'//span[@class=\"a-size-medium a-color-base a-text-normal\"]')\n",
    "#for i in title_tags[0:10]:\n",
    "        #ttl=i.text\n",
    "        #title.append(ttl)"
   ]
  },
  {
   "cell_type": "code",
   "execution_count": 242,
   "id": "6a6b9179",
   "metadata": {},
   "outputs": [
    {
     "name": "stdout",
     "output_type": "stream",
     "text": [
      "['3.8 out of 5 stars', '4.4 out of 5 stars', '4.1 out of 5 stars', '4.5 out of 5 stars', '3.8 out of 5 stars', '4.0 out of 5 stars', '4.2 out of 5 stars', '4.0 out of 5 stars', '3.9 out of 5 stars', '4.0 out of 5 stars']\n"
     ]
    }
   ],
   "source": [
    "# Scraping titles from the given website\n",
    "title_tags=driver.find_elements(By.XPATH,'//span[@class=\"a-size-medium a-color-base a-text-normal\"]')\n",
    "for i in title_tags[0:10]:\n",
    "        ttl=i.text\n",
    "        title.append(ttl)\n",
    "# Scraping ratings from the given website\n",
    "\n",
    "from selenium.webdriver.common.by import By\n",
    "list_rating = driver.find_elements(By.CLASS_NAME, \"a-icon-alt\")\n",
    "for value in list_rating[0:10]:\n",
    "    rating_a = value.get_attribute('textContent')\n",
    "    rating.append(rating_a)\n",
    "print(rating)\n",
    "\n",
    "#rating_tags=driver.find_elements(By.XPATH,'//span[@class=\"a-icon-alt\"]')\n",
    "#for x in rating_tags[0:10]:\n",
    "    #rating=value.get_attribute('textContent')\n",
    "    \n",
    "# Scraping prices from the given website\n",
    "price_tags=driver.find_elements(By.XPATH,'//span[@class=\"a-price-whole\"]')\n",
    "for y in price_tags[0:10]:\n",
    "        pt=y.text\n",
    "        price_l.append(pt)"
   ]
  },
  {
   "cell_type": "code",
   "execution_count": 243,
   "id": "52e5006e",
   "metadata": {},
   "outputs": [
    {
     "data": {
      "text/plain": [
       "['3.8 out of 5 stars',\n",
       " '4.4 out of 5 stars',\n",
       " '4.1 out of 5 stars',\n",
       " '4.5 out of 5 stars',\n",
       " '3.8 out of 5 stars',\n",
       " '4.0 out of 5 stars',\n",
       " '4.2 out of 5 stars',\n",
       " '4.0 out of 5 stars',\n",
       " '3.9 out of 5 stars',\n",
       " '4.0 out of 5 stars']"
      ]
     },
     "execution_count": 243,
     "metadata": {},
     "output_type": "execute_result"
    }
   ],
   "source": [
    "rating"
   ]
  },
  {
   "cell_type": "code",
   "execution_count": 244,
   "id": "f78bff76",
   "metadata": {},
   "outputs": [
    {
     "data": {
      "text/html": [
       "<div>\n",
       "<style scoped>\n",
       "    .dataframe tbody tr th:only-of-type {\n",
       "        vertical-align: middle;\n",
       "    }\n",
       "\n",
       "    .dataframe tbody tr th {\n",
       "        vertical-align: top;\n",
       "    }\n",
       "\n",
       "    .dataframe thead th {\n",
       "        text-align: right;\n",
       "    }\n",
       "</style>\n",
       "<table border=\"1\" class=\"dataframe\">\n",
       "  <thead>\n",
       "    <tr style=\"text-align: right;\">\n",
       "      <th></th>\n",
       "      <th>Title</th>\n",
       "      <th>Rating</th>\n",
       "      <th>Price</th>\n",
       "    </tr>\n",
       "  </thead>\n",
       "  <tbody>\n",
       "    <tr>\n",
       "      <th>1</th>\n",
       "      <td>Lenovo ThinkPad E14 Intel Core i7 12th Gen 14\"...</td>\n",
       "      <td>3.8 out of 5 stars</td>\n",
       "      <td>98,990</td>\n",
       "    </tr>\n",
       "    <tr>\n",
       "      <th>2</th>\n",
       "      <td>Acer Predator Helios Neo 16 Gaming Laptop 13th...</td>\n",
       "      <td>4.4 out of 5 stars</td>\n",
       "      <td>1,29,990</td>\n",
       "    </tr>\n",
       "    <tr>\n",
       "      <th>3</th>\n",
       "      <td>HP Victus Gaming Latest 12th Gen Intel Core i7...</td>\n",
       "      <td>4.1 out of 5 stars</td>\n",
       "      <td>90,990</td>\n",
       "    </tr>\n",
       "    <tr>\n",
       "      <th>4</th>\n",
       "      <td>Lenovo IdeaPad Slim 5 Intel Core i7 12th Gen 1...</td>\n",
       "      <td>4.5 out of 5 stars</td>\n",
       "      <td>79,990</td>\n",
       "    </tr>\n",
       "    <tr>\n",
       "      <th>5</th>\n",
       "      <td>ASUS Vivobook S15 OLED 2022, 15.6\" 39.62 cms F...</td>\n",
       "      <td>3.8 out of 5 stars</td>\n",
       "      <td>84,990</td>\n",
       "    </tr>\n",
       "    <tr>\n",
       "      <th>6</th>\n",
       "      <td>HP Pavilion Plus, 12th Gen Intel Core i7 16GB ...</td>\n",
       "      <td>4.0 out of 5 stars</td>\n",
       "      <td>93,990</td>\n",
       "    </tr>\n",
       "    <tr>\n",
       "      <th>7</th>\n",
       "      <td>ASUS TUF Gaming F15 (2022), 15.6\"(39.62 cms) F...</td>\n",
       "      <td>4.2 out of 5 stars</td>\n",
       "      <td>93,990</td>\n",
       "    </tr>\n",
       "    <tr>\n",
       "      <th>8</th>\n",
       "      <td>Samsung Galaxy Book2 (NP750) Intel 12th Gen co...</td>\n",
       "      <td>4.0 out of 5 stars</td>\n",
       "      <td>76,990</td>\n",
       "    </tr>\n",
       "    <tr>\n",
       "      <th>9</th>\n",
       "      <td>Lenovo ThinkBook 15 Intel 12th Gen Core i7 15....</td>\n",
       "      <td>3.9 out of 5 stars</td>\n",
       "      <td>85,990</td>\n",
       "    </tr>\n",
       "    <tr>\n",
       "      <th>10</th>\n",
       "      <td>MSI Katana 15, Intel 12th Gen. i7-12650H, 40CM...</td>\n",
       "      <td>4.0 out of 5 stars</td>\n",
       "      <td>99,658</td>\n",
       "    </tr>\n",
       "  </tbody>\n",
       "</table>\n",
       "</div>"
      ],
      "text/plain": [
       "                                                Title              Rating  \\\n",
       "1   Lenovo ThinkPad E14 Intel Core i7 12th Gen 14\"...  3.8 out of 5 stars   \n",
       "2   Acer Predator Helios Neo 16 Gaming Laptop 13th...  4.4 out of 5 stars   \n",
       "3   HP Victus Gaming Latest 12th Gen Intel Core i7...  4.1 out of 5 stars   \n",
       "4   Lenovo IdeaPad Slim 5 Intel Core i7 12th Gen 1...  4.5 out of 5 stars   \n",
       "5   ASUS Vivobook S15 OLED 2022, 15.6\" 39.62 cms F...  3.8 out of 5 stars   \n",
       "6   HP Pavilion Plus, 12th Gen Intel Core i7 16GB ...  4.0 out of 5 stars   \n",
       "7   ASUS TUF Gaming F15 (2022), 15.6\"(39.62 cms) F...  4.2 out of 5 stars   \n",
       "8   Samsung Galaxy Book2 (NP750) Intel 12th Gen co...  4.0 out of 5 stars   \n",
       "9   Lenovo ThinkBook 15 Intel 12th Gen Core i7 15....  3.9 out of 5 stars   \n",
       "10  MSI Katana 15, Intel 12th Gen. i7-12650H, 40CM...  4.0 out of 5 stars   \n",
       "\n",
       "       Price  \n",
       "1     98,990  \n",
       "2   1,29,990  \n",
       "3     90,990  \n",
       "4     79,990  \n",
       "5     84,990  \n",
       "6     93,990  \n",
       "7     93,990  \n",
       "8     76,990  \n",
       "9     85,990  \n",
       "10    99,658  "
      ]
     },
     "execution_count": 244,
     "metadata": {},
     "output_type": "execute_result"
    }
   ],
   "source": [
    "df7=pd.DataFrame({\"Title\":title,\"Rating\":rating,\"Price\":price_l})\n",
    "df7.index+=1\n",
    "df7"
   ]
  },
  {
   "cell_type": "markdown",
   "id": "3e5746c4",
   "metadata": {},
   "source": [
    "## Q8: Write a python program to scrape data for Top 1000 Quotes of All Time.\n",
    "The above task will be done in following steps:\n",
    "1. First get the webpagehttps://www.azquotes.com/\n",
    "2. Click on TopQuotes\n",
    "3. Than scrap \n",
    "a) Quote \n",
    "b) Author \n",
    "c) Type Of Quotes"
   ]
  },
  {
   "cell_type": "code",
   "execution_count": 489,
   "id": "1d60475a",
   "metadata": {},
   "outputs": [],
   "source": [
    "# Connection to the driver\n",
    "driver=webdriver.Chrome(r\"C:\\Users\\JPGD\\Documents\\ANDREA GOMEZ\\FLIP ROBO TECHNOLOGIES INTERNSHIP\\chromedriver_win32 2\\chromedriver.exe\")\n",
    "# driver=webdriver.Chrome(r\"chromedriver.exe\")\n",
    "\n",
    "# Opening the page on automated chrome browser\n",
    "driver.get(\"https://www.azquotes.com/\")\n"
   ]
  },
  {
   "cell_type": "code",
   "execution_count": 490,
   "id": "5b79998e",
   "metadata": {},
   "outputs": [],
   "source": [
    "# Close popup window\n",
    "close_w2=driver.find_element(By.XPATH,\"/html/body/div[1]/div[1]/button\")\n",
    "close_w2.click()"
   ]
  },
  {
   "cell_type": "code",
   "execution_count": 491,
   "id": "3fdc7906",
   "metadata": {},
   "outputs": [],
   "source": [
    "# Click on Top Quotes\n",
    "\n",
    "search=driver.find_element(By.XPATH,\"/html/body/div[1]/div[2]/div[1]/div/div[3]/ul/li[5]/a\")\n",
    "search.click()"
   ]
  },
  {
   "cell_type": "code",
   "execution_count": 492,
   "id": "36dfe16e",
   "metadata": {},
   "outputs": [],
   "source": [
    "# Create empty lists\n",
    "Quote=[]\n",
    "Author=[]\n",
    "Type_Quotes=[]"
   ]
  },
  {
   "cell_type": "code",
   "execution_count": 493,
   "id": "92e2c7e8",
   "metadata": {},
   "outputs": [],
   "source": [
    "# Scraping quotes from the given website\n",
    "start=1\n",
    "end=10\n",
    "\n",
    "for page in range(start,end):\n",
    "    quote_tags=driver.find_elements(By.XPATH,'//a[@class=\"title\"]') #Alternative: By.XPATH,'//div[@class=\"wrap-block\"]'\n",
    "    author_tags=driver.find_elements(By.XPATH,'//div[@class=\"author\"]')\n",
    "    tq_tags=driver.find_elements(By.XPATH,'//div[@class=\"tags\"]') \n",
    "    for i in quote_tags:\n",
    "        qt=i.text\n",
    "        Quote.append(qt)\n",
    "        #Quote.remove(\"'', '', '', 'Authors:'\")\n",
    "    for x in author_tags:\n",
    "        at=x.text\n",
    "        Author.append(at)\n",
    "    for y in tq_tags:\n",
    "        tq=y.text\n",
    "        Type_Quotes.append(tq)\n",
    "    next_button_7=driver.find_element(By.XPATH,\"//li[@class='next']\")\n",
    "    next_button_7.click()\n",
    "    time.sleep(3)\n",
    "\n",
    "#print(Quote)\n",
    "# Author"
   ]
  },
  {
   "cell_type": "code",
   "execution_count": 495,
   "id": "df74f615",
   "metadata": {},
   "outputs": [
    {
     "name": "stdout",
     "output_type": "stream",
     "text": [
      "900 900 900\n"
     ]
    }
   ],
   "source": [
    "print(len(Quote),len(Author),len(Type_Quotes))"
   ]
  },
  {
   "cell_type": "code",
   "execution_count": 496,
   "id": "62f3c0be",
   "metadata": {},
   "outputs": [
    {
     "data": {
      "text/html": [
       "<div>\n",
       "<style scoped>\n",
       "    .dataframe tbody tr th:only-of-type {\n",
       "        vertical-align: middle;\n",
       "    }\n",
       "\n",
       "    .dataframe tbody tr th {\n",
       "        vertical-align: top;\n",
       "    }\n",
       "\n",
       "    .dataframe thead th {\n",
       "        text-align: right;\n",
       "    }\n",
       "</style>\n",
       "<table border=\"1\" class=\"dataframe\">\n",
       "  <thead>\n",
       "    <tr style=\"text-align: right;\">\n",
       "      <th></th>\n",
       "      <th>Quote</th>\n",
       "      <th>Author</th>\n",
       "      <th>Type of Quote</th>\n",
       "    </tr>\n",
       "  </thead>\n",
       "  <tbody>\n",
       "    <tr>\n",
       "      <th>1</th>\n",
       "      <td>The essence of strategy is choosing what not t...</td>\n",
       "      <td>Michael Porter</td>\n",
       "      <td>Essence, Deep Thought, Transcendentalism</td>\n",
       "    </tr>\n",
       "    <tr>\n",
       "      <th>2</th>\n",
       "      <td>One cannot and must not try to erase the past ...</td>\n",
       "      <td>Golda Meir</td>\n",
       "      <td>Inspiration, Past, Trying</td>\n",
       "    </tr>\n",
       "    <tr>\n",
       "      <th>3</th>\n",
       "      <td>Patriotism means to stand by the country. It d...</td>\n",
       "      <td>Theodore Roosevelt</td>\n",
       "      <td>Country, Peace, War</td>\n",
       "    </tr>\n",
       "    <tr>\n",
       "      <th>4</th>\n",
       "      <td>Death is something inevitable. When a man has ...</td>\n",
       "      <td>Nelson Mandela</td>\n",
       "      <td>Inspirational, Motivational, Death</td>\n",
       "    </tr>\n",
       "    <tr>\n",
       "      <th>5</th>\n",
       "      <td>You have to love a nation that celebrates its ...</td>\n",
       "      <td>Erma Bombeck</td>\n",
       "      <td>4th Of July, Food, Patriotic</td>\n",
       "    </tr>\n",
       "    <tr>\n",
       "      <th>...</th>\n",
       "      <td>...</td>\n",
       "      <td>...</td>\n",
       "      <td>...</td>\n",
       "    </tr>\n",
       "    <tr>\n",
       "      <th>896</th>\n",
       "      <td>To love means loving the unlovable. To forgive...</td>\n",
       "      <td>Gilbert K. Chesterton</td>\n",
       "      <td>Love, Inspirational, Success</td>\n",
       "    </tr>\n",
       "    <tr>\n",
       "      <th>897</th>\n",
       "      <td>Be brave. Take risks. Nothing can substitute e...</td>\n",
       "      <td>Paulo Coelho</td>\n",
       "      <td>Encouraging, Courage, Inspiration</td>\n",
       "    </tr>\n",
       "    <tr>\n",
       "      <th>898</th>\n",
       "      <td>If you really want to do something, you'll fin...</td>\n",
       "      <td>Jim Rohn</td>\n",
       "      <td>Inspirational, Motivational, Success</td>\n",
       "    </tr>\n",
       "    <tr>\n",
       "      <th>899</th>\n",
       "      <td>It is neither wealth nor splendor; but tranqui...</td>\n",
       "      <td>Thomas Jefferson</td>\n",
       "      <td>Life, Happiness, Work</td>\n",
       "    </tr>\n",
       "    <tr>\n",
       "      <th>900</th>\n",
       "      <td>A thousand words will not leave so deep an imp...</td>\n",
       "      <td>Henrik Ibsen</td>\n",
       "      <td>Inspirational, Inspiring, Positivity</td>\n",
       "    </tr>\n",
       "  </tbody>\n",
       "</table>\n",
       "<p>900 rows × 3 columns</p>\n",
       "</div>"
      ],
      "text/plain": [
       "                                                 Quote                 Author  \\\n",
       "1    The essence of strategy is choosing what not t...         Michael Porter   \n",
       "2    One cannot and must not try to erase the past ...             Golda Meir   \n",
       "3    Patriotism means to stand by the country. It d...     Theodore Roosevelt   \n",
       "4    Death is something inevitable. When a man has ...         Nelson Mandela   \n",
       "5    You have to love a nation that celebrates its ...           Erma Bombeck   \n",
       "..                                                 ...                    ...   \n",
       "896  To love means loving the unlovable. To forgive...  Gilbert K. Chesterton   \n",
       "897  Be brave. Take risks. Nothing can substitute e...           Paulo Coelho   \n",
       "898  If you really want to do something, you'll fin...               Jim Rohn   \n",
       "899  It is neither wealth nor splendor; but tranqui...       Thomas Jefferson   \n",
       "900  A thousand words will not leave so deep an imp...           Henrik Ibsen   \n",
       "\n",
       "                                Type of Quote  \n",
       "1    Essence, Deep Thought, Transcendentalism  \n",
       "2                   Inspiration, Past, Trying  \n",
       "3                         Country, Peace, War  \n",
       "4          Inspirational, Motivational, Death  \n",
       "5                4th Of July, Food, Patriotic  \n",
       "..                                        ...  \n",
       "896              Love, Inspirational, Success  \n",
       "897         Encouraging, Courage, Inspiration  \n",
       "898      Inspirational, Motivational, Success  \n",
       "899                     Life, Happiness, Work  \n",
       "900      Inspirational, Inspiring, Positivity  \n",
       "\n",
       "[900 rows x 3 columns]"
      ]
     },
     "execution_count": 496,
     "metadata": {},
     "output_type": "execute_result"
    }
   ],
   "source": [
    "df7=pd.DataFrame({'Quote':Quote,'Author':Author,'Type of Quote':Type_Quotes})\n",
    "df7.index+=1\n",
    "df7"
   ]
  },
  {
   "cell_type": "markdown",
   "id": "43f18234",
   "metadata": {},
   "source": [
    "## Q9: Write a python program to display list of respected former Prime Ministers of India(i.e. Name, Born-Dead,\n",
    "Term of office, Remarks) from https://www.jagranjosh.com/.\n",
    "This task will be done in following steps:\n",
    "1. First get the webpagehttps://www.jagranjosh.com/\n",
    "2. Then You have to click on the GK option\n",
    "3. Then click on the List of all Prime Ministers of India\n",
    "4. Then scrap the mentioned data and make theDataFrame."
   ]
  },
  {
   "cell_type": "code",
   "execution_count": 217,
   "id": "06c1b24a",
   "metadata": {},
   "outputs": [],
   "source": [
    "# Connection to the driver\n",
    "driver=webdriver.Chrome(r\"C:\\Users\\JPGD\\Documents\\ANDREA GOMEZ\\FLIP ROBO TECHNOLOGIES INTERNSHIP\\chromedriver_win32 2\\chromedriver.exe\")\n",
    "\n",
    "# Opening the naukri page on automated chrome browser\n",
    "driver.get(\"https://www.jagranjosh.com/\")\n"
   ]
  },
  {
   "cell_type": "code",
   "execution_count": 218,
   "id": "2ec215f4",
   "metadata": {},
   "outputs": [],
   "source": [
    "# Click on GK option\n",
    "\n",
    "search1=driver.find_element(By.XPATH,\"/html/body/div[1]/div[1]/div/div[1]/div/div[5]/div/div[1]/header/div[3]/ul/li[3]/a\")\n",
    "search1.click()"
   ]
  },
  {
   "cell_type": "code",
   "execution_count": 219,
   "id": "4e09537f",
   "metadata": {},
   "outputs": [],
   "source": [
    "# Click on List of all Prime Ministers of India\n",
    "search2=driver.find_element(By.XPATH,\"/html/body/div[1]/div/div/div[2]/div/div[10]/div/div/ul/li[2]/a\")\n",
    "search2.click()"
   ]
  },
  {
   "cell_type": "code",
   "execution_count": 255,
   "id": "7fd14c07",
   "metadata": {},
   "outputs": [],
   "source": [
    "# Create empty lists\n"
   ]
  },
  {
   "cell_type": "code",
   "execution_count": 295,
   "id": "88ca6de2",
   "metadata": {},
   "outputs": [
    {
     "name": "stdout",
     "output_type": "stream",
     "text": [
      "['1.', 'Jawahar Lal Nehru', '(1889–1964)', '15 August 1947 to 27 May 1964\\n16 years, 286 days', 'The first prime minister of India and the longest-serving PM of India, the first to die in office.']\n"
     ]
    }
   ],
   "source": [
    "t_body=driver.find_element(By.XPATH,'//*[@id=\"itemdiv\"]/div[4]/span/div[3]/table/tbody')\n",
    "Data=[]\n",
    "for tr in t_body.find_elements(By.XPATH,\"//tr\"):\n",
    "    row=[item.text for item in tr.find_elements(By.XPATH,'.//td')]\n",
    "    Data.append(row)\n",
    "print(Data[1])\n",
    "\n",
    "#list_links=driver.find_elements_by_tag_name('a')\n",
    "#for i in url:\n",
    "    #print (i.get_attribute('href'))\n",
    "    \n",
    "#for i in table_data:\n",
    "    #Dt=i.text\n",
    "    #Data.append(Dt)\n",
    "#Data[6]"
   ]
  },
  {
   "cell_type": "code",
   "execution_count": 300,
   "id": "dca13542",
   "metadata": {},
   "outputs": [],
   "source": [
    "df9=pd.DataFrame(Data)\n",
    "df9.rename(columns={1:\"Name\",2:\"Born-Dead\",3:\"Term of Office\",4:\"Remark\"},inplace=True)"
   ]
  },
  {
   "cell_type": "code",
   "execution_count": 299,
   "id": "03902abe",
   "metadata": {},
   "outputs": [
    {
     "data": {
      "text/html": [
       "<div>\n",
       "<style scoped>\n",
       "    .dataframe tbody tr th:only-of-type {\n",
       "        vertical-align: middle;\n",
       "    }\n",
       "\n",
       "    .dataframe tbody tr th {\n",
       "        vertical-align: top;\n",
       "    }\n",
       "\n",
       "    .dataframe thead th {\n",
       "        text-align: right;\n",
       "    }\n",
       "</style>\n",
       "<table border=\"1\" class=\"dataframe\">\n",
       "  <thead>\n",
       "    <tr style=\"text-align: right;\">\n",
       "      <th></th>\n",
       "      <th>Name</th>\n",
       "      <th>Born-Dead</th>\n",
       "      <th>Term of Office</th>\n",
       "      <th>Remark</th>\n",
       "    </tr>\n",
       "  </thead>\n",
       "  <tbody>\n",
       "    <tr>\n",
       "      <th>1</th>\n",
       "      <td>Jawahar Lal Nehru</td>\n",
       "      <td>(1889–1964)</td>\n",
       "      <td>15 August 1947 to 27 May 1964\\n16 years, 286 days</td>\n",
       "      <td>The first prime minister of India and the long...</td>\n",
       "    </tr>\n",
       "    <tr>\n",
       "      <th>2</th>\n",
       "      <td>Gulzarilal Nanda (Acting)</td>\n",
       "      <td>(1898-1998)</td>\n",
       "      <td>27 May 1964 to 9 June 1964,\\n13 days</td>\n",
       "      <td>First acting PM of India</td>\n",
       "    </tr>\n",
       "    <tr>\n",
       "      <th>3</th>\n",
       "      <td>Lal Bahadur Shastri</td>\n",
       "      <td>(1904–1966)</td>\n",
       "      <td>9 June 1964 to 11 January 1966\\n1 year, 216 days</td>\n",
       "      <td>He has given the slogan of 'Jai Jawan Jai Kisa...</td>\n",
       "    </tr>\n",
       "    <tr>\n",
       "      <th>4</th>\n",
       "      <td>Gulzari Lal Nanda  (Acting)</td>\n",
       "      <td>(1898-1998)</td>\n",
       "      <td>11 January 1966 to 24 January 1966\\n13 days</td>\n",
       "      <td>-</td>\n",
       "    </tr>\n",
       "    <tr>\n",
       "      <th>5</th>\n",
       "      <td>Indira Gandhi</td>\n",
       "      <td>(1917–1984)</td>\n",
       "      <td>24 January 1966 to 24 March 1977\\n11 years, 59...</td>\n",
       "      <td>First female Prime Minister of India</td>\n",
       "    </tr>\n",
       "    <tr>\n",
       "      <th>6</th>\n",
       "      <td>Morarji Desai</td>\n",
       "      <td>(1896–1995)</td>\n",
       "      <td>24 March 1977 to  28 July 1979 \\n2 year, 126 days</td>\n",
       "      <td>Oldest to become PM (81 years old) and first t...</td>\n",
       "    </tr>\n",
       "    <tr>\n",
       "      <th>7</th>\n",
       "      <td>Charan Singh</td>\n",
       "      <td>(1902–1987)</td>\n",
       "      <td>28 July 1979 to 14 January 1980\\n170 days</td>\n",
       "      <td>Only PM who did not face the Parliament</td>\n",
       "    </tr>\n",
       "    <tr>\n",
       "      <th>8</th>\n",
       "      <td>Indira Gandhi</td>\n",
       "      <td>(1917–1984)</td>\n",
       "      <td>14 January 1980 to 31 October 1984\\n4 years, 2...</td>\n",
       "      <td>The first lady who served as PM for the second...</td>\n",
       "    </tr>\n",
       "    <tr>\n",
       "      <th>9</th>\n",
       "      <td>Rajiv Gandhi</td>\n",
       "      <td>(1944–1991)</td>\n",
       "      <td>31 October 1984 to 2 December 1989\\n5 years, 3...</td>\n",
       "      <td>Youngest to become PM (40 years old)</td>\n",
       "    </tr>\n",
       "    <tr>\n",
       "      <th>10</th>\n",
       "      <td>V. P. Singh</td>\n",
       "      <td>(1931–2008)</td>\n",
       "      <td>2 December 1989 to 10 November 1990\\n343 days</td>\n",
       "      <td>First PM to step down after a vote of no confi...</td>\n",
       "    </tr>\n",
       "    <tr>\n",
       "      <th>11</th>\n",
       "      <td>Chandra Shekhar</td>\n",
       "      <td>(1927–2007)</td>\n",
       "      <td>10 November 1990 to 21 June 1991\\n223 days</td>\n",
       "      <td>He belongs to  Samajwadi Janata Party</td>\n",
       "    </tr>\n",
       "    <tr>\n",
       "      <th>12</th>\n",
       "      <td>P. V. Narasimha Rao</td>\n",
       "      <td>(1921–2004)</td>\n",
       "      <td>21 June 1991 to 16 May 1996\\n4 years, 330 days</td>\n",
       "      <td>First PM from South India</td>\n",
       "    </tr>\n",
       "    <tr>\n",
       "      <th>13</th>\n",
       "      <td>Atal Bihari Vajpayee</td>\n",
       "      <td>(1924- 2018)</td>\n",
       "      <td>16 May 1996 to 1 June 1996\\n16 days</td>\n",
       "      <td>PM for shortest tenure</td>\n",
       "    </tr>\n",
       "    <tr>\n",
       "      <th>14</th>\n",
       "      <td>H. D. Deve Gowda</td>\n",
       "      <td>(born 1933)</td>\n",
       "      <td>1 June 1996 to 21 April 1997\\n324 days</td>\n",
       "      <td>He belongs to  Janata Dal</td>\n",
       "    </tr>\n",
       "    <tr>\n",
       "      <th>15</th>\n",
       "      <td>Inder Kumar Gujral</td>\n",
       "      <td>(1919–2012)</td>\n",
       "      <td>21 April 1997 to 19 March 1998 \\n332 days</td>\n",
       "      <td>------</td>\n",
       "    </tr>\n",
       "    <tr>\n",
       "      <th>16</th>\n",
       "      <td>Atal Bihari Vajpayee</td>\n",
       "      <td>(1924-2018)</td>\n",
       "      <td>19 March 1998 to 22 May 2004 \\n6 years, 64 days</td>\n",
       "      <td>The first non-congress PM who completed a ful...</td>\n",
       "    </tr>\n",
       "    <tr>\n",
       "      <th>17</th>\n",
       "      <td>Manmohan Singh</td>\n",
       "      <td>(born 1932)</td>\n",
       "      <td>22 May 2004 to 26 May 2014   \\n10 years, 4 days</td>\n",
       "      <td>First Sikh PM</td>\n",
       "    </tr>\n",
       "    <tr>\n",
       "      <th>18</th>\n",
       "      <td>Narendra Modi</td>\n",
       "      <td>(born 1950)</td>\n",
       "      <td>26 May 2014 - 2019</td>\n",
       "      <td>4th Prime Minister of India who served two con...</td>\n",
       "    </tr>\n",
       "    <tr>\n",
       "      <th>19</th>\n",
       "      <td>Narendra Modi</td>\n",
       "      <td>(born 1950)</td>\n",
       "      <td>30 May 2019- Incumbent</td>\n",
       "      <td>First non-congress PM with two consecutive ten...</td>\n",
       "    </tr>\n",
       "  </tbody>\n",
       "</table>\n",
       "</div>"
      ],
      "text/plain": [
       "                           Name     Born-Dead  \\\n",
       "1             Jawahar Lal Nehru   (1889–1964)   \n",
       "2     Gulzarilal Nanda (Acting)   (1898-1998)   \n",
       "3           Lal Bahadur Shastri   (1904–1966)   \n",
       "4   Gulzari Lal Nanda  (Acting)   (1898-1998)   \n",
       "5                 Indira Gandhi   (1917–1984)   \n",
       "6                 Morarji Desai   (1896–1995)   \n",
       "7                  Charan Singh   (1902–1987)   \n",
       "8                 Indira Gandhi   (1917–1984)   \n",
       "9                  Rajiv Gandhi   (1944–1991)   \n",
       "10                  V. P. Singh   (1931–2008)   \n",
       "11              Chandra Shekhar   (1927–2007)   \n",
       "12          P. V. Narasimha Rao   (1921–2004)   \n",
       "13         Atal Bihari Vajpayee  (1924- 2018)   \n",
       "14             H. D. Deve Gowda   (born 1933)   \n",
       "15           Inder Kumar Gujral   (1919–2012)   \n",
       "16         Atal Bihari Vajpayee   (1924-2018)   \n",
       "17               Manmohan Singh   (born 1932)   \n",
       "18                Narendra Modi   (born 1950)   \n",
       "19                Narendra Modi   (born 1950)   \n",
       "\n",
       "                                       Term of Office  \\\n",
       "1   15 August 1947 to 27 May 1964\\n16 years, 286 days   \n",
       "2                27 May 1964 to 9 June 1964,\\n13 days   \n",
       "3    9 June 1964 to 11 January 1966\\n1 year, 216 days   \n",
       "4         11 January 1966 to 24 January 1966\\n13 days   \n",
       "5   24 January 1966 to 24 March 1977\\n11 years, 59...   \n",
       "6   24 March 1977 to  28 July 1979 \\n2 year, 126 days   \n",
       "7           28 July 1979 to 14 January 1980\\n170 days   \n",
       "8   14 January 1980 to 31 October 1984\\n4 years, 2...   \n",
       "9   31 October 1984 to 2 December 1989\\n5 years, 3...   \n",
       "10      2 December 1989 to 10 November 1990\\n343 days   \n",
       "11         10 November 1990 to 21 June 1991\\n223 days   \n",
       "12     21 June 1991 to 16 May 1996\\n4 years, 330 days   \n",
       "13                16 May 1996 to 1 June 1996\\n16 days   \n",
       "14             1 June 1996 to 21 April 1997\\n324 days   \n",
       "15          21 April 1997 to 19 March 1998 \\n332 days   \n",
       "16    19 March 1998 to 22 May 2004 \\n6 years, 64 days   \n",
       "17    22 May 2004 to 26 May 2014   \\n10 years, 4 days   \n",
       "18                                 26 May 2014 - 2019   \n",
       "19                             30 May 2019- Incumbent   \n",
       "\n",
       "                                               Remark  \n",
       "1   The first prime minister of India and the long...  \n",
       "2                            First acting PM of India  \n",
       "3   He has given the slogan of 'Jai Jawan Jai Kisa...  \n",
       "4                                                   -  \n",
       "5                First female Prime Minister of India  \n",
       "6   Oldest to become PM (81 years old) and first t...  \n",
       "7             Only PM who did not face the Parliament  \n",
       "8   The first lady who served as PM for the second...  \n",
       "9                Youngest to become PM (40 years old)  \n",
       "10  First PM to step down after a vote of no confi...  \n",
       "11              He belongs to  Samajwadi Janata Party  \n",
       "12                          First PM from South India  \n",
       "13                             PM for shortest tenure  \n",
       "14                          He belongs to  Janata Dal  \n",
       "15                                             ------  \n",
       "16   The first non-congress PM who completed a ful...  \n",
       "17                                      First Sikh PM  \n",
       "18  4th Prime Minister of India who served two con...  \n",
       "19  First non-congress PM with two consecutive ten...  "
      ]
     },
     "execution_count": 299,
     "metadata": {},
     "output_type": "execute_result"
    }
   ],
   "source": [
    "#Drop useless rows and columns\n",
    "df9.drop(0,axis=0,inplace=True)\n",
    "df9.drop(20,axis=0,inplace=True)\n",
    "df9.drop(0,axis=1,inplace=True)\n",
    "df9"
   ]
  },
  {
   "cell_type": "markdown",
   "id": "6a318e32",
   "metadata": {},
   "source": [
    "## Q10: Write a python program to display list of 50 Most expensive cars in the world (i.e.\n",
    "Car name and Price) from https://uk.motor1.com/features/313656/most-expensive-new-cars-ever/\n",
    "This task will be done in following steps:\n",
    "1. First get the webpage https://uk.motor1.com/features/313656/most-expensive-new-cars-ever/\n",
    "2. Then You have to type in the search bar ’50 most expensive cars’\n",
    "3. Then click on 50 most expensive carsin the world..\n",
    "4. Then scrap the mentioned data and make the dataframe."
   ]
  },
  {
   "cell_type": "code",
   "execution_count": 502,
   "id": "07a3180a",
   "metadata": {},
   "outputs": [],
   "source": [
    "# Link had to be modified because the requested content did not exist on the website\n",
    "# Connection to the driver\n",
    "driver=webdriver.Chrome(r\"C:\\Users\\JPGD\\Documents\\ANDREA GOMEZ\\FLIP ROBO TECHNOLOGIES INTERNSHIP\\chromedriver_win32 2\\chromedriver.exe\")\n",
    "# driver=webdriver.Chrome(r\"chromedriver.exe\")\n",
    "\n",
    "# Opening the naukri page on automated chrome browser\n",
    "driver.get(\"https://uk.motor1.com/features/313656/most-expensive-new-cars-ever/\")\n"
   ]
  },
  {
   "cell_type": "code",
   "execution_count": 504,
   "id": "e9396005",
   "metadata": {},
   "outputs": [],
   "source": [
    "# Close popup window\n",
    "closeW10=driver.find_element(By.XPATH,\"/html/body/div[18]/div[2]/div/div/div[2]/div/div/button\")\n",
    "closeW10.click()"
   ]
  },
  {
   "cell_type": "code",
   "execution_count": null,
   "id": "f6c95f9a",
   "metadata": {},
   "outputs": [],
   "source": [
    "# Entering product search\n",
    "#product10 = driver.find_element(By.XPATH,\"/html/body/div[8]/div[2]/div/div/div[3]/div/div/div/form/input\")\n",
    "#product10.send_keys('50 most expensive cars')"
   ]
  },
  {
   "cell_type": "code",
   "execution_count": null,
   "id": "f6be9bfc",
   "metadata": {},
   "outputs": [],
   "source": [
    "# Create empty lists\n",
    "Model=[]\n",
    "Price_car=[]\n",
    "Price_car_2=[]"
   ]
  },
  {
   "cell_type": "code",
   "execution_count": null,
   "id": "000c4f94",
   "metadata": {},
   "outputs": [],
   "source": [
    "# Scraping car models\n",
    "car_tags=driver.find_elements('tag name','h3')\n",
    "for i in car_tags[0:20]:\n",
    "    Model.append(i.text)\n",
    "# Scraping car price\n",
    "car_price_tags=driver.find_elements('tag name','strong')\n",
    "for x in car_price_tags[0:21]:\n",
    "    Price_car.append(x.text)\n",
    "    #Price_car_2=[x[0] for x in Price_car]\n",
    "Price_car.remove(\"\")\n",
    "\n",
    "#print(Model)\n",
    "#print(Price_car)"
   ]
  },
  {
   "cell_type": "code",
   "execution_count": 500,
   "id": "7675ad81",
   "metadata": {},
   "outputs": [
    {
     "name": "stdout",
     "output_type": "stream",
     "text": [
      "20 20\n"
     ]
    }
   ],
   "source": [
    "print(len(Model),len(Price_car))"
   ]
  },
  {
   "cell_type": "code",
   "execution_count": 501,
   "id": "b4e78b30",
   "metadata": {},
   "outputs": [
    {
     "data": {
      "text/html": [
       "<div>\n",
       "<style scoped>\n",
       "    .dataframe tbody tr th:only-of-type {\n",
       "        vertical-align: middle;\n",
       "    }\n",
       "\n",
       "    .dataframe tbody tr th {\n",
       "        vertical-align: top;\n",
       "    }\n",
       "\n",
       "    .dataframe thead th {\n",
       "        text-align: right;\n",
       "    }\n",
       "</style>\n",
       "<table border=\"1\" class=\"dataframe\">\n",
       "  <thead>\n",
       "    <tr style=\"text-align: right;\">\n",
       "      <th></th>\n",
       "      <th>Model</th>\n",
       "      <th>Price</th>\n",
       "    </tr>\n",
       "  </thead>\n",
       "  <tbody>\n",
       "    <tr>\n",
       "      <th>1</th>\n",
       "      <td>Ferrari LaFerrari</td>\n",
       "      <td>Price: £1.1 million ($1.4 million)</td>\n",
       "    </tr>\n",
       "    <tr>\n",
       "      <th>2</th>\n",
       "      <td>Pagani Huayra</td>\n",
       "      <td>Price: £1.1 million ($1.4 million)</td>\n",
       "    </tr>\n",
       "    <tr>\n",
       "      <th>3</th>\n",
       "      <td>McLaren Elva</td>\n",
       "      <td>Price: £1.3 million ($1.7 million)</td>\n",
       "    </tr>\n",
       "    <tr>\n",
       "      <th>4</th>\n",
       "      <td>Ferrari Monza</td>\n",
       "      <td>Price: £1.3 million ($1.7 million)</td>\n",
       "    </tr>\n",
       "    <tr>\n",
       "      <th>5</th>\n",
       "      <td>Bentley Bacalar</td>\n",
       "      <td>Price: £1.5 million ($1.9 million)</td>\n",
       "    </tr>\n",
       "    <tr>\n",
       "      <th>6</th>\n",
       "      <td>Pininfarina Battista</td>\n",
       "      <td>Price: £1.9 million ($2.5 million)</td>\n",
       "    </tr>\n",
       "    <tr>\n",
       "      <th>7</th>\n",
       "      <td>Mercedes-AMG Project One</td>\n",
       "      <td>Price: £2.1 million ($2.7 million)</td>\n",
       "    </tr>\n",
       "    <tr>\n",
       "      <th>8</th>\n",
       "      <td>Aston Martin Victor</td>\n",
       "      <td>Price: £2.3 million ($3.0 million)</td>\n",
       "    </tr>\n",
       "    <tr>\n",
       "      <th>9</th>\n",
       "      <td>Bugatti Bolide</td>\n",
       "      <td>Price: £2.3 million ($3.0 million)</td>\n",
       "    </tr>\n",
       "    <tr>\n",
       "      <th>10</th>\n",
       "      <td>Aston Martin Valkyrie</td>\n",
       "      <td>Price: £2.5 million* ($3.2 million)</td>\n",
       "    </tr>\n",
       "    <tr>\n",
       "      <th>11</th>\n",
       "      <td>W Motors Lykan Hypersport</td>\n",
       "      <td>Price: £2.6 million ($3.4 million)</td>\n",
       "    </tr>\n",
       "    <tr>\n",
       "      <th>12</th>\n",
       "      <td>Pagani Huayra Roadster BC</td>\n",
       "      <td>Price: £2.7 million ($3.5 million)</td>\n",
       "    </tr>\n",
       "    <tr>\n",
       "      <th>13</th>\n",
       "      <td>Bugatti Chiron Pur Sport</td>\n",
       "      <td>Price: £2.8 million ($3.6 million)</td>\n",
       "    </tr>\n",
       "    <tr>\n",
       "      <th>14</th>\n",
       "      <td>Lamborghini Sian</td>\n",
       "      <td>Price: £2.8 million ($3.6 million)</td>\n",
       "    </tr>\n",
       "    <tr>\n",
       "      <th>15</th>\n",
       "      <td>Bugatti Chiron Super Sport 300+</td>\n",
       "      <td>Price: £3.0 million ($3.9 million)</td>\n",
       "    </tr>\n",
       "    <tr>\n",
       "      <th>16</th>\n",
       "      <td>Lamborghini Veneno</td>\n",
       "      <td>Price: £3.5 million ($4.5 million)</td>\n",
       "    </tr>\n",
       "    <tr>\n",
       "      <th>17</th>\n",
       "      <td>Bugatti Divo</td>\n",
       "      <td>Price: £4.5 million ($5.8 million)</td>\n",
       "    </tr>\n",
       "    <tr>\n",
       "      <th>18</th>\n",
       "      <td>Mercedes-Maybach Exelero</td>\n",
       "      <td>Price: £6.1 million ($8.0 million)</td>\n",
       "    </tr>\n",
       "    <tr>\n",
       "      <th>19</th>\n",
       "      <td>Bugatti Centodieci</td>\n",
       "      <td>Price: £6.9 million ($9.0 million)</td>\n",
       "    </tr>\n",
       "    <tr>\n",
       "      <th>20</th>\n",
       "      <td>Bugatti La Voiture Noire</td>\n",
       "      <td>Price: £14.4 million ($18.7 million)</td>\n",
       "    </tr>\n",
       "  </tbody>\n",
       "</table>\n",
       "</div>"
      ],
      "text/plain": [
       "                              Model                                 Price\n",
       "1                 Ferrari LaFerrari    Price: £1.1 million ($1.4 million)\n",
       "2                     Pagani Huayra    Price: £1.1 million ($1.4 million)\n",
       "3                      McLaren Elva    Price: £1.3 million ($1.7 million)\n",
       "4                     Ferrari Monza    Price: £1.3 million ($1.7 million)\n",
       "5                   Bentley Bacalar    Price: £1.5 million ($1.9 million)\n",
       "6              Pininfarina Battista    Price: £1.9 million ($2.5 million)\n",
       "7          Mercedes-AMG Project One    Price: £2.1 million ($2.7 million)\n",
       "8               Aston Martin Victor    Price: £2.3 million ($3.0 million)\n",
       "9                    Bugatti Bolide    Price: £2.3 million ($3.0 million)\n",
       "10            Aston Martin Valkyrie   Price: £2.5 million* ($3.2 million)\n",
       "11        W Motors Lykan Hypersport    Price: £2.6 million ($3.4 million)\n",
       "12        Pagani Huayra Roadster BC    Price: £2.7 million ($3.5 million)\n",
       "13         Bugatti Chiron Pur Sport    Price: £2.8 million ($3.6 million)\n",
       "14                 Lamborghini Sian    Price: £2.8 million ($3.6 million)\n",
       "15  Bugatti Chiron Super Sport 300+    Price: £3.0 million ($3.9 million)\n",
       "16               Lamborghini Veneno    Price: £3.5 million ($4.5 million)\n",
       "17                     Bugatti Divo    Price: £4.5 million ($5.8 million)\n",
       "18         Mercedes-Maybach Exelero    Price: £6.1 million ($8.0 million)\n",
       "19               Bugatti Centodieci    Price: £6.9 million ($9.0 million)\n",
       "20         Bugatti La Voiture Noire  Price: £14.4 million ($18.7 million)"
      ]
     },
     "execution_count": 501,
     "metadata": {},
     "output_type": "execute_result"
    }
   ],
   "source": [
    "df10=pd.DataFrame({'Model':Model,'Price':Price_car})\n",
    "df10.index+=1\n",
    "df10"
   ]
  },
  {
   "attachments": {
    "imagen.png": {
     "image/png": "[encoded data removed]"
    }
   },
   "cell_type": "markdown",
   "id": "80230804",
   "metadata": {},
   "source": [
    "![imagen.png](attachment:imagen.png)"
   ]
  }
 ],
 "metadata": {
  "kernelspec": {
   "display_name": "Python 3",
   "language": "python",
   "name": "python3"
  },
  "language_info": {
   "codemirror_mode": {
    "name": "ipython",
    "version": 3
   },
   "file_extension": ".py",
   "mimetype": "text/x-python",
   "name": "python",
   "nbconvert_exporter": "python",
   "pygments_lexer": "ipython3",
   "version": "3.8.8"
  }
 },
 "nbformat": 4,
 "nbformat_minor": 5
}
