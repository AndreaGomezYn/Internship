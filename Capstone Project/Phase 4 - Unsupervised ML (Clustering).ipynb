{
 "cells": [
  {
   "cell_type": "markdown",
   "id": "340b3263",
   "metadata": {},
   "source": [
    "## PHASE 4"
   ]
  },
  {
   "cell_type": "code",
   "execution_count": 1,
   "id": "0cb1aec4",
   "metadata": {},
   "outputs": [],
   "source": [
    "import pandas as pd\n",
    "import numpy as np\n",
    "import matplotlib.pyplot as plt\n",
    "import seaborn as sns\n",
    "from sklearn.preprocessing import StandardScaler\n",
    "import warnings\n",
    "warnings.filterwarnings('ignore')"
   ]
  },
  {
   "cell_type": "code",
   "execution_count": 73,
   "id": "6a51fe9c",
   "metadata": {},
   "outputs": [],
   "source": [
    "# Import Data\n",
    "\n",
    "MasterFile=pd.read_csv(\"MasterFileSimplifiedDataII_.csv\")\n",
    "MasterFile=MasterFile.iloc[:,1:]"
   ]
  },
  {
   "cell_type": "code",
   "execution_count": 106,
   "id": "867f9d9f",
   "metadata": {},
   "outputs": [
    {
     "data": {
      "text/plain": [
       "Index(['STATE/UT', 'DISTRICT', 'YEAR', 'MURDER', 'RAPE',\n",
       "       'KIDNAPPING AND ABDUCTION', 'DACOITY', 'ROBBERY', 'ARSON', 'HURT',\n",
       "       'DOWRY DEATHS', 'BURGLARY', 'INSULT TO MODESTY OF WOMEN', 'RIOTS',\n",
       "       'CHEATING', 'CAUSING DEATH BY NEGLIGENCE', 'THEFT',\n",
       "       'ASSAULT ON WOMEN WITH INTENT TO OUTRAGE HER MODESTY',\n",
       "       'IMPORTATION OF GIRLS', 'CRUELTY BY HUSBAND OR RELATIVES',\n",
       "       'BUYING OF GIRLS FOR PROSTITUTION', 'FOETICIDE',\n",
       "       'PROCURATION OF MINOR GIRLS', 'EXPOSURE AND ABANDONMENT',\n",
       "       'SELLING OF GIRLS FOR PROSTITUTION', 'ABETMENT OF SUICIDE',\n",
       "       'CASES_PROPERTY_STOLEN', 'TOTAL IPC CRIMES', 'TOTAL', 'GRAND TOTAL',\n",
       "       'POLICE_INJURED_TOTAL_POLICEMEN', 'POLICE_KILLED_TOTAL_POLICEMEN',\n",
       "       'TOTAL - DACOITY', 'TOTAL - ROBBERY', 'TOTAL - BURGLARY',\n",
       "       'TOTAL - THEFT', 'OTHERS_C', 'TOTAL_MF', 'POPULATION', 'AREA_KM2',\n",
       "       'LITERACY_RATE'],\n",
       "      dtype='object')"
      ]
     },
     "execution_count": 106,
     "metadata": {},
     "output_type": "execute_result"
    }
   ],
   "source": [
    "MasterFile.columns"
   ]
  },
  {
   "cell_type": "code",
   "execution_count": 107,
   "id": "71641c49",
   "metadata": {},
   "outputs": [],
   "source": [
    "### add POPULATION BACK"
   ]
  },
  {
   "cell_type": "code",
   "execution_count": 108,
   "id": "e0bb9f7f",
   "metadata": {},
   "outputs": [],
   "source": [
    "Features=['MURDER', 'RAPE','KIDNAPPING AND ABDUCTION', 'ARSON', 'HURT','DOWRY DEATHS', 'INSULT TO MODESTY OF WOMEN', 'RIOTS','CHEATING', 'CAUSING DEATH BY NEGLIGENCE',\n",
    "       'ASSAULT ON WOMEN WITH INTENT TO OUTRAGE HER MODESTY','IMPORTATION OF GIRLS', 'CRUELTY BY HUSBAND OR RELATIVES',\n",
    "       'BUYING OF GIRLS FOR PROSTITUTION', 'FOETICIDE','PROCURATION OF MINOR GIRLS', 'EXPOSURE AND ABANDONMENT',\n",
    "       'SELLING OF GIRLS FOR PROSTITUTION', 'ABETMENT OF SUICIDE','CASES_PROPERTY_STOLEN','POLICE_INJURED_TOTAL_POLICEMEN', 'POLICE_KILLED_TOTAL_POLICEMEN',\n",
    "       'TOTAL - DACOITY', 'TOTAL - ROBBERY', 'TOTAL - BURGLARY','TOTAL - THEFT', 'OTHERS_C','POPULATION','AREA_KM2', 'LITERACY_RATE']\n",
    "\n",
    "FeaturesR=['CASES_PROPERTY_STOLEN','POLICE_INJURED_TOTAL_POLICEMEN', 'POLICE_KILLED_TOTAL_POLICEMEN',\n",
    "       'TOTAL - DACOITY', 'TOTAL - ROBBERY', 'TOTAL - BURGLARY','TOTAL - THEFT', 'OTHERS_C','POPULATION','AREA_KM2', 'LITERACY_RATE']"
   ]
  },
  {
   "cell_type": "code",
   "execution_count": 109,
   "id": "811a35f8",
   "metadata": {},
   "outputs": [],
   "source": [
    "# Create a subset DataFrame with features for analysis\n",
    "data=MasterFile[Features].copy()"
   ]
  },
  {
   "cell_type": "code",
   "execution_count": 110,
   "id": "f56df19a",
   "metadata": {},
   "outputs": [],
   "source": [
    "# Create a subset DataFrame with most relevant features for analysis\n",
    "dataT=MasterFile[FeaturesR].copy()"
   ]
  },
  {
   "cell_type": "code",
   "execution_count": 111,
   "id": "873c363d",
   "metadata": {},
   "outputs": [
    {
     "name": "stdout",
     "output_type": "stream",
     "text": [
      "<class 'pandas.core.frame.DataFrame'>\n",
      "RangeIndex: 33396 entries, 0 to 33395\n",
      "Data columns (total 30 columns):\n",
      " #   Column                                               Non-Null Count  Dtype  \n",
      "---  ------                                               --------------  -----  \n",
      " 0   MURDER                                               33396 non-null  float64\n",
      " 1   RAPE                                                 33396 non-null  float64\n",
      " 2   KIDNAPPING AND ABDUCTION                             33396 non-null  float64\n",
      " 3   ARSON                                                33396 non-null  float64\n",
      " 4   HURT                                                 33396 non-null  float64\n",
      " 5   DOWRY DEATHS                                         33396 non-null  float64\n",
      " 6   INSULT TO MODESTY OF WOMEN                           33396 non-null  float64\n",
      " 7   RIOTS                                                33396 non-null  float64\n",
      " 8   CHEATING                                             33396 non-null  float64\n",
      " 9   CAUSING DEATH BY NEGLIGENCE                          33396 non-null  float64\n",
      " 10  ASSAULT ON WOMEN WITH INTENT TO OUTRAGE HER MODESTY  33396 non-null  float64\n",
      " 11  IMPORTATION OF GIRLS                                 33396 non-null  float64\n",
      " 12  CRUELTY BY HUSBAND OR RELATIVES                      33396 non-null  float64\n",
      " 13  BUYING OF GIRLS FOR PROSTITUTION                     33396 non-null  float64\n",
      " 14  FOETICIDE                                            33396 non-null  float64\n",
      " 15  PROCURATION OF MINOR GIRLS                           33396 non-null  float64\n",
      " 16  EXPOSURE AND ABANDONMENT                             33396 non-null  float64\n",
      " 17  SELLING OF GIRLS FOR PROSTITUTION                    33396 non-null  float64\n",
      " 18  ABETMENT OF SUICIDE                                  33396 non-null  float64\n",
      " 19  CASES_PROPERTY_STOLEN                                33396 non-null  float64\n",
      " 20  POLICE_INJURED_TOTAL_POLICEMEN                       33396 non-null  float64\n",
      " 21  POLICE_KILLED_TOTAL_POLICEMEN                        33396 non-null  float64\n",
      " 22  TOTAL - DACOITY                                      33396 non-null  float64\n",
      " 23  TOTAL - ROBBERY                                      33396 non-null  float64\n",
      " 24  TOTAL - BURGLARY                                     33396 non-null  float64\n",
      " 25  TOTAL - THEFT                                        33396 non-null  float64\n",
      " 26  OTHERS_C                                             33396 non-null  float64\n",
      " 27  POPULATION                                           33396 non-null  int64  \n",
      " 28  AREA_KM2                                             33396 non-null  int64  \n",
      " 29  LITERACY_RATE                                        33396 non-null  float64\n",
      "dtypes: float64(28), int64(2)\n",
      "memory usage: 7.6 MB\n"
     ]
    }
   ],
   "source": [
    "data.info()"
   ]
  },
  {
   "cell_type": "code",
   "execution_count": 112,
   "id": "54be95d2",
   "metadata": {},
   "outputs": [
    {
     "data": {
      "text/html": [
       "<div>\n",
       "<style scoped>\n",
       "    .dataframe tbody tr th:only-of-type {\n",
       "        vertical-align: middle;\n",
       "    }\n",
       "\n",
       "    .dataframe tbody tr th {\n",
       "        vertical-align: top;\n",
       "    }\n",
       "\n",
       "    .dataframe thead th {\n",
       "        text-align: right;\n",
       "    }\n",
       "</style>\n",
       "<table border=\"1\" class=\"dataframe\">\n",
       "  <thead>\n",
       "    <tr style=\"text-align: right;\">\n",
       "      <th></th>\n",
       "      <th>MURDER</th>\n",
       "      <th>RAPE</th>\n",
       "      <th>KIDNAPPING AND ABDUCTION</th>\n",
       "      <th>ARSON</th>\n",
       "      <th>HURT</th>\n",
       "      <th>DOWRY DEATHS</th>\n",
       "      <th>INSULT TO MODESTY OF WOMEN</th>\n",
       "      <th>RIOTS</th>\n",
       "      <th>CHEATING</th>\n",
       "      <th>CAUSING DEATH BY NEGLIGENCE</th>\n",
       "      <th>...</th>\n",
       "      <th>POLICE_INJURED_TOTAL_POLICEMEN</th>\n",
       "      <th>POLICE_KILLED_TOTAL_POLICEMEN</th>\n",
       "      <th>TOTAL - DACOITY</th>\n",
       "      <th>TOTAL - ROBBERY</th>\n",
       "      <th>TOTAL - BURGLARY</th>\n",
       "      <th>TOTAL - THEFT</th>\n",
       "      <th>OTHERS_C</th>\n",
       "      <th>POPULATION</th>\n",
       "      <th>AREA_KM2</th>\n",
       "      <th>LITERACY_RATE</th>\n",
       "    </tr>\n",
       "  </thead>\n",
       "  <tbody>\n",
       "    <tr>\n",
       "      <th>0</th>\n",
       "      <td>101.0</td>\n",
       "      <td>50.0</td>\n",
       "      <td>46.0</td>\n",
       "      <td>30.0</td>\n",
       "      <td>22.285714</td>\n",
       "      <td>16.0</td>\n",
       "      <td>34.0</td>\n",
       "      <td>78.0</td>\n",
       "      <td>104.0</td>\n",
       "      <td>181.0</td>\n",
       "      <td>...</td>\n",
       "      <td>81.714286</td>\n",
       "      <td>20.0</td>\n",
       "      <td>214.0</td>\n",
       "      <td>629.0</td>\n",
       "      <td>7220.0</td>\n",
       "      <td>16751.0</td>\n",
       "      <td>23714.460991</td>\n",
       "      <td>75728400</td>\n",
       "      <td>162970</td>\n",
       "      <td>60.5</td>\n",
       "    </tr>\n",
       "    <tr>\n",
       "      <th>1</th>\n",
       "      <td>151.0</td>\n",
       "      <td>23.0</td>\n",
       "      <td>53.0</td>\n",
       "      <td>69.0</td>\n",
       "      <td>22.285714</td>\n",
       "      <td>7.0</td>\n",
       "      <td>24.0</td>\n",
       "      <td>168.0</td>\n",
       "      <td>65.0</td>\n",
       "      <td>270.0</td>\n",
       "      <td>...</td>\n",
       "      <td>81.714286</td>\n",
       "      <td>20.0</td>\n",
       "      <td>214.0</td>\n",
       "      <td>629.0</td>\n",
       "      <td>7220.0</td>\n",
       "      <td>16751.0</td>\n",
       "      <td>23413.460991</td>\n",
       "      <td>75728400</td>\n",
       "      <td>162970</td>\n",
       "      <td>60.5</td>\n",
       "    </tr>\n",
       "    <tr>\n",
       "      <th>2</th>\n",
       "      <td>101.0</td>\n",
       "      <td>27.0</td>\n",
       "      <td>59.0</td>\n",
       "      <td>38.0</td>\n",
       "      <td>22.285714</td>\n",
       "      <td>14.0</td>\n",
       "      <td>83.0</td>\n",
       "      <td>156.0</td>\n",
       "      <td>209.0</td>\n",
       "      <td>404.0</td>\n",
       "      <td>...</td>\n",
       "      <td>81.714286</td>\n",
       "      <td>20.0</td>\n",
       "      <td>214.0</td>\n",
       "      <td>629.0</td>\n",
       "      <td>7220.0</td>\n",
       "      <td>16751.0</td>\n",
       "      <td>24422.460991</td>\n",
       "      <td>75728400</td>\n",
       "      <td>162970</td>\n",
       "      <td>60.5</td>\n",
       "    </tr>\n",
       "    <tr>\n",
       "      <th>3</th>\n",
       "      <td>80.0</td>\n",
       "      <td>20.0</td>\n",
       "      <td>25.0</td>\n",
       "      <td>23.0</td>\n",
       "      <td>22.285714</td>\n",
       "      <td>17.0</td>\n",
       "      <td>38.0</td>\n",
       "      <td>164.0</td>\n",
       "      <td>37.0</td>\n",
       "      <td>233.0</td>\n",
       "      <td>...</td>\n",
       "      <td>81.714286</td>\n",
       "      <td>20.0</td>\n",
       "      <td>214.0</td>\n",
       "      <td>629.0</td>\n",
       "      <td>7220.0</td>\n",
       "      <td>16751.0</td>\n",
       "      <td>23015.460991</td>\n",
       "      <td>75728400</td>\n",
       "      <td>162970</td>\n",
       "      <td>60.5</td>\n",
       "    </tr>\n",
       "    <tr>\n",
       "      <th>4</th>\n",
       "      <td>82.0</td>\n",
       "      <td>23.0</td>\n",
       "      <td>49.0</td>\n",
       "      <td>41.0</td>\n",
       "      <td>22.285714</td>\n",
       "      <td>12.0</td>\n",
       "      <td>58.0</td>\n",
       "      <td>70.0</td>\n",
       "      <td>220.0</td>\n",
       "      <td>431.0</td>\n",
       "      <td>...</td>\n",
       "      <td>81.714286</td>\n",
       "      <td>20.0</td>\n",
       "      <td>214.0</td>\n",
       "      <td>629.0</td>\n",
       "      <td>7220.0</td>\n",
       "      <td>16751.0</td>\n",
       "      <td>24649.460991</td>\n",
       "      <td>75728400</td>\n",
       "      <td>162970</td>\n",
       "      <td>60.5</td>\n",
       "    </tr>\n",
       "  </tbody>\n",
       "</table>\n",
       "<p>5 rows × 30 columns</p>\n",
       "</div>"
      ],
      "text/plain": [
       "   MURDER  RAPE  KIDNAPPING AND ABDUCTION  ARSON       HURT  DOWRY DEATHS  \\\n",
       "0   101.0  50.0                      46.0   30.0  22.285714          16.0   \n",
       "1   151.0  23.0                      53.0   69.0  22.285714           7.0   \n",
       "2   101.0  27.0                      59.0   38.0  22.285714          14.0   \n",
       "3    80.0  20.0                      25.0   23.0  22.285714          17.0   \n",
       "4    82.0  23.0                      49.0   41.0  22.285714          12.0   \n",
       "\n",
       "   INSULT TO MODESTY OF WOMEN  RIOTS  CHEATING  CAUSING DEATH BY NEGLIGENCE  \\\n",
       "0                        34.0   78.0     104.0                        181.0   \n",
       "1                        24.0  168.0      65.0                        270.0   \n",
       "2                        83.0  156.0     209.0                        404.0   \n",
       "3                        38.0  164.0      37.0                        233.0   \n",
       "4                        58.0   70.0     220.0                        431.0   \n",
       "\n",
       "   ...  POLICE_INJURED_TOTAL_POLICEMEN  POLICE_KILLED_TOTAL_POLICEMEN  \\\n",
       "0  ...                       81.714286                           20.0   \n",
       "1  ...                       81.714286                           20.0   \n",
       "2  ...                       81.714286                           20.0   \n",
       "3  ...                       81.714286                           20.0   \n",
       "4  ...                       81.714286                           20.0   \n",
       "\n",
       "   TOTAL - DACOITY  TOTAL - ROBBERY  TOTAL - BURGLARY  TOTAL - THEFT  \\\n",
       "0            214.0            629.0            7220.0        16751.0   \n",
       "1            214.0            629.0            7220.0        16751.0   \n",
       "2            214.0            629.0            7220.0        16751.0   \n",
       "3            214.0            629.0            7220.0        16751.0   \n",
       "4            214.0            629.0            7220.0        16751.0   \n",
       "\n",
       "       OTHERS_C  POPULATION  AREA_KM2  LITERACY_RATE  \n",
       "0  23714.460991    75728400    162970           60.5  \n",
       "1  23413.460991    75728400    162970           60.5  \n",
       "2  24422.460991    75728400    162970           60.5  \n",
       "3  23015.460991    75728400    162970           60.5  \n",
       "4  24649.460991    75728400    162970           60.5  \n",
       "\n",
       "[5 rows x 30 columns]"
      ]
     },
     "execution_count": 112,
     "metadata": {},
     "output_type": "execute_result"
    }
   ],
   "source": [
    "# Check new DataFrame\n",
    "data.head()"
   ]
  },
  {
   "cell_type": "code",
   "execution_count": 113,
   "id": "7d875adf",
   "metadata": {},
   "outputs": [
    {
     "data": {
      "text/html": [
       "<div>\n",
       "<style scoped>\n",
       "    .dataframe tbody tr th:only-of-type {\n",
       "        vertical-align: middle;\n",
       "    }\n",
       "\n",
       "    .dataframe tbody tr th {\n",
       "        vertical-align: top;\n",
       "    }\n",
       "\n",
       "    .dataframe thead th {\n",
       "        text-align: right;\n",
       "    }\n",
       "</style>\n",
       "<table border=\"1\" class=\"dataframe\">\n",
       "  <thead>\n",
       "    <tr style=\"text-align: right;\">\n",
       "      <th></th>\n",
       "      <th>CASES_PROPERTY_STOLEN</th>\n",
       "      <th>POLICE_INJURED_TOTAL_POLICEMEN</th>\n",
       "      <th>POLICE_KILLED_TOTAL_POLICEMEN</th>\n",
       "      <th>TOTAL - DACOITY</th>\n",
       "      <th>TOTAL - ROBBERY</th>\n",
       "      <th>TOTAL - BURGLARY</th>\n",
       "      <th>TOTAL - THEFT</th>\n",
       "      <th>OTHERS_C</th>\n",
       "      <th>POPULATION</th>\n",
       "      <th>AREA_KM2</th>\n",
       "      <th>LITERACY_RATE</th>\n",
       "    </tr>\n",
       "  </thead>\n",
       "  <tbody>\n",
       "    <tr>\n",
       "      <th>0</th>\n",
       "      <td>4126.538462</td>\n",
       "      <td>81.714286</td>\n",
       "      <td>20.0</td>\n",
       "      <td>214.0</td>\n",
       "      <td>629.0</td>\n",
       "      <td>7220.0</td>\n",
       "      <td>16751.0</td>\n",
       "      <td>23714.460991</td>\n",
       "      <td>75728400</td>\n",
       "      <td>162970</td>\n",
       "      <td>60.5</td>\n",
       "    </tr>\n",
       "    <tr>\n",
       "      <th>1</th>\n",
       "      <td>4126.538462</td>\n",
       "      <td>81.714286</td>\n",
       "      <td>20.0</td>\n",
       "      <td>214.0</td>\n",
       "      <td>629.0</td>\n",
       "      <td>7220.0</td>\n",
       "      <td>16751.0</td>\n",
       "      <td>23413.460991</td>\n",
       "      <td>75728400</td>\n",
       "      <td>162970</td>\n",
       "      <td>60.5</td>\n",
       "    </tr>\n",
       "    <tr>\n",
       "      <th>2</th>\n",
       "      <td>4126.538462</td>\n",
       "      <td>81.714286</td>\n",
       "      <td>20.0</td>\n",
       "      <td>214.0</td>\n",
       "      <td>629.0</td>\n",
       "      <td>7220.0</td>\n",
       "      <td>16751.0</td>\n",
       "      <td>24422.460991</td>\n",
       "      <td>75728400</td>\n",
       "      <td>162970</td>\n",
       "      <td>60.5</td>\n",
       "    </tr>\n",
       "    <tr>\n",
       "      <th>3</th>\n",
       "      <td>4126.538462</td>\n",
       "      <td>81.714286</td>\n",
       "      <td>20.0</td>\n",
       "      <td>214.0</td>\n",
       "      <td>629.0</td>\n",
       "      <td>7220.0</td>\n",
       "      <td>16751.0</td>\n",
       "      <td>23015.460991</td>\n",
       "      <td>75728400</td>\n",
       "      <td>162970</td>\n",
       "      <td>60.5</td>\n",
       "    </tr>\n",
       "    <tr>\n",
       "      <th>4</th>\n",
       "      <td>4126.538462</td>\n",
       "      <td>81.714286</td>\n",
       "      <td>20.0</td>\n",
       "      <td>214.0</td>\n",
       "      <td>629.0</td>\n",
       "      <td>7220.0</td>\n",
       "      <td>16751.0</td>\n",
       "      <td>24649.460991</td>\n",
       "      <td>75728400</td>\n",
       "      <td>162970</td>\n",
       "      <td>60.5</td>\n",
       "    </tr>\n",
       "  </tbody>\n",
       "</table>\n",
       "</div>"
      ],
      "text/plain": [
       "   CASES_PROPERTY_STOLEN  POLICE_INJURED_TOTAL_POLICEMEN  \\\n",
       "0            4126.538462                       81.714286   \n",
       "1            4126.538462                       81.714286   \n",
       "2            4126.538462                       81.714286   \n",
       "3            4126.538462                       81.714286   \n",
       "4            4126.538462                       81.714286   \n",
       "\n",
       "   POLICE_KILLED_TOTAL_POLICEMEN  TOTAL - DACOITY  TOTAL - ROBBERY  \\\n",
       "0                           20.0            214.0            629.0   \n",
       "1                           20.0            214.0            629.0   \n",
       "2                           20.0            214.0            629.0   \n",
       "3                           20.0            214.0            629.0   \n",
       "4                           20.0            214.0            629.0   \n",
       "\n",
       "   TOTAL - BURGLARY  TOTAL - THEFT      OTHERS_C  POPULATION  AREA_KM2  \\\n",
       "0            7220.0        16751.0  23714.460991    75728400    162970   \n",
       "1            7220.0        16751.0  23413.460991    75728400    162970   \n",
       "2            7220.0        16751.0  24422.460991    75728400    162970   \n",
       "3            7220.0        16751.0  23015.460991    75728400    162970   \n",
       "4            7220.0        16751.0  24649.460991    75728400    162970   \n",
       "\n",
       "   LITERACY_RATE  \n",
       "0           60.5  \n",
       "1           60.5  \n",
       "2           60.5  \n",
       "3           60.5  \n",
       "4           60.5  "
      ]
     },
     "execution_count": 113,
     "metadata": {},
     "output_type": "execute_result"
    }
   ],
   "source": [
    "# Check DataFrame with relevant features\n",
    "dataT.head()"
   ]
  },
  {
   "cell_type": "code",
   "execution_count": 114,
   "id": "555c4b0f",
   "metadata": {},
   "outputs": [
    {
     "name": "stdout",
     "output_type": "stream",
     "text": [
      "<class 'pandas.core.frame.DataFrame'>\n",
      "RangeIndex: 33396 entries, 0 to 33395\n",
      "Data columns (total 11 columns):\n",
      " #   Column                          Non-Null Count  Dtype  \n",
      "---  ------                          --------------  -----  \n",
      " 0   CASES_PROPERTY_STOLEN           33396 non-null  float64\n",
      " 1   POLICE_INJURED_TOTAL_POLICEMEN  33396 non-null  float64\n",
      " 2   POLICE_KILLED_TOTAL_POLICEMEN   33396 non-null  float64\n",
      " 3   TOTAL - DACOITY                 33396 non-null  float64\n",
      " 4   TOTAL - ROBBERY                 33396 non-null  float64\n",
      " 5   TOTAL - BURGLARY                33396 non-null  float64\n",
      " 6   TOTAL - THEFT                   33396 non-null  float64\n",
      " 7   OTHERS_C                        33396 non-null  float64\n",
      " 8   POPULATION                      33396 non-null  int64  \n",
      " 9   AREA_KM2                        33396 non-null  int64  \n",
      " 10  LITERACY_RATE                   33396 non-null  float64\n",
      "dtypes: float64(9), int64(2)\n",
      "memory usage: 2.8 MB\n"
     ]
    }
   ],
   "source": [
    "# Check data types\n",
    "dataT.info()"
   ]
  },
  {
   "cell_type": "markdown",
   "id": "73e1c04d",
   "metadata": {},
   "source": [
    "The feature \"POPULATION\" is not numeric; thus, it will be converted to integer."
   ]
  },
  {
   "cell_type": "code",
   "execution_count": 119,
   "id": "0a42346d",
   "metadata": {},
   "outputs": [],
   "source": [
    "## Scale the data\n",
    "## Numbers should be between 0 and 10\n",
    "\n",
    "data=((data-data.min())/(data.max()-data.min()))*9+1\n",
    "dataT=((dataT-dataT.min())/(dataT.max()-dataT.min()))*9+1\n",
    "#scaler=StandardScaler()\n",
    "#data=pd.DataFrame(scaler.fit_transform(data),columns=data.columns)"
   ]
  },
  {
   "cell_type": "code",
   "execution_count": 120,
   "id": "4ac14af0",
   "metadata": {},
   "outputs": [
    {
     "data": {
      "text/html": [
       "<div>\n",
       "<style scoped>\n",
       "    .dataframe tbody tr th:only-of-type {\n",
       "        vertical-align: middle;\n",
       "    }\n",
       "\n",
       "    .dataframe tbody tr th {\n",
       "        vertical-align: top;\n",
       "    }\n",
       "\n",
       "    .dataframe thead th {\n",
       "        text-align: right;\n",
       "    }\n",
       "</style>\n",
       "<table border=\"1\" class=\"dataframe\">\n",
       "  <thead>\n",
       "    <tr style=\"text-align: right;\">\n",
       "      <th></th>\n",
       "      <th>CASES_PROPERTY_STOLEN</th>\n",
       "      <th>POLICE_INJURED_TOTAL_POLICEMEN</th>\n",
       "      <th>POLICE_KILLED_TOTAL_POLICEMEN</th>\n",
       "      <th>TOTAL - DACOITY</th>\n",
       "      <th>TOTAL - ROBBERY</th>\n",
       "      <th>TOTAL - BURGLARY</th>\n",
       "      <th>TOTAL - THEFT</th>\n",
       "      <th>OTHERS_C</th>\n",
       "      <th>POPULATION</th>\n",
       "      <th>AREA_KM2</th>\n",
       "      <th>LITERACY_RATE</th>\n",
       "    </tr>\n",
       "  </thead>\n",
       "  <tbody>\n",
       "    <tr>\n",
       "      <th>count</th>\n",
       "      <td>33396.000000</td>\n",
       "      <td>33396.000000</td>\n",
       "      <td>33396.000000</td>\n",
       "      <td>33396.000000</td>\n",
       "      <td>33396.000000</td>\n",
       "      <td>33396.000000</td>\n",
       "      <td>33396.000000</td>\n",
       "      <td>33396.000000</td>\n",
       "      <td>33396.000000</td>\n",
       "      <td>33396.000000</td>\n",
       "      <td>33396.000000</td>\n",
       "    </tr>\n",
       "    <tr>\n",
       "      <th>mean</th>\n",
       "      <td>1.399001</td>\n",
       "      <td>1.136246</td>\n",
       "      <td>1.656833</td>\n",
       "      <td>2.796545</td>\n",
       "      <td>3.445890</td>\n",
       "      <td>3.519693</td>\n",
       "      <td>3.339421</td>\n",
       "      <td>2.268779</td>\n",
       "      <td>3.714198</td>\n",
       "      <td>5.125767</td>\n",
       "      <td>5.086699</td>\n",
       "    </tr>\n",
       "    <tr>\n",
       "      <th>std</th>\n",
       "      <td>0.406418</td>\n",
       "      <td>0.239336</td>\n",
       "      <td>0.633062</td>\n",
       "      <td>1.893557</td>\n",
       "      <td>2.116616</td>\n",
       "      <td>2.354513</td>\n",
       "      <td>2.123797</td>\n",
       "      <td>0.840400</td>\n",
       "      <td>2.253950</td>\n",
       "      <td>2.666376</td>\n",
       "      <td>1.582937</td>\n",
       "    </tr>\n",
       "    <tr>\n",
       "      <th>min</th>\n",
       "      <td>1.000000</td>\n",
       "      <td>1.000000</td>\n",
       "      <td>1.000000</td>\n",
       "      <td>1.000000</td>\n",
       "      <td>1.000000</td>\n",
       "      <td>1.000000</td>\n",
       "      <td>1.000000</td>\n",
       "      <td>1.000000</td>\n",
       "      <td>1.000000</td>\n",
       "      <td>1.000000</td>\n",
       "      <td>1.000000</td>\n",
       "    </tr>\n",
       "    <tr>\n",
       "      <th>25%</th>\n",
       "      <td>1.106263</td>\n",
       "      <td>1.016523</td>\n",
       "      <td>1.203008</td>\n",
       "      <td>1.525398</td>\n",
       "      <td>1.786290</td>\n",
       "      <td>1.736245</td>\n",
       "      <td>1.702768</td>\n",
       "      <td>1.617118</td>\n",
       "      <td>2.114755</td>\n",
       "      <td>2.622798</td>\n",
       "      <td>4.078947</td>\n",
       "    </tr>\n",
       "    <tr>\n",
       "      <th>50%</th>\n",
       "      <td>1.334563</td>\n",
       "      <td>1.060873</td>\n",
       "      <td>1.456767</td>\n",
       "      <td>2.255497</td>\n",
       "      <td>2.773387</td>\n",
       "      <td>2.881877</td>\n",
       "      <td>3.113587</td>\n",
       "      <td>2.117155</td>\n",
       "      <td>3.702683</td>\n",
       "      <td>4.945350</td>\n",
       "      <td>5.006579</td>\n",
       "    </tr>\n",
       "    <tr>\n",
       "      <th>75%</th>\n",
       "      <td>1.551688</td>\n",
       "      <td>1.164356</td>\n",
       "      <td>1.930451</td>\n",
       "      <td>3.176649</td>\n",
       "      <td>4.815323</td>\n",
       "      <td>4.227860</td>\n",
       "      <td>4.476521</td>\n",
       "      <td>2.692878</td>\n",
       "      <td>5.271138</td>\n",
       "      <td>6.728526</td>\n",
       "      <td>5.993421</td>\n",
       "    </tr>\n",
       "    <tr>\n",
       "      <th>max</th>\n",
       "      <td>10.000000</td>\n",
       "      <td>10.000000</td>\n",
       "      <td>10.000000</td>\n",
       "      <td>10.000000</td>\n",
       "      <td>10.000000</td>\n",
       "      <td>10.000000</td>\n",
       "      <td>10.000000</td>\n",
       "      <td>10.000000</td>\n",
       "      <td>10.000000</td>\n",
       "      <td>10.000000</td>\n",
       "      <td>10.000000</td>\n",
       "    </tr>\n",
       "  </tbody>\n",
       "</table>\n",
       "</div>"
      ],
      "text/plain": [
       "       CASES_PROPERTY_STOLEN  POLICE_INJURED_TOTAL_POLICEMEN  \\\n",
       "count           33396.000000                    33396.000000   \n",
       "mean                1.399001                        1.136246   \n",
       "std                 0.406418                        0.239336   \n",
       "min                 1.000000                        1.000000   \n",
       "25%                 1.106263                        1.016523   \n",
       "50%                 1.334563                        1.060873   \n",
       "75%                 1.551688                        1.164356   \n",
       "max                10.000000                       10.000000   \n",
       "\n",
       "       POLICE_KILLED_TOTAL_POLICEMEN  TOTAL - DACOITY  TOTAL - ROBBERY  \\\n",
       "count                   33396.000000     33396.000000     33396.000000   \n",
       "mean                        1.656833         2.796545         3.445890   \n",
       "std                         0.633062         1.893557         2.116616   \n",
       "min                         1.000000         1.000000         1.000000   \n",
       "25%                         1.203008         1.525398         1.786290   \n",
       "50%                         1.456767         2.255497         2.773387   \n",
       "75%                         1.930451         3.176649         4.815323   \n",
       "max                        10.000000        10.000000        10.000000   \n",
       "\n",
       "       TOTAL - BURGLARY  TOTAL - THEFT      OTHERS_C    POPULATION  \\\n",
       "count      33396.000000   33396.000000  33396.000000  33396.000000   \n",
       "mean           3.519693       3.339421      2.268779      3.714198   \n",
       "std            2.354513       2.123797      0.840400      2.253950   \n",
       "min            1.000000       1.000000      1.000000      1.000000   \n",
       "25%            1.736245       1.702768      1.617118      2.114755   \n",
       "50%            2.881877       3.113587      2.117155      3.702683   \n",
       "75%            4.227860       4.476521      2.692878      5.271138   \n",
       "max           10.000000      10.000000     10.000000     10.000000   \n",
       "\n",
       "           AREA_KM2  LITERACY_RATE  \n",
       "count  33396.000000   33396.000000  \n",
       "mean       5.125767       5.086699  \n",
       "std        2.666376       1.582937  \n",
       "min        1.000000       1.000000  \n",
       "25%        2.622798       4.078947  \n",
       "50%        4.945350       5.006579  \n",
       "75%        6.728526       5.993421  \n",
       "max       10.000000      10.000000  "
      ]
     },
     "execution_count": 120,
     "metadata": {},
     "output_type": "execute_result"
    }
   ],
   "source": [
    "# Data description - to get an overview of numerical data\n",
    "dataT.describe()"
   ]
  },
  {
   "cell_type": "markdown",
   "id": "cbe130ed",
   "metadata": {},
   "source": [
    "After scaling the data, it is possible to see that it is on a 1 to 10 scale. There are no negative data and minimum values is not zero.\n",
    "\n",
    "In this way, this procedure ensures that all features are treated under the same parameters. None of them will dominate the others in the cluster. However, we still preserve the variance in the original data."
   ]
  },
  {
   "cell_type": "markdown",
   "id": "e83b19c0",
   "metadata": {},
   "source": [
    "### Initialize random centroids"
   ]
  },
  {
   "cell_type": "code",
   "execution_count": 121,
   "id": "d619ee5a",
   "metadata": {},
   "outputs": [],
   "source": [
    "# Create a function to initialize centroids\n",
    "# It selects a random value from each column\n",
    "\n",
    "centroids=[]\n",
    "\n",
    "def random_centroids (data,k):\n",
    "    for i in range (k):\n",
    "        centroid=data.apply(lambda x: float(x.sample()))\n",
    "        centroids.append(centroid)\n",
    "    return pd.concat(centroids,axis=1)"
   ]
  },
  {
   "cell_type": "code",
   "execution_count": 122,
   "id": "6f4d7c6e",
   "metadata": {},
   "outputs": [
    {
     "data": {
      "text/html": [
       "<div>\n",
       "<style scoped>\n",
       "    .dataframe tbody tr th:only-of-type {\n",
       "        vertical-align: middle;\n",
       "    }\n",
       "\n",
       "    .dataframe tbody tr th {\n",
       "        vertical-align: top;\n",
       "    }\n",
       "\n",
       "    .dataframe thead th {\n",
       "        text-align: right;\n",
       "    }\n",
       "</style>\n",
       "<table border=\"1\" class=\"dataframe\">\n",
       "  <thead>\n",
       "    <tr style=\"text-align: right;\">\n",
       "      <th></th>\n",
       "      <th>0</th>\n",
       "      <th>1</th>\n",
       "      <th>2</th>\n",
       "    </tr>\n",
       "  </thead>\n",
       "  <tbody>\n",
       "    <tr>\n",
       "      <th>CASES_PROPERTY_STOLEN</th>\n",
       "      <td>1.020298</td>\n",
       "      <td>1.042270</td>\n",
       "      <td>1.699852</td>\n",
       "    </tr>\n",
       "    <tr>\n",
       "      <th>POLICE_INJURED_TOTAL_POLICEMEN</th>\n",
       "      <td>1.033915</td>\n",
       "      <td>1.006957</td>\n",
       "      <td>1.025219</td>\n",
       "    </tr>\n",
       "    <tr>\n",
       "      <th>POLICE_KILLED_TOTAL_POLICEMEN</th>\n",
       "      <td>1.456767</td>\n",
       "      <td>1.456767</td>\n",
       "      <td>1.507519</td>\n",
       "    </tr>\n",
       "    <tr>\n",
       "      <th>TOTAL - DACOITY</th>\n",
       "      <td>2.030326</td>\n",
       "      <td>3.299469</td>\n",
       "      <td>4.227445</td>\n",
       "    </tr>\n",
       "    <tr>\n",
       "      <th>TOTAL - ROBBERY</th>\n",
       "      <td>1.179032</td>\n",
       "      <td>3.765323</td>\n",
       "      <td>3.046774</td>\n",
       "    </tr>\n",
       "    <tr>\n",
       "      <th>TOTAL - BURGLARY</th>\n",
       "      <td>9.161680</td>\n",
       "      <td>3.227739</td>\n",
       "      <td>9.667169</td>\n",
       "    </tr>\n",
       "    <tr>\n",
       "      <th>TOTAL - THEFT</th>\n",
       "      <td>3.437706</td>\n",
       "      <td>4.981103</td>\n",
       "      <td>1.433010</td>\n",
       "    </tr>\n",
       "    <tr>\n",
       "      <th>OTHERS_C</th>\n",
       "      <td>1.318984</td>\n",
       "      <td>2.445622</td>\n",
       "      <td>1.416989</td>\n",
       "    </tr>\n",
       "    <tr>\n",
       "      <th>POPULATION</th>\n",
       "      <td>1.050349</td>\n",
       "      <td>5.497396</td>\n",
       "      <td>5.406875</td>\n",
       "    </tr>\n",
       "    <tr>\n",
       "      <th>AREA_KM2</th>\n",
       "      <td>2.288051</td>\n",
       "      <td>2.618855</td>\n",
       "      <td>5.544541</td>\n",
       "    </tr>\n",
       "    <tr>\n",
       "      <th>LITERACY_RATE</th>\n",
       "      <td>4.710526</td>\n",
       "      <td>4.651316</td>\n",
       "      <td>4.730263</td>\n",
       "    </tr>\n",
       "  </tbody>\n",
       "</table>\n",
       "</div>"
      ],
      "text/plain": [
       "                                       0         1         2\n",
       "CASES_PROPERTY_STOLEN           1.020298  1.042270  1.699852\n",
       "POLICE_INJURED_TOTAL_POLICEMEN  1.033915  1.006957  1.025219\n",
       "POLICE_KILLED_TOTAL_POLICEMEN   1.456767  1.456767  1.507519\n",
       "TOTAL - DACOITY                 2.030326  3.299469  4.227445\n",
       "TOTAL - ROBBERY                 1.179032  3.765323  3.046774\n",
       "TOTAL - BURGLARY                9.161680  3.227739  9.667169\n",
       "TOTAL - THEFT                   3.437706  4.981103  1.433010\n",
       "OTHERS_C                        1.318984  2.445622  1.416989\n",
       "POPULATION                      1.050349  5.497396  5.406875\n",
       "AREA_KM2                        2.288051  2.618855  5.544541\n",
       "LITERACY_RATE                   4.710526  4.651316  4.730263"
      ]
     },
     "execution_count": 122,
     "metadata": {},
     "output_type": "execute_result"
    }
   ],
   "source": [
    "# Generate centroids\n",
    "centroids=random_centroids(dataT,3)\n",
    "centroids"
   ]
  },
  {
   "cell_type": "markdown",
   "id": "fc3630b7",
   "metadata": {},
   "source": [
    "https://www.youtube.com/watch?v=iNlZ3IU5Ffw\n",
    "https://www.youtube.com/watch?v=lX-3nGHDhQg"
   ]
  },
  {
   "cell_type": "markdown",
   "id": "dbc0ae4b",
   "metadata": {},
   "source": [
    "### Label each data point"
   ]
  },
  {
   "cell_type": "code",
   "execution_count": 123,
   "id": "7a1c12fa",
   "metadata": {},
   "outputs": [],
   "source": [
    "# Creata a function to:\n",
    "# Calculate the Euclidean distance between each data point and each cluster center\n",
    "# Find the minimum value in each row\n",
    "def get_labels(data,centroids):\n",
    "    distances= centroids.apply(lambda x: np.sqrt(((data-x)**2).sum(axis=1)))\n",
    "    return distances.idxmin(axis=1)"
   ]
  },
  {
   "cell_type": "code",
   "execution_count": 124,
   "id": "7e59cd35",
   "metadata": {},
   "outputs": [
    {
     "data": {
      "text/plain": [
       "0        1\n",
       "1        1\n",
       "2        1\n",
       "3        1\n",
       "4        1\n",
       "        ..\n",
       "33391    1\n",
       "33392    1\n",
       "33393    1\n",
       "33394    1\n",
       "33395    1\n",
       "Length: 33396, dtype: int64"
      ]
     },
     "execution_count": 124,
     "metadata": {},
     "output_type": "execute_result"
    }
   ],
   "source": [
    "# Define labels variable\n",
    "\n",
    "labels=get_labels(dataT,centroids)\n",
    "labels"
   ]
  },
  {
   "cell_type": "code",
   "execution_count": 151,
   "id": "18fda431",
   "metadata": {},
   "outputs": [
    {
     "data": {
      "text/plain": [
       "2    17242\n",
       "0     9465\n",
       "1     6689\n",
       "dtype: int64"
      ]
     },
     "execution_count": 151,
     "metadata": {},
     "output_type": "execute_result"
    }
   ],
   "source": [
    "# Check how many are in each cluster\n",
    "labels.value_counts()"
   ]
  },
  {
   "cell_type": "code",
   "execution_count": 170,
   "id": "26184236",
   "metadata": {},
   "outputs": [
    {
     "data": {
      "text/plain": [
       "array([2, 0, 1], dtype=int64)"
      ]
     },
     "execution_count": 170,
     "metadata": {},
     "output_type": "execute_result"
    }
   ],
   "source": [
    "labels.unique()"
   ]
  },
  {
   "cell_type": "code",
   "execution_count": 198,
   "id": "f387fa5d",
   "metadata": {},
   "outputs": [
    {
     "name": "stdout",
     "output_type": "stream",
     "text": [
      "Freedman–Diaconis number of bins: 5\n"
     ]
    },
    {
     "data": {
      "text/plain": [
       "(array([ 9465.,     0.,  6689.,     0., 17242.]),\n",
       " array([0. , 0.4, 0.8, 1.2, 1.6, 2. ]),\n",
       " <BarContainer object of 5 artists>)"
      ]
     },
     "execution_count": 198,
     "metadata": {},
     "output_type": "execute_result"
    },
    {
     "data": {
      "image/png": "[encoded data removed]",
      "text/plain": [
       "<Figure size 432x288 with 1 Axes>"
      ]
     },
     "metadata": {
      "needs_background": "light"
     },
     "output_type": "display_data"
    }
   ],
   "source": [
    "q25, q75 = np.percentile(labels, [25, 75])\n",
    "bin_width = 7 * (q75 - q25) * len(labels) ** (-1/3)\n",
    "bins = round((labels.max() - labels.min()) / bin_width)\n",
    "print(\"Freedman–Diaconis number of bins:\", bins)\n",
    "plt.hist(x=labels, bins=bins, color=\"m\")"
   ]
  },
  {
   "cell_type": "markdown",
   "id": "eb76c597",
   "metadata": {},
   "source": [
    "In the first dataset, which contained all crimes, there were:\n",
    "- 19166 Districts in Cluster 0\n",
    "- 12585 Districts in Cluster 1\n",
    "- 1645 Districts in Cluster 2\n",
    "\n",
    "In the new dataset, which includes only relevant features, there are:\n",
    "- 9465 Districts in Cluster 0\n",
    "- 6689 Districts in Cluster 1\n",
    "- 17242 Districts in Cluster 2"
   ]
  },
  {
   "cell_type": "code",
   "execution_count": 126,
   "id": "1bf661c0",
   "metadata": {},
   "outputs": [],
   "source": [
    "## Define a new function to Update Centroids\n",
    "## Geometric mean per feature (the geometric mean of each feature in the Euclidean Space, which is the cluster centroid)\n",
    "## T to transpose\n",
    "\n",
    "def new_centroids(data,labels,k):\n",
    "    return data.groupby(labels).apply(lambda x: np.exp(np.log(x).mean())).T"
   ]
  },
  {
   "cell_type": "code",
   "execution_count": 127,
   "id": "352c2cf0",
   "metadata": {},
   "outputs": [],
   "source": [
    "## Repeat the last 2 steps (label each data point and Update centroids) until centroids stop changing"
   ]
  },
  {
   "cell_type": "code",
   "execution_count": 128,
   "id": "8958ee2d",
   "metadata": {},
   "outputs": [],
   "source": [
    "## Plot the clusters"
   ]
  },
  {
   "cell_type": "code",
   "execution_count": 129,
   "id": "bdc787ab",
   "metadata": {},
   "outputs": [],
   "source": [
    "from sklearn.decomposition import PCA\n",
    "from IPython.display import clear_output"
   ]
  },
  {
   "cell_type": "code",
   "execution_count": 159,
   "id": "8649fbd9",
   "metadata": {},
   "outputs": [],
   "source": [
    "# Define a function to plot the clusters\n",
    "\n",
    "def plot_clusters(data,labels,centroids,iteration):\n",
    "    pca=PCA(n_components=2)\n",
    "    data_2d=pca.fit_transform(data)\n",
    "    centroids_3d=pca.fit_transform(centroids.T)\n",
    "    clear_output(wait=True)\n",
    "    plt.title(f'Iteration {iteration}')\n",
    "    plt.scatter(x=data_2d[:,0],y=data_2d[:,1],c=labels,figsize=(10,10))\n",
    "    plt.scatter(x=centroids_3d[:,0],y=centroids_3d[:,1])\n",
    "    plt.show()"
   ]
  },
  {
   "cell_type": "code",
   "execution_count": 131,
   "id": "4acc1ee0",
   "metadata": {},
   "outputs": [],
   "source": [
    "# Create a function to initialize centroids\n",
    "# It selects a random value from each column\n",
    "\n",
    "centroids=[]\n",
    "\n",
    "def random_centroids (data,k):\n",
    "    for i in range (k):\n",
    "        centroid=data.apply(lambda x: float(x.sample()))\n",
    "        centroids.append(centroid)\n",
    "    return pd.concat(centroids,axis=1)"
   ]
  },
  {
   "cell_type": "code",
   "execution_count": 132,
   "id": "f295621b",
   "metadata": {},
   "outputs": [
    {
     "data": {
      "image/png": "[encoded data removed]",
      "text/plain": [
       "<Figure size 432x288 with 1 Axes>"
      ]
     },
     "metadata": {
      "needs_background": "light"
     },
     "output_type": "display_data"
    }
   ],
   "source": [
    "max_iterations=100\n",
    "k=3\n",
    "centroids=random_centroids(dataT,k)\n",
    "old_centroids=pd.DataFrame()\n",
    "iteration=1\n",
    "\n",
    "while iteration < max_iterations and not centroids.equals(old_centroids):\n",
    "    old_centroids=centroids\n",
    "    \n",
    "    labels=get_labels(dataT,centroids)\n",
    "    centroids=new_centroids(dataT,labels,k)\n",
    "    plot_clusters(dataT,labels,centroids,iteration)\n",
    "    iteration+=1"
   ]
  },
  {
   "cell_type": "code",
   "execution_count": 133,
   "id": "ecbd0a7f",
   "metadata": {},
   "outputs": [
    {
     "data": {
      "text/html": [
       "<div>\n",
       "<style scoped>\n",
       "    .dataframe tbody tr th:only-of-type {\n",
       "        vertical-align: middle;\n",
       "    }\n",
       "\n",
       "    .dataframe tbody tr th {\n",
       "        vertical-align: top;\n",
       "    }\n",
       "\n",
       "    .dataframe thead th {\n",
       "        text-align: right;\n",
       "    }\n",
       "</style>\n",
       "<table border=\"1\" class=\"dataframe\">\n",
       "  <thead>\n",
       "    <tr style=\"text-align: right;\">\n",
       "      <th></th>\n",
       "      <th>0</th>\n",
       "      <th>1</th>\n",
       "      <th>2</th>\n",
       "    </tr>\n",
       "  </thead>\n",
       "  <tbody>\n",
       "    <tr>\n",
       "      <th>CASES_PROPERTY_STOLEN</th>\n",
       "      <td>1.072552</td>\n",
       "      <td>1.857384</td>\n",
       "      <td>1.362561</td>\n",
       "    </tr>\n",
       "    <tr>\n",
       "      <th>POLICE_INJURED_TOTAL_POLICEMEN</th>\n",
       "      <td>1.062884</td>\n",
       "      <td>1.255637</td>\n",
       "      <td>1.104381</td>\n",
       "    </tr>\n",
       "    <tr>\n",
       "      <th>POLICE_KILLED_TOTAL_POLICEMEN</th>\n",
       "      <td>1.292246</td>\n",
       "      <td>2.303125</td>\n",
       "      <td>1.482705</td>\n",
       "    </tr>\n",
       "    <tr>\n",
       "      <th>TOTAL - DACOITY</th>\n",
       "      <td>1.192659</td>\n",
       "      <td>3.410854</td>\n",
       "      <td>2.919247</td>\n",
       "    </tr>\n",
       "    <tr>\n",
       "      <th>TOTAL - ROBBERY</th>\n",
       "      <td>1.262121</td>\n",
       "      <td>6.347344</td>\n",
       "      <td>3.219833</td>\n",
       "    </tr>\n",
       "    <tr>\n",
       "      <th>TOTAL - BURGLARY</th>\n",
       "      <td>1.464528</td>\n",
       "      <td>6.521981</td>\n",
       "      <td>3.003875</td>\n",
       "    </tr>\n",
       "    <tr>\n",
       "      <th>TOTAL - THEFT</th>\n",
       "      <td>1.299871</td>\n",
       "      <td>6.129770</td>\n",
       "      <td>3.046598</td>\n",
       "    </tr>\n",
       "    <tr>\n",
       "      <th>OTHERS_C</th>\n",
       "      <td>1.447987</td>\n",
       "      <td>3.364162</td>\n",
       "      <td>2.211857</td>\n",
       "    </tr>\n",
       "    <tr>\n",
       "      <th>POPULATION</th>\n",
       "      <td>1.381875</td>\n",
       "      <td>6.421260</td>\n",
       "      <td>3.595464</td>\n",
       "    </tr>\n",
       "    <tr>\n",
       "      <th>AREA_KM2</th>\n",
       "      <td>2.134055</td>\n",
       "      <td>9.334481</td>\n",
       "      <td>4.888393</td>\n",
       "    </tr>\n",
       "    <tr>\n",
       "      <th>LITERACY_RATE</th>\n",
       "      <td>5.324169</td>\n",
       "      <td>5.079050</td>\n",
       "      <td>4.437825</td>\n",
       "    </tr>\n",
       "  </tbody>\n",
       "</table>\n",
       "</div>"
      ],
      "text/plain": [
       "                                       0         1         2\n",
       "CASES_PROPERTY_STOLEN           1.072552  1.857384  1.362561\n",
       "POLICE_INJURED_TOTAL_POLICEMEN  1.062884  1.255637  1.104381\n",
       "POLICE_KILLED_TOTAL_POLICEMEN   1.292246  2.303125  1.482705\n",
       "TOTAL - DACOITY                 1.192659  3.410854  2.919247\n",
       "TOTAL - ROBBERY                 1.262121  6.347344  3.219833\n",
       "TOTAL - BURGLARY                1.464528  6.521981  3.003875\n",
       "TOTAL - THEFT                   1.299871  6.129770  3.046598\n",
       "OTHERS_C                        1.447987  3.364162  2.211857\n",
       "POPULATION                      1.381875  6.421260  3.595464\n",
       "AREA_KM2                        2.134055  9.334481  4.888393\n",
       "LITERACY_RATE                   5.324169  5.079050  4.437825"
      ]
     },
     "execution_count": 133,
     "metadata": {},
     "output_type": "execute_result"
    }
   ],
   "source": [
    "centroids"
   ]
  },
  {
   "cell_type": "code",
   "execution_count": 134,
   "id": "9935a6cd",
   "metadata": {},
   "outputs": [
    {
     "data": {
      "text/html": [
       "<div>\n",
       "<style scoped>\n",
       "    .dataframe tbody tr th:only-of-type {\n",
       "        vertical-align: middle;\n",
       "    }\n",
       "\n",
       "    .dataframe tbody tr th {\n",
       "        vertical-align: top;\n",
       "    }\n",
       "\n",
       "    .dataframe thead th {\n",
       "        text-align: right;\n",
       "    }\n",
       "</style>\n",
       "<table border=\"1\" class=\"dataframe\">\n",
       "  <thead>\n",
       "    <tr style=\"text-align: right;\">\n",
       "      <th></th>\n",
       "      <th>DISTRICT</th>\n",
       "      <th>CASES_PROPERTY_STOLEN</th>\n",
       "      <th>POLICE_INJURED_TOTAL_POLICEMEN</th>\n",
       "      <th>POLICE_KILLED_TOTAL_POLICEMEN</th>\n",
       "      <th>TOTAL - DACOITY</th>\n",
       "      <th>TOTAL - ROBBERY</th>\n",
       "      <th>TOTAL - BURGLARY</th>\n",
       "      <th>TOTAL - THEFT</th>\n",
       "      <th>OTHERS_C</th>\n",
       "      <th>POPULATION</th>\n",
       "      <th>AREA_KM2</th>\n",
       "      <th>LITERACY_RATE</th>\n",
       "    </tr>\n",
       "  </thead>\n",
       "  <tbody>\n",
       "    <tr>\n",
       "      <th>29</th>\n",
       "      <td>CHANGLANG</td>\n",
       "      <td>135.461538</td>\n",
       "      <td>2.0</td>\n",
       "      <td>0.285714</td>\n",
       "      <td>22.0</td>\n",
       "      <td>84.0</td>\n",
       "      <td>248.0</td>\n",
       "      <td>443.0</td>\n",
       "      <td>779.842292</td>\n",
       "      <td>1098328</td>\n",
       "      <td>83743</td>\n",
       "      <td>54.3</td>\n",
       "    </tr>\n",
       "    <tr>\n",
       "      <th>30</th>\n",
       "      <td>DIBANG VALLEY</td>\n",
       "      <td>135.461538</td>\n",
       "      <td>2.0</td>\n",
       "      <td>0.285714</td>\n",
       "      <td>22.0</td>\n",
       "      <td>84.0</td>\n",
       "      <td>248.0</td>\n",
       "      <td>443.0</td>\n",
       "      <td>767.842292</td>\n",
       "      <td>1098328</td>\n",
       "      <td>83743</td>\n",
       "      <td>54.3</td>\n",
       "    </tr>\n",
       "    <tr>\n",
       "      <th>31</th>\n",
       "      <td>KAMENG EAST</td>\n",
       "      <td>135.461538</td>\n",
       "      <td>2.0</td>\n",
       "      <td>0.285714</td>\n",
       "      <td>22.0</td>\n",
       "      <td>84.0</td>\n",
       "      <td>248.0</td>\n",
       "      <td>443.0</td>\n",
       "      <td>753.842292</td>\n",
       "      <td>1098328</td>\n",
       "      <td>83743</td>\n",
       "      <td>54.3</td>\n",
       "    </tr>\n",
       "    <tr>\n",
       "      <th>32</th>\n",
       "      <td>KAMENG WEST</td>\n",
       "      <td>135.461538</td>\n",
       "      <td>2.0</td>\n",
       "      <td>0.285714</td>\n",
       "      <td>22.0</td>\n",
       "      <td>84.0</td>\n",
       "      <td>248.0</td>\n",
       "      <td>443.0</td>\n",
       "      <td>747.842292</td>\n",
       "      <td>1098328</td>\n",
       "      <td>83743</td>\n",
       "      <td>54.3</td>\n",
       "    </tr>\n",
       "    <tr>\n",
       "      <th>33</th>\n",
       "      <td>LOHIT</td>\n",
       "      <td>135.461538</td>\n",
       "      <td>2.0</td>\n",
       "      <td>0.285714</td>\n",
       "      <td>22.0</td>\n",
       "      <td>84.0</td>\n",
       "      <td>248.0</td>\n",
       "      <td>443.0</td>\n",
       "      <td>777.842292</td>\n",
       "      <td>1098328</td>\n",
       "      <td>83743</td>\n",
       "      <td>54.3</td>\n",
       "    </tr>\n",
       "    <tr>\n",
       "      <th>...</th>\n",
       "      <td>...</td>\n",
       "      <td>...</td>\n",
       "      <td>...</td>\n",
       "      <td>...</td>\n",
       "      <td>...</td>\n",
       "      <td>...</td>\n",
       "      <td>...</td>\n",
       "      <td>...</td>\n",
       "      <td>...</td>\n",
       "      <td>...</td>\n",
       "      <td>...</td>\n",
       "      <td>...</td>\n",
       "    </tr>\n",
       "    <tr>\n",
       "      <th>33255</th>\n",
       "      <td>PHEK</td>\n",
       "      <td>152.615385</td>\n",
       "      <td>0.0</td>\n",
       "      <td>0.000000</td>\n",
       "      <td>3.0</td>\n",
       "      <td>63.0</td>\n",
       "      <td>62.0</td>\n",
       "      <td>397.0</td>\n",
       "      <td>465.023504</td>\n",
       "      <td>1981337</td>\n",
       "      <td>16579</td>\n",
       "      <td>74.8</td>\n",
       "    </tr>\n",
       "    <tr>\n",
       "      <th>33256</th>\n",
       "      <td>TUENSANG</td>\n",
       "      <td>152.615385</td>\n",
       "      <td>0.0</td>\n",
       "      <td>0.000000</td>\n",
       "      <td>3.0</td>\n",
       "      <td>63.0</td>\n",
       "      <td>62.0</td>\n",
       "      <td>397.0</td>\n",
       "      <td>464.023504</td>\n",
       "      <td>1981337</td>\n",
       "      <td>16579</td>\n",
       "      <td>74.8</td>\n",
       "    </tr>\n",
       "    <tr>\n",
       "      <th>33257</th>\n",
       "      <td>WOKHA</td>\n",
       "      <td>152.615385</td>\n",
       "      <td>0.0</td>\n",
       "      <td>0.000000</td>\n",
       "      <td>3.0</td>\n",
       "      <td>63.0</td>\n",
       "      <td>62.0</td>\n",
       "      <td>397.0</td>\n",
       "      <td>464.023504</td>\n",
       "      <td>1981337</td>\n",
       "      <td>16579</td>\n",
       "      <td>74.8</td>\n",
       "    </tr>\n",
       "    <tr>\n",
       "      <th>33258</th>\n",
       "      <td>ZUNHEBOTO</td>\n",
       "      <td>152.615385</td>\n",
       "      <td>0.0</td>\n",
       "      <td>0.000000</td>\n",
       "      <td>3.0</td>\n",
       "      <td>63.0</td>\n",
       "      <td>62.0</td>\n",
       "      <td>397.0</td>\n",
       "      <td>464.023504</td>\n",
       "      <td>1981337</td>\n",
       "      <td>16579</td>\n",
       "      <td>74.8</td>\n",
       "    </tr>\n",
       "    <tr>\n",
       "      <th>33259</th>\n",
       "      <td>TOTAL</td>\n",
       "      <td>152.615385</td>\n",
       "      <td>0.0</td>\n",
       "      <td>0.000000</td>\n",
       "      <td>3.0</td>\n",
       "      <td>63.0</td>\n",
       "      <td>62.0</td>\n",
       "      <td>397.0</td>\n",
       "      <td>428.023504</td>\n",
       "      <td>1981337</td>\n",
       "      <td>16579</td>\n",
       "      <td>74.8</td>\n",
       "    </tr>\n",
       "  </tbody>\n",
       "</table>\n",
       "<p>9465 rows × 12 columns</p>\n",
       "</div>"
      ],
      "text/plain": [
       "            DISTRICT  CASES_PROPERTY_STOLEN  POLICE_INJURED_TOTAL_POLICEMEN  \\\n",
       "29         CHANGLANG             135.461538                             2.0   \n",
       "30     DIBANG VALLEY             135.461538                             2.0   \n",
       "31       KAMENG EAST             135.461538                             2.0   \n",
       "32       KAMENG WEST             135.461538                             2.0   \n",
       "33             LOHIT             135.461538                             2.0   \n",
       "...              ...                    ...                             ...   \n",
       "33255           PHEK             152.615385                             0.0   \n",
       "33256       TUENSANG             152.615385                             0.0   \n",
       "33257          WOKHA             152.615385                             0.0   \n",
       "33258      ZUNHEBOTO             152.615385                             0.0   \n",
       "33259          TOTAL             152.615385                             0.0   \n",
       "\n",
       "       POLICE_KILLED_TOTAL_POLICEMEN  TOTAL - DACOITY  TOTAL - ROBBERY  \\\n",
       "29                          0.285714             22.0             84.0   \n",
       "30                          0.285714             22.0             84.0   \n",
       "31                          0.285714             22.0             84.0   \n",
       "32                          0.285714             22.0             84.0   \n",
       "33                          0.285714             22.0             84.0   \n",
       "...                              ...              ...              ...   \n",
       "33255                       0.000000              3.0             63.0   \n",
       "33256                       0.000000              3.0             63.0   \n",
       "33257                       0.000000              3.0             63.0   \n",
       "33258                       0.000000              3.0             63.0   \n",
       "33259                       0.000000              3.0             63.0   \n",
       "\n",
       "       TOTAL - BURGLARY  TOTAL - THEFT    OTHERS_C  POPULATION  AREA_KM2  \\\n",
       "29                248.0          443.0  779.842292     1098328     83743   \n",
       "30                248.0          443.0  767.842292     1098328     83743   \n",
       "31                248.0          443.0  753.842292     1098328     83743   \n",
       "32                248.0          443.0  747.842292     1098328     83743   \n",
       "33                248.0          443.0  777.842292     1098328     83743   \n",
       "...                 ...            ...         ...         ...       ...   \n",
       "33255              62.0          397.0  465.023504     1981337     16579   \n",
       "33256              62.0          397.0  464.023504     1981337     16579   \n",
       "33257              62.0          397.0  464.023504     1981337     16579   \n",
       "33258              62.0          397.0  464.023504     1981337     16579   \n",
       "33259              62.0          397.0  428.023504     1981337     16579   \n",
       "\n",
       "       LITERACY_RATE  \n",
       "29              54.3  \n",
       "30              54.3  \n",
       "31              54.3  \n",
       "32              54.3  \n",
       "33              54.3  \n",
       "...              ...  \n",
       "33255           74.8  \n",
       "33256           74.8  \n",
       "33257           74.8  \n",
       "33258           74.8  \n",
       "33259           74.8  \n",
       "\n",
       "[9465 rows x 12 columns]"
      ]
     },
     "execution_count": 134,
     "metadata": {},
     "output_type": "execute_result"
    }
   ],
   "source": [
    "MasterFile[labels==0][['DISTRICT']+FeaturesR]"
   ]
  },
  {
   "cell_type": "code",
   "execution_count": 145,
   "id": "fa829566",
   "metadata": {},
   "outputs": [],
   "source": [
    "# Checking Districts and States in Cluster 0.\n",
    "CLSTR0=MasterFile[labels==0][['DISTRICT','STATE/UT']]"
   ]
  },
  {
   "cell_type": "code",
   "execution_count": 152,
   "id": "56f2a65c",
   "metadata": {},
   "outputs": [
    {
     "data": {
      "text/plain": [
       "(9465, 2)"
      ]
     },
     "execution_count": 152,
     "metadata": {},
     "output_type": "execute_result"
    }
   ],
   "source": [
    "# Check Cluster 0 dataframe dimensions\n",
    "CLSTR0.shape"
   ]
  },
  {
   "cell_type": "markdown",
   "id": "cc15ba56",
   "metadata": {},
   "source": [
    "There are 9465 Districts in Cluster 0, which are located in the States below:"
   ]
  },
  {
   "cell_type": "code",
   "execution_count": 148,
   "id": "ed6be345",
   "metadata": {},
   "outputs": [
    {
     "data": {
      "image/png": "[encoded data removed]",
      "text/plain": [
       "<Figure size 720x504 with 1 Axes>"
      ]
     },
     "metadata": {
      "needs_background": "light"
     },
     "output_type": "display_data"
    }
   ],
   "source": [
    "# Check which are the States per Districts count in Cluster 0\n",
    "\n",
    "fig,ax =plt.subplots(figsize=(10,7))\n",
    "grouped=CLSTR0[['STATE/UT','DISTRICT']].groupby('STATE/UT').size(). \\\n",
    "sort_values(ascending=False).plot(kind='barh',ax=ax,color=\"skyblue\")"
   ]
  },
  {
   "cell_type": "markdown",
   "id": "8dd13c64",
   "metadata": {},
   "source": [
    "28% of Districts, just 8 points above Districts in Sensitive areas, can be classified as peaceful areas. Mainly because, they have the least amount of crime record, which could be explained because these Districts are smaller than the Districts in other clusters but also, because they have a high literacy rate."
   ]
  },
  {
   "cell_type": "code",
   "execution_count": 153,
   "id": "024fef7c",
   "metadata": {},
   "outputs": [],
   "source": [
    "# Checking Districts and States in Cluster 1.\n",
    "CLSTR1=MasterFile[labels==1][['DISTRICT','STATE/UT']]"
   ]
  },
  {
   "cell_type": "code",
   "execution_count": 154,
   "id": "87b5679f",
   "metadata": {},
   "outputs": [
    {
     "data": {
      "text/plain": [
       "(6689, 2)"
      ]
     },
     "execution_count": 154,
     "metadata": {},
     "output_type": "execute_result"
    }
   ],
   "source": [
    "# Check Cluster 1 dataframe dimensions\n",
    "CLSTR1.shape"
   ]
  },
  {
   "cell_type": "markdown",
   "id": "9e7d4f93",
   "metadata": {},
   "source": [
    "There are 6689 Districts in Cluster 1, which are located in the States below:"
   ]
  },
  {
   "cell_type": "code",
   "execution_count": 155,
   "id": "75aacd61",
   "metadata": {},
   "outputs": [
    {
     "data": {
      "image/png": "[encoded data removed]",
      "text/plain": [
       "<Figure size 720x504 with 1 Axes>"
      ]
     },
     "metadata": {
      "needs_background": "light"
     },
     "output_type": "display_data"
    }
   ],
   "source": [
    "# Check which are the States per Districts count in Cluster 1\n",
    "\n",
    "fig,ax =plt.subplots(figsize=(10,7))\n",
    "grouped=CLSTR1[['STATE/UT','DISTRICT']].groupby('STATE/UT').size(). \\\n",
    "sort_values(ascending=False).plot(kind='barh',ax=ax,color=\"skyblue\")"
   ]
  },
  {
   "cell_type": "markdown",
   "id": "acc8c77e",
   "metadata": {},
   "source": [
    "- The data shows that 20% of the Districts in the dataset are sensitive, given that high number of crimes have been registered, which can be explained by a large population and area per km2, where certain areas may have been unattended.\n",
    "\n",
    "- Most of this districts belong to MAHARASHTRA State, UTTAR PRADESH and MADHYA PRADESH.\n"
   ]
  },
  {
   "cell_type": "code",
   "execution_count": 156,
   "id": "f6e5795d",
   "metadata": {},
   "outputs": [],
   "source": [
    "# Checking Districts and States in Cluster 2.\n",
    "CLSTR2=MasterFile[labels==2][['DISTRICT','STATE/UT']]"
   ]
  },
  {
   "cell_type": "code",
   "execution_count": 157,
   "id": "2e2e4026",
   "metadata": {},
   "outputs": [
    {
     "data": {
      "text/plain": [
       "(17242, 2)"
      ]
     },
     "execution_count": 157,
     "metadata": {},
     "output_type": "execute_result"
    }
   ],
   "source": [
    "# Check Cluster 2 dataframe dimensions\n",
    "CLSTR2.shape"
   ]
  },
  {
   "cell_type": "markdown",
   "id": "20d63dda",
   "metadata": {},
   "source": [
    "There are 17242 Districts in Cluster 2, which are located in the States below:"
   ]
  },
  {
   "cell_type": "code",
   "execution_count": 158,
   "id": "b6fe5683",
   "metadata": {},
   "outputs": [
    {
     "data": {
      "image/png": "[encoded data removed]",
      "text/plain": [
       "<Figure size 720x504 with 1 Axes>"
      ]
     },
     "metadata": {
      "needs_background": "light"
     },
     "output_type": "display_data"
    }
   ],
   "source": [
    "# Check which are the States per Districts count in Cluster 2\n",
    "\n",
    "fig,ax =plt.subplots(figsize=(10,7))\n",
    "grouped=CLSTR2[['STATE/UT','DISTRICT']].groupby('STATE/UT').size(). \\\n",
    "sort_values(ascending=False).plot(kind='barh',ax=ax,color=\"skyblue\")"
   ]
  },
  {
   "cell_type": "markdown",
   "id": "c657c7b3",
   "metadata": {},
   "source": [
    "- 52% of the Districts in the dataset can be classified as Moderate, given that a moderate number of crimes have been registered in comparison to the Districts in the other clusters. However, these Districts have a low literacy rate.\n",
    " \n",
    "- Most of this districts belong to the States shown in the graph above.\n"
   ]
  },
  {
   "cell_type": "code",
   "execution_count": 135,
   "id": "9e60193b",
   "metadata": {},
   "outputs": [],
   "source": [
    "from sklearn.cluster import KMeans"
   ]
  },
  {
   "cell_type": "code",
   "execution_count": 136,
   "id": "4f68a124",
   "metadata": {},
   "outputs": [
    {
     "data": {
      "text/html": [
       "<style>#sk-container-id-6 {color: black;}#sk-container-id-6 pre{padding: 0;}#sk-container-id-6 div.sk-toggleable {background-color: white;}#sk-container-id-6 label.sk-toggleable__label {cursor: pointer;display: block;width: 100%;margin-bottom: 0;padding: 0.3em;box-sizing: border-box;text-align: center;}#sk-container-id-6 label.sk-toggleable__label-arrow:before {content: \"▸\";float: left;margin-right: 0.25em;color: #696969;}#sk-container-id-6 label.sk-toggleable__label-arrow:hover:before {color: black;}#sk-container-id-6 div.sk-estimator:hover label.sk-toggleable__label-arrow:before {color: black;}#sk-container-id-6 div.sk-toggleable__content {max-height: 0;max-width: 0;overflow: hidden;text-align: left;background-color: #f0f8ff;}#sk-container-id-6 div.sk-toggleable__content pre {margin: 0.2em;color: black;border-radius: 0.25em;background-color: #f0f8ff;}#sk-container-id-6 input.sk-toggleable__control:checked~div.sk-toggleable__content {max-height: 200px;max-width: 100%;overflow: auto;}#sk-container-id-6 input.sk-toggleable__control:checked~label.sk-toggleable__label-arrow:before {content: \"▾\";}#sk-container-id-6 div.sk-estimator input.sk-toggleable__control:checked~label.sk-toggleable__label {background-color: #d4ebff;}#sk-container-id-6 div.sk-label input.sk-toggleable__control:checked~label.sk-toggleable__label {background-color: #d4ebff;}#sk-container-id-6 input.sk-hidden--visually {border: 0;clip: rect(1px 1px 1px 1px);clip: rect(1px, 1px, 1px, 1px);height: 1px;margin: -1px;overflow: hidden;padding: 0;position: absolute;width: 1px;}#sk-container-id-6 div.sk-estimator {font-family: monospace;background-color: #f0f8ff;border: 1px dotted black;border-radius: 0.25em;box-sizing: border-box;margin-bottom: 0.5em;}#sk-container-id-6 div.sk-estimator:hover {background-color: #d4ebff;}#sk-container-id-6 div.sk-parallel-item::after {content: \"\";width: 100%;border-bottom: 1px solid gray;flex-grow: 1;}#sk-container-id-6 div.sk-label:hover label.sk-toggleable__label {background-color: #d4ebff;}#sk-container-id-6 div.sk-serial::before {content: \"\";position: absolute;border-left: 1px solid gray;box-sizing: border-box;top: 0;bottom: 0;left: 50%;z-index: 0;}#sk-container-id-6 div.sk-serial {display: flex;flex-direction: column;align-items: center;background-color: white;padding-right: 0.2em;padding-left: 0.2em;position: relative;}#sk-container-id-6 div.sk-item {position: relative;z-index: 1;}#sk-container-id-6 div.sk-parallel {display: flex;align-items: stretch;justify-content: center;background-color: white;position: relative;}#sk-container-id-6 div.sk-item::before, #sk-container-id-6 div.sk-parallel-item::before {content: \"\";position: absolute;border-left: 1px solid gray;box-sizing: border-box;top: 0;bottom: 0;left: 50%;z-index: -1;}#sk-container-id-6 div.sk-parallel-item {display: flex;flex-direction: column;z-index: 1;position: relative;background-color: white;}#sk-container-id-6 div.sk-parallel-item:first-child::after {align-self: flex-end;width: 50%;}#sk-container-id-6 div.sk-parallel-item:last-child::after {align-self: flex-start;width: 50%;}#sk-container-id-6 div.sk-parallel-item:only-child::after {width: 0;}#sk-container-id-6 div.sk-dashed-wrapped {border: 1px dashed gray;margin: 0 0.4em 0.5em 0.4em;box-sizing: border-box;padding-bottom: 0.4em;background-color: white;}#sk-container-id-6 div.sk-label label {font-family: monospace;font-weight: bold;display: inline-block;line-height: 1.2em;}#sk-container-id-6 div.sk-label-container {text-align: center;}#sk-container-id-6 div.sk-container {/* jupyter's `normalize.less` sets `[hidden] { display: none; }` but bootstrap.min.css set `[hidden] { display: none !important; }` so we also need the `!important` here to be able to override the default hidden behavior on the sphinx rendered scikit-learn.org. See: https://github.com/scikit-learn/scikit-learn/issues/21755 */display: inline-block !important;position: relative;}#sk-container-id-6 div.sk-text-repr-fallback {display: none;}</style><div id=\"sk-container-id-6\" class=\"sk-top-container\"><div class=\"sk-text-repr-fallback\"><pre>KMeans(n_clusters=3)</pre><b>In a Jupyter environment, please rerun this cell to show the HTML representation or trust the notebook. <br />On GitHub, the HTML representation is unable to render, please try loading this page with nbviewer.org.</b></div><div class=\"sk-container\" hidden><div class=\"sk-item\"><div class=\"sk-estimator sk-toggleable\"><input class=\"sk-toggleable__control sk-hidden--visually\" id=\"sk-estimator-id-6\" type=\"checkbox\" checked><label for=\"sk-estimator-id-6\" class=\"sk-toggleable__label sk-toggleable__label-arrow\">KMeans</label><div class=\"sk-toggleable__content\"><pre>KMeans(n_clusters=3)</pre></div></div></div></div></div>"
      ],
      "text/plain": [
       "KMeans(n_clusters=3)"
      ]
     },
     "execution_count": 136,
     "metadata": {},
     "output_type": "execute_result"
    }
   ],
   "source": [
    "kmeans=KMeans(3)\n",
    "kmeans.fit(dataT)"
   ]
  },
  {
   "cell_type": "code",
   "execution_count": 137,
   "id": "02a0d781",
   "metadata": {},
   "outputs": [],
   "source": [
    "centroids=kmeans.cluster_centers_"
   ]
  },
  {
   "cell_type": "code",
   "execution_count": 138,
   "id": "74b19866",
   "metadata": {},
   "outputs": [
    {
     "data": {
      "text/html": [
       "<div>\n",
       "<style scoped>\n",
       "    .dataframe tbody tr th:only-of-type {\n",
       "        vertical-align: middle;\n",
       "    }\n",
       "\n",
       "    .dataframe tbody tr th {\n",
       "        vertical-align: top;\n",
       "    }\n",
       "\n",
       "    .dataframe thead th {\n",
       "        text-align: right;\n",
       "    }\n",
       "</style>\n",
       "<table border=\"1\" class=\"dataframe\">\n",
       "  <thead>\n",
       "    <tr style=\"text-align: right;\">\n",
       "      <th></th>\n",
       "      <th>0</th>\n",
       "      <th>1</th>\n",
       "      <th>2</th>\n",
       "    </tr>\n",
       "  </thead>\n",
       "  <tbody>\n",
       "    <tr>\n",
       "      <th>CASES_PROPERTY_STOLEN</th>\n",
       "      <td>1.114921</td>\n",
       "      <td>1.906598</td>\n",
       "      <td>1.413241</td>\n",
       "    </tr>\n",
       "    <tr>\n",
       "      <th>POLICE_INJURED_TOTAL_POLICEMEN</th>\n",
       "      <td>1.073501</td>\n",
       "      <td>1.271565</td>\n",
       "      <td>1.128352</td>\n",
       "    </tr>\n",
       "    <tr>\n",
       "      <th>POLICE_KILLED_TOTAL_POLICEMEN</th>\n",
       "      <td>1.412157</td>\n",
       "      <td>2.392918</td>\n",
       "      <td>1.526902</td>\n",
       "    </tr>\n",
       "    <tr>\n",
       "      <th>TOTAL - DACOITY</th>\n",
       "      <td>1.548377</td>\n",
       "      <td>3.740889</td>\n",
       "      <td>3.470864</td>\n",
       "    </tr>\n",
       "    <tr>\n",
       "      <th>TOTAL - ROBBERY</th>\n",
       "      <td>1.532448</td>\n",
       "      <td>6.474200</td>\n",
       "      <td>3.727654</td>\n",
       "    </tr>\n",
       "    <tr>\n",
       "      <th>TOTAL - BURGLARY</th>\n",
       "      <td>1.887971</td>\n",
       "      <td>7.015629</td>\n",
       "      <td>3.325389</td>\n",
       "    </tr>\n",
       "    <tr>\n",
       "      <th>TOTAL - THEFT</th>\n",
       "      <td>1.553303</td>\n",
       "      <td>6.430527</td>\n",
       "      <td>3.476696</td>\n",
       "    </tr>\n",
       "    <tr>\n",
       "      <th>OTHERS_C</th>\n",
       "      <td>1.557786</td>\n",
       "      <td>3.440438</td>\n",
       "      <td>2.351400</td>\n",
       "    </tr>\n",
       "    <tr>\n",
       "      <th>POPULATION</th>\n",
       "      <td>1.647594</td>\n",
       "      <td>6.787147</td>\n",
       "      <td>4.112600</td>\n",
       "    </tr>\n",
       "    <tr>\n",
       "      <th>AREA_KM2</th>\n",
       "      <td>2.713322</td>\n",
       "      <td>9.381777</td>\n",
       "      <td>5.272659</td>\n",
       "    </tr>\n",
       "    <tr>\n",
       "      <th>LITERACY_RATE</th>\n",
       "      <td>5.427821</td>\n",
       "      <td>5.329210</td>\n",
       "      <td>4.664255</td>\n",
       "    </tr>\n",
       "  </tbody>\n",
       "</table>\n",
       "</div>"
      ],
      "text/plain": [
       "                                       0         1         2\n",
       "CASES_PROPERTY_STOLEN           1.114921  1.906598  1.413241\n",
       "POLICE_INJURED_TOTAL_POLICEMEN  1.073501  1.271565  1.128352\n",
       "POLICE_KILLED_TOTAL_POLICEMEN   1.412157  2.392918  1.526902\n",
       "TOTAL - DACOITY                 1.548377  3.740889  3.470864\n",
       "TOTAL - ROBBERY                 1.532448  6.474200  3.727654\n",
       "TOTAL - BURGLARY                1.887971  7.015629  3.325389\n",
       "TOTAL - THEFT                   1.553303  6.430527  3.476696\n",
       "OTHERS_C                        1.557786  3.440438  2.351400\n",
       "POPULATION                      1.647594  6.787147  4.112600\n",
       "AREA_KM2                        2.713322  9.381777  5.272659\n",
       "LITERACY_RATE                   5.427821  5.329210  4.664255"
      ]
     },
     "execution_count": 138,
     "metadata": {},
     "output_type": "execute_result"
    }
   ],
   "source": [
    "# Store data in a DataFrame\n",
    "\n",
    "pd.DataFrame(centroids,columns=FeaturesR).T"
   ]
  }
 ],
 "metadata": {
  "kernelspec": {
   "display_name": "Python 3",
   "language": "python",
   "name": "python3"
  },
  "language_info": {
   "codemirror_mode": {
    "name": "ipython",
    "version": 3
   },
   "file_extension": ".py",
   "mimetype": "text/x-python",
   "name": "python",
   "nbconvert_exporter": "python",
   "pygments_lexer": "ipython3",
   "version": "3.8.8"
  }
 },
 "nbformat": 4,
 "nbformat_minor": 5
}
