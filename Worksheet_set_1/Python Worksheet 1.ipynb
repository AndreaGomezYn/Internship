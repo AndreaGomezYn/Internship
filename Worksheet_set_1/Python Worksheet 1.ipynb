{
 "cells": [
  {
   "cell_type": "markdown",
   "id": "176bd031",
   "metadata": {},
   "source": [
    "# PYTHON – WORKSHEET 1"
   ]
  },
  {
   "cell_type": "markdown",
   "id": "2eb2200a",
   "metadata": {},
   "source": [
    "11. Write a python program to find the factorial of a number."
   ]
  },
  {
   "cell_type": "code",
   "execution_count": 133,
   "id": "27cdfcff",
   "metadata": {},
   "outputs": [
    {
     "name": "stdout",
     "output_type": "stream",
     "text": [
      "Enter a number: 6\n",
      "The factorial of 6 is 720\n"
     ]
    }
   ],
   "source": [
    "x=int(input(\"Enter a number: \"))\n",
    "num=0\n",
    "r=1\n",
    "list_F=[]\n",
    "while num<x:\n",
    "    num=num+1\n",
    "    list_F.append(num)\n",
    "for i in list_F:\n",
    "    r=r*i\n",
    "print (\"The factorial of {} is\".format(x), r)"
   ]
  },
  {
   "cell_type": "markdown",
   "id": "85e30b9e",
   "metadata": {},
   "source": [
    "12. Write a python program to find whether a number is prime or composite."
   ]
  },
  {
   "cell_type": "code",
   "execution_count": 134,
   "id": "17a95ebc",
   "metadata": {},
   "outputs": [
    {
     "name": "stdout",
     "output_type": "stream",
     "text": [
      "Enter a number: 2\n",
      "2 is a Prime Number\n"
     ]
    }
   ],
   "source": [
    "num=int(input(\"Enter a number: \"))\n",
    "flag=False\n",
    "\n",
    "if num==0 or num==1:\n",
    "    print(num, \"is neither Prime nor Composite Number\")\n",
    "elif num>1:\n",
    "    for i in range(2,num):\n",
    "        if (num%i==0):\n",
    "            # Flag is set to True when a factor is found\n",
    "            flag=True\n",
    "            # Break the loop\n",
    "            break\n",
    "    if flag:\n",
    "        print(num, \"is a Composite Number\")\n",
    "\n",
    "    else:\n",
    "        print(num, \"is a Prime Number\")\n",
    "            "
   ]
  },
  {
   "cell_type": "markdown",
   "id": "65db297c",
   "metadata": {},
   "source": [
    "13. Write a python program to check whether a given string is palindrome or not."
   ]
  },
  {
   "cell_type": "code",
   "execution_count": 135,
   "id": "fccd7ea2",
   "metadata": {},
   "outputs": [
    {
     "name": "stdout",
     "output_type": "stream",
     "text": [
      "Enter a word to check if it is palindrome: Madam\n",
      "madam is a palindrome\n"
     ]
    }
   ],
   "source": [
    "word=input(\"Enter a word to check if it is palindrome: \").casefold()\n",
    "\n",
    "if word==word[::-1]:\n",
    "    print(\"{} is a palindrome\".format(word))\n",
    "else:\n",
    "    print(\"{} is not a palindrome\".format(word))\n"
   ]
  },
  {
   "cell_type": "markdown",
   "id": "cce80b2d",
   "metadata": {},
   "source": [
    "14. Write a Python program to get the third side of right-angled triangle from two given sides."
   ]
  },
  {
   "cell_type": "code",
   "execution_count": 132,
   "id": "cd283bd8",
   "metadata": {},
   "outputs": [
    {
     "name": "stdout",
     "output_type": "stream",
     "text": [
      "Hypotenuse=9.9\n",
      "Adjacent_side=5.66\n",
      "Opposite_side=5.66\n"
     ]
    }
   ],
   "source": [
    "import math\n",
    "\n",
    "# Define a function to determine which side is missing and calculate that missing value accordingly\n",
    "def sides(hypotenuse,adjacent_s,opposite_s):\n",
    "    if hypotenuse==x:\n",
    "        return ('Hypotenuse='+str(round(math.sqrt(adjacent_s**2+opposite_s**2),2)))\n",
    "    elif adjacent_s==x:\n",
    "        return ('Adjacent_side='+str(round(math.sqrt(hypotenuse**2-opposite_s**2),2)))\n",
    "    elif opposite_s==x:\n",
    "        return ('Opposite_side='+str(round(math.sqrt(hypotenuse**2-adjacent_s**2),2)))\n",
    "\n",
    "print(sides(x,7,7))\n",
    "print(sides(9,x,7))\n",
    "print(sides(9,7,x))"
   ]
  },
  {
   "cell_type": "markdown",
   "id": "5a034ecf",
   "metadata": {},
   "source": [
    "15. Write a python program to print the frequency of each of the characters present in a given string."
   ]
  },
  {
   "cell_type": "code",
   "execution_count": 126,
   "id": "dd5438b8",
   "metadata": {},
   "outputs": [
    {
     "name": "stdout",
     "output_type": "stream",
     "text": [
      "Enter a string to print the frequency of each of the characters present in it: Andrea\n",
      "Count of all characters in Andrea is :\n",
      " {'a': 2, 'n': 1, 'd': 1, 'r': 1, 'e': 1}\n"
     ]
    }
   ],
   "source": [
    "string=str(input(\"Enter a string to print the frequency of each of the characters present in it: \"))\n",
    "#Create an empty dictionary\n",
    "dict_str={}\n",
    "\n",
    "for i in string.casefold():\n",
    "    if i in dict_str:\n",
    "        dict_str[i]+=1\n",
    "    else:\n",
    "        dict_str[i]=1\n",
    "\n",
    "print(\"Count of all characters in {} is :\\n\".format(string),dict_str)"
   ]
  }
 ],
 "metadata": {
  "kernelspec": {
   "display_name": "Python 3",
   "language": "python",
   "name": "python3"
  },
  "language_info": {
   "codemirror_mode": {
    "name": "ipython",
    "version": 3
   },
   "file_extension": ".py",
   "mimetype": "text/x-python",
   "name": "python",
   "nbconvert_exporter": "python",
   "pygments_lexer": "ipython3",
   "version": "3.8.8"
  }
 },
 "nbformat": 4,
 "nbformat_minor": 5
}
