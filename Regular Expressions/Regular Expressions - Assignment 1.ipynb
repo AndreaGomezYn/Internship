{
 "cells": [
  {
   "cell_type": "code",
   "execution_count": 1,
   "id": "e18b407c",
   "metadata": {},
   "outputs": [],
   "source": [
    "import regex as re"
   ]
  },
  {
   "cell_type": "code",
   "execution_count": null,
   "id": "61b12a14",
   "metadata": {},
   "outputs": [],
   "source": [
    "# https://www.programiz.com/python-programming/regex"
   ]
  },
  {
   "cell_type": "markdown",
   "id": "0f5561b1",
   "metadata": {},
   "source": [
    "#### Question 1- Write a Python program to check that a string contains only a certain set of characters (in this case a-z, A-Z and 0-9)."
   ]
  },
  {
   "cell_type": "code",
   "execution_count": 78,
   "id": "0b49e97d",
   "metadata": {},
   "outputs": [
    {
     "name": "stdout",
     "output_type": "stream",
     "text": [
      "False\n",
      "True\n"
     ]
    }
   ],
   "source": [
    "def check_characters (string):\n",
    "    pattern='[^a-zA-Z0-9]'\n",
    "    c_check=re.compile(pattern)\n",
    "    string=c_check.search(string)\n",
    "    #return bool(c_check.search(pattern,string))\n",
    "    return not bool(string)\n",
    "\n",
    "print(check_characters(\"*&%\"))\n",
    "print(check_characters(\"Andrea96\"))"
   ]
  },
  {
   "cell_type": "markdown",
   "id": "22558580",
   "metadata": {},
   "source": [
    "#### Question 2- Create a function in python that matches a string that has an a followed by zero or more b's"
   ]
  },
  {
   "cell_type": "code",
   "execution_count": 31,
   "id": "16dc56c6",
   "metadata": {},
   "outputs": [
    {
     "name": "stdout",
     "output_type": "stream",
     "text": [
      "It's a match\n"
     ]
    }
   ],
   "source": [
    "def condition_2(string):\n",
    "    pattern='ab*?'\n",
    "    if re.search(pattern,string):\n",
    "        return \"It's a match\"\n",
    "    else:\n",
    "        return \"No match found\"\n",
    "    \n",
    "print(condition_2(\"rabbit\"))\n",
    "        "
   ]
  },
  {
   "cell_type": "markdown",
   "id": "810401c0",
   "metadata": {},
   "source": [
    "#### Question 3-  Create a function in python that matches a string that has an a followed by one or more b's"
   ]
  },
  {
   "cell_type": "code",
   "execution_count": 54,
   "id": "2d4e8398",
   "metadata": {},
   "outputs": [
    {
     "name": "stdout",
     "output_type": "stream",
     "text": [
      "It's a match\n",
      "It's a match\n"
     ]
    }
   ],
   "source": [
    "def condition_3(string):\n",
    "    pattern='ab+'\n",
    "    if re.search(pattern,string):\n",
    "        return \"It's a match\"\n",
    "    else:\n",
    "        return \"No match found\"\n",
    "    \n",
    "print(condition_3(\"habit\"))\n",
    "print(condition_3(\"rabbit\"))"
   ]
  },
  {
   "cell_type": "markdown",
   "id": "c90214e9",
   "metadata": {},
   "source": [
    "#### Question 4- Create a function in Python and use RegEx that matches a string that has an a followed by zero or one 'b'."
   ]
  },
  {
   "cell_type": "code",
   "execution_count": 107,
   "id": "09206176",
   "metadata": {},
   "outputs": [
    {
     "name": "stdout",
     "output_type": "stream",
     "text": [
      "It's a match\n",
      "It's a match\n"
     ]
    }
   ],
   "source": [
    "def condition_4(string):\n",
    "    pattern='ab?'\n",
    "    if re.search(pattern,string):\n",
    "        return \"It's a match\"\n",
    "    else:\n",
    "        return \"No match found\"\n",
    "    \n",
    "print(condition_4(\"habit\"))\n",
    "print(condition_4(\"rabbit\"))"
   ]
  },
  {
   "cell_type": "markdown",
   "id": "7e26177d",
   "metadata": {},
   "source": [
    "#### Question 5- Write a Python program that matches a string that has an a followed by three 'b'."
   ]
  },
  {
   "cell_type": "code",
   "execution_count": 112,
   "id": "1eda2e4c",
   "metadata": {},
   "outputs": [
    {
     "name": "stdout",
     "output_type": "stream",
     "text": [
      "No match found\n",
      "It's a match\n",
      "It's a match\n"
     ]
    }
   ],
   "source": [
    "def condition_5(string):\n",
    "    pattern='ab{3}'\n",
    "    if re.search(pattern,string):\n",
    "        return \"It's a match\"\n",
    "    else:\n",
    "        return \"No match found\"\n",
    "    \n",
    "print(condition_5(\"habit\"))\n",
    "print(condition_5(\"rabbbit\"))\n",
    "print(condition_5(\"rabbbbit\"))"
   ]
  },
  {
   "cell_type": "markdown",
   "id": "59d1fb96",
   "metadata": {},
   "source": [
    "#### Question 6- Write a regular expression in Python to split a string into uppercase letters.\n",
    "###### Sample text: “ImportanceOfRegularExpressionsInPython”\n",
    "###### Output: [‘Importance’, ‘Of’, ‘Regular’, ‘Expression’, ‘In’, ‘Python’]"
   ]
  },
  {
   "cell_type": "code",
   "execution_count": 124,
   "id": "25af7a17",
   "metadata": {},
   "outputs": [
    {
     "name": "stdout",
     "output_type": "stream",
     "text": [
      "Enter a string with uppercase letters: ImportanceOfRegularExpressionsInPython\n"
     ]
    },
    {
     "data": {
      "text/plain": [
       "['Importance', 'Of', 'Regular', 'Expressions', 'In', 'Python']"
      ]
     },
     "execution_count": 124,
     "metadata": {},
     "output_type": "execute_result"
    }
   ],
   "source": [
    "text=input(\"Enter a string with uppercase letters: \")\n",
    "re.findall(\"[A-Z][^A-Z]*\",text)"
   ]
  },
  {
   "cell_type": "code",
   "execution_count": 119,
   "id": "4eb01679",
   "metadata": {},
   "outputs": [
    {
     "data": {
      "text/plain": [
       "['Importance', 'Of', 'Regular', 'Expressions', 'In', 'Python']"
      ]
     },
     "execution_count": 119,
     "metadata": {},
     "output_type": "execute_result"
    }
   ],
   "source": [
    "re.findall(\"[A-Z][^A-Z]*\",\"ImportanceOfRegularExpressionsInPython\")"
   ]
  },
  {
   "cell_type": "markdown",
   "id": "feb3132a",
   "metadata": {},
   "source": [
    "#### Question 7- Write a Python program that matches a string that has an a followed by two to three 'b'."
   ]
  },
  {
   "cell_type": "code",
   "execution_count": 134,
   "id": "2d58be82",
   "metadata": {},
   "outputs": [
    {
     "name": "stdout",
     "output_type": "stream",
     "text": [
      "No match found\n",
      "It's a match\n",
      "It's a match\n"
     ]
    }
   ],
   "source": [
    "def condition_7(string):\n",
    "    pattern='ab{2,3}'\n",
    "    if re.search(pattern,string):\n",
    "        return \"It's a match\"\n",
    "    else:\n",
    "        return \"No match found\"\n",
    "    \n",
    "print(condition_7(\"habit\"))\n",
    "print(condition_7(\"rabbit\"))\n",
    "print(condition_7(\"rabbbbit\"))"
   ]
  },
  {
   "cell_type": "markdown",
   "id": "88ce702a",
   "metadata": {},
   "source": [
    "#### Question 8- Write a Python program to find sequences of lowercase letters joined with a underscore."
   ]
  },
  {
   "cell_type": "code",
   "execution_count": 155,
   "id": "28109db2",
   "metadata": {},
   "outputs": [
    {
     "name": "stdout",
     "output_type": "stream",
     "text": [
      "No match found\n",
      "No match found\n",
      "It's a match\n"
     ]
    }
   ],
   "source": [
    "def condition_8(string):\n",
    "    pattern=\"^[a-z]+_[a-z]+$\"\n",
    "    if re.search(pattern,string):\n",
    "        return \"It's a match\"\n",
    "    else:\n",
    "        return \"No match found\"\n",
    "print(condition_8(\"abC_def\"))\n",
    "print(condition_8(\"abc_deF\"))\n",
    "print(condition_8(\"abc_def\"))"
   ]
  },
  {
   "cell_type": "markdown",
   "id": "dff51b04",
   "metadata": {},
   "source": [
    "#### Question 9- Write a Python program that matches a string that has an 'a' followed by anything, ending in 'b'."
   ]
  },
  {
   "cell_type": "code",
   "execution_count": 169,
   "id": "7400ad95",
   "metadata": {},
   "outputs": [
    {
     "name": "stdout",
     "output_type": "stream",
     "text": [
      "It's a match\n",
      "No match found\n"
     ]
    }
   ],
   "source": [
    "def condition_9(string):\n",
    "    pattern=\"a.*?b$\"\n",
    "    if re.search(pattern,string):\n",
    "        return \"It's a match\"\n",
    "    else:\n",
    "        return \"No match found\"\n",
    "print(condition_9(\"angelb\"))\n",
    "print(condition_9(\"angelc\"))"
   ]
  },
  {
   "cell_type": "markdown",
   "id": "fefd8b90",
   "metadata": {},
   "source": [
    "#### Question 10- Write a Python program that matches a word at the beginning of a string."
   ]
  },
  {
   "cell_type": "code",
   "execution_count": 173,
   "id": "5dbda536",
   "metadata": {},
   "outputs": [
    {
     "name": "stdout",
     "output_type": "stream",
     "text": [
      "It's a match\n",
      "No match found\n"
     ]
    }
   ],
   "source": [
    "def condition_10(string):\n",
    "    pattern=\"^\\w+\"\n",
    "    if re.search(pattern,string):\n",
    "        return \"It's a match\"\n",
    "    else:\n",
    "        return \"No match found\"\n",
    "print(condition_10(\"Hey Anna\"))\n",
    "print(condition_10(\" Hey Anna\"))"
   ]
  },
  {
   "cell_type": "markdown",
   "id": "0ccfaef3",
   "metadata": {},
   "source": [
    "#### Question 11- Write a Python program to match a string that contains only upper and lowercase letters, numbers, and underscores."
   ]
  },
  {
   "cell_type": "code",
   "execution_count": 193,
   "id": "2367d25b",
   "metadata": {},
   "outputs": [
    {
     "name": "stdout",
     "output_type": "stream",
     "text": [
      "It's a match\n",
      "No match found\n"
     ]
    }
   ],
   "source": [
    "def condition_11(string):\n",
    "    pattern=\"^[a-zA-Z0-9_]*$\"\n",
    "    if re.search(pattern,string):\n",
    "        return \"It's a match\"\n",
    "    else:\n",
    "        return \"No match found\"\n",
    "print(condition_11(\"Hey_Anna_96\"))\n",
    "print(condition_11(\" Hey Anna\"))"
   ]
  },
  {
   "cell_type": "markdown",
   "id": "e54b978a",
   "metadata": {},
   "source": [
    "#### Question 12- Write a Python program where a string will start with a specific number. "
   ]
  },
  {
   "cell_type": "code",
   "execution_count": 199,
   "id": "b5fbe664",
   "metadata": {
    "scrolled": true
   },
   "outputs": [
    {
     "name": "stdout",
     "output_type": "stream",
     "text": [
      "True\n",
      "False\n"
     ]
    }
   ],
   "source": [
    "def condition_12(string):\n",
    "    pattern=\"^7\"\n",
    "    check=re.compile(pattern)\n",
    "    string=check.search(string)\n",
    "    return bool(string)\n",
    "print(condition_12(\"7 habits\"))\n",
    "print(condition_12(\"9 habits\"))"
   ]
  },
  {
   "cell_type": "code",
   "execution_count": 200,
   "id": "b293994a",
   "metadata": {},
   "outputs": [
    {
     "name": "stdout",
     "output_type": "stream",
     "text": [
      "True\n",
      "False\n"
     ]
    }
   ],
   "source": [
    "# Simple way\n",
    "\n",
    "def condition_12_2(string):\n",
    "    pattern=\"^7\"\n",
    "    return bool(re.match(pattern,string))\n",
    "print(condition_12_2(\"7 habits\"))\n",
    "print(condition_12_2(\"9 habits\"))"
   ]
  },
  {
   "cell_type": "markdown",
   "id": "26be3ed2",
   "metadata": {},
   "source": [
    "#### Question 13- Write a Python program to remove leading zeros from an IP address"
   ]
  },
  {
   "cell_type": "code",
   "execution_count": 12,
   "id": "bfe11b0f",
   "metadata": {},
   "outputs": [
    {
     "name": "stdout",
     "output_type": "stream",
     "text": [
      "220.255.55.54\n"
     ]
    }
   ],
   "source": [
    "def condition_13(ip):\n",
    "    new_ip=re.sub(\"\\.[0]*\",\".\",ip)\n",
    "    return new_ip\n",
    "print(condition_13(\"220.255.055.054\"))"
   ]
  },
  {
   "cell_type": "markdown",
   "id": "d05b35a9",
   "metadata": {},
   "source": [
    "#### Question 14- Write a regular expression in python to match a date string in the form of Month name followed by day number and year stored in a text file.\n",
    "Sample text : ' On August 15th 1947 that India was declared independent from British colonialism, and the reins of control were handed over to the leaders of the Country’.\n",
    "Output- August 15th 1947\n",
    "Hint- Use re.match() method here"
   ]
  },
  {
   "cell_type": "code",
   "execution_count": 149,
   "id": "d7d41180",
   "metadata": {},
   "outputs": [
    {
     "name": "stdout",
     "output_type": "stream",
     "text": [
      "August 15th 1947\n"
     ]
    }
   ],
   "source": [
    "text=\"On August 15th 1947 that India was declared independent from British colonialism, and the reins of control were handed over to the leaders of the Country\"\n",
    "#x=re.search(r\"(\\d..+\\d{4})\",text)\n",
    "x=re.search(r\"([a-zA-Z]+) (\\d...) (\\d{4})\",text)\n",
    "print(x.group(0))"
   ]
  },
  {
   "cell_type": "code",
   "execution_count": 150,
   "id": "52be24e0",
   "metadata": {},
   "outputs": [
    {
     "name": "stdout",
     "output_type": "stream",
     "text": [
      "August 15th 1947\n"
     ]
    }
   ],
   "source": [
    "with open(\"Date_RegEx.txt\") as file:\n",
    "    for line in file:\n",
    "        date=re.search(r\"([a-zA-Z]+) (\\d...) (\\d{4})\",line)\n",
    "        print(date.group())"
   ]
  },
  {
   "cell_type": "markdown",
   "id": "70ba5818",
   "metadata": {},
   "source": [
    "#### Question 15- Write a Python program to search some literals strings in a string. Go to the editor\n",
    "Sample text : 'The quick brown fox jumps over the lazy dog.'\n",
    "Searched words : 'fox', 'dog', 'horse'"
   ]
  },
  {
   "cell_type": "code",
   "execution_count": 105,
   "id": "5c561c3e",
   "metadata": {},
   "outputs": [
    {
     "name": "stdout",
     "output_type": "stream",
     "text": [
      "Searching for \"fox\" in \"The quick brown fox jumps over the lazy dog\":\n",
      "It's a Match\n",
      "Searching for \"dog\" in \"The quick brown fox jumps over the lazy dog\":\n",
      "It's a Match\n",
      "Searching for \"horse\" in \"The quick brown fox jumps over the lazy dog\":\n",
      "Not Matched!\n"
     ]
    }
   ],
   "source": [
    "pattern = ['fox','dog','horse']\n",
    "string = 'The quick brown fox jumps over the lazy dog'\n",
    "for p in pattern:\n",
    "    print('Searching for \"%s\" in \"%s\":' % (p, string),)\n",
    "    if re.search(p,  text):\n",
    "        print(\"It's a Match\")\n",
    "    else:\n",
    "        print('Not Matched!')"
   ]
  },
  {
   "cell_type": "markdown",
   "id": "b41cdb0b",
   "metadata": {},
   "source": [
    "#### Question 16- Write a Python program to search a literals string in a string and also find the location within the original string where the pattern occurs\n",
    "Sample text : 'The quick brown fox jumps over the lazy dog.'\n",
    "Searched words : 'fox'\n"
   ]
  },
  {
   "cell_type": "code",
   "execution_count": 120,
   "id": "58a18e96",
   "metadata": {},
   "outputs": [
    {
     "name": "stdout",
     "output_type": "stream",
     "text": [
      "Found \"fox\" in \"The quick brown fox jumps over the lazy dog\" from 16 to 19\n"
     ]
    }
   ],
   "source": [
    "pattern ='fox'\n",
    "sample_text = 'The quick brown fox jumps over the lazy dog'\n",
    "match=re.search(pattern,  sample_text)\n",
    "start=match.start()\n",
    "end=match.end()\n",
    "\n",
    "print('Found \"%s\" in \"%s\" from %d to %d'% (match.re.pattern,match.string,start,end))"
   ]
  },
  {
   "cell_type": "markdown",
   "id": "140c83e3",
   "metadata": {},
   "source": [
    "#### Question 17- Write a Python program to find the substrings within a string.\n",
    "Sample text : 'Python exercises, PHP exercises, C# exercises'\n",
    "Pattern : 'exercises'."
   ]
  },
  {
   "cell_type": "code",
   "execution_count": 139,
   "id": "85bea720",
   "metadata": {},
   "outputs": [
    {
     "name": "stdout",
     "output_type": "stream",
     "text": [
      "Found 'exercises'\n",
      "Found 'exercises'\n",
      "Found 'exercises'\n"
     ]
    }
   ],
   "source": [
    "pattern='exercises'\n",
    "sample_text='Python exercises, PHP exercises, C# exercises'\n",
    "\n",
    "for match in re.findall(pattern,sample_text):\n",
    "    print(\"Found '%s'\" % match)"
   ]
  },
  {
   "cell_type": "markdown",
   "id": "5450d0a8",
   "metadata": {},
   "source": [
    "#### Question 18- Write a Python program to find the occurrence and position of the substrings within a string."
   ]
  },
  {
   "cell_type": "code",
   "execution_count": null,
   "id": "4b4c925a",
   "metadata": {},
   "outputs": [],
   "source": [
    "pattern='exercises'\n",
    "sample_text='Python exercises, PHP exercises, C# exercises'\n",
    "\n",
    "for match in re.finditer(pattern,sample_text):\n",
    "    start=match.start()\n",
    "    end=match.end()\n",
    "    print(\"Found '%s' at %d:%d\" % (sample_text[start:end],start,end))"
   ]
  },
  {
   "cell_type": "markdown",
   "id": "d5f10c7a",
   "metadata": {},
   "source": [
    "#### Question 19- Write a Python program to convert a date of yyyy-mm-dd format to dd-mm-yyyy format."
   ]
  },
  {
   "cell_type": "code",
   "execution_count": 152,
   "id": "eadab428",
   "metadata": {},
   "outputs": [
    {
     "name": "stdout",
     "output_type": "stream",
     "text": [
      "Original date in YYY-MM-DD Format: 2023-07-13\n",
      "New date in DD-MM-YYYY Format: 13-07-2023\n"
     ]
    }
   ],
   "source": [
    "def condition_19(date):\n",
    "    return re.sub(r\"(\\d{4})-(\\d{2})-(\\d{2})\",\"\\\\3-\\\\2-\\\\1\",date)\n",
    "    \n",
    "date_original=\"2023-07-13\"\n",
    "print(\"Original date in YYY-MM-DD Format:\",date_original)\n",
    "print(\"New date in DD-MM-YYYY Format:\",condition_19(date_original))\n"
   ]
  },
  {
   "cell_type": "markdown",
   "id": "ca103705",
   "metadata": {},
   "source": [
    "#### Question 20- Write a Python program to find all words starting with 'a' or 'e' in a given string."
   ]
  },
  {
   "cell_type": "code",
   "execution_count": 171,
   "id": "b872768b",
   "metadata": {},
   "outputs": [
    {
     "name": "stdout",
     "output_type": "stream",
     "text": [
      "['An', 'airplane', 'and', 'an', 'elephant', 'are', 'at', 'as', 'ants', 'as']\n"
     ]
    }
   ],
   "source": [
    "def condition_20(string):\n",
    "    pattern=\"[AaEe]\\w+\"\n",
    "    list=re.findall(pattern,string)\n",
    "    return list\n",
    "\n",
    "print(condition_20(\"An airplane and an elephant are the toys that Jhonas wants for Christmas\"))"
   ]
  },
  {
   "cell_type": "markdown",
   "id": "50fde827",
   "metadata": {},
   "source": [
    "#### Question 21- Write a Python program to separate and print the numbers and their position of a given string."
   ]
  },
  {
   "cell_type": "code",
   "execution_count": 185,
   "id": "49643694",
   "metadata": {},
   "outputs": [
    {
     "name": "stdout",
     "output_type": "stream",
     "text": [
      "('Andrea', '1996')\n"
     ]
    }
   ],
   "source": [
    "# Short string - format letters+number\n",
    "def condition_21(sample_text):\n",
    "    x=re.compile(\"([a-zA-Z]+)([0-9]+)\")\n",
    "    y=x.match(sample_text).groups()\n",
    "    return str(y)\n",
    "\n",
    "print(condition_21(\"Andrea1996\"))"
   ]
  },
  {
   "cell_type": "code",
   "execution_count": 186,
   "id": "c7d47a34",
   "metadata": {},
   "outputs": [
    {
     "name": "stdout",
     "output_type": "stream",
     "text": [
      "1\n",
      "Index position: 10\n",
      "3\n",
      "Index position: 29\n"
     ]
    }
   ],
   "source": [
    "# Long string\n",
    "sample_text=\"I won the 1st position after 3 weeks of training.\"\n",
    "for match in re.finditer(\"\\d+\",sample_text):\n",
    "    print(match.group())\n",
    "    print(\"Index position:\",match.start())"
   ]
  },
  {
   "cell_type": "markdown",
   "id": "686268c1",
   "metadata": {},
   "source": [
    "#### Question 22- Write a regular expression in python program to extract maximum numeric value from a string"
   ]
  },
  {
   "cell_type": "code",
   "execution_count": 197,
   "id": "b2b57340",
   "metadata": {},
   "outputs": [
    {
     "name": "stdout",
     "output_type": "stream",
     "text": [
      "('Max Value:', 76893)\n"
     ]
    }
   ],
   "source": [
    "def condition_22(string):\n",
    "    x=re.findall(\"\\d+\",string)\n",
    "    x=map(int,x)\n",
    "    return \"Max Value:\",max(x)\n",
    "\n",
    "print(condition_22(\"673abcfsh76893jhuifh98\"))"
   ]
  },
  {
   "cell_type": "markdown",
   "id": "94730988",
   "metadata": {},
   "source": [
    "#### Question 23- Write a Regex in Python to put spaces between words starting with capital letters"
   ]
  },
  {
   "cell_type": "code",
   "execution_count": 46,
   "id": "9460e20a",
   "metadata": {},
   "outputs": [
    {
     "name": "stdout",
     "output_type": "stream",
     "text": [
      "My Name Is Andrea Gómez\n"
     ]
    }
   ],
   "source": [
    "def condition_23(string):\n",
    "    pattern=r\"(\\w)([A-Z])\"\n",
    "    x=re.sub(pattern, r\"\\1 \\2\",string)\n",
    "    return x\n",
    "\n",
    "print(condition_23(\"MyNameIsAndreaGómez\"))"
   ]
  },
  {
   "cell_type": "markdown",
   "id": "865ed119",
   "metadata": {},
   "source": [
    "#### Question 24- Python regex to find sequences of one upper case letter followed by lower case letters"
   ]
  },
  {
   "cell_type": "code",
   "execution_count": 60,
   "id": "d1e6413c",
   "metadata": {},
   "outputs": [
    {
     "name": "stdout",
     "output_type": "stream",
     "text": [
      "No match found\n",
      "It´s a match\n",
      "No match found\n"
     ]
    }
   ],
   "source": [
    "def condition_24(string):\n",
    "    pattern=r\"[A-Z]+[a-z]+$\"   \n",
    "    if re.findall(pattern,string):\n",
    "        return \"It´s a match\"\n",
    "    else:\n",
    "        return \"No match found\"\n",
    "    \n",
    "print(condition_24(\"angela\"))\n",
    "print(condition_24(\"Angela\"))\n",
    "print(condition_24(\"aAIR\"))"
   ]
  },
  {
   "cell_type": "markdown",
   "id": "b9b69bf3",
   "metadata": {},
   "source": [
    "#### Question 25- Write a Python program to remove duplicate words from Sentence using Regular Expression"
   ]
  },
  {
   "cell_type": "code",
   "execution_count": 74,
   "id": "cf96dbd2",
   "metadata": {},
   "outputs": [
    {
     "name": "stdout",
     "output_type": "stream",
     "text": [
      "It's nice to meet you\n",
      "HE IS FINALLY HERE\n"
     ]
    }
   ],
   "source": [
    "def condition_25(string):\n",
    "    pattern=r\"\\b(\\w+)(?:\\W+\\1\\b)+\"\n",
    "    return re.sub(pattern,r\"\\1\",string,flags=re.IGNORECASE)\n",
    "\n",
    "print(condition_25(\"It's nice nice to meet you you\"))\n",
    "print(condition_25(\"HE IS IS FINALLY HERE here\"))"
   ]
  },
  {
   "cell_type": "markdown",
   "id": "460a00bb",
   "metadata": {},
   "source": [
    "#### Question 26-  Write a python program using RegEx to accept string ending with alphanumeric character."
   ]
  },
  {
   "cell_type": "code",
   "execution_count": 89,
   "id": "e03d5a34",
   "metadata": {},
   "outputs": [
    {
     "name": "stdout",
     "output_type": "stream",
     "text": [
      "Accept. The string \"Hi Angel1789\" ends with alphanumeric character.\n",
      "Reject. The string \"Hi Angel1789!\" does not end with alphanumeric character.\n"
     ]
    }
   ],
   "source": [
    "def condition_26(string):\n",
    "    pattern=\"[a-zA-Z0-9]$\"\n",
    "    if re.findall(pattern,string):\n",
    "        print('Accept. The string \"%s\" ends with alphanumeric character.'%(string))\n",
    "    else:\n",
    "        print('Reject. The string \"%s\" does not end with alphanumeric character.'%(string))\n",
    "    \n",
    "condition_26(\"Hi Angel1789\")\n",
    "condition_26(\"Hi Angel1789!\")"
   ]
  },
  {
   "cell_type": "markdown",
   "id": "35c6fcb6",
   "metadata": {},
   "source": [
    "#### Question 27-Write a python program using RegEx to extract the hashtags.\n",
    "Sample Text: text = \"\"\"RT @kapil_kausik: #Doltiwal I mean #xyzabc is \"hurt\" by #Demonetization as the same has rendered USELESS <ed><U+00A0><U+00BD><ed><U+00B1><U+0089> \"acquired funds\" No wo\"\"\"\n",
    "Output: ['#Doltiwal', '#xyzabc', '#Demonetization']"
   ]
  },
  {
   "cell_type": "code",
   "execution_count": 104,
   "id": "a2a5d7f3",
   "metadata": {},
   "outputs": [
    {
     "name": "stdout",
     "output_type": "stream",
     "text": [
      "['#Doltiwal', '#xyzabc', '#Demonetization']\n"
     ]
    }
   ],
   "source": [
    "def condition_27(string):\n",
    "    pattern=(\"(#\\w+)\")\n",
    "    return re.findall(pattern,string)\n",
    "print(condition_27(\"\"\"\"RT @kapil_kausik: #Doltiwal I mean #xyzabc is \"hurt\" by #Demonetization as the same has rendered USELESS <ed><U+00A0><U+00BD><ed><U+00B1><U+0089> \"acquired funds\" No wo\"\"\"))"
   ]
  },
  {
   "cell_type": "markdown",
   "id": "37b7cfa8",
   "metadata": {},
   "source": [
    "#### Question 28- Write a python program using RegEx to remove <U+..> like symbols\n",
    "Check the below sample text, there are strange symbols something of the sort <U+..> all over the place. You need to come up with a general Regex expression that will cover all such symbols.\n",
    "Sample Text: \"@Jags123456 Bharat band on 28??<ed><U+00A0><U+00BD><ed><U+00B8><U+0082>Those who  are protesting #demonetization  are all different party leaders\"\n",
    "Output: @Jags123456 Bharat band on 28??<ed><ed>Those who  are protesting #demonetization  are all different party leaders\n"
   ]
  },
  {
   "cell_type": "code",
   "execution_count": 157,
   "id": "138defc5",
   "metadata": {},
   "outputs": [
    {
     "name": "stdout",
     "output_type": "stream",
     "text": [
      "@Jags123456 Bharat band on 28??<ed><ed>Those who  are protesting #demonetization  are all different party leaders\n"
     ]
    }
   ],
   "source": [
    "def condition_28(string):\n",
    "    pattern=r\"<U\\+[A-F0-9]{4}>\"\n",
    "    return re.sub(pattern, \"\",string)\n",
    "print(condition_28(\"@Jags123456 Bharat band on 28??<ed><U+00A0><U+00BD><ed><U+00B8><U+0082>Those who  are protesting #demonetization  are all different party leaders\"))"
   ]
  },
  {
   "cell_type": "markdown",
   "id": "7322e13b",
   "metadata": {},
   "source": [
    "#### Question 29- Write a python program to extract dates from the text stored in the text file.\n",
    "Sample Text: Ron was born on 12-09-1992 and he was admitted to school 15-12-1999.\n",
    "Store this sample text in the file and then extract dates.\n"
   ]
  },
  {
   "cell_type": "code",
   "execution_count": 156,
   "id": "c5209630",
   "metadata": {},
   "outputs": [
    {
     "name": "stdout",
     "output_type": "stream",
     "text": [
      "['12-09-1992', '15-12-1999']\n"
     ]
    }
   ],
   "source": [
    "with open (\"ExtractDate.txt\") as file:\n",
    "    for line in file:\n",
    "        date=re.findall(r\"(\\d{2}-\\d{2}-\\d{4})\",line)\n",
    "        print(date)"
   ]
  },
  {
   "cell_type": "code",
   "execution_count": 161,
   "id": "252f0bfa",
   "metadata": {},
   "outputs": [
    {
     "name": "stdout",
     "output_type": "stream",
     "text": [
      "['12-09-1992', '15-12-1999']\n"
     ]
    }
   ],
   "source": [
    "Sample_Text=\"Ron was born on 12-09-1992 and he was admitted to school 15-12-1999\"\n",
    "def condition_29(string):\n",
    "    pattern=r\"(\\d{2}-\\d{2}-\\d{4})\"\n",
    "    return re.findall(pattern,Sample_Text)\n",
    "\n",
    "print(condition_29(Sample_Text))"
   ]
  },
  {
   "cell_type": "markdown",
   "id": "3d5d1463",
   "metadata": {},
   "source": [
    "#### Question 30- Write a Python program to replace all occurrences of a space, comma, or dot with a colon.\n",
    "Sample Text- 'Python Exercises, PHP exercises.'\n",
    "Output: Python:Exercises::PHP:exercises:"
   ]
  },
  {
   "cell_type": "code",
   "execution_count": 163,
   "id": "1985b294",
   "metadata": {},
   "outputs": [
    {
     "name": "stdout",
     "output_type": "stream",
     "text": [
      "Python:Exercises::PHP:exercises:\n"
     ]
    }
   ],
   "source": [
    "def condition_29(string):\n",
    "    pattern=r\"(\\W)\"\n",
    "    return re.sub(pattern,\":\",string)\n",
    "\n",
    "print(condition_29(\"Python Exercises, PHP exercises.\"))"
   ]
  }
 ],
 "metadata": {
  "kernelspec": {
   "display_name": "Python 3",
   "language": "python",
   "name": "python3"
  },
  "language_info": {
   "codemirror_mode": {
    "name": "ipython",
    "version": 3
   },
   "file_extension": ".py",
   "mimetype": "text/x-python",
   "name": "python",
   "nbconvert_exporter": "python",
   "pygments_lexer": "ipython3",
   "version": "3.8.8"
  }
 },
 "nbformat": 4,
 "nbformat_minor": 5
}
