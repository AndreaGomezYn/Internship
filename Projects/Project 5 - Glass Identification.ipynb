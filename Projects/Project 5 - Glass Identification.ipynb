{
 "cells": [
  {
   "cell_type": "markdown",
   "id": "b9e657b2",
   "metadata": {},
   "source": [
    "## Project Description\n",
    "\n",
    "The dataset describes the chemical properties of glass and involves classifying samples of glass using their chemical properties as one of six classes. The dataset was credited to Vina Spiehler in 1987. The study of classification of types of glass was motivated by criminological investigation. At the scene of the crime, the glass left can be used as evidence...if it is correctly identified!\n",
    "\n",
    "The chemical compositions are measured as the weight percent in corresponding oxide.\n",
    "\n",
    "### Attribute Information\n",
    "1.\t Id number: 1 to 214\n",
    "2.\t RI: refractive index\n",
    "3.\tNa: Sodium (unit measurement: weight percent in corresponding oxide, as are attributes 4-10)\n",
    "4.\tMg: Magnesium\n",
    "5.\tAl: Aluminum\n",
    "6.\tSi: Silicon\n",
    "7.\tK: Potassium\n",
    "8.\tCa: Calcium\n",
    "9.\tBa: Barium\n",
    "10.\tFe: Iron\n",
    "    Type of glass: (class attribute)\n",
    "•\t1- building_windows_float_processed\n",
    "•\t2- building_windows_non_float_processed\n",
    "•\t3- vehicle_windows_float_processed\n",
    "•\t4- vehicle_windows_non_float_processed (none in this database)\n",
    "•\t5- containers\n",
    "•\t6- tableware\n",
    "•\t7- headlamps\n",
    "\n",
    "There are 214 observations in the dataset. The dataset can be divided into window glass (classes 1-4) and non-window glass (classes 5-7). \n",
    "\n",
    "## Objective: \n",
    "Predict type of glass"
   ]
  },
  {
   "cell_type": "code",
   "execution_count": 1,
   "id": "5180efeb",
   "metadata": {},
   "outputs": [],
   "source": [
    "import pandas as pd\n",
    "import numpy as np\n",
    "import seaborn as sns\n",
    "import matplotlib.pyplot as plt\n",
    "import warnings\n",
    "warnings.filterwarnings('ignore')"
   ]
  },
  {
   "cell_type": "code",
   "execution_count": 88,
   "id": "c6864ff4",
   "metadata": {},
   "outputs": [],
   "source": [
    "# Setting style parameters for graphs\n",
    "sns.set_style('darkgrid')\n",
    "plt.rcParams['font.size']=15\n",
    "plt.rcParams['figure.figsize']=(10,7)\n",
    "#plt.rcParams['figure.facecolor']='#FFE5B4'"
   ]
  },
  {
   "cell_type": "markdown",
   "id": "4d6766f1",
   "metadata": {},
   "source": [
    "## Data Exploration"
   ]
  },
  {
   "cell_type": "code",
   "execution_count": 132,
   "id": "e4272cdb",
   "metadata": {},
   "outputs": [
    {
     "data": {
      "text/html": [
       "<div>\n",
       "<style scoped>\n",
       "    .dataframe tbody tr th:only-of-type {\n",
       "        vertical-align: middle;\n",
       "    }\n",
       "\n",
       "    .dataframe tbody tr th {\n",
       "        vertical-align: top;\n",
       "    }\n",
       "\n",
       "    .dataframe thead th {\n",
       "        text-align: right;\n",
       "    }\n",
       "</style>\n",
       "<table border=\"1\" class=\"dataframe\">\n",
       "  <thead>\n",
       "    <tr style=\"text-align: right;\">\n",
       "      <th></th>\n",
       "      <th>0</th>\n",
       "      <th>1</th>\n",
       "      <th>2</th>\n",
       "      <th>3</th>\n",
       "      <th>4</th>\n",
       "      <th>5</th>\n",
       "      <th>6</th>\n",
       "      <th>7</th>\n",
       "      <th>8</th>\n",
       "      <th>9</th>\n",
       "      <th>10</th>\n",
       "    </tr>\n",
       "  </thead>\n",
       "  <tbody>\n",
       "    <tr>\n",
       "      <th>0</th>\n",
       "      <td>1</td>\n",
       "      <td>1.52101</td>\n",
       "      <td>13.64</td>\n",
       "      <td>4.49</td>\n",
       "      <td>1.10</td>\n",
       "      <td>71.78</td>\n",
       "      <td>0.06</td>\n",
       "      <td>8.75</td>\n",
       "      <td>0.0</td>\n",
       "      <td>0.0</td>\n",
       "      <td>1</td>\n",
       "    </tr>\n",
       "    <tr>\n",
       "      <th>1</th>\n",
       "      <td>2</td>\n",
       "      <td>1.51761</td>\n",
       "      <td>13.89</td>\n",
       "      <td>3.60</td>\n",
       "      <td>1.36</td>\n",
       "      <td>72.73</td>\n",
       "      <td>0.48</td>\n",
       "      <td>7.83</td>\n",
       "      <td>0.0</td>\n",
       "      <td>0.0</td>\n",
       "      <td>1</td>\n",
       "    </tr>\n",
       "    <tr>\n",
       "      <th>2</th>\n",
       "      <td>3</td>\n",
       "      <td>1.51618</td>\n",
       "      <td>13.53</td>\n",
       "      <td>3.55</td>\n",
       "      <td>1.54</td>\n",
       "      <td>72.99</td>\n",
       "      <td>0.39</td>\n",
       "      <td>7.78</td>\n",
       "      <td>0.0</td>\n",
       "      <td>0.0</td>\n",
       "      <td>1</td>\n",
       "    </tr>\n",
       "    <tr>\n",
       "      <th>3</th>\n",
       "      <td>4</td>\n",
       "      <td>1.51766</td>\n",
       "      <td>13.21</td>\n",
       "      <td>3.69</td>\n",
       "      <td>1.29</td>\n",
       "      <td>72.61</td>\n",
       "      <td>0.57</td>\n",
       "      <td>8.22</td>\n",
       "      <td>0.0</td>\n",
       "      <td>0.0</td>\n",
       "      <td>1</td>\n",
       "    </tr>\n",
       "    <tr>\n",
       "      <th>4</th>\n",
       "      <td>5</td>\n",
       "      <td>1.51742</td>\n",
       "      <td>13.27</td>\n",
       "      <td>3.62</td>\n",
       "      <td>1.24</td>\n",
       "      <td>73.08</td>\n",
       "      <td>0.55</td>\n",
       "      <td>8.07</td>\n",
       "      <td>0.0</td>\n",
       "      <td>0.0</td>\n",
       "      <td>1</td>\n",
       "    </tr>\n",
       "  </tbody>\n",
       "</table>\n",
       "</div>"
      ],
      "text/plain": [
       "   0        1      2     3     4      5     6     7    8    9   10\n",
       "0   1  1.52101  13.64  4.49  1.10  71.78  0.06  8.75  0.0  0.0   1\n",
       "1   2  1.51761  13.89  3.60  1.36  72.73  0.48  7.83  0.0  0.0   1\n",
       "2   3  1.51618  13.53  3.55  1.54  72.99  0.39  7.78  0.0  0.0   1\n",
       "3   4  1.51766  13.21  3.69  1.29  72.61  0.57  8.22  0.0  0.0   1\n",
       "4   5  1.51742  13.27  3.62  1.24  73.08  0.55  8.07  0.0  0.0   1"
      ]
     },
     "execution_count": 132,
     "metadata": {},
     "output_type": "execute_result"
    }
   ],
   "source": [
    "data=pd.read_csv(\"glass.csv\",header=None)\n",
    "data.head()"
   ]
  },
  {
   "cell_type": "code",
   "execution_count": 133,
   "id": "0ce4eed3",
   "metadata": {},
   "outputs": [
    {
     "data": {
      "text/plain": [
       "(214, 11)"
      ]
     },
     "execution_count": 133,
     "metadata": {},
     "output_type": "execute_result"
    }
   ],
   "source": [
    "data.shape"
   ]
  },
  {
   "cell_type": "markdown",
   "id": "1fb19650",
   "metadata": {},
   "source": [
    "This dataset contains 214 rows and 11 columns, out of which 1 is target variable (\"type\") and the remaining 10 are independent variables."
   ]
  },
  {
   "cell_type": "code",
   "execution_count": 134,
   "id": "18548376",
   "metadata": {},
   "outputs": [
    {
     "data": {
      "text/html": [
       "<div>\n",
       "<style scoped>\n",
       "    .dataframe tbody tr th:only-of-type {\n",
       "        vertical-align: middle;\n",
       "    }\n",
       "\n",
       "    .dataframe tbody tr th {\n",
       "        vertical-align: top;\n",
       "    }\n",
       "\n",
       "    .dataframe thead th {\n",
       "        text-align: right;\n",
       "    }\n",
       "</style>\n",
       "<table border=\"1\" class=\"dataframe\">\n",
       "  <thead>\n",
       "    <tr style=\"text-align: right;\">\n",
       "      <th></th>\n",
       "      <th>ID</th>\n",
       "      <th>RI</th>\n",
       "      <th>Na</th>\n",
       "      <th>Mg</th>\n",
       "      <th>Al</th>\n",
       "      <th>Si</th>\n",
       "      <th>K</th>\n",
       "      <th>Ca</th>\n",
       "      <th>Ba</th>\n",
       "      <th>Fe</th>\n",
       "      <th>Type of glass</th>\n",
       "    </tr>\n",
       "  </thead>\n",
       "  <tbody>\n",
       "    <tr>\n",
       "      <th>0</th>\n",
       "      <td>1</td>\n",
       "      <td>1.52101</td>\n",
       "      <td>13.64</td>\n",
       "      <td>4.49</td>\n",
       "      <td>1.10</td>\n",
       "      <td>71.78</td>\n",
       "      <td>0.06</td>\n",
       "      <td>8.75</td>\n",
       "      <td>0.00</td>\n",
       "      <td>0.0</td>\n",
       "      <td>1</td>\n",
       "    </tr>\n",
       "    <tr>\n",
       "      <th>1</th>\n",
       "      <td>2</td>\n",
       "      <td>1.51761</td>\n",
       "      <td>13.89</td>\n",
       "      <td>3.60</td>\n",
       "      <td>1.36</td>\n",
       "      <td>72.73</td>\n",
       "      <td>0.48</td>\n",
       "      <td>7.83</td>\n",
       "      <td>0.00</td>\n",
       "      <td>0.0</td>\n",
       "      <td>1</td>\n",
       "    </tr>\n",
       "    <tr>\n",
       "      <th>2</th>\n",
       "      <td>3</td>\n",
       "      <td>1.51618</td>\n",
       "      <td>13.53</td>\n",
       "      <td>3.55</td>\n",
       "      <td>1.54</td>\n",
       "      <td>72.99</td>\n",
       "      <td>0.39</td>\n",
       "      <td>7.78</td>\n",
       "      <td>0.00</td>\n",
       "      <td>0.0</td>\n",
       "      <td>1</td>\n",
       "    </tr>\n",
       "    <tr>\n",
       "      <th>3</th>\n",
       "      <td>4</td>\n",
       "      <td>1.51766</td>\n",
       "      <td>13.21</td>\n",
       "      <td>3.69</td>\n",
       "      <td>1.29</td>\n",
       "      <td>72.61</td>\n",
       "      <td>0.57</td>\n",
       "      <td>8.22</td>\n",
       "      <td>0.00</td>\n",
       "      <td>0.0</td>\n",
       "      <td>1</td>\n",
       "    </tr>\n",
       "    <tr>\n",
       "      <th>4</th>\n",
       "      <td>5</td>\n",
       "      <td>1.51742</td>\n",
       "      <td>13.27</td>\n",
       "      <td>3.62</td>\n",
       "      <td>1.24</td>\n",
       "      <td>73.08</td>\n",
       "      <td>0.55</td>\n",
       "      <td>8.07</td>\n",
       "      <td>0.00</td>\n",
       "      <td>0.0</td>\n",
       "      <td>1</td>\n",
       "    </tr>\n",
       "    <tr>\n",
       "      <th>...</th>\n",
       "      <td>...</td>\n",
       "      <td>...</td>\n",
       "      <td>...</td>\n",
       "      <td>...</td>\n",
       "      <td>...</td>\n",
       "      <td>...</td>\n",
       "      <td>...</td>\n",
       "      <td>...</td>\n",
       "      <td>...</td>\n",
       "      <td>...</td>\n",
       "      <td>...</td>\n",
       "    </tr>\n",
       "    <tr>\n",
       "      <th>209</th>\n",
       "      <td>210</td>\n",
       "      <td>1.51623</td>\n",
       "      <td>14.14</td>\n",
       "      <td>0.00</td>\n",
       "      <td>2.88</td>\n",
       "      <td>72.61</td>\n",
       "      <td>0.08</td>\n",
       "      <td>9.18</td>\n",
       "      <td>1.06</td>\n",
       "      <td>0.0</td>\n",
       "      <td>7</td>\n",
       "    </tr>\n",
       "    <tr>\n",
       "      <th>210</th>\n",
       "      <td>211</td>\n",
       "      <td>1.51685</td>\n",
       "      <td>14.92</td>\n",
       "      <td>0.00</td>\n",
       "      <td>1.99</td>\n",
       "      <td>73.06</td>\n",
       "      <td>0.00</td>\n",
       "      <td>8.40</td>\n",
       "      <td>1.59</td>\n",
       "      <td>0.0</td>\n",
       "      <td>7</td>\n",
       "    </tr>\n",
       "    <tr>\n",
       "      <th>211</th>\n",
       "      <td>212</td>\n",
       "      <td>1.52065</td>\n",
       "      <td>14.36</td>\n",
       "      <td>0.00</td>\n",
       "      <td>2.02</td>\n",
       "      <td>73.42</td>\n",
       "      <td>0.00</td>\n",
       "      <td>8.44</td>\n",
       "      <td>1.64</td>\n",
       "      <td>0.0</td>\n",
       "      <td>7</td>\n",
       "    </tr>\n",
       "    <tr>\n",
       "      <th>212</th>\n",
       "      <td>213</td>\n",
       "      <td>1.51651</td>\n",
       "      <td>14.38</td>\n",
       "      <td>0.00</td>\n",
       "      <td>1.94</td>\n",
       "      <td>73.61</td>\n",
       "      <td>0.00</td>\n",
       "      <td>8.48</td>\n",
       "      <td>1.57</td>\n",
       "      <td>0.0</td>\n",
       "      <td>7</td>\n",
       "    </tr>\n",
       "    <tr>\n",
       "      <th>213</th>\n",
       "      <td>214</td>\n",
       "      <td>1.51711</td>\n",
       "      <td>14.23</td>\n",
       "      <td>0.00</td>\n",
       "      <td>2.08</td>\n",
       "      <td>73.36</td>\n",
       "      <td>0.00</td>\n",
       "      <td>8.62</td>\n",
       "      <td>1.67</td>\n",
       "      <td>0.0</td>\n",
       "      <td>7</td>\n",
       "    </tr>\n",
       "  </tbody>\n",
       "</table>\n",
       "<p>214 rows × 11 columns</p>\n",
       "</div>"
      ],
      "text/plain": [
       "      ID       RI     Na    Mg    Al     Si     K    Ca    Ba   Fe  \\\n",
       "0      1  1.52101  13.64  4.49  1.10  71.78  0.06  8.75  0.00  0.0   \n",
       "1      2  1.51761  13.89  3.60  1.36  72.73  0.48  7.83  0.00  0.0   \n",
       "2      3  1.51618  13.53  3.55  1.54  72.99  0.39  7.78  0.00  0.0   \n",
       "3      4  1.51766  13.21  3.69  1.29  72.61  0.57  8.22  0.00  0.0   \n",
       "4      5  1.51742  13.27  3.62  1.24  73.08  0.55  8.07  0.00  0.0   \n",
       "..   ...      ...    ...   ...   ...    ...   ...   ...   ...  ...   \n",
       "209  210  1.51623  14.14  0.00  2.88  72.61  0.08  9.18  1.06  0.0   \n",
       "210  211  1.51685  14.92  0.00  1.99  73.06  0.00  8.40  1.59  0.0   \n",
       "211  212  1.52065  14.36  0.00  2.02  73.42  0.00  8.44  1.64  0.0   \n",
       "212  213  1.51651  14.38  0.00  1.94  73.61  0.00  8.48  1.57  0.0   \n",
       "213  214  1.51711  14.23  0.00  2.08  73.36  0.00  8.62  1.67  0.0   \n",
       "\n",
       "     Type of glass  \n",
       "0                1  \n",
       "1                1  \n",
       "2                1  \n",
       "3                1  \n",
       "4                1  \n",
       "..             ...  \n",
       "209              7  \n",
       "210              7  \n",
       "211              7  \n",
       "212              7  \n",
       "213              7  \n",
       "\n",
       "[214 rows x 11 columns]"
      ]
     },
     "execution_count": 134,
     "metadata": {},
     "output_type": "execute_result"
    }
   ],
   "source": [
    "data=data.set_axis([\"ID\",\"RI\",\"Na\",\"Mg\",\"Al\",\"Si\",\n",
    "                    \"K\",\"Ca\",\"Ba\",\"Fe\",\"Type of glass\"],axis=1)\n",
    "\n",
    "#data.set_index(\"ID\")\n",
    "data\n"
   ]
  },
  {
   "cell_type": "code",
   "execution_count": 135,
   "id": "8670baa6",
   "metadata": {},
   "outputs": [
    {
     "name": "stdout",
     "output_type": "stream",
     "text": [
      "<class 'pandas.core.frame.DataFrame'>\n",
      "RangeIndex: 214 entries, 0 to 213\n",
      "Data columns (total 11 columns):\n",
      " #   Column         Non-Null Count  Dtype  \n",
      "---  ------         --------------  -----  \n",
      " 0   ID             214 non-null    int64  \n",
      " 1   RI             214 non-null    float64\n",
      " 2   Na             214 non-null    float64\n",
      " 3   Mg             214 non-null    float64\n",
      " 4   Al             214 non-null    float64\n",
      " 5   Si             214 non-null    float64\n",
      " 6   K              214 non-null    float64\n",
      " 7   Ca             214 non-null    float64\n",
      " 8   Ba             214 non-null    float64\n",
      " 9   Fe             214 non-null    float64\n",
      " 10  Type of glass  214 non-null    int64  \n",
      "dtypes: float64(9), int64(2)\n",
      "memory usage: 18.5 KB\n"
     ]
    }
   ],
   "source": [
    "# Overview of the dataset\n",
    "data.info()"
   ]
  },
  {
   "cell_type": "markdown",
   "id": "0723b913",
   "metadata": {},
   "source": [
    "There are no missing values in the dataset."
   ]
  },
  {
   "cell_type": "code",
   "execution_count": 136,
   "id": "e897f5c0",
   "metadata": {},
   "outputs": [
    {
     "data": {
      "text/html": [
       "<div>\n",
       "<style scoped>\n",
       "    .dataframe tbody tr th:only-of-type {\n",
       "        vertical-align: middle;\n",
       "    }\n",
       "\n",
       "    .dataframe tbody tr th {\n",
       "        vertical-align: top;\n",
       "    }\n",
       "\n",
       "    .dataframe thead th {\n",
       "        text-align: right;\n",
       "    }\n",
       "</style>\n",
       "<table border=\"1\" class=\"dataframe\">\n",
       "  <thead>\n",
       "    <tr style=\"text-align: right;\">\n",
       "      <th></th>\n",
       "      <th>ID</th>\n",
       "      <th>RI</th>\n",
       "      <th>Na</th>\n",
       "      <th>Mg</th>\n",
       "      <th>Al</th>\n",
       "      <th>Si</th>\n",
       "      <th>K</th>\n",
       "      <th>Ca</th>\n",
       "      <th>Ba</th>\n",
       "      <th>Fe</th>\n",
       "      <th>Type of glass</th>\n",
       "    </tr>\n",
       "  </thead>\n",
       "  <tbody>\n",
       "    <tr>\n",
       "      <th>count</th>\n",
       "      <td>214.000000</td>\n",
       "      <td>214.000000</td>\n",
       "      <td>214.000000</td>\n",
       "      <td>214.000000</td>\n",
       "      <td>214.000000</td>\n",
       "      <td>214.000000</td>\n",
       "      <td>214.000000</td>\n",
       "      <td>214.000000</td>\n",
       "      <td>214.000000</td>\n",
       "      <td>214.000000</td>\n",
       "      <td>214.000000</td>\n",
       "    </tr>\n",
       "    <tr>\n",
       "      <th>mean</th>\n",
       "      <td>107.500000</td>\n",
       "      <td>1.518365</td>\n",
       "      <td>13.407850</td>\n",
       "      <td>2.684533</td>\n",
       "      <td>1.444907</td>\n",
       "      <td>72.650935</td>\n",
       "      <td>0.497056</td>\n",
       "      <td>8.956963</td>\n",
       "      <td>0.175047</td>\n",
       "      <td>0.057009</td>\n",
       "      <td>2.780374</td>\n",
       "    </tr>\n",
       "    <tr>\n",
       "      <th>std</th>\n",
       "      <td>61.920648</td>\n",
       "      <td>0.003037</td>\n",
       "      <td>0.816604</td>\n",
       "      <td>1.442408</td>\n",
       "      <td>0.499270</td>\n",
       "      <td>0.774546</td>\n",
       "      <td>0.652192</td>\n",
       "      <td>1.423153</td>\n",
       "      <td>0.497219</td>\n",
       "      <td>0.097439</td>\n",
       "      <td>2.103739</td>\n",
       "    </tr>\n",
       "    <tr>\n",
       "      <th>min</th>\n",
       "      <td>1.000000</td>\n",
       "      <td>1.511150</td>\n",
       "      <td>10.730000</td>\n",
       "      <td>0.000000</td>\n",
       "      <td>0.290000</td>\n",
       "      <td>69.810000</td>\n",
       "      <td>0.000000</td>\n",
       "      <td>5.430000</td>\n",
       "      <td>0.000000</td>\n",
       "      <td>0.000000</td>\n",
       "      <td>1.000000</td>\n",
       "    </tr>\n",
       "    <tr>\n",
       "      <th>25%</th>\n",
       "      <td>54.250000</td>\n",
       "      <td>1.516522</td>\n",
       "      <td>12.907500</td>\n",
       "      <td>2.115000</td>\n",
       "      <td>1.190000</td>\n",
       "      <td>72.280000</td>\n",
       "      <td>0.122500</td>\n",
       "      <td>8.240000</td>\n",
       "      <td>0.000000</td>\n",
       "      <td>0.000000</td>\n",
       "      <td>1.000000</td>\n",
       "    </tr>\n",
       "    <tr>\n",
       "      <th>50%</th>\n",
       "      <td>107.500000</td>\n",
       "      <td>1.517680</td>\n",
       "      <td>13.300000</td>\n",
       "      <td>3.480000</td>\n",
       "      <td>1.360000</td>\n",
       "      <td>72.790000</td>\n",
       "      <td>0.555000</td>\n",
       "      <td>8.600000</td>\n",
       "      <td>0.000000</td>\n",
       "      <td>0.000000</td>\n",
       "      <td>2.000000</td>\n",
       "    </tr>\n",
       "    <tr>\n",
       "      <th>75%</th>\n",
       "      <td>160.750000</td>\n",
       "      <td>1.519157</td>\n",
       "      <td>13.825000</td>\n",
       "      <td>3.600000</td>\n",
       "      <td>1.630000</td>\n",
       "      <td>73.087500</td>\n",
       "      <td>0.610000</td>\n",
       "      <td>9.172500</td>\n",
       "      <td>0.000000</td>\n",
       "      <td>0.100000</td>\n",
       "      <td>3.000000</td>\n",
       "    </tr>\n",
       "    <tr>\n",
       "      <th>max</th>\n",
       "      <td>214.000000</td>\n",
       "      <td>1.533930</td>\n",
       "      <td>17.380000</td>\n",
       "      <td>4.490000</td>\n",
       "      <td>3.500000</td>\n",
       "      <td>75.410000</td>\n",
       "      <td>6.210000</td>\n",
       "      <td>16.190000</td>\n",
       "      <td>3.150000</td>\n",
       "      <td>0.510000</td>\n",
       "      <td>7.000000</td>\n",
       "    </tr>\n",
       "  </tbody>\n",
       "</table>\n",
       "</div>"
      ],
      "text/plain": [
       "               ID          RI          Na          Mg          Al          Si  \\\n",
       "count  214.000000  214.000000  214.000000  214.000000  214.000000  214.000000   \n",
       "mean   107.500000    1.518365   13.407850    2.684533    1.444907   72.650935   \n",
       "std     61.920648    0.003037    0.816604    1.442408    0.499270    0.774546   \n",
       "min      1.000000    1.511150   10.730000    0.000000    0.290000   69.810000   \n",
       "25%     54.250000    1.516522   12.907500    2.115000    1.190000   72.280000   \n",
       "50%    107.500000    1.517680   13.300000    3.480000    1.360000   72.790000   \n",
       "75%    160.750000    1.519157   13.825000    3.600000    1.630000   73.087500   \n",
       "max    214.000000    1.533930   17.380000    4.490000    3.500000   75.410000   \n",
       "\n",
       "                K          Ca          Ba          Fe  Type of glass  \n",
       "count  214.000000  214.000000  214.000000  214.000000     214.000000  \n",
       "mean     0.497056    8.956963    0.175047    0.057009       2.780374  \n",
       "std      0.652192    1.423153    0.497219    0.097439       2.103739  \n",
       "min      0.000000    5.430000    0.000000    0.000000       1.000000  \n",
       "25%      0.122500    8.240000    0.000000    0.000000       1.000000  \n",
       "50%      0.555000    8.600000    0.000000    0.000000       2.000000  \n",
       "75%      0.610000    9.172500    0.000000    0.100000       3.000000  \n",
       "max      6.210000   16.190000    3.150000    0.510000       7.000000  "
      ]
     },
     "execution_count": 136,
     "metadata": {},
     "output_type": "execute_result"
    }
   ],
   "source": [
    "# Description of dataset\n",
    "\n",
    "data.describe()"
   ]
  },
  {
   "cell_type": "code",
   "execution_count": 137,
   "id": "addfe290",
   "metadata": {},
   "outputs": [
    {
     "data": {
      "text/html": [
       "<div>\n",
       "<style scoped>\n",
       "    .dataframe tbody tr th:only-of-type {\n",
       "        vertical-align: middle;\n",
       "    }\n",
       "\n",
       "    .dataframe tbody tr th {\n",
       "        vertical-align: top;\n",
       "    }\n",
       "\n",
       "    .dataframe thead th {\n",
       "        text-align: right;\n",
       "    }\n",
       "</style>\n",
       "<table border=\"1\" class=\"dataframe\">\n",
       "  <thead>\n",
       "    <tr style=\"text-align: right;\">\n",
       "      <th></th>\n",
       "      <th>No. of unique values</th>\n",
       "    </tr>\n",
       "  </thead>\n",
       "  <tbody>\n",
       "    <tr>\n",
       "      <th>ID</th>\n",
       "      <td>214</td>\n",
       "    </tr>\n",
       "    <tr>\n",
       "      <th>RI</th>\n",
       "      <td>178</td>\n",
       "    </tr>\n",
       "    <tr>\n",
       "      <th>Na</th>\n",
       "      <td>142</td>\n",
       "    </tr>\n",
       "    <tr>\n",
       "      <th>Mg</th>\n",
       "      <td>94</td>\n",
       "    </tr>\n",
       "    <tr>\n",
       "      <th>Al</th>\n",
       "      <td>118</td>\n",
       "    </tr>\n",
       "    <tr>\n",
       "      <th>Si</th>\n",
       "      <td>133</td>\n",
       "    </tr>\n",
       "    <tr>\n",
       "      <th>K</th>\n",
       "      <td>65</td>\n",
       "    </tr>\n",
       "    <tr>\n",
       "      <th>Ca</th>\n",
       "      <td>143</td>\n",
       "    </tr>\n",
       "    <tr>\n",
       "      <th>Ba</th>\n",
       "      <td>34</td>\n",
       "    </tr>\n",
       "    <tr>\n",
       "      <th>Fe</th>\n",
       "      <td>32</td>\n",
       "    </tr>\n",
       "    <tr>\n",
       "      <th>Type of glass</th>\n",
       "      <td>6</td>\n",
       "    </tr>\n",
       "  </tbody>\n",
       "</table>\n",
       "</div>"
      ],
      "text/plain": [
       "               No. of unique values\n",
       "ID                              214\n",
       "RI                              178\n",
       "Na                              142\n",
       "Mg                               94\n",
       "Al                              118\n",
       "Si                              133\n",
       "K                                65\n",
       "Ca                              143\n",
       "Ba                               34\n",
       "Fe                               32\n",
       "Type of glass                     6"
      ]
     },
     "execution_count": 137,
     "metadata": {},
     "output_type": "execute_result"
    }
   ],
   "source": [
    "# Checking the number of unique values in each column\n",
    "data.nunique().to_frame(\"No. of unique values\")"
   ]
  },
  {
   "cell_type": "markdown",
   "id": "d276ac12",
   "metadata": {},
   "source": [
    "In fact, there are 6 types of glass. The data in K, Ba and Fe are the features where theres is more repetition of values."
   ]
  },
  {
   "cell_type": "code",
   "execution_count": 138,
   "id": "9785234c",
   "metadata": {},
   "outputs": [
    {
     "name": "stdout",
     "output_type": "stream",
     "text": [
      "Total Duplicate Rows are: 0\n"
     ]
    }
   ],
   "source": [
    "# Check duplicates in DataFrame\n",
    "print(\"Total Duplicate Rows are:\",data.duplicated().sum())"
   ]
  },
  {
   "cell_type": "markdown",
   "id": "8012bb0f",
   "metadata": {},
   "source": [
    "There are no duplicates."
   ]
  },
  {
   "cell_type": "code",
   "execution_count": 139,
   "id": "545b3e00",
   "metadata": {},
   "outputs": [],
   "source": [
    "# Drop ID column\n",
    "data.drop(\"ID\",axis=1, inplace=True)"
   ]
  },
  {
   "cell_type": "code",
   "execution_count": 140,
   "id": "da02dbfc",
   "metadata": {},
   "outputs": [],
   "source": [
    "# Classify window_class and non_window_class type of glass.\n",
    "window_class,non_window_class=[x for _,x in data.groupby(data['Type of glass']>4)]"
   ]
  },
  {
   "cell_type": "code",
   "execution_count": 141,
   "id": "5787514f",
   "metadata": {},
   "outputs": [
    {
     "data": {
      "text/plain": [
       "array([1, 2, 3, 5, 6, 7], dtype=int64)"
      ]
     },
     "execution_count": 141,
     "metadata": {},
     "output_type": "execute_result"
    }
   ],
   "source": [
    "data['Type of glass'].unique()"
   ]
  },
  {
   "cell_type": "code",
   "execution_count": 142,
   "id": "40813b3f",
   "metadata": {},
   "outputs": [
    {
     "data": {
      "text/plain": [
       "2    76\n",
       "1    70\n",
       "3    17\n",
       "Name: Type of glass, dtype: int64"
      ]
     },
     "execution_count": 142,
     "metadata": {},
     "output_type": "execute_result"
    }
   ],
   "source": [
    "window_class['Type of glass'].value_counts()"
   ]
  },
  {
   "cell_type": "code",
   "execution_count": 143,
   "id": "1d7be042",
   "metadata": {},
   "outputs": [
    {
     "data": {
      "text/plain": [
       "7    29\n",
       "5    13\n",
       "6     9\n",
       "Name: Type of glass, dtype: int64"
      ]
     },
     "execution_count": 143,
     "metadata": {},
     "output_type": "execute_result"
    }
   ],
   "source": [
    "non_window_class['Type of glass'].value_counts()"
   ]
  },
  {
   "cell_type": "code",
   "execution_count": 144,
   "id": "caa33509",
   "metadata": {},
   "outputs": [],
   "source": [
    "data[\"Classification\"]=np.where(data[\"Type of glass\"]<5,\"window_class\",\"non_window_class\")"
   ]
  },
  {
   "cell_type": "code",
   "execution_count": 145,
   "id": "c8c980ec",
   "metadata": {},
   "outputs": [
    {
     "data": {
      "text/html": [
       "<div>\n",
       "<style scoped>\n",
       "    .dataframe tbody tr th:only-of-type {\n",
       "        vertical-align: middle;\n",
       "    }\n",
       "\n",
       "    .dataframe tbody tr th {\n",
       "        vertical-align: top;\n",
       "    }\n",
       "\n",
       "    .dataframe thead th {\n",
       "        text-align: right;\n",
       "    }\n",
       "</style>\n",
       "<table border=\"1\" class=\"dataframe\">\n",
       "  <thead>\n",
       "    <tr style=\"text-align: right;\">\n",
       "      <th></th>\n",
       "      <th>RI</th>\n",
       "      <th>Na</th>\n",
       "      <th>Mg</th>\n",
       "      <th>Al</th>\n",
       "      <th>Si</th>\n",
       "      <th>K</th>\n",
       "      <th>Ca</th>\n",
       "      <th>Ba</th>\n",
       "      <th>Fe</th>\n",
       "      <th>Type of glass</th>\n",
       "    </tr>\n",
       "    <tr>\n",
       "      <th>Classification</th>\n",
       "      <th></th>\n",
       "      <th></th>\n",
       "      <th></th>\n",
       "      <th></th>\n",
       "      <th></th>\n",
       "      <th></th>\n",
       "      <th></th>\n",
       "      <th></th>\n",
       "      <th></th>\n",
       "      <th></th>\n",
       "    </tr>\n",
       "  </thead>\n",
       "  <tbody>\n",
       "    <tr>\n",
       "      <th>non_window_class</th>\n",
       "      <td>51</td>\n",
       "      <td>51</td>\n",
       "      <td>51</td>\n",
       "      <td>51</td>\n",
       "      <td>51</td>\n",
       "      <td>51</td>\n",
       "      <td>51</td>\n",
       "      <td>51</td>\n",
       "      <td>51</td>\n",
       "      <td>51</td>\n",
       "    </tr>\n",
       "    <tr>\n",
       "      <th>window_class</th>\n",
       "      <td>163</td>\n",
       "      <td>163</td>\n",
       "      <td>163</td>\n",
       "      <td>163</td>\n",
       "      <td>163</td>\n",
       "      <td>163</td>\n",
       "      <td>163</td>\n",
       "      <td>163</td>\n",
       "      <td>163</td>\n",
       "      <td>163</td>\n",
       "    </tr>\n",
       "  </tbody>\n",
       "</table>\n",
       "</div>"
      ],
      "text/plain": [
       "                   RI   Na   Mg   Al   Si    K   Ca   Ba   Fe  Type of glass\n",
       "Classification                                                              \n",
       "non_window_class   51   51   51   51   51   51   51   51   51             51\n",
       "window_class      163  163  163  163  163  163  163  163  163            163"
      ]
     },
     "execution_count": 145,
     "metadata": {},
     "output_type": "execute_result"
    }
   ],
   "source": [
    "data.groupby(by=[\"Classification\"]).count()"
   ]
  },
  {
   "cell_type": "code",
   "execution_count": 146,
   "id": "3dfbfa9d",
   "metadata": {},
   "outputs": [
    {
     "data": {
      "text/html": [
       "<div>\n",
       "<style scoped>\n",
       "    .dataframe tbody tr th:only-of-type {\n",
       "        vertical-align: middle;\n",
       "    }\n",
       "\n",
       "    .dataframe tbody tr th {\n",
       "        vertical-align: top;\n",
       "    }\n",
       "\n",
       "    .dataframe thead th {\n",
       "        text-align: right;\n",
       "    }\n",
       "</style>\n",
       "<table border=\"1\" class=\"dataframe\">\n",
       "  <thead>\n",
       "    <tr style=\"text-align: right;\">\n",
       "      <th></th>\n",
       "      <th>RI</th>\n",
       "      <th>Na</th>\n",
       "      <th>Mg</th>\n",
       "      <th>Al</th>\n",
       "      <th>Si</th>\n",
       "      <th>K</th>\n",
       "      <th>Ca</th>\n",
       "      <th>Ba</th>\n",
       "      <th>Fe</th>\n",
       "      <th>Classification</th>\n",
       "    </tr>\n",
       "    <tr>\n",
       "      <th>Type of glass</th>\n",
       "      <th></th>\n",
       "      <th></th>\n",
       "      <th></th>\n",
       "      <th></th>\n",
       "      <th></th>\n",
       "      <th></th>\n",
       "      <th></th>\n",
       "      <th></th>\n",
       "      <th></th>\n",
       "      <th></th>\n",
       "    </tr>\n",
       "  </thead>\n",
       "  <tbody>\n",
       "    <tr>\n",
       "      <th>1</th>\n",
       "      <td>70</td>\n",
       "      <td>70</td>\n",
       "      <td>70</td>\n",
       "      <td>70</td>\n",
       "      <td>70</td>\n",
       "      <td>70</td>\n",
       "      <td>70</td>\n",
       "      <td>70</td>\n",
       "      <td>70</td>\n",
       "      <td>70</td>\n",
       "    </tr>\n",
       "    <tr>\n",
       "      <th>2</th>\n",
       "      <td>76</td>\n",
       "      <td>76</td>\n",
       "      <td>76</td>\n",
       "      <td>76</td>\n",
       "      <td>76</td>\n",
       "      <td>76</td>\n",
       "      <td>76</td>\n",
       "      <td>76</td>\n",
       "      <td>76</td>\n",
       "      <td>76</td>\n",
       "    </tr>\n",
       "    <tr>\n",
       "      <th>3</th>\n",
       "      <td>17</td>\n",
       "      <td>17</td>\n",
       "      <td>17</td>\n",
       "      <td>17</td>\n",
       "      <td>17</td>\n",
       "      <td>17</td>\n",
       "      <td>17</td>\n",
       "      <td>17</td>\n",
       "      <td>17</td>\n",
       "      <td>17</td>\n",
       "    </tr>\n",
       "    <tr>\n",
       "      <th>5</th>\n",
       "      <td>13</td>\n",
       "      <td>13</td>\n",
       "      <td>13</td>\n",
       "      <td>13</td>\n",
       "      <td>13</td>\n",
       "      <td>13</td>\n",
       "      <td>13</td>\n",
       "      <td>13</td>\n",
       "      <td>13</td>\n",
       "      <td>13</td>\n",
       "    </tr>\n",
       "    <tr>\n",
       "      <th>6</th>\n",
       "      <td>9</td>\n",
       "      <td>9</td>\n",
       "      <td>9</td>\n",
       "      <td>9</td>\n",
       "      <td>9</td>\n",
       "      <td>9</td>\n",
       "      <td>9</td>\n",
       "      <td>9</td>\n",
       "      <td>9</td>\n",
       "      <td>9</td>\n",
       "    </tr>\n",
       "    <tr>\n",
       "      <th>7</th>\n",
       "      <td>29</td>\n",
       "      <td>29</td>\n",
       "      <td>29</td>\n",
       "      <td>29</td>\n",
       "      <td>29</td>\n",
       "      <td>29</td>\n",
       "      <td>29</td>\n",
       "      <td>29</td>\n",
       "      <td>29</td>\n",
       "      <td>29</td>\n",
       "    </tr>\n",
       "  </tbody>\n",
       "</table>\n",
       "</div>"
      ],
      "text/plain": [
       "               RI  Na  Mg  Al  Si   K  Ca  Ba  Fe  Classification\n",
       "Type of glass                                                    \n",
       "1              70  70  70  70  70  70  70  70  70              70\n",
       "2              76  76  76  76  76  76  76  76  76              76\n",
       "3              17  17  17  17  17  17  17  17  17              17\n",
       "5              13  13  13  13  13  13  13  13  13              13\n",
       "6               9   9   9   9   9   9   9   9   9               9\n",
       "7              29  29  29  29  29  29  29  29  29              29"
      ]
     },
     "execution_count": 146,
     "metadata": {},
     "output_type": "execute_result"
    }
   ],
   "source": [
    "data.groupby(by=[\"Type of glass\"]).count()"
   ]
  },
  {
   "cell_type": "code",
   "execution_count": 104,
   "id": "b24b073c",
   "metadata": {},
   "outputs": [
    {
     "data": {
      "text/html": [
       "<div>\n",
       "<style scoped>\n",
       "    .dataframe tbody tr th:only-of-type {\n",
       "        vertical-align: middle;\n",
       "    }\n",
       "\n",
       "    .dataframe tbody tr th {\n",
       "        vertical-align: top;\n",
       "    }\n",
       "\n",
       "    .dataframe thead th {\n",
       "        text-align: right;\n",
       "    }\n",
       "</style>\n",
       "<table border=\"1\" class=\"dataframe\">\n",
       "  <thead>\n",
       "    <tr style=\"text-align: right;\">\n",
       "      <th></th>\n",
       "      <th></th>\n",
       "      <th>RI</th>\n",
       "      <th>Na</th>\n",
       "      <th>Mg</th>\n",
       "      <th>Al</th>\n",
       "      <th>Si</th>\n",
       "      <th>K</th>\n",
       "      <th>Ca</th>\n",
       "      <th>Ba</th>\n",
       "      <th>Fe</th>\n",
       "    </tr>\n",
       "    <tr>\n",
       "      <th>Classification</th>\n",
       "      <th>Type of glass</th>\n",
       "      <th></th>\n",
       "      <th></th>\n",
       "      <th></th>\n",
       "      <th></th>\n",
       "      <th></th>\n",
       "      <th></th>\n",
       "      <th></th>\n",
       "      <th></th>\n",
       "      <th></th>\n",
       "    </tr>\n",
       "  </thead>\n",
       "  <tbody>\n",
       "    <tr>\n",
       "      <th rowspan=\"3\" valign=\"top\">non_window_class</th>\n",
       "      <th>5</th>\n",
       "      <td>13</td>\n",
       "      <td>13</td>\n",
       "      <td>13</td>\n",
       "      <td>13</td>\n",
       "      <td>13</td>\n",
       "      <td>13</td>\n",
       "      <td>13</td>\n",
       "      <td>13</td>\n",
       "      <td>13</td>\n",
       "    </tr>\n",
       "    <tr>\n",
       "      <th>6</th>\n",
       "      <td>9</td>\n",
       "      <td>9</td>\n",
       "      <td>9</td>\n",
       "      <td>9</td>\n",
       "      <td>9</td>\n",
       "      <td>9</td>\n",
       "      <td>9</td>\n",
       "      <td>9</td>\n",
       "      <td>9</td>\n",
       "    </tr>\n",
       "    <tr>\n",
       "      <th>7</th>\n",
       "      <td>29</td>\n",
       "      <td>29</td>\n",
       "      <td>29</td>\n",
       "      <td>29</td>\n",
       "      <td>29</td>\n",
       "      <td>29</td>\n",
       "      <td>29</td>\n",
       "      <td>29</td>\n",
       "      <td>29</td>\n",
       "    </tr>\n",
       "    <tr>\n",
       "      <th rowspan=\"3\" valign=\"top\">window_class</th>\n",
       "      <th>1</th>\n",
       "      <td>70</td>\n",
       "      <td>70</td>\n",
       "      <td>70</td>\n",
       "      <td>70</td>\n",
       "      <td>70</td>\n",
       "      <td>70</td>\n",
       "      <td>70</td>\n",
       "      <td>70</td>\n",
       "      <td>70</td>\n",
       "    </tr>\n",
       "    <tr>\n",
       "      <th>2</th>\n",
       "      <td>76</td>\n",
       "      <td>76</td>\n",
       "      <td>76</td>\n",
       "      <td>76</td>\n",
       "      <td>76</td>\n",
       "      <td>76</td>\n",
       "      <td>76</td>\n",
       "      <td>76</td>\n",
       "      <td>76</td>\n",
       "    </tr>\n",
       "    <tr>\n",
       "      <th>3</th>\n",
       "      <td>17</td>\n",
       "      <td>17</td>\n",
       "      <td>17</td>\n",
       "      <td>17</td>\n",
       "      <td>17</td>\n",
       "      <td>17</td>\n",
       "      <td>17</td>\n",
       "      <td>17</td>\n",
       "      <td>17</td>\n",
       "    </tr>\n",
       "  </tbody>\n",
       "</table>\n",
       "</div>"
      ],
      "text/plain": [
       "                                RI  Na  Mg  Al  Si   K  Ca  Ba  Fe\n",
       "Classification   Type of glass                                    \n",
       "non_window_class 5              13  13  13  13  13  13  13  13  13\n",
       "                 6               9   9   9   9   9   9   9   9   9\n",
       "                 7              29  29  29  29  29  29  29  29  29\n",
       "window_class     1              70  70  70  70  70  70  70  70  70\n",
       "                 2              76  76  76  76  76  76  76  76  76\n",
       "                 3              17  17  17  17  17  17  17  17  17"
      ]
     },
     "execution_count": 104,
     "metadata": {},
     "output_type": "execute_result"
    }
   ],
   "source": [
    "data.groupby([\"Classification\",\"Type of glass\"]).count()"
   ]
  },
  {
   "cell_type": "markdown",
   "id": "6b767f25",
   "metadata": {},
   "source": [
    "## Data Visualization"
   ]
  },
  {
   "cell_type": "code",
   "execution_count": 24,
   "id": "3d938197",
   "metadata": {},
   "outputs": [
    {
     "name": "stdout",
     "output_type": "stream",
     "text": [
      "2    76\n",
      "1    70\n",
      "7    29\n",
      "3    17\n",
      "5    13\n",
      "6     9\n",
      "Name: Type of glass, dtype: int64\n"
     ]
    },
    {
     "data": {
      "image/png": "[encoded data removed]",
      "text/plain": [
       "<Figure size 720x504 with 1 Axes>"
      ]
     },
     "metadata": {},
     "output_type": "display_data"
    }
   ],
   "source": [
    "# Plotting the count corresponding to target variable values\n",
    "print(data['Type of glass'].value_counts())\n",
    "ax=sns.countplot(x=\"Type of glass\",data=data)\n",
    "plt.show()\n",
    "#sns.catplot(x='quality',data=data,kind=\"count\")"
   ]
  },
  {
   "cell_type": "markdown",
   "id": "9728ce44",
   "metadata": {},
   "source": [
    "### Visualize the relation of each feature/input variables with the type of glass"
   ]
  },
  {
   "cell_type": "code",
   "execution_count": 25,
   "id": "6e8401a4",
   "metadata": {},
   "outputs": [
    {
     "data": {
      "text/plain": [
       "Index(['RI', 'Na', 'Mg', 'Al', 'Si', 'K', 'Ca', 'Ba', 'Fe', 'Type of glass',\n",
       "       'Classification'],\n",
       "      dtype='object')"
      ]
     },
     "execution_count": 25,
     "metadata": {},
     "output_type": "execute_result"
    }
   ],
   "source": [
    "data.columns"
   ]
  },
  {
   "cell_type": "code",
   "execution_count": 157,
   "id": "ddcfeac3",
   "metadata": {},
   "outputs": [
    {
     "name": "stdout",
     "output_type": "stream",
     "text": [
      "window_class        163\n",
      "non_window class     51\n",
      "Name: Classification, dtype: int64\n"
     ]
    },
    {
     "data": {
      "image/png": "[encoded data removed]",
      "text/plain": [
       "<Figure size 720x504 with 1 Axes>"
      ]
     },
     "metadata": {},
     "output_type": "display_data"
    }
   ],
   "source": [
    "# Visualizing how many customers have StreamingMovies\n",
    "print(data['Classification'].value_counts())\n",
    "ax=sns.countplot(x=\"Classification\",data=data)\n",
    "plt.show()"
   ]
  },
  {
   "cell_type": "code",
   "execution_count": 158,
   "id": "20b20f89",
   "metadata": {},
   "outputs": [
    {
     "data": {
      "text/plain": [
       "array([<AxesSubplot:title={'center':'non_window class'}>,\n",
       "       <AxesSubplot:title={'center':'window_class'}>], dtype=object)"
      ]
     },
     "execution_count": 158,
     "metadata": {},
     "output_type": "execute_result"
    },
    {
     "data": {
      "image/png": "[encoded data removed]",
      "text/plain": [
       "<Figure size 720x504 with 2 Axes>"
      ]
     },
     "metadata": {},
     "output_type": "display_data"
    }
   ],
   "source": [
    "# Visualizing\n",
    "data.hist(\"Type of glass\",by=\"Classification\")"
   ]
  },
  {
   "cell_type": "code",
   "execution_count": 31,
   "id": "bde10be5",
   "metadata": {},
   "outputs": [
    {
     "data": {
      "text/plain": [
       "<AxesSubplot:xlabel='Type of glass', ylabel='RI'>"
      ]
     },
     "execution_count": 31,
     "metadata": {},
     "output_type": "execute_result"
    },
    {
     "data": {
      "image/png": "[encoded data removed]",
      "text/plain": [
       "<Figure size 720x360 with 1 Axes>"
      ]
     },
     "metadata": {},
     "output_type": "display_data"
    }
   ],
   "source": [
    "# RI Vs Type of glass\n",
    "plot=plt.figure(figsize=(10,5))\n",
    "sns.barplot(x='Type of glass',y='RI',data=data)"
   ]
  },
  {
   "cell_type": "code",
   "execution_count": 32,
   "id": "56e24adc",
   "metadata": {},
   "outputs": [
    {
     "data": {
      "text/plain": [
       "<AxesSubplot:xlabel='Type of glass', ylabel='Na'>"
      ]
     },
     "execution_count": 32,
     "metadata": {},
     "output_type": "execute_result"
    },
    {
     "data": {
      "image/png": "[encoded data removed]",
      "text/plain": [
       "<Figure size 720x360 with 1 Axes>"
      ]
     },
     "metadata": {},
     "output_type": "display_data"
    }
   ],
   "source": [
    "# Na Vs Type of glass\n",
    "plot=plt.figure(figsize=(10,5))\n",
    "sns.barplot(x='Type of glass',y='Na',data=data)"
   ]
  },
  {
   "cell_type": "code",
   "execution_count": 33,
   "id": "cd7254b9",
   "metadata": {},
   "outputs": [
    {
     "data": {
      "text/plain": [
       "<AxesSubplot:xlabel='Type of glass', ylabel='Mg'>"
      ]
     },
     "execution_count": 33,
     "metadata": {},
     "output_type": "execute_result"
    },
    {
     "data": {
      "image/png": "[encoded data removed]",
      "text/plain": [
       "<Figure size 720x360 with 1 Axes>"
      ]
     },
     "metadata": {},
     "output_type": "display_data"
    }
   ],
   "source": [
    "# Mg Vs Type of glass\n",
    "plot=plt.figure(figsize=(10,5))\n",
    "sns.barplot(x='Type of glass',y='Mg',data=data)"
   ]
  },
  {
   "cell_type": "code",
   "execution_count": 34,
   "id": "6115952d",
   "metadata": {},
   "outputs": [
    {
     "data": {
      "text/plain": [
       "<AxesSubplot:xlabel='Type of glass', ylabel='Al'>"
      ]
     },
     "execution_count": 34,
     "metadata": {},
     "output_type": "execute_result"
    },
    {
     "data": {
      "image/png": "[encoded data removed]",
      "text/plain": [
       "<Figure size 720x360 with 1 Axes>"
      ]
     },
     "metadata": {},
     "output_type": "display_data"
    }
   ],
   "source": [
    "# Al Vs Type of glass\n",
    "plot=plt.figure(figsize=(10,5))\n",
    "sns.barplot(x='Type of glass',y='Al',data=data)"
   ]
  },
  {
   "cell_type": "code",
   "execution_count": 35,
   "id": "0eb81c48",
   "metadata": {},
   "outputs": [
    {
     "data": {
      "text/plain": [
       "<AxesSubplot:xlabel='Type of glass', ylabel='Si'>"
      ]
     },
     "execution_count": 35,
     "metadata": {},
     "output_type": "execute_result"
    },
    {
     "data": {
      "image/png": "[encoded data removed]",
      "text/plain": [
       "<Figure size 720x360 with 1 Axes>"
      ]
     },
     "metadata": {},
     "output_type": "display_data"
    }
   ],
   "source": [
    "# Si Vs Type of glass\n",
    "plot=plt.figure(figsize=(10,5))\n",
    "sns.barplot(x='Type of glass',y='Si',data=data)"
   ]
  },
  {
   "cell_type": "code",
   "execution_count": 36,
   "id": "4bf52f00",
   "metadata": {},
   "outputs": [
    {
     "data": {
      "text/plain": [
       "<AxesSubplot:xlabel='Type of glass', ylabel='K'>"
      ]
     },
     "execution_count": 36,
     "metadata": {},
     "output_type": "execute_result"
    },
    {
     "data": {
      "image/png": "[encoded data removed]",
      "text/plain": [
       "<Figure size 720x360 with 1 Axes>"
      ]
     },
     "metadata": {},
     "output_type": "display_data"
    }
   ],
   "source": [
    "# K Vs Type of glass\n",
    "plot=plt.figure(figsize=(10,5))\n",
    "sns.barplot(x='Type of glass',y='K',data=data)"
   ]
  },
  {
   "cell_type": "code",
   "execution_count": 37,
   "id": "d9b15cc2",
   "metadata": {},
   "outputs": [
    {
     "data": {
      "text/plain": [
       "<AxesSubplot:xlabel='Type of glass', ylabel='Ca'>"
      ]
     },
     "execution_count": 37,
     "metadata": {},
     "output_type": "execute_result"
    },
    {
     "data": {
      "image/png": "[encoded data removed]",
      "text/plain": [
       "<Figure size 720x360 with 1 Axes>"
      ]
     },
     "metadata": {},
     "output_type": "display_data"
    }
   ],
   "source": [
    "# Ca Vs Type of glass\n",
    "plot=plt.figure(figsize=(10,5))\n",
    "sns.barplot(x='Type of glass',y='Ca',data=data)"
   ]
  },
  {
   "cell_type": "code",
   "execution_count": 38,
   "id": "bbba4524",
   "metadata": {},
   "outputs": [
    {
     "data": {
      "text/plain": [
       "<AxesSubplot:xlabel='Type of glass', ylabel='Ba'>"
      ]
     },
     "execution_count": 38,
     "metadata": {},
     "output_type": "execute_result"
    },
    {
     "data": {
      "image/png": "[encoded data removed]",
      "text/plain": [
       "<Figure size 720x360 with 1 Axes>"
      ]
     },
     "metadata": {},
     "output_type": "display_data"
    }
   ],
   "source": [
    "# Ba Vs Type of glass\n",
    "plot=plt.figure(figsize=(10,5))\n",
    "sns.barplot(x='Type of glass',y='Ba',data=data)"
   ]
  },
  {
   "cell_type": "code",
   "execution_count": 39,
   "id": "36b6aadd",
   "metadata": {},
   "outputs": [
    {
     "data": {
      "text/plain": [
       "<AxesSubplot:xlabel='Type of glass', ylabel='Fe'>"
      ]
     },
     "execution_count": 39,
     "metadata": {},
     "output_type": "execute_result"
    },
    {
     "data": {
      "image/png": "[encoded data removed]",
      "text/plain": [
       "<Figure size 720x360 with 1 Axes>"
      ]
     },
     "metadata": {},
     "output_type": "display_data"
    }
   ],
   "source": [
    "# Fe Vs Type of glass\n",
    "plot=plt.figure(figsize=(10,5))\n",
    "sns.barplot(x='Type of glass',y='Fe',data=data)"
   ]
  },
  {
   "cell_type": "code",
   "execution_count": 160,
   "id": "f70302e7",
   "metadata": {},
   "outputs": [
    {
     "data": {
      "text/plain": [
       "<AxesSubplot:>"
      ]
     },
     "execution_count": 160,
     "metadata": {},
     "output_type": "execute_result"
    },
    {
     "data": {
      "image/png": "[encoded data removed]",
      "text/plain": [
       "<Figure size 1080x360 with 2 Axes>"
      ]
     },
     "metadata": {},
     "output_type": "display_data"
    }
   ],
   "source": [
    "# Checking Data Distribution and outliers\n",
    "\n",
    "plt.figure(2)\n",
    "plt.subplot(121)\n",
    "sns.distplot(data['RI'])\n",
    "plt.subplot(122)\n",
    "data['RI'].plot.box(figsize=(15,5))"
   ]
  },
  {
   "cell_type": "code",
   "execution_count": 161,
   "id": "cc70b542",
   "metadata": {},
   "outputs": [
    {
     "data": {
      "text/plain": [
       "<AxesSubplot:>"
      ]
     },
     "execution_count": 161,
     "metadata": {},
     "output_type": "execute_result"
    },
    {
     "data": {
      "image/png": "[encoded data removed]",
      "text/plain": [
       "<Figure size 1080x360 with 2 Axes>"
      ]
     },
     "metadata": {},
     "output_type": "display_data"
    }
   ],
   "source": [
    "# Checking Data Distribution and outliers\n",
    "\n",
    "plt.figure(2)\n",
    "plt.subplot(121)\n",
    "sns.distplot(data['Na'])\n",
    "plt.subplot(122)\n",
    "data['Na'].plot.box(figsize=(15,5))"
   ]
  },
  {
   "cell_type": "code",
   "execution_count": 162,
   "id": "ee954cab",
   "metadata": {},
   "outputs": [
    {
     "data": {
      "text/plain": [
       "<AxesSubplot:>"
      ]
     },
     "execution_count": 162,
     "metadata": {},
     "output_type": "execute_result"
    },
    {
     "data": {
      "image/png": "[encoded data removed]",
      "text/plain": [
       "<Figure size 1080x360 with 2 Axes>"
      ]
     },
     "metadata": {},
     "output_type": "display_data"
    }
   ],
   "source": [
    "# Checking Data Distribution and outliers\n",
    "\n",
    "plt.figure(2)\n",
    "plt.subplot(121)\n",
    "sns.distplot(data['Mg'])\n",
    "plt.subplot(122)\n",
    "data['Mg'].plot.box(figsize=(15,5))"
   ]
  },
  {
   "cell_type": "code",
   "execution_count": 163,
   "id": "f5a6989b",
   "metadata": {},
   "outputs": [
    {
     "data": {
      "text/plain": [
       "<AxesSubplot:>"
      ]
     },
     "execution_count": 163,
     "metadata": {},
     "output_type": "execute_result"
    },
    {
     "data": {
      "image/png": "[encoded data removed]",
      "text/plain": [
       "<Figure size 1080x360 with 2 Axes>"
      ]
     },
     "metadata": {},
     "output_type": "display_data"
    }
   ],
   "source": [
    "# Checking Data Distribution and outliers\n",
    "\n",
    "plt.figure(2)\n",
    "plt.subplot(121)\n",
    "sns.distplot(data['Al'])\n",
    "plt.subplot(122)\n",
    "data['Al'].plot.box(figsize=(15,5))"
   ]
  },
  {
   "cell_type": "code",
   "execution_count": 164,
   "id": "85a4baf3",
   "metadata": {},
   "outputs": [
    {
     "data": {
      "text/plain": [
       "<AxesSubplot:>"
      ]
     },
     "execution_count": 164,
     "metadata": {},
     "output_type": "execute_result"
    },
    {
     "data": {
      "image/png": "[encoded data removed]",
      "text/plain": [
       "<Figure size 1080x360 with 2 Axes>"
      ]
     },
     "metadata": {},
     "output_type": "display_data"
    }
   ],
   "source": [
    "# Checking Data Distribution and outliers\n",
    "\n",
    "plt.figure(2)\n",
    "plt.subplot(121)\n",
    "sns.distplot(data['Si'])\n",
    "plt.subplot(122)\n",
    "data['Si'].plot.box(figsize=(15,5))"
   ]
  },
  {
   "cell_type": "code",
   "execution_count": 165,
   "id": "fb5df62e",
   "metadata": {},
   "outputs": [
    {
     "data": {
      "text/plain": [
       "<AxesSubplot:>"
      ]
     },
     "execution_count": 165,
     "metadata": {},
     "output_type": "execute_result"
    },
    {
     "data": {
      "image/png": "[encoded data removed]",
      "text/plain": [
       "<Figure size 1080x360 with 2 Axes>"
      ]
     },
     "metadata": {},
     "output_type": "display_data"
    }
   ],
   "source": [
    "# Checking Data Distribution and outliers\n",
    "\n",
    "plt.figure(2)\n",
    "plt.subplot(121)\n",
    "sns.distplot(data['K'])\n",
    "plt.subplot(122)\n",
    "data['K'].plot.box(figsize=(15,5))"
   ]
  },
  {
   "cell_type": "code",
   "execution_count": 166,
   "id": "4c404ac5",
   "metadata": {},
   "outputs": [
    {
     "data": {
      "text/plain": [
       "<AxesSubplot:>"
      ]
     },
     "execution_count": 166,
     "metadata": {},
     "output_type": "execute_result"
    },
    {
     "data": {
      "image/png": "[encoded data removed]",
      "text/plain": [
       "<Figure size 1080x360 with 2 Axes>"
      ]
     },
     "metadata": {},
     "output_type": "display_data"
    }
   ],
   "source": [
    "# Checking Data Distribution and outliers\n",
    "\n",
    "plt.figure(2)\n",
    "plt.subplot(121)\n",
    "sns.distplot(data['Ca'])\n",
    "plt.subplot(122)\n",
    "data['Ca'].plot.box(figsize=(15,5))"
   ]
  },
  {
   "cell_type": "code",
   "execution_count": 167,
   "id": "7b618ec8",
   "metadata": {},
   "outputs": [
    {
     "data": {
      "text/plain": [
       "<AxesSubplot:>"
      ]
     },
     "execution_count": 167,
     "metadata": {},
     "output_type": "execute_result"
    },
    {
     "data": {
      "image/png": "[encoded data removed]",
      "text/plain": [
       "<Figure size 1080x360 with 2 Axes>"
      ]
     },
     "metadata": {},
     "output_type": "display_data"
    }
   ],
   "source": [
    "# Checking Data Distribution and outliers\n",
    "\n",
    "plt.figure(2)\n",
    "plt.subplot(121)\n",
    "sns.distplot(data['Ba'])\n",
    "plt.subplot(122)\n",
    "data['Ba'].plot.box(figsize=(15,5))"
   ]
  },
  {
   "cell_type": "code",
   "execution_count": 168,
   "id": "2f124dea",
   "metadata": {},
   "outputs": [
    {
     "data": {
      "text/plain": [
       "<AxesSubplot:>"
      ]
     },
     "execution_count": 168,
     "metadata": {},
     "output_type": "execute_result"
    },
    {
     "data": {
      "image/png": "[encoded data removed]",
      "text/plain": [
       "<Figure size 1080x360 with 2 Axes>"
      ]
     },
     "metadata": {},
     "output_type": "display_data"
    }
   ],
   "source": [
    "# Checking Data Distribution and outliers\n",
    "\n",
    "plt.figure(2)\n",
    "plt.subplot(121)\n",
    "sns.distplot(data['Fe'])\n",
    "plt.subplot(122)\n",
    "data['Fe'].plot.box(figsize=(15,5))"
   ]
  },
  {
   "cell_type": "markdown",
   "id": "b1871b68",
   "metadata": {},
   "source": [
    "The graphs also show that there are outliers present in the dataset."
   ]
  },
  {
   "cell_type": "markdown",
   "id": "a32b2cd5",
   "metadata": {},
   "source": [
    "## Data Preprocessing"
   ]
  },
  {
   "cell_type": "code",
   "execution_count": 147,
   "id": "77a7c5d5",
   "metadata": {},
   "outputs": [
    {
     "data": {
      "text/plain": [
       "Index(['RI', 'Na', 'Mg', 'Al', 'Si', 'K', 'Ca', 'Ba', 'Fe', 'Type of glass',\n",
       "       'Classification'],\n",
       "      dtype='object')"
      ]
     },
     "execution_count": 147,
     "metadata": {},
     "output_type": "execute_result"
    }
   ],
   "source": [
    "data.columns"
   ]
  },
  {
   "cell_type": "code",
   "execution_count": 148,
   "id": "85d32f0b",
   "metadata": {},
   "outputs": [
    {
     "data": {
      "text/plain": [
       "array([[0.87286765, 0.28495326, 1.25463857, ..., 0.14576634, 0.35287683,\n",
       "        0.5864509 ],\n",
       "       [0.24933347, 0.59181718, 0.63616803, ..., 0.79373376, 0.35287683,\n",
       "        0.5864509 ],\n",
       "       [0.72131806, 0.14993314, 0.60142249, ..., 0.82894938, 0.35287683,\n",
       "        0.5864509 ],\n",
       "       ...,\n",
       "       [0.75404635, 1.16872135, 1.86551055, ..., 0.36410319, 2.95320036,\n",
       "        0.5864509 ],\n",
       "       [0.61239854, 1.19327046, 1.86551055, ..., 0.33593069, 2.81208731,\n",
       "        0.5864509 ],\n",
       "       [0.41436305, 1.00915211, 1.86551055, ..., 0.23732695, 3.01367739,\n",
       "        0.5864509 ]])"
      ]
     },
     "execution_count": 148,
     "metadata": {},
     "output_type": "execute_result"
    }
   ],
   "source": [
    "# Remove Outliers\n",
    "\n",
    "from scipy.stats import zscore\n",
    "\n",
    "out_features=data[['RI', 'Na', 'Mg', 'Al', 'Si', 'K', 'Ca', 'Ba', 'Fe']]\n",
    "z=np.abs(zscore(out_features))\n",
    "z"
   ]
  },
  {
   "cell_type": "code",
   "execution_count": 149,
   "id": "89141bcd",
   "metadata": {},
   "outputs": [
    {
     "data": {
      "text/plain": [
       "(array([105, 106, 106, 106, 106, 106, 107, 107, 107, 110, 111, 112, 112,\n",
       "        131, 145, 162, 163, 163, 163, 171, 171, 172, 172, 174, 184, 184,\n",
       "        188, 189, 201, 201, 203, 207, 213], dtype=int64),\n",
       " array([6, 0, 1, 4, 6, 7, 0, 4, 6, 6, 6, 0, 6, 6, 8, 8, 3, 4, 7, 3, 5, 3,\n",
       "        5, 8, 1, 4, 4, 7, 4, 5, 7, 7, 7], dtype=int64))"
      ]
     },
     "execution_count": 149,
     "metadata": {},
     "output_type": "execute_result"
    }
   ],
   "source": [
    "# Threshold=3\n",
    "np.where(z>3)"
   ]
  },
  {
   "cell_type": "code",
   "execution_count": 150,
   "id": "cc7aad29",
   "metadata": {},
   "outputs": [
    {
     "data": {
      "text/plain": [
       "(194, 11)"
      ]
     },
     "execution_count": 150,
     "metadata": {},
     "output_type": "execute_result"
    }
   ],
   "source": [
    "data1=data[(z<3).all(axis=1)]\n",
    "data1.shape"
   ]
  },
  {
   "cell_type": "code",
   "execution_count": 151,
   "id": "a75d10b0",
   "metadata": {},
   "outputs": [
    {
     "name": "stdout",
     "output_type": "stream",
     "text": [
      "Old DataFrame -  214\n",
      "New DataFrame -  194\n"
     ]
    }
   ],
   "source": [
    "# Shape of Old and New DataFrame\n",
    "print(\"Old DataFrame - \",data.shape[0])\n",
    "print(\"New DataFrame - \",data1.shape[0])"
   ]
  },
  {
   "cell_type": "code",
   "execution_count": 152,
   "id": "8114cd32",
   "metadata": {},
   "outputs": [
    {
     "name": "stdout",
     "output_type": "stream",
     "text": [
      "Data Loss Percentage -  9.345794392523365\n"
     ]
    }
   ],
   "source": [
    "print(\"Data Loss Percentage - \",((data.shape[0]-data1.shape[0])/data.shape[0]*100))"
   ]
  },
  {
   "cell_type": "code",
   "execution_count": 153,
   "id": "4a761d6b",
   "metadata": {},
   "outputs": [],
   "source": [
    "# IQR Method\n",
    "\n",
    "import operator\n",
    "\n",
    "# 1st quantile\n",
    "Q1=out_features.quantile(0.25)\n",
    "\n",
    "\n",
    "# 3rd quantile\n",
    "Q3=out_features.quantile(0.75)\n",
    "\n",
    "# IQR\n",
    "IQR=Q3-Q1\n",
    "dataIQR=data[operator.invert(((data<(Q1-1.5*IQR))|(data>(Q3+1.5*IQR))).any(axis=1))]"
   ]
  },
  {
   "cell_type": "code",
   "execution_count": 154,
   "id": "51009e1c",
   "metadata": {},
   "outputs": [
    {
     "data": {
      "text/plain": [
       "(136, 11)"
      ]
     },
     "execution_count": 154,
     "metadata": {},
     "output_type": "execute_result"
    }
   ],
   "source": [
    "dataIQR.shape"
   ]
  },
  {
   "cell_type": "code",
   "execution_count": 155,
   "id": "e3718ddd",
   "metadata": {},
   "outputs": [
    {
     "name": "stdout",
     "output_type": "stream",
     "text": [
      "Data Loss Percentage after removing outliers with IQR method -  36.44859813084112\n"
     ]
    }
   ],
   "source": [
    "print(\"Data Loss Percentage after removing outliers with IQR method - \",((data.shape[0]-dataIQR.shape[0])/data.shape[0])*100)"
   ]
  },
  {
   "cell_type": "markdown",
   "id": "d74de92a",
   "metadata": {},
   "source": [
    "I'll use the Z method to remove outliers, since the % loss is less."
   ]
  },
  {
   "cell_type": "markdown",
   "id": "d5d3df8d",
   "metadata": {},
   "source": [
    "### Correlation between the target variable and independent variables"
   ]
  },
  {
   "cell_type": "code",
   "execution_count": 156,
   "id": "ca987b17",
   "metadata": {},
   "outputs": [
    {
     "data": {
      "text/html": [
       "<div>\n",
       "<style scoped>\n",
       "    .dataframe tbody tr th:only-of-type {\n",
       "        vertical-align: middle;\n",
       "    }\n",
       "\n",
       "    .dataframe tbody tr th {\n",
       "        vertical-align: top;\n",
       "    }\n",
       "\n",
       "    .dataframe thead th {\n",
       "        text-align: right;\n",
       "    }\n",
       "</style>\n",
       "<table border=\"1\" class=\"dataframe\">\n",
       "  <thead>\n",
       "    <tr style=\"text-align: right;\">\n",
       "      <th></th>\n",
       "      <th>RI</th>\n",
       "      <th>Na</th>\n",
       "      <th>Mg</th>\n",
       "      <th>Al</th>\n",
       "      <th>Si</th>\n",
       "      <th>K</th>\n",
       "      <th>Ca</th>\n",
       "      <th>Ba</th>\n",
       "      <th>Fe</th>\n",
       "      <th>Type of glass</th>\n",
       "    </tr>\n",
       "  </thead>\n",
       "  <tbody>\n",
       "    <tr>\n",
       "      <th>RI</th>\n",
       "      <td>1.000000</td>\n",
       "      <td>0.050760</td>\n",
       "      <td>0.048147</td>\n",
       "      <td>-0.522197</td>\n",
       "      <td>-0.609011</td>\n",
       "      <td>-0.368238</td>\n",
       "      <td>0.690650</td>\n",
       "      <td>-0.193013</td>\n",
       "      <td>-0.020046</td>\n",
       "      <td>-0.167355</td>\n",
       "    </tr>\n",
       "    <tr>\n",
       "      <th>Na</th>\n",
       "      <td>0.050760</td>\n",
       "      <td>1.000000</td>\n",
       "      <td>-0.487729</td>\n",
       "      <td>0.253127</td>\n",
       "      <td>-0.234718</td>\n",
       "      <td>-0.612183</td>\n",
       "      <td>0.019987</td>\n",
       "      <td>0.532000</td>\n",
       "      <td>-0.209838</td>\n",
       "      <td>0.533025</td>\n",
       "    </tr>\n",
       "    <tr>\n",
       "      <th>Mg</th>\n",
       "      <td>0.048147</td>\n",
       "      <td>-0.487729</td>\n",
       "      <td>1.000000</td>\n",
       "      <td>-0.593457</td>\n",
       "      <td>-0.377464</td>\n",
       "      <td>0.482622</td>\n",
       "      <td>-0.455582</td>\n",
       "      <td>-0.586581</td>\n",
       "      <td>0.134065</td>\n",
       "      <td>-0.810321</td>\n",
       "    </tr>\n",
       "    <tr>\n",
       "      <th>Al</th>\n",
       "      <td>-0.522197</td>\n",
       "      <td>0.253127</td>\n",
       "      <td>-0.593457</td>\n",
       "      <td>1.000000</td>\n",
       "      <td>0.335262</td>\n",
       "      <td>0.005827</td>\n",
       "      <td>-0.213304</td>\n",
       "      <td>0.532061</td>\n",
       "      <td>-0.117764</td>\n",
       "      <td>0.660262</td>\n",
       "    </tr>\n",
       "    <tr>\n",
       "      <th>Si</th>\n",
       "      <td>-0.609011</td>\n",
       "      <td>-0.234718</td>\n",
       "      <td>-0.377464</td>\n",
       "      <td>0.335262</td>\n",
       "      <td>1.000000</td>\n",
       "      <td>0.072579</td>\n",
       "      <td>-0.165712</td>\n",
       "      <td>0.155017</td>\n",
       "      <td>0.023279</td>\n",
       "      <td>0.262152</td>\n",
       "    </tr>\n",
       "    <tr>\n",
       "      <th>K</th>\n",
       "      <td>-0.368238</td>\n",
       "      <td>-0.612183</td>\n",
       "      <td>0.482622</td>\n",
       "      <td>0.005827</td>\n",
       "      <td>0.072579</td>\n",
       "      <td>1.000000</td>\n",
       "      <td>-0.500579</td>\n",
       "      <td>-0.253790</td>\n",
       "      <td>0.099394</td>\n",
       "      <td>-0.383499</td>\n",
       "    </tr>\n",
       "    <tr>\n",
       "      <th>Ca</th>\n",
       "      <td>0.690650</td>\n",
       "      <td>0.019987</td>\n",
       "      <td>-0.455582</td>\n",
       "      <td>-0.213304</td>\n",
       "      <td>-0.165712</td>\n",
       "      <td>-0.500579</td>\n",
       "      <td>1.000000</td>\n",
       "      <td>-0.167843</td>\n",
       "      <td>-0.011635</td>\n",
       "      <td>0.154762</td>\n",
       "    </tr>\n",
       "    <tr>\n",
       "      <th>Ba</th>\n",
       "      <td>-0.193013</td>\n",
       "      <td>0.532000</td>\n",
       "      <td>-0.586581</td>\n",
       "      <td>0.532061</td>\n",
       "      <td>0.155017</td>\n",
       "      <td>-0.253790</td>\n",
       "      <td>-0.167843</td>\n",
       "      <td>1.000000</td>\n",
       "      <td>-0.119955</td>\n",
       "      <td>0.682768</td>\n",
       "    </tr>\n",
       "    <tr>\n",
       "      <th>Fe</th>\n",
       "      <td>-0.020046</td>\n",
       "      <td>-0.209838</td>\n",
       "      <td>0.134065</td>\n",
       "      <td>-0.117764</td>\n",
       "      <td>0.023279</td>\n",
       "      <td>0.099394</td>\n",
       "      <td>-0.011635</td>\n",
       "      <td>-0.119955</td>\n",
       "      <td>1.000000</td>\n",
       "      <td>-0.202028</td>\n",
       "    </tr>\n",
       "    <tr>\n",
       "      <th>Type of glass</th>\n",
       "      <td>-0.167355</td>\n",
       "      <td>0.533025</td>\n",
       "      <td>-0.810321</td>\n",
       "      <td>0.660262</td>\n",
       "      <td>0.262152</td>\n",
       "      <td>-0.383499</td>\n",
       "      <td>0.154762</td>\n",
       "      <td>0.682768</td>\n",
       "      <td>-0.202028</td>\n",
       "      <td>1.000000</td>\n",
       "    </tr>\n",
       "  </tbody>\n",
       "</table>\n",
       "</div>"
      ],
      "text/plain": [
       "                     RI        Na        Mg        Al        Si         K  \\\n",
       "RI             1.000000  0.050760  0.048147 -0.522197 -0.609011 -0.368238   \n",
       "Na             0.050760  1.000000 -0.487729  0.253127 -0.234718 -0.612183   \n",
       "Mg             0.048147 -0.487729  1.000000 -0.593457 -0.377464  0.482622   \n",
       "Al            -0.522197  0.253127 -0.593457  1.000000  0.335262  0.005827   \n",
       "Si            -0.609011 -0.234718 -0.377464  0.335262  1.000000  0.072579   \n",
       "K             -0.368238 -0.612183  0.482622  0.005827  0.072579  1.000000   \n",
       "Ca             0.690650  0.019987 -0.455582 -0.213304 -0.165712 -0.500579   \n",
       "Ba            -0.193013  0.532000 -0.586581  0.532061  0.155017 -0.253790   \n",
       "Fe            -0.020046 -0.209838  0.134065 -0.117764  0.023279  0.099394   \n",
       "Type of glass -0.167355  0.533025 -0.810321  0.660262  0.262152 -0.383499   \n",
       "\n",
       "                     Ca        Ba        Fe  Type of glass  \n",
       "RI             0.690650 -0.193013 -0.020046      -0.167355  \n",
       "Na             0.019987  0.532000 -0.209838       0.533025  \n",
       "Mg            -0.455582 -0.586581  0.134065      -0.810321  \n",
       "Al            -0.213304  0.532061 -0.117764       0.660262  \n",
       "Si            -0.165712  0.155017  0.023279       0.262152  \n",
       "K             -0.500579 -0.253790  0.099394      -0.383499  \n",
       "Ca             1.000000 -0.167843 -0.011635       0.154762  \n",
       "Ba            -0.167843  1.000000 -0.119955       0.682768  \n",
       "Fe            -0.011635 -0.119955  1.000000      -0.202028  \n",
       "Type of glass  0.154762  0.682768 -0.202028       1.000000  "
      ]
     },
     "execution_count": 156,
     "metadata": {},
     "output_type": "execute_result"
    }
   ],
   "source": [
    "# Find correlation between the data\n",
    "correlation=data1.corr()\n",
    "correlation"
   ]
  },
  {
   "cell_type": "code",
   "execution_count": 157,
   "id": "db6ffdbb",
   "metadata": {},
   "outputs": [
    {
     "data": {
      "image/png": "[encoded data removed]",
      "text/plain": [
       "<Figure size 720x360 with 2 Axes>"
      ]
     },
     "metadata": {},
     "output_type": "display_data"
    }
   ],
   "source": [
    "# Visualizing the correlation matrix by plotting heatmap\n",
    "plt.figure(figsize=(10,5))\n",
    "sns.heatmap(data.corr(),linewidths=0.1,fmt=\".1g\",linecolor=\"black\",annot=True,cmap=\"Blues_r\")\n",
    "plt.yticks(rotation=0);\n",
    "plt.show()"
   ]
  },
  {
   "cell_type": "markdown",
   "id": "c12b6091",
   "metadata": {},
   "source": [
    "From the Heatmap plot we can see there is are features which are negatively correlated to each other."
   ]
  },
  {
   "cell_type": "code",
   "execution_count": 158,
   "id": "035e11e3",
   "metadata": {},
   "outputs": [
    {
     "data": {
      "text/plain": [
       "Mg              -0.810321\n",
       "K               -0.383499\n",
       "Fe              -0.202028\n",
       "RI              -0.167355\n",
       "Ca               0.154762\n",
       "Si               0.262152\n",
       "Na               0.533025\n",
       "Al               0.660262\n",
       "Ba               0.682768\n",
       "Type of glass    1.000000\n",
       "Name: Type of glass, dtype: float64"
      ]
     },
     "execution_count": 158,
     "metadata": {},
     "output_type": "execute_result"
    }
   ],
   "source": [
    "data1.corr()['Type of glass'].sort_values()"
   ]
  },
  {
   "cell_type": "code",
   "execution_count": 159,
   "id": "945d26ee",
   "metadata": {},
   "outputs": [
    {
     "data": {
      "image/png": "[encoded data removed]",
      "text/plain": [
       "<Figure size 1728x576 with 1 Axes>"
      ]
     },
     "metadata": {},
     "output_type": "display_data"
    }
   ],
   "source": [
    "plt.figure(figsize=(24,8))\n",
    "data.corr()['Type of glass'].sort_values().drop(['Type of glass']).plot(kind='barh',color='m',width=0.8)\n",
    "plt.xlabel('Feature',fontsize=15)\n",
    "plt.ylabel('Target',fontsize=15)\n",
    "plt.title('Type of glass, Feature Importance',fontsize=20)\n",
    "plt.show()"
   ]
  },
  {
   "cell_type": "code",
   "execution_count": 160,
   "id": "18886929",
   "metadata": {},
   "outputs": [
    {
     "data": {
      "text/plain": [
       "RI               0.952733\n",
       "Na               0.371482\n",
       "Mg              -1.528849\n",
       "Al               0.658259\n",
       "Si              -0.425450\n",
       "K                0.303175\n",
       "Ca               1.077962\n",
       "Ba               3.188587\n",
       "Fe               1.486479\n",
       "Type of glass    1.284007\n",
       "dtype: float64"
      ]
     },
     "execution_count": 160,
     "metadata": {},
     "output_type": "execute_result"
    }
   ],
   "source": [
    "# Checking for skewness\n",
    "data1.skew()"
   ]
  },
  {
   "cell_type": "code",
   "execution_count": 161,
   "id": "3d6c1a8d",
   "metadata": {},
   "outputs": [],
   "source": [
    "# Removing skewness using cuberoot method\n",
    "# We do not do this with categorical data.\n",
    "\n",
    "data1['Ca']=np.cbrt(data1['Ca'])\n",
    "data1['Fe']=np.cbrt(data1['Fe'])\n",
    "data1['RI']=np.cbrt(data1['RI'])"
   ]
  },
  {
   "cell_type": "markdown",
   "id": "00b82ad0",
   "metadata": {},
   "source": [
    "I did not remove skewness when the correlation with target variable is good, like \"Mg\" and \"Ba\"."
   ]
  },
  {
   "cell_type": "code",
   "execution_count": 162,
   "id": "3b009c50",
   "metadata": {},
   "outputs": [
    {
     "data": {
      "text/plain": [
       "RI               0.948045\n",
       "Na               0.371482\n",
       "Mg              -1.528849\n",
       "Al               0.658259\n",
       "Si              -0.425450\n",
       "K                0.303175\n",
       "Ca               0.611914\n",
       "Ba               3.188587\n",
       "Fe               0.883166\n",
       "Type of glass    1.284007\n",
       "dtype: float64"
      ]
     },
     "execution_count": 162,
     "metadata": {},
     "output_type": "execute_result"
    }
   ],
   "source": [
    "# Checking skewness again\n",
    "data1.skew()"
   ]
  },
  {
   "cell_type": "code",
   "execution_count": 126,
   "id": "fbe89a07",
   "metadata": {},
   "outputs": [
    {
     "data": {
      "image/png": "[encoded data removed]",
      "text/plain": [
       "<Figure size 720x504 with 1 Axes>"
      ]
     },
     "metadata": {},
     "output_type": "display_data"
    }
   ],
   "source": [
    "# let's visualize how the data has been distributed in Volume after removing skewness\n",
    "sns.distplot(data1['Ca'],color='m',kde_kws={'shade':True},hist=False)\n",
    "plt.show()"
   ]
  },
  {
   "cell_type": "code",
   "execution_count": 127,
   "id": "b08c6dc4",
   "metadata": {},
   "outputs": [
    {
     "data": {
      "image/png": "[encoded data removed]",
      "text/plain": [
       "<Figure size 720x504 with 1 Axes>"
      ]
     },
     "metadata": {},
     "output_type": "display_data"
    }
   ],
   "source": [
    "# let's visualize how the data has been distributed in Volume after removing skewness\n",
    "sns.distplot(data1['Fe'],color='m',kde_kws={'shade':True},hist=False)\n",
    "plt.show()"
   ]
  },
  {
   "cell_type": "code",
   "execution_count": 163,
   "id": "04c4e052",
   "metadata": {},
   "outputs": [
    {
     "data": {
      "image/png": "[encoded data removed]",
      "text/plain": [
       "<Figure size 720x504 with 1 Axes>"
      ]
     },
     "metadata": {},
     "output_type": "display_data"
    }
   ],
   "source": [
    "# let's visualize how the data has been distributed in Volume after removing skewness\n",
    "sns.distplot(data1['RI'],color='m',kde_kws={'shade':True},hist=False)\n",
    "plt.show()"
   ]
  },
  {
   "cell_type": "markdown",
   "id": "eeceaf08",
   "metadata": {},
   "source": [
    "### Label Binarization"
   ]
  },
  {
   "cell_type": "code",
   "execution_count": 164,
   "id": "c65e2a46",
   "metadata": {},
   "outputs": [],
   "source": [
    "data1.drop(\"Classification\",axis=1,inplace=True)"
   ]
  },
  {
   "cell_type": "code",
   "execution_count": 166,
   "id": "e3b9b013",
   "metadata": {},
   "outputs": [],
   "source": [
    "#data1"
   ]
  },
  {
   "cell_type": "code",
   "execution_count": 167,
   "id": "0380e878",
   "metadata": {},
   "outputs": [
    {
     "name": "stdout",
     "output_type": "stream",
     "text": [
      "Feature Dimension (194, 9)\n",
      "Label Dimension (194,)\n"
     ]
    }
   ],
   "source": [
    "# Separating the independent and target variables into x and y\n",
    "# Label Binarization\n",
    "\n",
    "x=data1.drop(\"Type of glass\",axis=1)\n",
    "y=data1[\"Type of glass\"]\n",
    "\n",
    "print(\"Feature Dimension\",x.shape)\n",
    "print(\"Label Dimension\",y.shape)"
   ]
  },
  {
   "cell_type": "markdown",
   "id": "d43e35d0",
   "metadata": {},
   "source": [
    "### Feature Scaling using Standard Scalarization"
   ]
  },
  {
   "cell_type": "code",
   "execution_count": 168,
   "id": "b51bccb5",
   "metadata": {},
   "outputs": [
    {
     "data": {
      "text/html": [
       "<div>\n",
       "<style scoped>\n",
       "    .dataframe tbody tr th:only-of-type {\n",
       "        vertical-align: middle;\n",
       "    }\n",
       "\n",
       "    .dataframe tbody tr th {\n",
       "        vertical-align: top;\n",
       "    }\n",
       "\n",
       "    .dataframe thead th {\n",
       "        text-align: right;\n",
       "    }\n",
       "</style>\n",
       "<table border=\"1\" class=\"dataframe\">\n",
       "  <thead>\n",
       "    <tr style=\"text-align: right;\">\n",
       "      <th></th>\n",
       "      <th>RI</th>\n",
       "      <th>Na</th>\n",
       "      <th>Mg</th>\n",
       "      <th>Al</th>\n",
       "      <th>Si</th>\n",
       "      <th>K</th>\n",
       "      <th>Ca</th>\n",
       "      <th>Ba</th>\n",
       "      <th>Fe</th>\n",
       "    </tr>\n",
       "  </thead>\n",
       "  <tbody>\n",
       "    <tr>\n",
       "      <th>0</th>\n",
       "      <td>1.292056</td>\n",
       "      <td>0.332127</td>\n",
       "      <td>1.233397</td>\n",
       "      <td>-0.729105</td>\n",
       "      <td>-1.612464</td>\n",
       "      <td>-1.319609</td>\n",
       "      <td>-0.041137</td>\n",
       "      <td>-0.346292</td>\n",
       "      <td>-0.67803</td>\n",
       "    </tr>\n",
       "    <tr>\n",
       "      <th>1</th>\n",
       "      <td>-0.197444</td>\n",
       "      <td>0.704398</td>\n",
       "      <td>0.551581</td>\n",
       "      <td>-0.141722</td>\n",
       "      <td>0.016082</td>\n",
       "      <td>0.172091</td>\n",
       "      <td>-1.038165</td>\n",
       "      <td>-0.346292</td>\n",
       "      <td>-0.67803</td>\n",
       "    </tr>\n",
       "    <tr>\n",
       "      <th>2</th>\n",
       "      <td>-0.824575</td>\n",
       "      <td>0.168328</td>\n",
       "      <td>0.513277</td>\n",
       "      <td>0.264928</td>\n",
       "      <td>0.461790</td>\n",
       "      <td>-0.147559</td>\n",
       "      <td>-1.094542</td>\n",
       "      <td>-0.346292</td>\n",
       "      <td>-0.67803</td>\n",
       "    </tr>\n",
       "    <tr>\n",
       "      <th>3</th>\n",
       "      <td>-0.175524</td>\n",
       "      <td>-0.308179</td>\n",
       "      <td>0.620529</td>\n",
       "      <td>-0.299864</td>\n",
       "      <td>-0.189629</td>\n",
       "      <td>0.491741</td>\n",
       "      <td>-0.606457</td>\n",
       "      <td>-0.346292</td>\n",
       "      <td>-0.67803</td>\n",
       "    </tr>\n",
       "    <tr>\n",
       "      <th>4</th>\n",
       "      <td>-0.280746</td>\n",
       "      <td>-0.218834</td>\n",
       "      <td>0.566903</td>\n",
       "      <td>-0.412822</td>\n",
       "      <td>0.616073</td>\n",
       "      <td>0.420708</td>\n",
       "      <td>-0.770849</td>\n",
       "      <td>-0.346292</td>\n",
       "      <td>-0.67803</td>\n",
       "    </tr>\n",
       "    <tr>\n",
       "      <th>...</th>\n",
       "      <td>...</td>\n",
       "      <td>...</td>\n",
       "      <td>...</td>\n",
       "      <td>...</td>\n",
       "      <td>...</td>\n",
       "      <td>...</td>\n",
       "      <td>...</td>\n",
       "      <td>...</td>\n",
       "      <td>...</td>\n",
       "    </tr>\n",
       "    <tr>\n",
       "      <th>189</th>\n",
       "      <td>-0.728068</td>\n",
       "      <td>1.419158</td>\n",
       "      <td>-2.206325</td>\n",
       "      <td>2.975928</td>\n",
       "      <td>0.221793</td>\n",
       "      <td>-1.532708</td>\n",
       "      <td>0.671549</td>\n",
       "      <td>1.169695</td>\n",
       "      <td>-0.67803</td>\n",
       "    </tr>\n",
       "    <tr>\n",
       "      <th>190</th>\n",
       "      <td>-0.802641</td>\n",
       "      <td>1.076668</td>\n",
       "      <td>-2.206325</td>\n",
       "      <td>3.292211</td>\n",
       "      <td>-0.189629</td>\n",
       "      <td>-1.248575</td>\n",
       "      <td>0.400966</td>\n",
       "      <td>2.629534</td>\n",
       "      <td>-0.67803</td>\n",
       "    </tr>\n",
       "    <tr>\n",
       "      <th>191</th>\n",
       "      <td>-0.530695</td>\n",
       "      <td>2.238153</td>\n",
       "      <td>-2.206325</td>\n",
       "      <td>1.281553</td>\n",
       "      <td>0.581788</td>\n",
       "      <td>-1.532708</td>\n",
       "      <td>-0.411806</td>\n",
       "      <td>4.117447</td>\n",
       "      <td>-0.67803</td>\n",
       "    </tr>\n",
       "    <tr>\n",
       "      <th>192</th>\n",
       "      <td>1.134449</td>\n",
       "      <td>1.404267</td>\n",
       "      <td>-2.206325</td>\n",
       "      <td>1.349328</td>\n",
       "      <td>1.198921</td>\n",
       "      <td>-1.532708</td>\n",
       "      <td>-0.368929</td>\n",
       "      <td>4.257816</td>\n",
       "      <td>-0.67803</td>\n",
       "    </tr>\n",
       "    <tr>\n",
       "      <th>193</th>\n",
       "      <td>-0.679817</td>\n",
       "      <td>1.434048</td>\n",
       "      <td>-2.206325</td>\n",
       "      <td>1.168595</td>\n",
       "      <td>1.524630</td>\n",
       "      <td>-1.532708</td>\n",
       "      <td>-0.326187</td>\n",
       "      <td>4.061299</td>\n",
       "      <td>-0.67803</td>\n",
       "    </tr>\n",
       "  </tbody>\n",
       "</table>\n",
       "<p>194 rows × 9 columns</p>\n",
       "</div>"
      ],
      "text/plain": [
       "           RI        Na        Mg        Al        Si         K        Ca  \\\n",
       "0    1.292056  0.332127  1.233397 -0.729105 -1.612464 -1.319609 -0.041137   \n",
       "1   -0.197444  0.704398  0.551581 -0.141722  0.016082  0.172091 -1.038165   \n",
       "2   -0.824575  0.168328  0.513277  0.264928  0.461790 -0.147559 -1.094542   \n",
       "3   -0.175524 -0.308179  0.620529 -0.299864 -0.189629  0.491741 -0.606457   \n",
       "4   -0.280746 -0.218834  0.566903 -0.412822  0.616073  0.420708 -0.770849   \n",
       "..        ...       ...       ...       ...       ...       ...       ...   \n",
       "189 -0.728068  1.419158 -2.206325  2.975928  0.221793 -1.532708  0.671549   \n",
       "190 -0.802641  1.076668 -2.206325  3.292211 -0.189629 -1.248575  0.400966   \n",
       "191 -0.530695  2.238153 -2.206325  1.281553  0.581788 -1.532708 -0.411806   \n",
       "192  1.134449  1.404267 -2.206325  1.349328  1.198921 -1.532708 -0.368929   \n",
       "193 -0.679817  1.434048 -2.206325  1.168595  1.524630 -1.532708 -0.326187   \n",
       "\n",
       "           Ba       Fe  \n",
       "0   -0.346292 -0.67803  \n",
       "1   -0.346292 -0.67803  \n",
       "2   -0.346292 -0.67803  \n",
       "3   -0.346292 -0.67803  \n",
       "4   -0.346292 -0.67803  \n",
       "..        ...      ...  \n",
       "189  1.169695 -0.67803  \n",
       "190  2.629534 -0.67803  \n",
       "191  4.117447 -0.67803  \n",
       "192  4.257816 -0.67803  \n",
       "193  4.061299 -0.67803  \n",
       "\n",
       "[194 rows x 9 columns]"
      ]
     },
     "execution_count": 168,
     "metadata": {},
     "output_type": "execute_result"
    }
   ],
   "source": [
    "from sklearn.preprocessing import StandardScaler\n",
    "scaler=StandardScaler()\n",
    "x=pd.DataFrame(scaler.fit_transform(x),columns=x.columns)\n",
    "x"
   ]
  },
  {
   "cell_type": "markdown",
   "id": "293e245d",
   "metadata": {},
   "source": [
    "### Checking Variance Inflation Factor"
   ]
  },
  {
   "cell_type": "code",
   "execution_count": 169,
   "id": "9f14c95e",
   "metadata": {},
   "outputs": [
    {
     "data": {
      "text/html": [
       "<div>\n",
       "<style scoped>\n",
       "    .dataframe tbody tr th:only-of-type {\n",
       "        vertical-align: middle;\n",
       "    }\n",
       "\n",
       "    .dataframe tbody tr th {\n",
       "        vertical-align: top;\n",
       "    }\n",
       "\n",
       "    .dataframe thead th {\n",
       "        text-align: right;\n",
       "    }\n",
       "</style>\n",
       "<table border=\"1\" class=\"dataframe\">\n",
       "  <thead>\n",
       "    <tr style=\"text-align: right;\">\n",
       "      <th></th>\n",
       "      <th>VIF values</th>\n",
       "      <th>Features</th>\n",
       "    </tr>\n",
       "  </thead>\n",
       "  <tbody>\n",
       "    <tr>\n",
       "      <th>0</th>\n",
       "      <td>5.463025</td>\n",
       "      <td>RI</td>\n",
       "    </tr>\n",
       "    <tr>\n",
       "      <th>1</th>\n",
       "      <td>35.814906</td>\n",
       "      <td>Na</td>\n",
       "    </tr>\n",
       "    <tr>\n",
       "      <th>2</th>\n",
       "      <td>123.020827</td>\n",
       "      <td>Mg</td>\n",
       "    </tr>\n",
       "    <tr>\n",
       "      <th>3</th>\n",
       "      <td>15.344656</td>\n",
       "      <td>Al</td>\n",
       "    </tr>\n",
       "    <tr>\n",
       "      <th>4</th>\n",
       "      <td>25.679512</td>\n",
       "      <td>Si</td>\n",
       "    </tr>\n",
       "    <tr>\n",
       "      <th>5</th>\n",
       "      <td>12.553810</td>\n",
       "      <td>K</td>\n",
       "    </tr>\n",
       "    <tr>\n",
       "      <th>6</th>\n",
       "      <td>81.003631</td>\n",
       "      <td>Ca</td>\n",
       "    </tr>\n",
       "    <tr>\n",
       "      <th>7</th>\n",
       "      <td>11.768608</td>\n",
       "      <td>Ba</td>\n",
       "    </tr>\n",
       "    <tr>\n",
       "      <th>8</th>\n",
       "      <td>1.039447</td>\n",
       "      <td>Fe</td>\n",
       "    </tr>\n",
       "  </tbody>\n",
       "</table>\n",
       "</div>"
      ],
      "text/plain": [
       "   VIF values Features\n",
       "0    5.463025       RI\n",
       "1   35.814906       Na\n",
       "2  123.020827       Mg\n",
       "3   15.344656       Al\n",
       "4   25.679512       Si\n",
       "5   12.553810        K\n",
       "6   81.003631       Ca\n",
       "7   11.768608       Ba\n",
       "8    1.039447       Fe"
      ]
     },
     "execution_count": 169,
     "metadata": {},
     "output_type": "execute_result"
    }
   ],
   "source": [
    "# Checking Variance Inflation Factor\n",
    "\n",
    "# Finding the Variance Inflation Factor in each scaled column i.e, x.shape[1] (1/(1-R2))\n",
    "\n",
    "from statsmodels.stats.outliers_influence import variance_inflation_factor\n",
    "vif=pd.DataFrame()\n",
    "\n",
    "vif[\"VIF values\"]=[variance_inflation_factor(x.values,i)\n",
    "    for i in range(len(x.columns))]\n",
    "vif[\"Features\"]=x.columns\n",
    "vif"
   ]
  },
  {
   "cell_type": "markdown",
   "id": "59902c9e",
   "metadata": {},
   "source": [
    "Mg has a high VIF; however, I will not drop this column because it corresponds to one highly correlated chemical properties of glass."
   ]
  },
  {
   "cell_type": "code",
   "execution_count": 170,
   "id": "34ed18b4",
   "metadata": {},
   "outputs": [
    {
     "data": {
      "text/plain": [
       "1    70\n",
       "2    68\n",
       "7    23\n",
       "3    16\n",
       "5     9\n",
       "6     8\n",
       "Name: Type of glass, dtype: int64"
      ]
     },
     "execution_count": 170,
     "metadata": {},
     "output_type": "execute_result"
    }
   ],
   "source": [
    "# Checking if the data is balanced\n",
    "# Checking the value count of target column\n",
    "y.value_counts()"
   ]
  },
  {
   "cell_type": "markdown",
   "id": "61950a07",
   "metadata": {},
   "source": [
    "The data is not balanced. Given that it is a classification problem, I will balance the data using Oversampling Method."
   ]
  },
  {
   "cell_type": "markdown",
   "id": "c65269d7",
   "metadata": {},
   "source": [
    "### Oversampling the data"
   ]
  },
  {
   "cell_type": "code",
   "execution_count": 171,
   "id": "aaef50a2",
   "metadata": {},
   "outputs": [],
   "source": [
    "# Oversampling the data\n",
    "\n",
    "from imblearn.over_sampling import SMOTE\n",
    "SM=SMOTE()\n",
    "x1,y1=SM.fit_resample(x,y)"
   ]
  },
  {
   "cell_type": "code",
   "execution_count": 172,
   "id": "487917d6",
   "metadata": {},
   "outputs": [
    {
     "data": {
      "text/plain": [
       "1    70\n",
       "2    70\n",
       "3    70\n",
       "5    70\n",
       "6    70\n",
       "7    70\n",
       "Name: Type of glass, dtype: int64"
      ]
     },
     "execution_count": 172,
     "metadata": {},
     "output_type": "execute_result"
    }
   ],
   "source": [
    "# Checking the value count of target column y1\n",
    "y1.value_counts()"
   ]
  },
  {
   "cell_type": "markdown",
   "id": "e2136bb0",
   "metadata": {},
   "source": [
    "## Modelling"
   ]
  },
  {
   "cell_type": "code",
   "execution_count": 173,
   "id": "ab518fe6",
   "metadata": {},
   "outputs": [
    {
     "name": "stdout",
     "output_type": "stream",
     "text": [
      "Best accuracy is  0.9761904761904762 at random_state 146\n"
     ]
    }
   ],
   "source": [
    "# Finding the best random state\n",
    "from sklearn.model_selection import train_test_split\n",
    "from sklearn.ensemble import RandomForestClassifier\n",
    "from sklearn.metrics import accuracy_score\n",
    "\n",
    "maxAccu=0\n",
    "maxRS=0\n",
    "\n",
    "for i in range(1,200):\n",
    "    x_train,x_test,y_train,y_test=train_test_split(x1,y1,test_size=0.30,random_state=i)\n",
    "    RFR=RandomForestClassifier()\n",
    "    RFR.fit(x_train,y_train)\n",
    "    pred=RFR.predict(x_test)\n",
    "    acc=accuracy_score(y_test,pred)\n",
    "    if acc>maxAccu:\n",
    "        maxAccu=acc\n",
    "        maxRS=i\n",
    "print(\"Best accuracy is \",maxAccu, \"at random_state\",maxRS)"
   ]
  },
  {
   "cell_type": "markdown",
   "id": "c01c2d5c",
   "metadata": {},
   "source": [
    "### Creating train test split"
   ]
  },
  {
   "cell_type": "code",
   "execution_count": 177,
   "id": "3b9b728f",
   "metadata": {},
   "outputs": [],
   "source": [
    "# Train test split\n",
    "x_train,x_test,y_train,y_test=train_test_split(x1,y1,test_size=0.30,random_state=maxRS)"
   ]
  },
  {
   "cell_type": "markdown",
   "id": "d4288547",
   "metadata": {},
   "source": [
    "### Classification Algorithms"
   ]
  },
  {
   "cell_type": "code",
   "execution_count": 178,
   "id": "e9c24271",
   "metadata": {},
   "outputs": [],
   "source": [
    "from sklearn.ensemble import RandomForestClassifier, ExtraTreesClassifier\n",
    "from sklearn.linear_model import LogisticRegression\n",
    "from sklearn.svm import SVC\n",
    "from sklearn.ensemble import GradientBoostingClassifier, AdaBoostClassifier, BaggingClassifier\n",
    "from sklearn.metrics import classification_report,confusion_matrix,roc_curve,accuracy_score\n",
    "from sklearn.model_selection import cross_val_score"
   ]
  },
  {
   "cell_type": "code",
   "execution_count": 179,
   "id": "8cedcd25",
   "metadata": {},
   "outputs": [
    {
     "name": "stdout",
     "output_type": "stream",
     "text": [
      "0.9682539682539683\n",
      "[[15  0  2  0  0  0]\n",
      " [ 0 16  1  0  1  0]\n",
      " [ 0  0 20  0  0  0]\n",
      " [ 0  0  0 25  0  0]\n",
      " [ 0  0  0  0 22  0]\n",
      " [ 0  0  0  0  0 24]]\n",
      "              precision    recall  f1-score   support\n",
      "\n",
      "           1       1.00      0.88      0.94        17\n",
      "           2       1.00      0.89      0.94        18\n",
      "           3       0.87      1.00      0.93        20\n",
      "           5       1.00      1.00      1.00        25\n",
      "           6       0.96      1.00      0.98        22\n",
      "           7       1.00      1.00      1.00        24\n",
      "\n",
      "    accuracy                           0.97       126\n",
      "   macro avg       0.97      0.96      0.96       126\n",
      "weighted avg       0.97      0.97      0.97       126\n",
      "\n"
     ]
    }
   ],
   "source": [
    "# Checking the accuracy for RandomForestClassifier\n",
    "\n",
    "RFC=RandomForestClassifier()\n",
    "RFC.fit(x_train,y_train)\n",
    "predRFC=RFC.predict(x_test)\n",
    "acc_RFC=accuracy_score(y_test,predRFC)\n",
    "print(acc_RFC)\n",
    "print(confusion_matrix(y_test,predRFC))\n",
    "print(classification_report(y_test,predRFC))"
   ]
  },
  {
   "cell_type": "code",
   "execution_count": 180,
   "id": "fe840fa5",
   "metadata": {},
   "outputs": [
    {
     "name": "stdout",
     "output_type": "stream",
     "text": [
      "0.8650793650793651\n",
      "[[13  2  2  0  0  0]\n",
      " [ 3 10  4  0  1  0]\n",
      " [ 4  1 15  0  0  0]\n",
      " [ 0  0  0 25  0  0]\n",
      " [ 0  0  0  0 22  0]\n",
      " [ 0  0  0  0  0 24]]\n",
      "              precision    recall  f1-score   support\n",
      "\n",
      "           1       0.65      0.76      0.70        17\n",
      "           2       0.77      0.56      0.65        18\n",
      "           3       0.71      0.75      0.73        20\n",
      "           5       1.00      1.00      1.00        25\n",
      "           6       0.96      1.00      0.98        22\n",
      "           7       1.00      1.00      1.00        24\n",
      "\n",
      "    accuracy                           0.87       126\n",
      "   macro avg       0.85      0.85      0.84       126\n",
      "weighted avg       0.87      0.87      0.86       126\n",
      "\n"
     ]
    }
   ],
   "source": [
    "# Checking the accuracy for Logistic Regression\n",
    "\n",
    "LR=LogisticRegression()\n",
    "LR.fit(x_train,y_train)\n",
    "predLR=LR.predict(x_test)\n",
    "acc_LR=accuracy_score(y_test,predLR)\n",
    "print(acc_LR)\n",
    "print(confusion_matrix(y_test,predLR))\n",
    "print(classification_report(y_test,predLR))"
   ]
  },
  {
   "cell_type": "code",
   "execution_count": 181,
   "id": "bbd147eb",
   "metadata": {},
   "outputs": [
    {
     "name": "stdout",
     "output_type": "stream",
     "text": [
      "0.8650793650793651\n",
      "[[15  1  1  0  0  0]\n",
      " [ 6  8  3  0  1  0]\n",
      " [ 4  1 15  0  0  0]\n",
      " [ 0  0  0 25  0  0]\n",
      " [ 0  0  0  0 22  0]\n",
      " [ 0  0  0  0  0 24]]\n",
      "              precision    recall  f1-score   support\n",
      "\n",
      "           1       0.60      0.88      0.71        17\n",
      "           2       0.80      0.44      0.57        18\n",
      "           3       0.79      0.75      0.77        20\n",
      "           5       1.00      1.00      1.00        25\n",
      "           6       0.96      1.00      0.98        22\n",
      "           7       1.00      1.00      1.00        24\n",
      "\n",
      "    accuracy                           0.87       126\n",
      "   macro avg       0.86      0.85      0.84       126\n",
      "weighted avg       0.88      0.87      0.86       126\n",
      "\n"
     ]
    }
   ],
   "source": [
    "# Checking the accuracy for Support Vector Machine Classifier\n",
    "\n",
    "svc=SVC()\n",
    "svc.fit(x_train,y_train)\n",
    "predsvc=svc.predict(x_test)\n",
    "acc_SVC=accuracy_score(y_test,predsvc)\n",
    "print(acc_SVC)\n",
    "print(confusion_matrix(y_test,predsvc))\n",
    "print(classification_report(y_test,predsvc))"
   ]
  },
  {
   "cell_type": "code",
   "execution_count": 182,
   "id": "ee19d637",
   "metadata": {},
   "outputs": [
    {
     "name": "stdout",
     "output_type": "stream",
     "text": [
      "0.9206349206349206\n",
      "[[13  1  2  1  0  0]\n",
      " [ 1 14  2  0  1  0]\n",
      " [ 1  0 19  0  0  0]\n",
      " [ 0  1  0 24  0  0]\n",
      " [ 0  0  0  0 22  0]\n",
      " [ 0  0  0  0  0 24]]\n",
      "              precision    recall  f1-score   support\n",
      "\n",
      "           1       0.87      0.76      0.81        17\n",
      "           2       0.88      0.78      0.82        18\n",
      "           3       0.83      0.95      0.88        20\n",
      "           5       0.96      0.96      0.96        25\n",
      "           6       0.96      1.00      0.98        22\n",
      "           7       1.00      1.00      1.00        24\n",
      "\n",
      "    accuracy                           0.92       126\n",
      "   macro avg       0.91      0.91      0.91       126\n",
      "weighted avg       0.92      0.92      0.92       126\n",
      "\n"
     ]
    }
   ],
   "source": [
    "# Checking the accuracy for Gradient Boosting Classifier\n",
    "\n",
    "GB=GradientBoostingClassifier()\n",
    "GB.fit(x_train,y_train)\n",
    "predGB=GB.predict(x_test)\n",
    "acc_GB=accuracy_score(y_test,predGB)\n",
    "print(acc_GB)\n",
    "print(confusion_matrix(y_test,predGB))\n",
    "print(classification_report(y_test,predGB))"
   ]
  },
  {
   "cell_type": "code",
   "execution_count": 183,
   "id": "2c3b849e",
   "metadata": {},
   "outputs": [
    {
     "name": "stdout",
     "output_type": "stream",
     "text": [
      "0.6904761904761905\n",
      "[[ 0 17  0  0  0  0]\n",
      " [ 0 17  0  0  1  0]\n",
      " [ 0 20  0  0  0  0]\n",
      " [ 0  0  0 25  0  0]\n",
      " [ 0  0  0  0 22  0]\n",
      " [ 0  1  0  0  0 23]]\n",
      "              precision    recall  f1-score   support\n",
      "\n",
      "           1       0.00      0.00      0.00        17\n",
      "           2       0.31      0.94      0.47        18\n",
      "           3       0.00      0.00      0.00        20\n",
      "           5       1.00      1.00      1.00        25\n",
      "           6       0.96      1.00      0.98        22\n",
      "           7       1.00      0.96      0.98        24\n",
      "\n",
      "    accuracy                           0.69       126\n",
      "   macro avg       0.54      0.65      0.57       126\n",
      "weighted avg       0.60      0.69      0.62       126\n",
      "\n"
     ]
    }
   ],
   "source": [
    "# Checking the accuracy for AdaBoost Classifier\n",
    "\n",
    "ABC=AdaBoostClassifier()\n",
    "ABC.fit(x_train,y_train)\n",
    "predABC=ABC.predict(x_test)\n",
    "acc_ABC=accuracy_score(y_test,predABC)\n",
    "print(acc_ABC)\n",
    "print(confusion_matrix(y_test,predABC))\n",
    "print(classification_report(y_test,predABC))"
   ]
  },
  {
   "cell_type": "code",
   "execution_count": 184,
   "id": "10e6158f",
   "metadata": {},
   "outputs": [
    {
     "name": "stdout",
     "output_type": "stream",
     "text": [
      "0.9444444444444444\n",
      "[[15  1  1  0  0  0]\n",
      " [ 2 13  2  0  1  0]\n",
      " [ 0  0 20  0  0  0]\n",
      " [ 0  0  0 25  0  0]\n",
      " [ 0  0  0  0 22  0]\n",
      " [ 0  0  0  0  0 24]]\n",
      "              precision    recall  f1-score   support\n",
      "\n",
      "           1       0.88      0.88      0.88        17\n",
      "           2       0.93      0.72      0.81        18\n",
      "           3       0.87      1.00      0.93        20\n",
      "           5       1.00      1.00      1.00        25\n",
      "           6       0.96      1.00      0.98        22\n",
      "           7       1.00      1.00      1.00        24\n",
      "\n",
      "    accuracy                           0.94       126\n",
      "   macro avg       0.94      0.93      0.93       126\n",
      "weighted avg       0.95      0.94      0.94       126\n",
      "\n"
     ]
    }
   ],
   "source": [
    "# Checking the accuracy for Bagging Classifier\n",
    "\n",
    "BC=BaggingClassifier()\n",
    "BC.fit(x_train,y_train)\n",
    "predBC=BC.predict(x_test)\n",
    "acc_BC=accuracy_score(y_test,predBC)\n",
    "print(acc_BC)\n",
    "print(confusion_matrix(y_test,predBC))\n",
    "print(classification_report(y_test,predBC))"
   ]
  },
  {
   "cell_type": "code",
   "execution_count": 185,
   "id": "0242ebd9",
   "metadata": {},
   "outputs": [
    {
     "name": "stdout",
     "output_type": "stream",
     "text": [
      "0.9523809523809523\n",
      "[[16  0  1  0  0  0]\n",
      " [ 3 13  1  0  1  0]\n",
      " [ 0  0 20  0  0  0]\n",
      " [ 0  0  0 25  0  0]\n",
      " [ 0  0  0  0 22  0]\n",
      " [ 0  0  0  0  0 24]]\n",
      "              precision    recall  f1-score   support\n",
      "\n",
      "           1       0.84      0.94      0.89        17\n",
      "           2       1.00      0.72      0.84        18\n",
      "           3       0.91      1.00      0.95        20\n",
      "           5       1.00      1.00      1.00        25\n",
      "           6       0.96      1.00      0.98        22\n",
      "           7       1.00      1.00      1.00        24\n",
      "\n",
      "    accuracy                           0.95       126\n",
      "   macro avg       0.95      0.94      0.94       126\n",
      "weighted avg       0.96      0.95      0.95       126\n",
      "\n"
     ]
    }
   ],
   "source": [
    "# Checking the accuracy for ExtraTreesClassifier\n",
    "\n",
    "ET=ExtraTreesClassifier()\n",
    "ET.fit(x_train,y_train)\n",
    "predET=ET.predict(x_test)\n",
    "acc_ET=accuracy_score(y_test,predET)\n",
    "print(acc_ET)\n",
    "print(confusion_matrix(y_test,predET))\n",
    "print(classification_report(y_test,predET))"
   ]
  },
  {
   "cell_type": "code",
   "execution_count": 186,
   "id": "9868b3fb",
   "metadata": {},
   "outputs": [
    {
     "data": {
      "text/html": [
       "<div>\n",
       "<style scoped>\n",
       "    .dataframe tbody tr th:only-of-type {\n",
       "        vertical-align: middle;\n",
       "    }\n",
       "\n",
       "    .dataframe tbody tr th {\n",
       "        vertical-align: top;\n",
       "    }\n",
       "\n",
       "    .dataframe thead th {\n",
       "        text-align: right;\n",
       "    }\n",
       "</style>\n",
       "<table border=\"1\" class=\"dataframe\">\n",
       "  <thead>\n",
       "    <tr style=\"text-align: right;\">\n",
       "      <th></th>\n",
       "      <th>Model</th>\n",
       "      <th>Accuracy</th>\n",
       "    </tr>\n",
       "  </thead>\n",
       "  <tbody>\n",
       "    <tr>\n",
       "      <th>1</th>\n",
       "      <td>RandomForestClassifier</td>\n",
       "      <td>0.968254</td>\n",
       "    </tr>\n",
       "    <tr>\n",
       "      <th>2</th>\n",
       "      <td>Logistic Regression</td>\n",
       "      <td>0.865079</td>\n",
       "    </tr>\n",
       "    <tr>\n",
       "      <th>3</th>\n",
       "      <td>Support Vector Machine Classifier(SVC)</td>\n",
       "      <td>0.865079</td>\n",
       "    </tr>\n",
       "    <tr>\n",
       "      <th>4</th>\n",
       "      <td>Gradient Boosting Classifier</td>\n",
       "      <td>0.920635</td>\n",
       "    </tr>\n",
       "    <tr>\n",
       "      <th>5</th>\n",
       "      <td>AdaBoost Classifier</td>\n",
       "      <td>0.690476</td>\n",
       "    </tr>\n",
       "    <tr>\n",
       "      <th>6</th>\n",
       "      <td>Bagging Classifier</td>\n",
       "      <td>0.944444</td>\n",
       "    </tr>\n",
       "    <tr>\n",
       "      <th>7</th>\n",
       "      <td>ExtraTreesClassifier</td>\n",
       "      <td>0.952381</td>\n",
       "    </tr>\n",
       "  </tbody>\n",
       "</table>\n",
       "</div>"
      ],
      "text/plain": [
       "                                    Model  Accuracy\n",
       "1                  RandomForestClassifier  0.968254\n",
       "2                     Logistic Regression  0.865079\n",
       "3  Support Vector Machine Classifier(SVC)  0.865079\n",
       "4            Gradient Boosting Classifier  0.920635\n",
       "5                     AdaBoost Classifier  0.690476\n",
       "6                      Bagging Classifier  0.944444\n",
       "7                    ExtraTreesClassifier  0.952381"
      ]
     },
     "execution_count": 186,
     "metadata": {},
     "output_type": "execute_result"
    }
   ],
   "source": [
    "# Checking all algorithm results\n",
    "\n",
    "results_alg=pd.DataFrame({'Model':['RandomForestClassifier','Logistic Regression', 'Support Vector Machine Classifier(SVC)', 'Gradient Boosting Classifier', 'AdaBoost Classifier', 'Bagging Classifier', 'ExtraTreesClassifier'],'Accuracy':[acc_RFC,acc_LR,acc_SVC,acc_GB,acc_ABC,acc_BC,acc_ET]})\n",
    "results_alg.index+=1\n",
    "results_alg"
   ]
  },
  {
   "cell_type": "markdown",
   "id": "c1455306",
   "metadata": {},
   "source": [
    "RandomForestClassifier (RFC) has the highest accuracy score."
   ]
  },
  {
   "cell_type": "markdown",
   "id": "2987222c",
   "metadata": {},
   "source": [
    "### Cross Validation Score"
   ]
  },
  {
   "cell_type": "code",
   "execution_count": 187,
   "id": "b642b7c5",
   "metadata": {},
   "outputs": [],
   "source": [
    "from sklearn.model_selection import cross_val_score"
   ]
  },
  {
   "cell_type": "code",
   "execution_count": 188,
   "id": "aaf3d6a7",
   "metadata": {},
   "outputs": [
    {
     "name": "stdout",
     "output_type": "stream",
     "text": [
      "[0.69230769 0.74358974 0.74358974 0.61538462 0.81578947]\n",
      "0.7221322537112012\n",
      "Difference between Accuracy Score and Cross Validation Score is 0.2461217145427671\n"
     ]
    }
   ],
   "source": [
    "# Checking cv score for Random Forest Classifier\n",
    "score=cross_val_score(RFC,x,y)\n",
    "print(score)\n",
    "print(score.mean())\n",
    "diff_RFC=accuracy_score(y_test,predRFC)-score.mean()\n",
    "print(\"Difference between Accuracy Score and Cross Validation Score is\",diff_RFC)"
   ]
  },
  {
   "cell_type": "code",
   "execution_count": 189,
   "id": "6f89645f",
   "metadata": {},
   "outputs": [
    {
     "name": "stdout",
     "output_type": "stream",
     "text": [
      "[0.56410256 0.71794872 0.69230769 0.53846154 0.71052632]\n",
      "0.6446693657219973\n",
      "Difference between Accuracy Score and Cross Validation Score is 0.22040999935736783\n"
     ]
    }
   ],
   "source": [
    "# Checking cv score for Logistic Regression\n",
    "score=cross_val_score(LR,x,y)\n",
    "print(score)\n",
    "print(score.mean())\n",
    "diff_LR=accuracy_score(y_test,predLR)-score.mean()\n",
    "print(\"Difference between Accuracy Score and Cross Validation Score is\",diff_LR)"
   ]
  },
  {
   "cell_type": "code",
   "execution_count": 190,
   "id": "e7d9139d",
   "metadata": {},
   "outputs": [
    {
     "name": "stdout",
     "output_type": "stream",
     "text": [
      "[0.71794872 0.71794872 0.74358974 0.58974359 0.71052632]\n",
      "0.6959514170040487\n",
      "Difference between Accuracy Score and Cross Validation Score is 0.22468350363087186\n"
     ]
    }
   ],
   "source": [
    "# Checking cv score for Gradient Boosting Classifier\n",
    "score=cross_val_score(GB,x,y)\n",
    "print(score)\n",
    "print(score.mean())\n",
    "diff_GB=accuracy_score(y_test,predGB)-score.mean()\n",
    "print(\"Difference between Accuracy Score and Cross Validation Score is\",diff_GB)"
   ]
  },
  {
   "cell_type": "code",
   "execution_count": 191,
   "id": "6f3fb36a",
   "metadata": {},
   "outputs": [
    {
     "name": "stdout",
     "output_type": "stream",
     "text": [
      "[0.61538462 0.76923077 0.64102564 0.64102564 0.68421053]\n",
      "0.6701754385964912\n",
      "Difference between Accuracy Score and Cross Validation Score is 0.1949039264828739\n"
     ]
    }
   ],
   "source": [
    "# Checking cv score for Support Vector Machine Classifier\n",
    "score=cross_val_score(svc,x,y)\n",
    "print(score)\n",
    "print(score.mean())\n",
    "diff_SVC=accuracy_score(y_test,predsvc)-score.mean()\n",
    "print(\"Difference between Accuracy Score and Cross Validation Score is\",diff_SVC)"
   ]
  },
  {
   "cell_type": "code",
   "execution_count": 192,
   "id": "a5a79e86",
   "metadata": {},
   "outputs": [
    {
     "name": "stdout",
     "output_type": "stream",
     "text": [
      "[0.43589744 0.48717949 0.53846154 0.53846154 0.42105263]\n",
      "0.4842105263157895\n",
      "Difference between Accuracy Score and Cross Validation Score is 0.20626566416040099\n"
     ]
    }
   ],
   "source": [
    "# Checking cv score for AdaBoosting Classifier\n",
    "score=cross_val_score(ABC,x,y)\n",
    "print(score)\n",
    "print(score.mean())\n",
    "diff_ABC=accuracy_score(y_test,predABC)-score.mean()\n",
    "print(\"Difference between Accuracy Score and Cross Validation Score is\",diff_ABC)"
   ]
  },
  {
   "cell_type": "code",
   "execution_count": 193,
   "id": "2631687b",
   "metadata": {},
   "outputs": [
    {
     "name": "stdout",
     "output_type": "stream",
     "text": [
      "[0.69230769 0.71794872 0.69230769 0.48717949 0.60526316]\n",
      "0.6390013495276652\n",
      "Difference between Accuracy Score and Cross Validation Score is 0.30544309491677923\n"
     ]
    }
   ],
   "source": [
    "# Checking cv score for Bagging Classifier\n",
    "score=cross_val_score(BC,x,y)\n",
    "print(score)\n",
    "print(score.mean())\n",
    "diff_BC=accuracy_score(y_test,predBC)-score.mean()\n",
    "print(\"Difference between Accuracy Score and Cross Validation Score is\",diff_BC)"
   ]
  },
  {
   "cell_type": "code",
   "execution_count": 194,
   "id": "bd72a359",
   "metadata": {},
   "outputs": [
    {
     "name": "stdout",
     "output_type": "stream",
     "text": [
      "[0.69230769 0.69230769 0.79487179 0.64102564 0.78947368]\n",
      "0.7219973009446694\n",
      "Difference between Accuracy Score and Cross Validation Score is 0.23038365143628292\n"
     ]
    }
   ],
   "source": [
    "# Checking cv score for ExtraTrees Classifier\n",
    "score=cross_val_score(ET,x,y)\n",
    "print(score)\n",
    "print(score.mean())\n",
    "diff_ET=accuracy_score(y_test,predET)-score.mean()\n",
    "print(\"Difference between Accuracy Score and Cross Validation Score is\",diff_ET)"
   ]
  },
  {
   "cell_type": "code",
   "execution_count": 195,
   "id": "c5b230e8",
   "metadata": {},
   "outputs": [
    {
     "data": {
      "text/html": [
       "<div>\n",
       "<style scoped>\n",
       "    .dataframe tbody tr th:only-of-type {\n",
       "        vertical-align: middle;\n",
       "    }\n",
       "\n",
       "    .dataframe tbody tr th {\n",
       "        vertical-align: top;\n",
       "    }\n",
       "\n",
       "    .dataframe thead th {\n",
       "        text-align: right;\n",
       "    }\n",
       "</style>\n",
       "<table border=\"1\" class=\"dataframe\">\n",
       "  <thead>\n",
       "    <tr style=\"text-align: right;\">\n",
       "      <th></th>\n",
       "      <th>Model</th>\n",
       "      <th>Difference</th>\n",
       "    </tr>\n",
       "  </thead>\n",
       "  <tbody>\n",
       "    <tr>\n",
       "      <th>1</th>\n",
       "      <td>RandomForestClassifier</td>\n",
       "      <td>0.246122</td>\n",
       "    </tr>\n",
       "    <tr>\n",
       "      <th>2</th>\n",
       "      <td>Logistic Regression</td>\n",
       "      <td>0.220410</td>\n",
       "    </tr>\n",
       "    <tr>\n",
       "      <th>3</th>\n",
       "      <td>Support Vector Machine Classifier(SVC)</td>\n",
       "      <td>0.194904</td>\n",
       "    </tr>\n",
       "    <tr>\n",
       "      <th>4</th>\n",
       "      <td>Gradient Boosting Classifier</td>\n",
       "      <td>0.224684</td>\n",
       "    </tr>\n",
       "    <tr>\n",
       "      <th>5</th>\n",
       "      <td>AdaBoost Classifier</td>\n",
       "      <td>0.206266</td>\n",
       "    </tr>\n",
       "    <tr>\n",
       "      <th>6</th>\n",
       "      <td>Bagging Classifier</td>\n",
       "      <td>0.305443</td>\n",
       "    </tr>\n",
       "    <tr>\n",
       "      <th>7</th>\n",
       "      <td>ExtraTreesClassifier</td>\n",
       "      <td>0.230384</td>\n",
       "    </tr>\n",
       "  </tbody>\n",
       "</table>\n",
       "</div>"
      ],
      "text/plain": [
       "                                    Model  Difference\n",
       "1                  RandomForestClassifier    0.246122\n",
       "2                     Logistic Regression    0.220410\n",
       "3  Support Vector Machine Classifier(SVC)    0.194904\n",
       "4            Gradient Boosting Classifier    0.224684\n",
       "5                     AdaBoost Classifier    0.206266\n",
       "6                      Bagging Classifier    0.305443\n",
       "7                    ExtraTreesClassifier    0.230384"
      ]
     },
     "execution_count": 195,
     "metadata": {},
     "output_type": "execute_result"
    }
   ],
   "source": [
    "# Checking for the least difference between Accuracy Score and Cross Validation Score per algorithm\n",
    "\n",
    "diff=pd.DataFrame({'Model':['RandomForestClassifier','Logistic Regression', 'Support Vector Machine Classifier(SVC)', 'Gradient Boosting Classifier', 'AdaBoost Classifier', 'Bagging Classifier', 'ExtraTreesClassifier'],'Difference':[diff_RFC,diff_LR,diff_SVC,diff_GB,diff_ABC,diff_BC,diff_ET]})\n",
    "diff.index+=1\n",
    "diff"
   ]
  },
  {
   "cell_type": "markdown",
   "id": "84dc99c0",
   "metadata": {},
   "source": [
    "Support Vector Machine Classifier(SVC) is our best model as the difference between Accuracy Score and Cross Validation is least."
   ]
  },
  {
   "cell_type": "markdown",
   "id": "015acb46",
   "metadata": {},
   "source": [
    "## Hyperparameter Tuning"
   ]
  },
  {
   "cell_type": "code",
   "execution_count": 196,
   "id": "7b4316ac",
   "metadata": {},
   "outputs": [],
   "source": [
    "# To increase the performance of the model\n",
    "# Support Vector Machine Classifier\n",
    "\n",
    "from sklearn.model_selection import GridSearchCV\n",
    "\n",
    "parameters={'C':[0.1,1,100,1000],\n",
    "           'kernel':['linear', 'poly', 'rbf', 'sigmoid'],\n",
    "           'degree':[1,2,3,4,5,6],\n",
    "           'gamma':['scale', 'auto'],\n",
    "           'decision_function_shape':['ovo', 'ovr']}"
   ]
  },
  {
   "cell_type": "code",
   "execution_count": 197,
   "id": "f49c6dba",
   "metadata": {},
   "outputs": [],
   "source": [
    "GCV=GridSearchCV(SVC(),parameters,cv=5)"
   ]
  },
  {
   "cell_type": "code",
   "execution_count": 198,
   "id": "9df4d681",
   "metadata": {},
   "outputs": [
    {
     "data": {
      "text/plain": [
       "GridSearchCV(cv=5, estimator=SVC(),\n",
       "             param_grid={'C': [0.1, 1, 100, 1000],\n",
       "                         'decision_function_shape': ['ovo', 'ovr'],\n",
       "                         'degree': [1, 2, 3, 4, 5, 6],\n",
       "                         'gamma': ['scale', 'auto'],\n",
       "                         'kernel': ['linear', 'poly', 'rbf', 'sigmoid']})"
      ]
     },
     "execution_count": 198,
     "metadata": {},
     "output_type": "execute_result"
    }
   ],
   "source": [
    "GCV.fit(x_train,y_train)"
   ]
  },
  {
   "cell_type": "code",
   "execution_count": 199,
   "id": "80534d85",
   "metadata": {},
   "outputs": [
    {
     "data": {
      "text/plain": [
       "{'C': 100,\n",
       " 'decision_function_shape': 'ovo',\n",
       " 'degree': 1,\n",
       " 'gamma': 'scale',\n",
       " 'kernel': 'rbf'}"
      ]
     },
     "execution_count": 199,
     "metadata": {},
     "output_type": "execute_result"
    }
   ],
   "source": [
    "GCV.best_params_"
   ]
  },
  {
   "cell_type": "code",
   "execution_count": 200,
   "id": "8ad501eb",
   "metadata": {},
   "outputs": [
    {
     "name": "stdout",
     "output_type": "stream",
     "text": [
      "91.26984126984127\n"
     ]
    }
   ],
   "source": [
    "# Final Model\n",
    "\n",
    "Final_model=SVC(C=100,decision_function_shape='ovo',degree=1,gamma='scale',kernel='rbf')\n",
    "Final_model.fit(x_train,y_train)\n",
    "pred=Final_model.predict(x_test)\n",
    "acc=accuracy_score(y_test,pred)\n",
    "print(acc*100)"
   ]
  },
  {
   "cell_type": "markdown",
   "id": "6a66aaa4",
   "metadata": {},
   "source": [
    "### Saving the model"
   ]
  },
  {
   "cell_type": "code",
   "execution_count": 202,
   "id": "1f18904f",
   "metadata": {},
   "outputs": [
    {
     "data": {
      "text/plain": [
       "['Glass Identification_Analysis.pkl']"
      ]
     },
     "execution_count": 202,
     "metadata": {},
     "output_type": "execute_result"
    }
   ],
   "source": [
    "# Saving the model using .pkl\n",
    "import joblib\n",
    "joblib.dump(Final_model,\"Glass Identification_Analysis.pkl\")"
   ]
  },
  {
   "cell_type": "markdown",
   "id": "03fd37bb",
   "metadata": {},
   "source": [
    "### Predicting the saved model"
   ]
  },
  {
   "cell_type": "code",
   "execution_count": 203,
   "id": "ac2792ca",
   "metadata": {},
   "outputs": [
    {
     "data": {
      "text/plain": [
       "array([5, 7, 2, 7, 3, 7, 6, 7, 2, 6, 6, 3, 7, 3, 6, 5, 1, 5, 5, 7, 7, 5,\n",
       "       5, 5, 7, 1, 1, 3, 6, 2, 2, 7, 5, 1, 1, 6, 1, 7, 2, 7, 7, 5, 5, 2,\n",
       "       3, 6, 6, 6, 1, 5, 2, 3, 5, 6, 5, 3, 7, 5, 3, 2, 5, 7, 7, 6, 2, 5,\n",
       "       7, 5, 3, 2, 6, 3, 5, 1, 7, 7, 7, 3, 6, 2, 5, 6, 6, 1, 6, 3, 3, 2,\n",
       "       3, 6, 5, 2, 6, 7, 3, 1, 2, 6, 3, 5, 7, 7, 3, 7, 3, 1, 6, 3, 3, 2,\n",
       "       1, 7, 1, 2, 6, 5, 3, 5, 5, 3, 1, 5, 2, 6, 6, 1], dtype=int64)"
      ]
     },
     "execution_count": 203,
     "metadata": {},
     "output_type": "execute_result"
    }
   ],
   "source": [
    "# Let's load the saved model and get the predictions\n",
    "\n",
    "model=joblib.load(\"Glass Identification_Analysis.pkl\")\n",
    "\n",
    "# Prediction\n",
    "prediction=model.predict(x_test)\n",
    "prediction"
   ]
  },
  {
   "cell_type": "markdown",
   "id": "4e23de21",
   "metadata": {},
   "source": [
    "Here we can see the predicted types of glass."
   ]
  },
  {
   "cell_type": "code",
   "execution_count": 204,
   "id": "c2b28575",
   "metadata": {},
   "outputs": [
    {
     "data": {
      "text/html": [
       "<div>\n",
       "<style scoped>\n",
       "    .dataframe tbody tr th:only-of-type {\n",
       "        vertical-align: middle;\n",
       "    }\n",
       "\n",
       "    .dataframe tbody tr th {\n",
       "        vertical-align: top;\n",
       "    }\n",
       "\n",
       "    .dataframe thead th {\n",
       "        text-align: right;\n",
       "    }\n",
       "</style>\n",
       "<table border=\"1\" class=\"dataframe\">\n",
       "  <thead>\n",
       "    <tr style=\"text-align: right;\">\n",
       "      <th></th>\n",
       "      <th>Predicted</th>\n",
       "      <th>Original</th>\n",
       "    </tr>\n",
       "  </thead>\n",
       "  <tbody>\n",
       "    <tr>\n",
       "      <th>0</th>\n",
       "      <td>5</td>\n",
       "      <td>5</td>\n",
       "    </tr>\n",
       "    <tr>\n",
       "      <th>1</th>\n",
       "      <td>7</td>\n",
       "      <td>7</td>\n",
       "    </tr>\n",
       "    <tr>\n",
       "      <th>2</th>\n",
       "      <td>2</td>\n",
       "      <td>2</td>\n",
       "    </tr>\n",
       "    <tr>\n",
       "      <th>3</th>\n",
       "      <td>7</td>\n",
       "      <td>7</td>\n",
       "    </tr>\n",
       "    <tr>\n",
       "      <th>4</th>\n",
       "      <td>3</td>\n",
       "      <td>2</td>\n",
       "    </tr>\n",
       "    <tr>\n",
       "      <th>...</th>\n",
       "      <td>...</td>\n",
       "      <td>...</td>\n",
       "    </tr>\n",
       "    <tr>\n",
       "      <th>121</th>\n",
       "      <td>5</td>\n",
       "      <td>5</td>\n",
       "    </tr>\n",
       "    <tr>\n",
       "      <th>122</th>\n",
       "      <td>2</td>\n",
       "      <td>2</td>\n",
       "    </tr>\n",
       "    <tr>\n",
       "      <th>123</th>\n",
       "      <td>6</td>\n",
       "      <td>6</td>\n",
       "    </tr>\n",
       "    <tr>\n",
       "      <th>124</th>\n",
       "      <td>6</td>\n",
       "      <td>6</td>\n",
       "    </tr>\n",
       "    <tr>\n",
       "      <th>125</th>\n",
       "      <td>1</td>\n",
       "      <td>1</td>\n",
       "    </tr>\n",
       "  </tbody>\n",
       "</table>\n",
       "<p>126 rows × 2 columns</p>\n",
       "</div>"
      ],
      "text/plain": [
       "     Predicted  Original\n",
       "0            5         5\n",
       "1            7         7\n",
       "2            2         2\n",
       "3            7         7\n",
       "4            3         2\n",
       "..         ...       ...\n",
       "121          5         5\n",
       "122          2         2\n",
       "123          6         6\n",
       "124          6         6\n",
       "125          1         1\n",
       "\n",
       "[126 rows x 2 columns]"
      ]
     },
     "execution_count": 204,
     "metadata": {},
     "output_type": "execute_result"
    }
   ],
   "source": [
    "# Checking if the model is giving the correct prediction\n",
    "\n",
    "a=np.array(y_test)\n",
    "df=pd.DataFrame()\n",
    "df[\"Predicted\"]=prediction\n",
    "df[\"Original\"]=a\n",
    "df"
   ]
  },
  {
   "cell_type": "markdown",
   "id": "dd099ca9",
   "metadata": {},
   "source": [
    "The model is giving good predictions, when comparing to original values."
   ]
  }
 ],
 "metadata": {
  "kernelspec": {
   "display_name": "Python 3",
   "language": "python",
   "name": "python3"
  },
  "language_info": {
   "codemirror_mode": {
    "name": "ipython",
    "version": 3
   },
   "file_extension": ".py",
   "mimetype": "text/x-python",
   "name": "python",
   "nbconvert_exporter": "python",
   "pygments_lexer": "ipython3",
   "version": "3.8.8"
  }
 },
 "nbformat": 4,
 "nbformat_minor": 5
}
