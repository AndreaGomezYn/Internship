{
 "cells": [
  {
   "cell_type": "markdown",
   "id": "46395834",
   "metadata": {},
   "source": [
    "# Medical Cost Personal Insurance Project"
   ]
  },
  {
   "cell_type": "markdown",
   "id": "ff3195db",
   "metadata": {},
   "source": [
    "### Project Description\n",
    "Health insurance is a type of insurance that covers medical expenses that arise due to an illness. These expenses could be related to hospitalisation costs, cost of medicines or doctor consultation fees. The main purpose of medical insurance is to receive the best medical care without any strain on your finances. Health insurance plans offer protection against high medical costs. It covers hospitalization expenses, day care procedures, domiciliary expenses, and ambulance charges, besides many others. Based on certain input features such as age , bmi, no of dependents ,smoker ,region  medical insurance is calculated."
   ]
  },
  {
   "cell_type": "markdown",
   "id": "3163617f",
   "metadata": {},
   "source": [
    "### Variables\n",
    "\n",
    "•\tage: age of primary beneficiary\n",
    "•\tsex: insurance contractor gender, female, male\n",
    "•\tbmi: Body mass index, providing an understanding of body, weights that are relatively high or low relative to height, objective index of body weight (kg / m ^ 2) using the ratio of height to weight, ideally 18.5 to 24.9.\n",
    "•\tchildren: Number of children covered by health insurance / Number of dependents\n",
    "•\tsmoker: Smoking\n",
    "•\tregion: the beneficiary's residential area in the US, northeast, southeast, southwest, northwest.\n",
    "•\tcharges: Individual medical costs billed by health insurance\n",
    "\n",
    "### Objective\n",
    "\n",
    "Predict insurance costs"
   ]
  },
  {
   "cell_type": "code",
   "execution_count": 1,
   "id": "4154916e",
   "metadata": {},
   "outputs": [],
   "source": [
    "import pandas as pd\n",
    "import numpy as np\n",
    "import seaborn as sns\n",
    "import matplotlib.pyplot as plt\n",
    "import warnings\n",
    "warnings.filterwarnings('ignore')"
   ]
  },
  {
   "cell_type": "code",
   "execution_count": 2,
   "id": "e1c83e96",
   "metadata": {},
   "outputs": [
    {
     "data": {
      "text/html": [
       "<div>\n",
       "<style scoped>\n",
       "    .dataframe tbody tr th:only-of-type {\n",
       "        vertical-align: middle;\n",
       "    }\n",
       "\n",
       "    .dataframe tbody tr th {\n",
       "        vertical-align: top;\n",
       "    }\n",
       "\n",
       "    .dataframe thead th {\n",
       "        text-align: right;\n",
       "    }\n",
       "</style>\n",
       "<table border=\"1\" class=\"dataframe\">\n",
       "  <thead>\n",
       "    <tr style=\"text-align: right;\">\n",
       "      <th></th>\n",
       "      <th>age</th>\n",
       "      <th>sex</th>\n",
       "      <th>bmi</th>\n",
       "      <th>children</th>\n",
       "      <th>smoker</th>\n",
       "      <th>region</th>\n",
       "      <th>charges</th>\n",
       "    </tr>\n",
       "  </thead>\n",
       "  <tbody>\n",
       "    <tr>\n",
       "      <th>0</th>\n",
       "      <td>19</td>\n",
       "      <td>female</td>\n",
       "      <td>27.900</td>\n",
       "      <td>0</td>\n",
       "      <td>yes</td>\n",
       "      <td>southwest</td>\n",
       "      <td>16884.92400</td>\n",
       "    </tr>\n",
       "    <tr>\n",
       "      <th>1</th>\n",
       "      <td>18</td>\n",
       "      <td>male</td>\n",
       "      <td>33.770</td>\n",
       "      <td>1</td>\n",
       "      <td>no</td>\n",
       "      <td>southeast</td>\n",
       "      <td>1725.55230</td>\n",
       "    </tr>\n",
       "    <tr>\n",
       "      <th>2</th>\n",
       "      <td>28</td>\n",
       "      <td>male</td>\n",
       "      <td>33.000</td>\n",
       "      <td>3</td>\n",
       "      <td>no</td>\n",
       "      <td>southeast</td>\n",
       "      <td>4449.46200</td>\n",
       "    </tr>\n",
       "    <tr>\n",
       "      <th>3</th>\n",
       "      <td>33</td>\n",
       "      <td>male</td>\n",
       "      <td>22.705</td>\n",
       "      <td>0</td>\n",
       "      <td>no</td>\n",
       "      <td>northwest</td>\n",
       "      <td>21984.47061</td>\n",
       "    </tr>\n",
       "    <tr>\n",
       "      <th>4</th>\n",
       "      <td>32</td>\n",
       "      <td>male</td>\n",
       "      <td>28.880</td>\n",
       "      <td>0</td>\n",
       "      <td>no</td>\n",
       "      <td>northwest</td>\n",
       "      <td>3866.85520</td>\n",
       "    </tr>\n",
       "  </tbody>\n",
       "</table>\n",
       "</div>"
      ],
      "text/plain": [
       "   age     sex     bmi  children smoker     region      charges\n",
       "0   19  female  27.900         0    yes  southwest  16884.92400\n",
       "1   18    male  33.770         1     no  southeast   1725.55230\n",
       "2   28    male  33.000         3     no  southeast   4449.46200\n",
       "3   33    male  22.705         0     no  northwest  21984.47061\n",
       "4   32    male  28.880         0     no  northwest   3866.85520"
      ]
     },
     "execution_count": 2,
     "metadata": {},
     "output_type": "execute_result"
    }
   ],
   "source": [
    "# Load Insurance Dataset\n",
    "\n",
    "data=pd.read_csv(r\"C:\\Users\\JPGD\\Documents\\ANDREA GOMEZ\\FLIP ROBO TECHNOLOGIES INTERNSHIP\\Projects\\Datasets\\medical_cost_insurance.csv\")\n",
    "data.head(5)"
   ]
  },
  {
   "cell_type": "code",
   "execution_count": 3,
   "id": "55ce421b",
   "metadata": {},
   "outputs": [
    {
     "data": {
      "text/plain": [
       "pandas.core.frame.DataFrame"
      ]
     },
     "execution_count": 3,
     "metadata": {},
     "output_type": "execute_result"
    }
   ],
   "source": [
    "type(data)"
   ]
  },
  {
   "cell_type": "code",
   "execution_count": 4,
   "id": "39bdd7fb",
   "metadata": {},
   "outputs": [
    {
     "data": {
      "text/plain": [
       "(1338, 7)"
      ]
     },
     "execution_count": 4,
     "metadata": {},
     "output_type": "execute_result"
    }
   ],
   "source": [
    "# Checking the dimension of the dataset\n",
    "\n",
    "data.shape"
   ]
  },
  {
   "cell_type": "code",
   "execution_count": 5,
   "id": "1e751bf0",
   "metadata": {},
   "outputs": [
    {
     "data": {
      "text/html": [
       "<div>\n",
       "<style scoped>\n",
       "    .dataframe tbody tr th:only-of-type {\n",
       "        vertical-align: middle;\n",
       "    }\n",
       "\n",
       "    .dataframe tbody tr th {\n",
       "        vertical-align: top;\n",
       "    }\n",
       "\n",
       "    .dataframe thead th {\n",
       "        text-align: right;\n",
       "    }\n",
       "</style>\n",
       "<table border=\"1\" class=\"dataframe\">\n",
       "  <thead>\n",
       "    <tr style=\"text-align: right;\">\n",
       "      <th></th>\n",
       "      <th>age</th>\n",
       "      <th>sex</th>\n",
       "      <th>bmi</th>\n",
       "      <th>children</th>\n",
       "      <th>smoker</th>\n",
       "      <th>region</th>\n",
       "      <th>charges</th>\n",
       "    </tr>\n",
       "  </thead>\n",
       "  <tbody>\n",
       "    <tr>\n",
       "      <th>1333</th>\n",
       "      <td>50</td>\n",
       "      <td>male</td>\n",
       "      <td>30.97</td>\n",
       "      <td>3</td>\n",
       "      <td>no</td>\n",
       "      <td>northwest</td>\n",
       "      <td>10600.5483</td>\n",
       "    </tr>\n",
       "    <tr>\n",
       "      <th>1334</th>\n",
       "      <td>18</td>\n",
       "      <td>female</td>\n",
       "      <td>31.92</td>\n",
       "      <td>0</td>\n",
       "      <td>no</td>\n",
       "      <td>northeast</td>\n",
       "      <td>2205.9808</td>\n",
       "    </tr>\n",
       "    <tr>\n",
       "      <th>1335</th>\n",
       "      <td>18</td>\n",
       "      <td>female</td>\n",
       "      <td>36.85</td>\n",
       "      <td>0</td>\n",
       "      <td>no</td>\n",
       "      <td>southeast</td>\n",
       "      <td>1629.8335</td>\n",
       "    </tr>\n",
       "    <tr>\n",
       "      <th>1336</th>\n",
       "      <td>21</td>\n",
       "      <td>female</td>\n",
       "      <td>25.80</td>\n",
       "      <td>0</td>\n",
       "      <td>no</td>\n",
       "      <td>southwest</td>\n",
       "      <td>2007.9450</td>\n",
       "    </tr>\n",
       "    <tr>\n",
       "      <th>1337</th>\n",
       "      <td>61</td>\n",
       "      <td>female</td>\n",
       "      <td>29.07</td>\n",
       "      <td>0</td>\n",
       "      <td>yes</td>\n",
       "      <td>northwest</td>\n",
       "      <td>29141.3603</td>\n",
       "    </tr>\n",
       "  </tbody>\n",
       "</table>\n",
       "</div>"
      ],
      "text/plain": [
       "      age     sex    bmi  children smoker     region     charges\n",
       "1333   50    male  30.97         3     no  northwest  10600.5483\n",
       "1334   18  female  31.92         0     no  northeast   2205.9808\n",
       "1335   18  female  36.85         0     no  southeast   1629.8335\n",
       "1336   21  female  25.80         0     no  southwest   2007.9450\n",
       "1337   61  female  29.07         0    yes  northwest  29141.3603"
      ]
     },
     "execution_count": 5,
     "metadata": {},
     "output_type": "execute_result"
    }
   ],
   "source": [
    "data.tail()"
   ]
  },
  {
   "cell_type": "markdown",
   "id": "057d13f5",
   "metadata": {},
   "source": [
    "This dataset contains 1338 rows and 7 columns, out of which 1 is target variable (\"charges\") and the remaining 6 are independent variables."
   ]
  },
  {
   "cell_type": "code",
   "execution_count": 6,
   "id": "bdf59653",
   "metadata": {},
   "outputs": [
    {
     "data": {
      "text/plain": [
       "age           int64\n",
       "sex          object\n",
       "bmi         float64\n",
       "children      int64\n",
       "smoker       object\n",
       "region       object\n",
       "charges     float64\n",
       "dtype: object"
      ]
     },
     "execution_count": 6,
     "metadata": {},
     "output_type": "execute_result"
    }
   ],
   "source": [
    "# Checking the types of columns (non-graphical analysis)\n",
    "data.dtypes"
   ]
  },
  {
   "cell_type": "markdown",
   "id": "414211c7",
   "metadata": {},
   "source": [
    "There are 3 different types of data present in the dataset (int64,object,float64)."
   ]
  },
  {
   "cell_type": "code",
   "execution_count": 7,
   "id": "0bf04515",
   "metadata": {},
   "outputs": [
    {
     "name": "stdout",
     "output_type": "stream",
     "text": [
      "<class 'pandas.core.frame.DataFrame'>\n",
      "RangeIndex: 1338 entries, 0 to 1337\n",
      "Data columns (total 7 columns):\n",
      " #   Column    Non-Null Count  Dtype  \n",
      "---  ------    --------------  -----  \n",
      " 0   age       1338 non-null   int64  \n",
      " 1   sex       1338 non-null   object \n",
      " 2   bmi       1338 non-null   float64\n",
      " 3   children  1338 non-null   int64  \n",
      " 4   smoker    1338 non-null   object \n",
      " 5   region    1338 non-null   object \n",
      " 6   charges   1338 non-null   float64\n",
      "dtypes: float64(2), int64(2), object(3)\n",
      "memory usage: 73.3+ KB\n"
     ]
    }
   ],
   "source": [
    "data.info()"
   ]
  },
  {
   "cell_type": "code",
   "execution_count": 8,
   "id": "d376894c",
   "metadata": {},
   "outputs": [
    {
     "data": {
      "text/plain": [
       "age         0\n",
       "sex         0\n",
       "bmi         0\n",
       "children    0\n",
       "smoker      0\n",
       "region      0\n",
       "charges     0\n",
       "dtype: int64"
      ]
     },
     "execution_count": 8,
     "metadata": {},
     "output_type": "execute_result"
    }
   ],
   "source": [
    "# checking the null values\n",
    "data.isnull().sum()"
   ]
  },
  {
   "cell_type": "markdown",
   "id": "aa7de3aa",
   "metadata": {},
   "source": [
    "There are no null values present in the dataset."
   ]
  },
  {
   "cell_type": "code",
   "execution_count": 9,
   "id": "668aaaec",
   "metadata": {},
   "outputs": [
    {
     "data": {
      "text/plain": [
       "<AxesSubplot:>"
      ]
     },
     "execution_count": 9,
     "metadata": {},
     "output_type": "execute_result"
    },
    {
     "data": {
      "image/png": "[encoded data removed]",
      "text/plain": [
       "<Figure size 432x288 with 2 Axes>"
      ]
     },
     "metadata": {
      "needs_background": "light"
     },
     "output_type": "display_data"
    }
   ],
   "source": [
    "# Heatmap to visually check for null values\n",
    "\n",
    "sns.heatmap(data.isnull())"
   ]
  },
  {
   "cell_type": "markdown",
   "id": "3ae5abd6",
   "metadata": {},
   "source": [
    "The graph shows that there are no null values present in the dataset."
   ]
  },
  {
   "cell_type": "code",
   "execution_count": 10,
   "id": "ec743376",
   "metadata": {},
   "outputs": [
    {
     "name": "stdout",
     "output_type": "stream",
     "text": [
      "Total Duplicate Rows are: 1\n"
     ]
    }
   ],
   "source": [
    "# Check duplicates in DataFrame\n",
    "\n",
    "print(\"Total Duplicate Rows are:\",data.duplicated().sum())"
   ]
  },
  {
   "cell_type": "code",
   "execution_count": 11,
   "id": "d46f64d3",
   "metadata": {},
   "outputs": [
    {
     "data": {
      "text/html": [
       "<div>\n",
       "<style scoped>\n",
       "    .dataframe tbody tr th:only-of-type {\n",
       "        vertical-align: middle;\n",
       "    }\n",
       "\n",
       "    .dataframe tbody tr th {\n",
       "        vertical-align: top;\n",
       "    }\n",
       "\n",
       "    .dataframe thead th {\n",
       "        text-align: right;\n",
       "    }\n",
       "</style>\n",
       "<table border=\"1\" class=\"dataframe\">\n",
       "  <thead>\n",
       "    <tr style=\"text-align: right;\">\n",
       "      <th></th>\n",
       "      <th>age</th>\n",
       "      <th>sex</th>\n",
       "      <th>bmi</th>\n",
       "      <th>children</th>\n",
       "      <th>smoker</th>\n",
       "      <th>region</th>\n",
       "      <th>charges</th>\n",
       "    </tr>\n",
       "  </thead>\n",
       "  <tbody>\n",
       "    <tr>\n",
       "      <th>195</th>\n",
       "      <td>19</td>\n",
       "      <td>male</td>\n",
       "      <td>30.59</td>\n",
       "      <td>0</td>\n",
       "      <td>no</td>\n",
       "      <td>northwest</td>\n",
       "      <td>1639.5631</td>\n",
       "    </tr>\n",
       "    <tr>\n",
       "      <th>581</th>\n",
       "      <td>19</td>\n",
       "      <td>male</td>\n",
       "      <td>30.59</td>\n",
       "      <td>0</td>\n",
       "      <td>no</td>\n",
       "      <td>northwest</td>\n",
       "      <td>1639.5631</td>\n",
       "    </tr>\n",
       "  </tbody>\n",
       "</table>\n",
       "</div>"
      ],
      "text/plain": [
       "     age   sex    bmi  children smoker     region    charges\n",
       "195   19  male  30.59         0     no  northwest  1639.5631\n",
       "581   19  male  30.59         0     no  northwest  1639.5631"
      ]
     },
     "execution_count": 11,
     "metadata": {},
     "output_type": "execute_result"
    }
   ],
   "source": [
    "# Select duplicate rows based on all columns\n",
    "duplicate=data[data.duplicated(keep=False)]\n",
    "duplicate"
   ]
  },
  {
   "cell_type": "code",
   "execution_count": 12,
   "id": "c673297c",
   "metadata": {},
   "outputs": [
    {
     "data": {
      "text/html": [
       "<div>\n",
       "<style scoped>\n",
       "    .dataframe tbody tr th:only-of-type {\n",
       "        vertical-align: middle;\n",
       "    }\n",
       "\n",
       "    .dataframe tbody tr th {\n",
       "        vertical-align: top;\n",
       "    }\n",
       "\n",
       "    .dataframe thead th {\n",
       "        text-align: right;\n",
       "    }\n",
       "</style>\n",
       "<table border=\"1\" class=\"dataframe\">\n",
       "  <thead>\n",
       "    <tr style=\"text-align: right;\">\n",
       "      <th></th>\n",
       "      <th>age</th>\n",
       "      <th>sex</th>\n",
       "      <th>bmi</th>\n",
       "      <th>children</th>\n",
       "      <th>smoker</th>\n",
       "      <th>region</th>\n",
       "      <th>charges</th>\n",
       "    </tr>\n",
       "  </thead>\n",
       "  <tbody>\n",
       "    <tr>\n",
       "      <th>0</th>\n",
       "      <td>19</td>\n",
       "      <td>female</td>\n",
       "      <td>27.900</td>\n",
       "      <td>0</td>\n",
       "      <td>yes</td>\n",
       "      <td>southwest</td>\n",
       "      <td>16884.92400</td>\n",
       "    </tr>\n",
       "    <tr>\n",
       "      <th>1</th>\n",
       "      <td>18</td>\n",
       "      <td>male</td>\n",
       "      <td>33.770</td>\n",
       "      <td>1</td>\n",
       "      <td>no</td>\n",
       "      <td>southeast</td>\n",
       "      <td>1725.55230</td>\n",
       "    </tr>\n",
       "    <tr>\n",
       "      <th>2</th>\n",
       "      <td>28</td>\n",
       "      <td>male</td>\n",
       "      <td>33.000</td>\n",
       "      <td>3</td>\n",
       "      <td>no</td>\n",
       "      <td>southeast</td>\n",
       "      <td>4449.46200</td>\n",
       "    </tr>\n",
       "    <tr>\n",
       "      <th>3</th>\n",
       "      <td>33</td>\n",
       "      <td>male</td>\n",
       "      <td>22.705</td>\n",
       "      <td>0</td>\n",
       "      <td>no</td>\n",
       "      <td>northwest</td>\n",
       "      <td>21984.47061</td>\n",
       "    </tr>\n",
       "    <tr>\n",
       "      <th>4</th>\n",
       "      <td>32</td>\n",
       "      <td>male</td>\n",
       "      <td>28.880</td>\n",
       "      <td>0</td>\n",
       "      <td>no</td>\n",
       "      <td>northwest</td>\n",
       "      <td>3866.85520</td>\n",
       "    </tr>\n",
       "    <tr>\n",
       "      <th>...</th>\n",
       "      <td>...</td>\n",
       "      <td>...</td>\n",
       "      <td>...</td>\n",
       "      <td>...</td>\n",
       "      <td>...</td>\n",
       "      <td>...</td>\n",
       "      <td>...</td>\n",
       "    </tr>\n",
       "    <tr>\n",
       "      <th>1333</th>\n",
       "      <td>50</td>\n",
       "      <td>male</td>\n",
       "      <td>30.970</td>\n",
       "      <td>3</td>\n",
       "      <td>no</td>\n",
       "      <td>northwest</td>\n",
       "      <td>10600.54830</td>\n",
       "    </tr>\n",
       "    <tr>\n",
       "      <th>1334</th>\n",
       "      <td>18</td>\n",
       "      <td>female</td>\n",
       "      <td>31.920</td>\n",
       "      <td>0</td>\n",
       "      <td>no</td>\n",
       "      <td>northeast</td>\n",
       "      <td>2205.98080</td>\n",
       "    </tr>\n",
       "    <tr>\n",
       "      <th>1335</th>\n",
       "      <td>18</td>\n",
       "      <td>female</td>\n",
       "      <td>36.850</td>\n",
       "      <td>0</td>\n",
       "      <td>no</td>\n",
       "      <td>southeast</td>\n",
       "      <td>1629.83350</td>\n",
       "    </tr>\n",
       "    <tr>\n",
       "      <th>1336</th>\n",
       "      <td>21</td>\n",
       "      <td>female</td>\n",
       "      <td>25.800</td>\n",
       "      <td>0</td>\n",
       "      <td>no</td>\n",
       "      <td>southwest</td>\n",
       "      <td>2007.94500</td>\n",
       "    </tr>\n",
       "    <tr>\n",
       "      <th>1337</th>\n",
       "      <td>61</td>\n",
       "      <td>female</td>\n",
       "      <td>29.070</td>\n",
       "      <td>0</td>\n",
       "      <td>yes</td>\n",
       "      <td>northwest</td>\n",
       "      <td>29141.36030</td>\n",
       "    </tr>\n",
       "  </tbody>\n",
       "</table>\n",
       "<p>1337 rows × 7 columns</p>\n",
       "</div>"
      ],
      "text/plain": [
       "      age     sex     bmi  children smoker     region      charges\n",
       "0      19  female  27.900         0    yes  southwest  16884.92400\n",
       "1      18    male  33.770         1     no  southeast   1725.55230\n",
       "2      28    male  33.000         3     no  southeast   4449.46200\n",
       "3      33    male  22.705         0     no  northwest  21984.47061\n",
       "4      32    male  28.880         0     no  northwest   3866.85520\n",
       "...   ...     ...     ...       ...    ...        ...          ...\n",
       "1333   50    male  30.970         3     no  northwest  10600.54830\n",
       "1334   18  female  31.920         0     no  northeast   2205.98080\n",
       "1335   18  female  36.850         0     no  southeast   1629.83350\n",
       "1336   21  female  25.800         0     no  southwest   2007.94500\n",
       "1337   61  female  29.070         0    yes  northwest  29141.36030\n",
       "\n",
       "[1337 rows x 7 columns]"
      ]
     },
     "execution_count": 12,
     "metadata": {},
     "output_type": "execute_result"
    }
   ],
   "source": [
    "# Remove duplicate rows\n",
    "\n",
    "data.drop_duplicates()"
   ]
  },
  {
   "cell_type": "code",
   "execution_count": 13,
   "id": "a4c40691",
   "metadata": {},
   "outputs": [
    {
     "name": "stdout",
     "output_type": "stream",
     "text": [
      "Categorical Columns:  ['sex', 'smoker', 'region']\n",
      "/n\n",
      "Numerical Columns:  ['age', 'bmi', 'children', 'charges']\n",
      "/n\n"
     ]
    }
   ],
   "source": [
    "# Separating Numerical and Categorical columns\n",
    "# Checking for Categorical Columns\n",
    "categorical_col=[]\n",
    "for i in data.dtypes.index:\n",
    "    if data.dtypes[i]==\"object\":\n",
    "        categorical_col.append(i)\n",
    "print(\"Categorical Columns: \",categorical_col)\n",
    "print(\"/n\")\n",
    "\n",
    "#Checking for Numerical Columns\n",
    "numerical_col=[]\n",
    "for i in data.dtypes.index:\n",
    "    if data.dtypes[i]!=\"object\":\n",
    "        numerical_col.append(i)\n",
    "print(\"Numerical Columns: \",numerical_col)\n",
    "print(\"/n\")"
   ]
  },
  {
   "cell_type": "code",
   "execution_count": 14,
   "id": "f715bd93",
   "metadata": {},
   "outputs": [
    {
     "name": "stdout",
     "output_type": "stream",
     "text": [
      "18    69\n",
      "19    68\n",
      "20    29\n",
      "51    29\n",
      "45    29\n",
      "46    29\n",
      "47    29\n",
      "48    29\n",
      "50    29\n",
      "52    29\n",
      "28    28\n",
      "54    28\n",
      "21    28\n",
      "27    28\n",
      "26    28\n",
      "49    28\n",
      "25    28\n",
      "24    28\n",
      "23    28\n",
      "22    28\n",
      "53    28\n",
      "42    27\n",
      "44    27\n",
      "43    27\n",
      "41    27\n",
      "40    27\n",
      "31    27\n",
      "30    27\n",
      "29    27\n",
      "56    26\n",
      "34    26\n",
      "33    26\n",
      "32    26\n",
      "57    26\n",
      "55    26\n",
      "35    25\n",
      "59    25\n",
      "58    25\n",
      "36    25\n",
      "39    25\n",
      "38    25\n",
      "37    25\n",
      "60    23\n",
      "61    23\n",
      "62    23\n",
      "63    23\n",
      "64    22\n",
      "Name: age, dtype: int64\n",
      "\n",
      "\n",
      "male      676\n",
      "female    662\n",
      "Name: sex, dtype: int64\n",
      "\n",
      "\n",
      "32.300    13\n",
      "28.310     9\n",
      "30.800     8\n",
      "34.100     8\n",
      "28.880     8\n",
      "          ..\n",
      "44.745     1\n",
      "26.070     1\n",
      "27.300     1\n",
      "37.715     1\n",
      "29.200     1\n",
      "Name: bmi, Length: 548, dtype: int64\n",
      "\n",
      "\n",
      "0    574\n",
      "1    324\n",
      "2    240\n",
      "3    157\n",
      "4     25\n",
      "5     18\n",
      "Name: children, dtype: int64\n",
      "\n",
      "\n",
      "no     1064\n",
      "yes     274\n",
      "Name: smoker, dtype: int64\n",
      "\n",
      "\n",
      "southeast    364\n",
      "northwest    325\n",
      "southwest    325\n",
      "northeast    324\n",
      "Name: region, dtype: int64\n",
      "\n",
      "\n",
      "1639.56310     2\n",
      "11987.16820    1\n",
      "7624.63000     1\n",
      "12523.60480    1\n",
      "10355.64100    1\n",
      "              ..\n",
      "62592.87309    1\n",
      "18903.49141    1\n",
      "8538.28845     1\n",
      "11165.41765    1\n",
      "60021.39897    1\n",
      "Name: charges, Length: 1337, dtype: int64\n",
      "\n",
      "\n"
     ]
    }
   ],
   "source": [
    "# Checking the value counts of each column\n",
    "\n",
    "for i in data.columns:\n",
    "    print(data[i].value_counts())\n",
    "    print(\"\\n\")"
   ]
  },
  {
   "cell_type": "code",
   "execution_count": 15,
   "id": "dc627a2c",
   "metadata": {},
   "outputs": [
    {
     "data": {
      "text/html": [
       "<div>\n",
       "<style scoped>\n",
       "    .dataframe tbody tr th:only-of-type {\n",
       "        vertical-align: middle;\n",
       "    }\n",
       "\n",
       "    .dataframe tbody tr th {\n",
       "        vertical-align: top;\n",
       "    }\n",
       "\n",
       "    .dataframe thead th {\n",
       "        text-align: right;\n",
       "    }\n",
       "</style>\n",
       "<table border=\"1\" class=\"dataframe\">\n",
       "  <thead>\n",
       "    <tr style=\"text-align: right;\">\n",
       "      <th></th>\n",
       "      <th>No. of unique values</th>\n",
       "    </tr>\n",
       "  </thead>\n",
       "  <tbody>\n",
       "    <tr>\n",
       "      <th>age</th>\n",
       "      <td>47</td>\n",
       "    </tr>\n",
       "    <tr>\n",
       "      <th>sex</th>\n",
       "      <td>2</td>\n",
       "    </tr>\n",
       "    <tr>\n",
       "      <th>bmi</th>\n",
       "      <td>548</td>\n",
       "    </tr>\n",
       "    <tr>\n",
       "      <th>children</th>\n",
       "      <td>6</td>\n",
       "    </tr>\n",
       "    <tr>\n",
       "      <th>smoker</th>\n",
       "      <td>2</td>\n",
       "    </tr>\n",
       "    <tr>\n",
       "      <th>region</th>\n",
       "      <td>4</td>\n",
       "    </tr>\n",
       "    <tr>\n",
       "      <th>charges</th>\n",
       "      <td>1337</td>\n",
       "    </tr>\n",
       "  </tbody>\n",
       "</table>\n",
       "</div>"
      ],
      "text/plain": [
       "          No. of unique values\n",
       "age                         47\n",
       "sex                          2\n",
       "bmi                        548\n",
       "children                     6\n",
       "smoker                       2\n",
       "region                       4\n",
       "charges                   1337"
      ]
     },
     "execution_count": 15,
     "metadata": {},
     "output_type": "execute_result"
    }
   ],
   "source": [
    "# Checking number of unique values in each column\n",
    "data.nunique().to_frame(\"No. of unique values\")"
   ]
  },
  {
   "cell_type": "markdown",
   "id": "81ef1509",
   "metadata": {},
   "source": [
    "## Description of DataSet"
   ]
  },
  {
   "cell_type": "code",
   "execution_count": 16,
   "id": "83bdb657",
   "metadata": {},
   "outputs": [
    {
     "data": {
      "text/html": [
       "<div>\n",
       "<style scoped>\n",
       "    .dataframe tbody tr th:only-of-type {\n",
       "        vertical-align: middle;\n",
       "    }\n",
       "\n",
       "    .dataframe tbody tr th {\n",
       "        vertical-align: top;\n",
       "    }\n",
       "\n",
       "    .dataframe thead th {\n",
       "        text-align: right;\n",
       "    }\n",
       "</style>\n",
       "<table border=\"1\" class=\"dataframe\">\n",
       "  <thead>\n",
       "    <tr style=\"text-align: right;\">\n",
       "      <th></th>\n",
       "      <th>age</th>\n",
       "      <th>bmi</th>\n",
       "      <th>children</th>\n",
       "      <th>charges</th>\n",
       "    </tr>\n",
       "  </thead>\n",
       "  <tbody>\n",
       "    <tr>\n",
       "      <th>count</th>\n",
       "      <td>1338.000000</td>\n",
       "      <td>1338.000000</td>\n",
       "      <td>1338.000000</td>\n",
       "      <td>1338.000000</td>\n",
       "    </tr>\n",
       "    <tr>\n",
       "      <th>mean</th>\n",
       "      <td>39.207025</td>\n",
       "      <td>30.663397</td>\n",
       "      <td>1.094918</td>\n",
       "      <td>13270.422265</td>\n",
       "    </tr>\n",
       "    <tr>\n",
       "      <th>std</th>\n",
       "      <td>14.049960</td>\n",
       "      <td>6.098187</td>\n",
       "      <td>1.205493</td>\n",
       "      <td>12110.011237</td>\n",
       "    </tr>\n",
       "    <tr>\n",
       "      <th>min</th>\n",
       "      <td>18.000000</td>\n",
       "      <td>15.960000</td>\n",
       "      <td>0.000000</td>\n",
       "      <td>1121.873900</td>\n",
       "    </tr>\n",
       "    <tr>\n",
       "      <th>25%</th>\n",
       "      <td>27.000000</td>\n",
       "      <td>26.296250</td>\n",
       "      <td>0.000000</td>\n",
       "      <td>4740.287150</td>\n",
       "    </tr>\n",
       "    <tr>\n",
       "      <th>50%</th>\n",
       "      <td>39.000000</td>\n",
       "      <td>30.400000</td>\n",
       "      <td>1.000000</td>\n",
       "      <td>9382.033000</td>\n",
       "    </tr>\n",
       "    <tr>\n",
       "      <th>75%</th>\n",
       "      <td>51.000000</td>\n",
       "      <td>34.693750</td>\n",
       "      <td>2.000000</td>\n",
       "      <td>16639.912515</td>\n",
       "    </tr>\n",
       "    <tr>\n",
       "      <th>max</th>\n",
       "      <td>64.000000</td>\n",
       "      <td>53.130000</td>\n",
       "      <td>5.000000</td>\n",
       "      <td>63770.428010</td>\n",
       "    </tr>\n",
       "  </tbody>\n",
       "</table>\n",
       "</div>"
      ],
      "text/plain": [
       "               age          bmi     children       charges\n",
       "count  1338.000000  1338.000000  1338.000000   1338.000000\n",
       "mean     39.207025    30.663397     1.094918  13270.422265\n",
       "std      14.049960     6.098187     1.205493  12110.011237\n",
       "min      18.000000    15.960000     0.000000   1121.873900\n",
       "25%      27.000000    26.296250     0.000000   4740.287150\n",
       "50%      39.000000    30.400000     1.000000   9382.033000\n",
       "75%      51.000000    34.693750     2.000000  16639.912515\n",
       "max      64.000000    53.130000     5.000000  63770.428010"
      ]
     },
     "execution_count": 16,
     "metadata": {},
     "output_type": "execute_result"
    }
   ],
   "source": [
    "# Statistical summary\n",
    "\n",
    "data.describe()"
   ]
  },
  {
   "cell_type": "markdown",
   "id": "aab5b4be",
   "metadata": {},
   "source": [
    "From the data description we can observe the following:\n",
    "There are no missing values since the count of all columns after removing duplicates is the same 1338.\n",
    "The median (50%) is lower than the mean in all columns, which means that the dataset is skewed to the right.\n",
    "There is a big difference between 3rd quartile (75%) and max value in charges columns, which indicates that outliers are present in the dataset.\n",
    "There is also a moderate difference between first quartile (25%) and minimum value in all columns, except for children column, where outliers could be present."
   ]
  },
  {
   "cell_type": "markdown",
   "id": "582a25e7",
   "metadata": {},
   "source": [
    "## Data Visualization"
   ]
  },
  {
   "cell_type": "code",
   "execution_count": 17,
   "id": "d996dcc2",
   "metadata": {},
   "outputs": [],
   "source": [
    "# data.columns"
   ]
  },
  {
   "cell_type": "code",
   "execution_count": 18,
   "id": "6ad9c9d9",
   "metadata": {},
   "outputs": [
    {
     "data": {
      "text/plain": [
       "<AxesSubplot:>"
      ]
     },
     "execution_count": 18,
     "metadata": {},
     "output_type": "execute_result"
    },
    {
     "data": {
      "image/png": "[encoded data removed]",
      "text/plain": [
       "<Figure size 1080x360 with 2 Axes>"
      ]
     },
     "metadata": {
      "needs_background": "light"
     },
     "output_type": "display_data"
    }
   ],
   "source": [
    "### Checking Data Distribution and outliers per numerical feature\n",
    "\n",
    "plt.figure(2)\n",
    "plt.subplot(121)\n",
    "sns.distplot(data['age'])\n",
    "plt.subplot(122)\n",
    "data['age'].plot.box(figsize=(15,5))"
   ]
  },
  {
   "cell_type": "code",
   "execution_count": 19,
   "id": "31090966",
   "metadata": {},
   "outputs": [
    {
     "data": {
      "text/plain": [
       "<AxesSubplot:>"
      ]
     },
     "execution_count": 19,
     "metadata": {},
     "output_type": "execute_result"
    },
    {
     "data": {
      "image/png": "[encoded data removed]",
      "text/plain": [
       "<Figure size 1080x360 with 2 Axes>"
      ]
     },
     "metadata": {
      "needs_background": "light"
     },
     "output_type": "display_data"
    }
   ],
   "source": [
    "### Checking Data Distribution and outliers per numerical feature\n",
    "\n",
    "plt.figure(2)\n",
    "plt.subplot(121)\n",
    "sns.distplot(data['bmi'])\n",
    "plt.subplot(122)\n",
    "data['bmi'].plot.box(figsize=(15,5))"
   ]
  },
  {
   "cell_type": "code",
   "execution_count": 20,
   "id": "76c7b6c1",
   "metadata": {},
   "outputs": [
    {
     "name": "stdout",
     "output_type": "stream",
     "text": [
      "0    574\n",
      "1    324\n",
      "2    240\n",
      "3    157\n",
      "4     25\n",
      "5     18\n",
      "Name: children, dtype: int64\n"
     ]
    },
    {
     "data": {
      "text/plain": [
       "<AxesSubplot:xlabel='children', ylabel='count'>"
      ]
     },
     "execution_count": 20,
     "metadata": {},
     "output_type": "execute_result"
    },
    {
     "data": {
      "image/png": "[encoded data removed]",
      "text/plain": [
       "<Figure size 432x288 with 1 Axes>"
      ]
     },
     "metadata": {
      "needs_background": "light"
     },
     "output_type": "display_data"
    }
   ],
   "source": [
    "### Checking the number of children\n",
    "\n",
    "print(data[\"children\"].value_counts())\n",
    "sns.countplot(x=data[\"children\"],palette=\"cool\")"
   ]
  },
  {
   "cell_type": "code",
   "execution_count": 21,
   "id": "305a7954",
   "metadata": {},
   "outputs": [
    {
     "data": {
      "text/plain": [
       "<AxesSubplot:>"
      ]
     },
     "execution_count": 21,
     "metadata": {},
     "output_type": "execute_result"
    },
    {
     "data": {
      "image/png": "[encoded data removed]",
      "text/plain": [
       "<Figure size 1080x360 with 2 Axes>"
      ]
     },
     "metadata": {
      "needs_background": "light"
     },
     "output_type": "display_data"
    }
   ],
   "source": [
    "### Checking Data Distribution and outliers per numerical feature\n",
    "\n",
    "plt.figure(2)\n",
    "plt.subplot(121)\n",
    "sns.distplot(data['charges'])\n",
    "plt.subplot(122)\n",
    "data['charges'].plot.box(figsize=(15,5))"
   ]
  },
  {
   "cell_type": "code",
   "execution_count": 22,
   "id": "a88648ed",
   "metadata": {},
   "outputs": [
    {
     "name": "stdout",
     "output_type": "stream",
     "text": [
      "male      676\n",
      "female    662\n",
      "Name: sex, dtype: int64\n"
     ]
    },
    {
     "data": {
      "text/plain": [
       "<AxesSubplot:xlabel='sex', ylabel='count'>"
      ]
     },
     "execution_count": 22,
     "metadata": {},
     "output_type": "execute_result"
    },
    {
     "data": {
      "image/png": "[encoded data removed]",
      "text/plain": [
       "<Figure size 432x288 with 1 Axes>"
      ]
     },
     "metadata": {
      "needs_background": "light"
     },
     "output_type": "display_data"
    }
   ],
   "source": [
    "### Checking the number of males and females\n",
    "print(data[\"sex\"].value_counts())\n",
    "sns.countplot(x=data[\"sex\"],palette=\"cool\")"
   ]
  },
  {
   "cell_type": "code",
   "execution_count": 23,
   "id": "1f1b88c4",
   "metadata": {},
   "outputs": [
    {
     "name": "stdout",
     "output_type": "stream",
     "text": [
      "no     1064\n",
      "yes     274\n",
      "Name: smoker, dtype: int64\n"
     ]
    },
    {
     "data": {
      "text/plain": [
       "<AxesSubplot:xlabel='smoker', ylabel='count'>"
      ]
     },
     "execution_count": 23,
     "metadata": {},
     "output_type": "execute_result"
    },
    {
     "data": {
      "image/png": "[encoded data removed]",
      "text/plain": [
       "<Figure size 432x288 with 1 Axes>"
      ]
     },
     "metadata": {
      "needs_background": "light"
     },
     "output_type": "display_data"
    }
   ],
   "source": [
    "### Checking the number of smokers\n",
    "print(data[\"smoker\"].value_counts())\n",
    "sns.countplot(x=data[\"smoker\"],palette=\"cool\")"
   ]
  },
  {
   "cell_type": "code",
   "execution_count": 24,
   "id": "8ec20bc2",
   "metadata": {},
   "outputs": [
    {
     "name": "stdout",
     "output_type": "stream",
     "text": [
      "southeast    364\n",
      "northwest    325\n",
      "southwest    325\n",
      "northeast    324\n",
      "Name: region, dtype: int64\n"
     ]
    },
    {
     "data": {
      "text/plain": [
       "<AxesSubplot:xlabel='region', ylabel='count'>"
      ]
     },
     "execution_count": 24,
     "metadata": {},
     "output_type": "execute_result"
    },
    {
     "data": {
      "image/png": "[encoded data removed]",
      "text/plain": [
       "<Figure size 432x288 with 1 Axes>"
      ]
     },
     "metadata": {
      "needs_background": "light"
     },
     "output_type": "display_data"
    }
   ],
   "source": [
    "### Checking the number of regions\n",
    "print(data[\"region\"].value_counts())\n",
    "sns.countplot(x=data[\"region\"],palette=\"cool\")"
   ]
  },
  {
   "cell_type": "markdown",
   "id": "81870d8d",
   "metadata": {},
   "source": [
    "As per graphs, we can see that most of the population in this dataset is young and almost equally distributed between males and females in their 20's. The majority of people in the dataset do not have children or at least not covered by health insurance. In addition, most of them are non smokers, with a little more presence in the southeast region. \n",
    "\n",
    "With regards to charges billed by health insurance, there are outliers present, showing that these charges can rise up to 70.000.\n",
    "\n",
    "An important consideration for BMI, which normal range should be 18.5 to 24.9, shows a population that is overweight."
   ]
  },
  {
   "cell_type": "markdown",
   "id": "62a10c54",
   "metadata": {},
   "source": [
    "## Data Preprocessing"
   ]
  },
  {
   "cell_type": "markdown",
   "id": "b7e5eb26",
   "metadata": {},
   "source": [
    "##### Remove Outliers"
   ]
  },
  {
   "cell_type": "code",
   "execution_count": 25,
   "id": "dabad85e",
   "metadata": {},
   "outputs": [
    {
     "data": {
      "text/plain": [
       "array([[0.45332   , 0.2985838 ],\n",
       "       [0.5096211 , 0.95368917],\n",
       "       [0.38330685, 0.72867467],\n",
       "       ...,\n",
       "       [1.0148781 , 0.96159623],\n",
       "       [0.79781341, 0.93036151],\n",
       "       [0.26138796, 1.31105347]])"
      ]
     },
     "execution_count": 25,
     "metadata": {},
     "output_type": "execute_result"
    }
   ],
   "source": [
    "from scipy.stats import zscore\n",
    "\n",
    "out_features=data[[\"bmi\",\"charges\"]]\n",
    "z=np.abs(zscore(out_features))\n",
    "z\n",
    "#z=pd.DataFrame(z)\n",
    "#df\n",
    "#z"
   ]
  },
  {
   "cell_type": "code",
   "execution_count": 26,
   "id": "8df60f56",
   "metadata": {},
   "outputs": [
    {
     "data": {
      "text/plain": [
       "(array([  34,  116,  543,  577,  819,  847, 1047, 1146, 1230, 1300, 1317],\n",
       "       dtype=int64),\n",
       " array([1, 0, 1, 1, 1, 0, 0, 1, 1, 1, 0], dtype=int64))"
      ]
     },
     "execution_count": 26,
     "metadata": {},
     "output_type": "execute_result"
    }
   ],
   "source": [
    "# Threshold=3\n",
    "np.where(z>3)"
   ]
  },
  {
   "cell_type": "code",
   "execution_count": 27,
   "id": "8e6f3804",
   "metadata": {},
   "outputs": [
    {
     "data": {
      "text/plain": [
       "(1327, 7)"
      ]
     },
     "execution_count": 27,
     "metadata": {},
     "output_type": "execute_result"
    }
   ],
   "source": [
    "data1=data[(z<3).all(axis=1)]\n",
    "data1.shape"
   ]
  },
  {
   "cell_type": "code",
   "execution_count": 28,
   "id": "5a9e3b27",
   "metadata": {},
   "outputs": [
    {
     "name": "stdout",
     "output_type": "stream",
     "text": [
      "Old DataFrame -  1338\n",
      "New DataFrame -  1327\n"
     ]
    }
   ],
   "source": [
    "# Shape of Old and New DataFrame\n",
    "print(\"Old DataFrame - \",data.shape[0])\n",
    "print(\"New DataFrame - \",data1.shape[0])"
   ]
  },
  {
   "cell_type": "code",
   "execution_count": 29,
   "id": "d9f748c7",
   "metadata": {},
   "outputs": [
    {
     "name": "stdout",
     "output_type": "stream",
     "text": [
      "Data Loss Percentage -  0.8221225710014948\n"
     ]
    }
   ],
   "source": [
    "print(\"Data Loss Percentage - \",((data.shape[0]-data1.shape[0])/data.shape[0]*100))"
   ]
  },
  {
   "cell_type": "code",
   "execution_count": 30,
   "id": "4b68b415",
   "metadata": {},
   "outputs": [],
   "source": [
    "import operator\n",
    "\n",
    "# 1st quantile\n",
    "Q1=out_features.quantile(0.25)\n",
    "\n",
    "\n",
    "# 3rd quantile\n",
    "Q3=out_features.quantile(0.75)\n",
    "\n",
    "# IQR\n",
    "IQR=Q3-Q1\n",
    "data2=data[operator.invert(((data<(Q1-1.5*IQR))|(data>(Q3+1.5*IQR))).any(axis=1))]"
   ]
  },
  {
   "cell_type": "code",
   "execution_count": 31,
   "id": "41278884",
   "metadata": {},
   "outputs": [
    {
     "data": {
      "text/plain": [
       "(1193, 7)"
      ]
     },
     "execution_count": 31,
     "metadata": {},
     "output_type": "execute_result"
    }
   ],
   "source": [
    "data2.shape"
   ]
  },
  {
   "cell_type": "code",
   "execution_count": 32,
   "id": "d28c6fe9",
   "metadata": {},
   "outputs": [
    {
     "name": "stdout",
     "output_type": "stream",
     "text": [
      "Data Loss Percentage after removing outliers with IQR method -  10.837070254110612\n"
     ]
    }
   ],
   "source": [
    "print(\"Data Loss Percentage after removing outliers with IQR method - \",((data.shape[0]-data2.shape[0])/data.shape[0])*100)"
   ]
  },
  {
   "cell_type": "markdown",
   "id": "68b063eb",
   "metadata": {},
   "source": [
    "I will choose the z-score method to remove outliers, since the %loss is lower than the IQR Method."
   ]
  },
  {
   "cell_type": "markdown",
   "id": "7006a3c2",
   "metadata": {},
   "source": [
    "#### Checking for skewness"
   ]
  },
  {
   "cell_type": "code",
   "execution_count": 33,
   "id": "5555c08e",
   "metadata": {},
   "outputs": [
    {
     "data": {
      "text/plain": [
       "age         0.055031\n",
       "bmi         0.203726\n",
       "children    0.933380\n",
       "charges     1.453405\n",
       "dtype: float64"
      ]
     },
     "execution_count": 33,
     "metadata": {},
     "output_type": "execute_result"
    }
   ],
   "source": [
    "data1.skew()"
   ]
  },
  {
   "cell_type": "markdown",
   "id": "a9c7957e",
   "metadata": {},
   "source": [
    "After checking for skewness, it is easy to identify 1 variable with skewness > 1 (extremely skewed). Thus, I will remove the skewness using cuberoot method."
   ]
  },
  {
   "cell_type": "code",
   "execution_count": 34,
   "id": "d681db4c",
   "metadata": {},
   "outputs": [],
   "source": [
    "# Removing skewness using cuberoot method\n",
    "data1['charges']=np.cbrt(data1['charges'])"
   ]
  },
  {
   "cell_type": "code",
   "execution_count": 35,
   "id": "59fa021e",
   "metadata": {},
   "outputs": [
    {
     "data": {
      "text/plain": [
       "age         0.055031\n",
       "bmi         0.203726\n",
       "children    0.933380\n",
       "charges     0.490528\n",
       "dtype: float64"
      ]
     },
     "execution_count": 35,
     "metadata": {},
     "output_type": "execute_result"
    }
   ],
   "source": [
    "# Checking skewness again\n",
    "data1.skew()"
   ]
  },
  {
   "cell_type": "markdown",
   "id": "8a70e705",
   "metadata": {},
   "source": [
    "The skewness has been reduced in 'charges' column."
   ]
  },
  {
   "cell_type": "code",
   "execution_count": 36,
   "id": "26e8a6eb",
   "metadata": {},
   "outputs": [
    {
     "data": {
      "text/plain": [
       "<AxesSubplot:>"
      ]
     },
     "execution_count": 36,
     "metadata": {},
     "output_type": "execute_result"
    },
    {
     "data": {
      "image/png": "[encoded data removed]",
      "text/plain": [
       "<Figure size 1080x360 with 2 Axes>"
      ]
     },
     "metadata": {
      "needs_background": "light"
     },
     "output_type": "display_data"
    }
   ],
   "source": [
    "# Visualizing 'charges' distribution after removing outliers.\n",
    "\n",
    "plt.figure(2)\n",
    "plt.subplot(121)\n",
    "sns.distplot(data1['charges'],kde_kws={\"shade\":True},hist=False)\n",
    "plt.subplot(122)\n",
    "data['charges'].plot.box(figsize=(15,5))"
   ]
  },
  {
   "cell_type": "markdown",
   "id": "52647348",
   "metadata": {},
   "source": [
    "Now we can see that the data is almost normally distributed and the skewness values is in my acceptable range."
   ]
  },
  {
   "cell_type": "markdown",
   "id": "940a73e1",
   "metadata": {},
   "source": [
    "### Encoding categorical columns"
   ]
  },
  {
   "cell_type": "code",
   "execution_count": 37,
   "id": "89b1192a",
   "metadata": {},
   "outputs": [
    {
     "data": {
      "text/html": [
       "<div>\n",
       "<style scoped>\n",
       "    .dataframe tbody tr th:only-of-type {\n",
       "        vertical-align: middle;\n",
       "    }\n",
       "\n",
       "    .dataframe tbody tr th {\n",
       "        vertical-align: top;\n",
       "    }\n",
       "\n",
       "    .dataframe thead th {\n",
       "        text-align: right;\n",
       "    }\n",
       "</style>\n",
       "<table border=\"1\" class=\"dataframe\">\n",
       "  <thead>\n",
       "    <tr style=\"text-align: right;\">\n",
       "      <th></th>\n",
       "      <th>age</th>\n",
       "      <th>sex</th>\n",
       "      <th>bmi</th>\n",
       "      <th>children</th>\n",
       "      <th>smoker</th>\n",
       "      <th>region</th>\n",
       "      <th>charges</th>\n",
       "    </tr>\n",
       "  </thead>\n",
       "  <tbody>\n",
       "    <tr>\n",
       "      <th>0</th>\n",
       "      <td>19</td>\n",
       "      <td>0.0</td>\n",
       "      <td>27.900</td>\n",
       "      <td>0</td>\n",
       "      <td>1.0</td>\n",
       "      <td>3.0</td>\n",
       "      <td>25.654666</td>\n",
       "    </tr>\n",
       "    <tr>\n",
       "      <th>1</th>\n",
       "      <td>18</td>\n",
       "      <td>1.0</td>\n",
       "      <td>33.770</td>\n",
       "      <td>1</td>\n",
       "      <td>0.0</td>\n",
       "      <td>2.0</td>\n",
       "      <td>11.994331</td>\n",
       "    </tr>\n",
       "    <tr>\n",
       "      <th>2</th>\n",
       "      <td>28</td>\n",
       "      <td>1.0</td>\n",
       "      <td>33.000</td>\n",
       "      <td>3</td>\n",
       "      <td>0.0</td>\n",
       "      <td>2.0</td>\n",
       "      <td>16.447599</td>\n",
       "    </tr>\n",
       "    <tr>\n",
       "      <th>3</th>\n",
       "      <td>33</td>\n",
       "      <td>1.0</td>\n",
       "      <td>22.705</td>\n",
       "      <td>0</td>\n",
       "      <td>0.0</td>\n",
       "      <td>1.0</td>\n",
       "      <td>28.013799</td>\n",
       "    </tr>\n",
       "    <tr>\n",
       "      <th>4</th>\n",
       "      <td>32</td>\n",
       "      <td>1.0</td>\n",
       "      <td>28.880</td>\n",
       "      <td>0</td>\n",
       "      <td>0.0</td>\n",
       "      <td>1.0</td>\n",
       "      <td>15.695891</td>\n",
       "    </tr>\n",
       "    <tr>\n",
       "      <th>...</th>\n",
       "      <td>...</td>\n",
       "      <td>...</td>\n",
       "      <td>...</td>\n",
       "      <td>...</td>\n",
       "      <td>...</td>\n",
       "      <td>...</td>\n",
       "      <td>...</td>\n",
       "    </tr>\n",
       "    <tr>\n",
       "      <th>1333</th>\n",
       "      <td>50</td>\n",
       "      <td>1.0</td>\n",
       "      <td>30.970</td>\n",
       "      <td>3</td>\n",
       "      <td>0.0</td>\n",
       "      <td>1.0</td>\n",
       "      <td>21.967271</td>\n",
       "    </tr>\n",
       "    <tr>\n",
       "      <th>1334</th>\n",
       "      <td>18</td>\n",
       "      <td>0.0</td>\n",
       "      <td>31.920</td>\n",
       "      <td>0</td>\n",
       "      <td>0.0</td>\n",
       "      <td>0.0</td>\n",
       "      <td>13.017690</td>\n",
       "    </tr>\n",
       "    <tr>\n",
       "      <th>1335</th>\n",
       "      <td>18</td>\n",
       "      <td>0.0</td>\n",
       "      <td>36.850</td>\n",
       "      <td>0</td>\n",
       "      <td>0.0</td>\n",
       "      <td>2.0</td>\n",
       "      <td>11.768318</td>\n",
       "    </tr>\n",
       "    <tr>\n",
       "      <th>1336</th>\n",
       "      <td>21</td>\n",
       "      <td>0.0</td>\n",
       "      <td>25.800</td>\n",
       "      <td>0</td>\n",
       "      <td>0.0</td>\n",
       "      <td>3.0</td>\n",
       "      <td>12.615872</td>\n",
       "    </tr>\n",
       "    <tr>\n",
       "      <th>1337</th>\n",
       "      <td>61</td>\n",
       "      <td>0.0</td>\n",
       "      <td>29.070</td>\n",
       "      <td>0</td>\n",
       "      <td>1.0</td>\n",
       "      <td>1.0</td>\n",
       "      <td>30.773007</td>\n",
       "    </tr>\n",
       "  </tbody>\n",
       "</table>\n",
       "<p>1327 rows × 7 columns</p>\n",
       "</div>"
      ],
      "text/plain": [
       "      age  sex     bmi  children  smoker  region    charges\n",
       "0      19  0.0  27.900         0     1.0     3.0  25.654666\n",
       "1      18  1.0  33.770         1     0.0     2.0  11.994331\n",
       "2      28  1.0  33.000         3     0.0     2.0  16.447599\n",
       "3      33  1.0  22.705         0     0.0     1.0  28.013799\n",
       "4      32  1.0  28.880         0     0.0     1.0  15.695891\n",
       "...   ...  ...     ...       ...     ...     ...        ...\n",
       "1333   50  1.0  30.970         3     0.0     1.0  21.967271\n",
       "1334   18  0.0  31.920         0     0.0     0.0  13.017690\n",
       "1335   18  0.0  36.850         0     0.0     2.0  11.768318\n",
       "1336   21  0.0  25.800         0     0.0     3.0  12.615872\n",
       "1337   61  0.0  29.070         0     1.0     1.0  30.773007\n",
       "\n",
       "[1327 rows x 7 columns]"
      ]
     },
     "execution_count": 37,
     "metadata": {},
     "output_type": "execute_result"
    }
   ],
   "source": [
    "# Encoding categorical columns using OrdinalEncoder\n",
    "from sklearn.preprocessing import OrdinalEncoder\n",
    "OE=OrdinalEncoder()\n",
    "\n",
    "for i in data1.columns:\n",
    "    if data1[i].dtypes=='object':\n",
    "        data1[i]=OE.fit_transform(data1[i].values.reshape(-1,1))\n",
    "data1"
   ]
  },
  {
   "cell_type": "code",
   "execution_count": 38,
   "id": "00c9e9de",
   "metadata": {},
   "outputs": [
    {
     "name": "stdout",
     "output_type": "stream",
     "text": [
      "<class 'pandas.core.frame.DataFrame'>\n",
      "Int64Index: 1327 entries, 0 to 1337\n",
      "Data columns (total 7 columns):\n",
      " #   Column    Non-Null Count  Dtype  \n",
      "---  ------    --------------  -----  \n",
      " 0   age       1327 non-null   int64  \n",
      " 1   sex       1327 non-null   float64\n",
      " 2   bmi       1327 non-null   float64\n",
      " 3   children  1327 non-null   int64  \n",
      " 4   smoker    1327 non-null   float64\n",
      " 5   region    1327 non-null   float64\n",
      " 6   charges   1327 non-null   float64\n",
      "dtypes: float64(5), int64(2)\n",
      "memory usage: 82.9 KB\n"
     ]
    }
   ],
   "source": [
    "data1.info()"
   ]
  },
  {
   "cell_type": "code",
   "execution_count": 39,
   "id": "acb24f50",
   "metadata": {},
   "outputs": [
    {
     "data": {
      "text/html": [
       "<div>\n",
       "<style scoped>\n",
       "    .dataframe tbody tr th:only-of-type {\n",
       "        vertical-align: middle;\n",
       "    }\n",
       "\n",
       "    .dataframe tbody tr th {\n",
       "        vertical-align: top;\n",
       "    }\n",
       "\n",
       "    .dataframe thead th {\n",
       "        text-align: right;\n",
       "    }\n",
       "</style>\n",
       "<table border=\"1\" class=\"dataframe\">\n",
       "  <thead>\n",
       "    <tr style=\"text-align: right;\">\n",
       "      <th></th>\n",
       "      <th>age</th>\n",
       "      <th>sex</th>\n",
       "      <th>bmi</th>\n",
       "      <th>children</th>\n",
       "      <th>smoker</th>\n",
       "      <th>region</th>\n",
       "      <th>charges</th>\n",
       "    </tr>\n",
       "  </thead>\n",
       "  <tbody>\n",
       "    <tr>\n",
       "      <th>count</th>\n",
       "      <td>1327.000000</td>\n",
       "      <td>1327.000000</td>\n",
       "      <td>1327.000000</td>\n",
       "      <td>1327.000000</td>\n",
       "      <td>1327.000000</td>\n",
       "      <td>1327.000000</td>\n",
       "      <td>1327.000000</td>\n",
       "    </tr>\n",
       "    <tr>\n",
       "      <th>mean</th>\n",
       "      <td>39.212509</td>\n",
       "      <td>0.503391</td>\n",
       "      <td>30.570757</td>\n",
       "      <td>1.098719</td>\n",
       "      <td>0.200452</td>\n",
       "      <td>1.513188</td>\n",
       "      <td>21.655110</td>\n",
       "    </tr>\n",
       "    <tr>\n",
       "      <th>std</th>\n",
       "      <td>14.042708</td>\n",
       "      <td>0.500177</td>\n",
       "      <td>5.990504</td>\n",
       "      <td>1.207089</td>\n",
       "      <td>0.400490</td>\n",
       "      <td>1.106514</td>\n",
       "      <td>6.498999</td>\n",
       "    </tr>\n",
       "    <tr>\n",
       "      <th>min</th>\n",
       "      <td>18.000000</td>\n",
       "      <td>0.000000</td>\n",
       "      <td>15.960000</td>\n",
       "      <td>0.000000</td>\n",
       "      <td>0.000000</td>\n",
       "      <td>0.000000</td>\n",
       "      <td>10.390777</td>\n",
       "    </tr>\n",
       "    <tr>\n",
       "      <th>25%</th>\n",
       "      <td>27.000000</td>\n",
       "      <td>0.000000</td>\n",
       "      <td>26.220000</td>\n",
       "      <td>0.000000</td>\n",
       "      <td>0.000000</td>\n",
       "      <td>1.000000</td>\n",
       "      <td>16.785064</td>\n",
       "    </tr>\n",
       "    <tr>\n",
       "      <th>50%</th>\n",
       "      <td>39.000000</td>\n",
       "      <td>1.000000</td>\n",
       "      <td>30.300000</td>\n",
       "      <td>1.000000</td>\n",
       "      <td>0.000000</td>\n",
       "      <td>2.000000</td>\n",
       "      <td>21.030864</td>\n",
       "    </tr>\n",
       "    <tr>\n",
       "      <th>75%</th>\n",
       "      <td>51.000000</td>\n",
       "      <td>1.000000</td>\n",
       "      <td>34.540000</td>\n",
       "      <td>2.000000</td>\n",
       "      <td>0.000000</td>\n",
       "      <td>2.000000</td>\n",
       "      <td>25.385540</td>\n",
       "    </tr>\n",
       "    <tr>\n",
       "      <th>max</th>\n",
       "      <td>64.000000</td>\n",
       "      <td>1.000000</td>\n",
       "      <td>48.070000</td>\n",
       "      <td>5.000000</td>\n",
       "      <td>1.000000</td>\n",
       "      <td>3.000000</td>\n",
       "      <td>36.736295</td>\n",
       "    </tr>\n",
       "  </tbody>\n",
       "</table>\n",
       "</div>"
      ],
      "text/plain": [
       "               age          sex          bmi     children       smoker  \\\n",
       "count  1327.000000  1327.000000  1327.000000  1327.000000  1327.000000   \n",
       "mean     39.212509     0.503391    30.570757     1.098719     0.200452   \n",
       "std      14.042708     0.500177     5.990504     1.207089     0.400490   \n",
       "min      18.000000     0.000000    15.960000     0.000000     0.000000   \n",
       "25%      27.000000     0.000000    26.220000     0.000000     0.000000   \n",
       "50%      39.000000     1.000000    30.300000     1.000000     0.000000   \n",
       "75%      51.000000     1.000000    34.540000     2.000000     0.000000   \n",
       "max      64.000000     1.000000    48.070000     5.000000     1.000000   \n",
       "\n",
       "            region      charges  \n",
       "count  1327.000000  1327.000000  \n",
       "mean      1.513188    21.655110  \n",
       "std       1.106514     6.498999  \n",
       "min       0.000000    10.390777  \n",
       "25%       1.000000    16.785064  \n",
       "50%       2.000000    21.030864  \n",
       "75%       2.000000    25.385540  \n",
       "max       3.000000    36.736295  "
      ]
     },
     "execution_count": 39,
     "metadata": {},
     "output_type": "execute_result"
    }
   ],
   "source": [
    "# Checking statistics after encoding categorical data\n",
    "\n",
    "data1.describe()"
   ]
  },
  {
   "cell_type": "markdown",
   "id": "92e8423a",
   "metadata": {},
   "source": [
    "### Correlation between the target variable and independent variables"
   ]
  },
  {
   "cell_type": "code",
   "execution_count": 40,
   "id": "202e63d6",
   "metadata": {},
   "outputs": [
    {
     "data": {
      "text/html": [
       "<div>\n",
       "<style scoped>\n",
       "    .dataframe tbody tr th:only-of-type {\n",
       "        vertical-align: middle;\n",
       "    }\n",
       "\n",
       "    .dataframe tbody tr th {\n",
       "        vertical-align: top;\n",
       "    }\n",
       "\n",
       "    .dataframe thead th {\n",
       "        text-align: right;\n",
       "    }\n",
       "</style>\n",
       "<table border=\"1\" class=\"dataframe\">\n",
       "  <thead>\n",
       "    <tr style=\"text-align: right;\">\n",
       "      <th></th>\n",
       "      <th>age</th>\n",
       "      <th>sex</th>\n",
       "      <th>bmi</th>\n",
       "      <th>children</th>\n",
       "      <th>smoker</th>\n",
       "      <th>region</th>\n",
       "      <th>charges</th>\n",
       "    </tr>\n",
       "  </thead>\n",
       "  <tbody>\n",
       "    <tr>\n",
       "      <th>age</th>\n",
       "      <td>1.000000</td>\n",
       "      <td>-0.020610</td>\n",
       "      <td>0.117993</td>\n",
       "      <td>0.043074</td>\n",
       "      <td>-0.027158</td>\n",
       "      <td>0.001373</td>\n",
       "      <td>0.457594</td>\n",
       "    </tr>\n",
       "    <tr>\n",
       "      <th>sex</th>\n",
       "      <td>-0.020610</td>\n",
       "      <td>1.000000</td>\n",
       "      <td>0.039539</td>\n",
       "      <td>0.017557</td>\n",
       "      <td>0.075665</td>\n",
       "      <td>0.000260</td>\n",
       "      <td>0.027209</td>\n",
       "    </tr>\n",
       "    <tr>\n",
       "      <th>bmi</th>\n",
       "      <td>0.117993</td>\n",
       "      <td>0.039539</td>\n",
       "      <td>1.000000</td>\n",
       "      <td>0.020254</td>\n",
       "      <td>-0.007974</td>\n",
       "      <td>0.156466</td>\n",
       "      <td>0.151532</td>\n",
       "    </tr>\n",
       "    <tr>\n",
       "      <th>children</th>\n",
       "      <td>0.043074</td>\n",
       "      <td>0.017557</td>\n",
       "      <td>0.020254</td>\n",
       "      <td>1.000000</td>\n",
       "      <td>0.010516</td>\n",
       "      <td>0.019069</td>\n",
       "      <td>0.130194</td>\n",
       "    </tr>\n",
       "    <tr>\n",
       "      <th>smoker</th>\n",
       "      <td>-0.027158</td>\n",
       "      <td>0.075665</td>\n",
       "      <td>-0.007974</td>\n",
       "      <td>0.010516</td>\n",
       "      <td>1.000000</td>\n",
       "      <td>-0.004268</td>\n",
       "      <td>0.725528</td>\n",
       "    </tr>\n",
       "    <tr>\n",
       "      <th>region</th>\n",
       "      <td>0.001373</td>\n",
       "      <td>0.000260</td>\n",
       "      <td>0.156466</td>\n",
       "      <td>0.019069</td>\n",
       "      <td>-0.004268</td>\n",
       "      <td>1.000000</td>\n",
       "      <td>-0.032431</td>\n",
       "    </tr>\n",
       "    <tr>\n",
       "      <th>charges</th>\n",
       "      <td>0.457594</td>\n",
       "      <td>0.027209</td>\n",
       "      <td>0.151532</td>\n",
       "      <td>0.130194</td>\n",
       "      <td>0.725528</td>\n",
       "      <td>-0.032431</td>\n",
       "      <td>1.000000</td>\n",
       "    </tr>\n",
       "  </tbody>\n",
       "</table>\n",
       "</div>"
      ],
      "text/plain": [
       "               age       sex       bmi  children    smoker    region   charges\n",
       "age       1.000000 -0.020610  0.117993  0.043074 -0.027158  0.001373  0.457594\n",
       "sex      -0.020610  1.000000  0.039539  0.017557  0.075665  0.000260  0.027209\n",
       "bmi       0.117993  0.039539  1.000000  0.020254 -0.007974  0.156466  0.151532\n",
       "children  0.043074  0.017557  0.020254  1.000000  0.010516  0.019069  0.130194\n",
       "smoker   -0.027158  0.075665 -0.007974  0.010516  1.000000 -0.004268  0.725528\n",
       "region    0.001373  0.000260  0.156466  0.019069 -0.004268  1.000000 -0.032431\n",
       "charges   0.457594  0.027209  0.151532  0.130194  0.725528 -0.032431  1.000000"
      ]
     },
     "execution_count": 40,
     "metadata": {},
     "output_type": "execute_result"
    }
   ],
   "source": [
    "correlation=data1.corr()\n",
    "correlation"
   ]
  },
  {
   "cell_type": "code",
   "execution_count": 41,
   "id": "164b5537",
   "metadata": {},
   "outputs": [
    {
     "data": {
      "image/png": "[encoded data removed]",
      "text/plain": [
       "<Figure size 720x360 with 2 Axes>"
      ]
     },
     "metadata": {
      "needs_background": "light"
     },
     "output_type": "display_data"
    }
   ],
   "source": [
    "# Visualizing the correlation matrix by plotting a heatmap\n",
    "\n",
    "plt.figure(figsize=(10,5))\n",
    "sns.heatmap(data1.corr(),annot=True,fmt='0.2f',linewidth=0.2,linecolor='black',cmap='Blues')\n",
    "plt.xlabel('Figure ',fontsize=14)\n",
    "plt.ylabel('Features_Name ',fontsize=14)\n",
    "plt.title('Descriptive Graph ',fontsize=20)\n",
    "plt.show()"
   ]
  },
  {
   "cell_type": "code",
   "execution_count": 42,
   "id": "7f64e6f7",
   "metadata": {},
   "outputs": [
    {
     "data": {
      "text/plain": [
       "region     -0.032431\n",
       "sex         0.027209\n",
       "children    0.130194\n",
       "bmi         0.151532\n",
       "age         0.457594\n",
       "smoker      0.725528\n",
       "charges     1.000000\n",
       "Name: charges, dtype: float64"
      ]
     },
     "execution_count": 42,
     "metadata": {},
     "output_type": "execute_result"
    }
   ],
   "source": [
    "data1.corr()['charges'].sort_values()"
   ]
  },
  {
   "cell_type": "code",
   "execution_count": 43,
   "id": "75aa0af4",
   "metadata": {},
   "outputs": [
    {
     "data": {
      "image/png": "[encoded data removed]",
      "text/plain": [
       "<Figure size 1728x576 with 1 Axes>"
      ]
     },
     "metadata": {
      "needs_background": "light"
     },
     "output_type": "display_data"
    }
   ],
   "source": [
    "# Visualize correlations of charges by feature importance\n",
    "\n",
    "plt.figure(figsize=(24,8))\n",
    "data1.corr()['charges'].sort_values().drop(['charges']).plot(kind='barh',color='aqua',width=0.8)\n",
    "plt.xlabel('Feature',fontsize=15)\n",
    "plt.ylabel('Target',fontsize=15)\n",
    "plt.title('Charges Feature Importance',fontsize=20)\n",
    "plt.show()"
   ]
  },
  {
   "cell_type": "markdown",
   "id": "bebcb0e0",
   "metadata": {},
   "source": [
    "The graph shows the top features which are correlated to charges. The main one is if a person is a smoker. While, 'sex' and 'region' are less correlated to charges."
   ]
  },
  {
   "cell_type": "markdown",
   "id": "aacc5ec4",
   "metadata": {},
   "source": [
    "#### Separating features and label"
   ]
  },
  {
   "cell_type": "code",
   "execution_count": 44,
   "id": "4b070e68",
   "metadata": {},
   "outputs": [
    {
     "name": "stdout",
     "output_type": "stream",
     "text": [
      "Feature Dimension (1327, 6)\n",
      "Label Dimension (1327,)\n"
     ]
    }
   ],
   "source": [
    "# Separating the independent and target variables into x and y\n",
    "\n",
    "x=data1.drop(\"charges\",axis=1)\n",
    "y=data1[\"charges\"]\n",
    "\n",
    "print(\"Feature Dimension\",x.shape)\n",
    "print(\"Label Dimension\",y.shape)"
   ]
  },
  {
   "cell_type": "markdown",
   "id": "49e3607c",
   "metadata": {},
   "source": [
    "#### Feature Scaling using Standard Scalarization"
   ]
  },
  {
   "cell_type": "code",
   "execution_count": 45,
   "id": "2632a65f",
   "metadata": {},
   "outputs": [
    {
     "data": {
      "text/html": [
       "<div>\n",
       "<style scoped>\n",
       "    .dataframe tbody tr th:only-of-type {\n",
       "        vertical-align: middle;\n",
       "    }\n",
       "\n",
       "    .dataframe tbody tr th {\n",
       "        vertical-align: top;\n",
       "    }\n",
       "\n",
       "    .dataframe thead th {\n",
       "        text-align: right;\n",
       "    }\n",
       "</style>\n",
       "<table border=\"1\" class=\"dataframe\">\n",
       "  <thead>\n",
       "    <tr style=\"text-align: right;\">\n",
       "      <th></th>\n",
       "      <th>age</th>\n",
       "      <th>sex</th>\n",
       "      <th>bmi</th>\n",
       "      <th>children</th>\n",
       "      <th>smoker</th>\n",
       "      <th>region</th>\n",
       "    </tr>\n",
       "  </thead>\n",
       "  <tbody>\n",
       "    <tr>\n",
       "      <th>0</th>\n",
       "      <td>-1.439902</td>\n",
       "      <td>-1.006805</td>\n",
       "      <td>-0.446000</td>\n",
       "      <td>-0.910565</td>\n",
       "      <td>1.997178</td>\n",
       "      <td>1.344197</td>\n",
       "    </tr>\n",
       "    <tr>\n",
       "      <th>1</th>\n",
       "      <td>-1.511141</td>\n",
       "      <td>0.993241</td>\n",
       "      <td>0.534254</td>\n",
       "      <td>-0.081813</td>\n",
       "      <td>-0.500706</td>\n",
       "      <td>0.440117</td>\n",
       "    </tr>\n",
       "    <tr>\n",
       "      <th>2</th>\n",
       "      <td>-0.798759</td>\n",
       "      <td>0.993241</td>\n",
       "      <td>0.405668</td>\n",
       "      <td>1.575689</td>\n",
       "      <td>-0.500706</td>\n",
       "      <td>0.440117</td>\n",
       "    </tr>\n",
       "    <tr>\n",
       "      <th>3</th>\n",
       "      <td>-0.442568</td>\n",
       "      <td>0.993241</td>\n",
       "      <td>-1.313533</td>\n",
       "      <td>-0.910565</td>\n",
       "      <td>-0.500706</td>\n",
       "      <td>-0.463963</td>\n",
       "    </tr>\n",
       "    <tr>\n",
       "      <th>4</th>\n",
       "      <td>-0.513806</td>\n",
       "      <td>0.993241</td>\n",
       "      <td>-0.282346</td>\n",
       "      <td>-0.910565</td>\n",
       "      <td>-0.500706</td>\n",
       "      <td>-0.463963</td>\n",
       "    </tr>\n",
       "    <tr>\n",
       "      <th>...</th>\n",
       "      <td>...</td>\n",
       "      <td>...</td>\n",
       "      <td>...</td>\n",
       "      <td>...</td>\n",
       "      <td>...</td>\n",
       "      <td>...</td>\n",
       "    </tr>\n",
       "    <tr>\n",
       "      <th>1322</th>\n",
       "      <td>0.768481</td>\n",
       "      <td>0.993241</td>\n",
       "      <td>0.066671</td>\n",
       "      <td>1.575689</td>\n",
       "      <td>-0.500706</td>\n",
       "      <td>-0.463963</td>\n",
       "    </tr>\n",
       "    <tr>\n",
       "      <th>1323</th>\n",
       "      <td>-1.511141</td>\n",
       "      <td>-1.006805</td>\n",
       "      <td>0.225315</td>\n",
       "      <td>-0.910565</td>\n",
       "      <td>-0.500706</td>\n",
       "      <td>-1.368042</td>\n",
       "    </tr>\n",
       "    <tr>\n",
       "      <th>1324</th>\n",
       "      <td>-1.511141</td>\n",
       "      <td>-1.006805</td>\n",
       "      <td>1.048595</td>\n",
       "      <td>-0.910565</td>\n",
       "      <td>-0.500706</td>\n",
       "      <td>0.440117</td>\n",
       "    </tr>\n",
       "    <tr>\n",
       "      <th>1325</th>\n",
       "      <td>-1.297426</td>\n",
       "      <td>-1.006805</td>\n",
       "      <td>-0.796687</td>\n",
       "      <td>-0.910565</td>\n",
       "      <td>-0.500706</td>\n",
       "      <td>1.344197</td>\n",
       "    </tr>\n",
       "    <tr>\n",
       "      <th>1326</th>\n",
       "      <td>1.552101</td>\n",
       "      <td>-1.006805</td>\n",
       "      <td>-0.250617</td>\n",
       "      <td>-0.910565</td>\n",
       "      <td>1.997178</td>\n",
       "      <td>-0.463963</td>\n",
       "    </tr>\n",
       "  </tbody>\n",
       "</table>\n",
       "<p>1327 rows × 6 columns</p>\n",
       "</div>"
      ],
      "text/plain": [
       "           age       sex       bmi  children    smoker    region\n",
       "0    -1.439902 -1.006805 -0.446000 -0.910565  1.997178  1.344197\n",
       "1    -1.511141  0.993241  0.534254 -0.081813 -0.500706  0.440117\n",
       "2    -0.798759  0.993241  0.405668  1.575689 -0.500706  0.440117\n",
       "3    -0.442568  0.993241 -1.313533 -0.910565 -0.500706 -0.463963\n",
       "4    -0.513806  0.993241 -0.282346 -0.910565 -0.500706 -0.463963\n",
       "...        ...       ...       ...       ...       ...       ...\n",
       "1322  0.768481  0.993241  0.066671  1.575689 -0.500706 -0.463963\n",
       "1323 -1.511141 -1.006805  0.225315 -0.910565 -0.500706 -1.368042\n",
       "1324 -1.511141 -1.006805  1.048595 -0.910565 -0.500706  0.440117\n",
       "1325 -1.297426 -1.006805 -0.796687 -0.910565 -0.500706  1.344197\n",
       "1326  1.552101 -1.006805 -0.250617 -0.910565  1.997178 -0.463963\n",
       "\n",
       "[1327 rows x 6 columns]"
      ]
     },
     "execution_count": 45,
     "metadata": {},
     "output_type": "execute_result"
    }
   ],
   "source": [
    " from sklearn.preprocessing import StandardScaler\n",
    "scaler=StandardScaler()\n",
    "x=pd.DataFrame(scaler.fit_transform(x),columns=x.columns)\n",
    "x"
   ]
  },
  {
   "cell_type": "markdown",
   "id": "6693203d",
   "metadata": {},
   "source": [
    "#### Checking Variance Inflation Factor (VIF)"
   ]
  },
  {
   "cell_type": "code",
   "execution_count": 46,
   "id": "9c49e98d",
   "metadata": {},
   "outputs": [
    {
     "data": {
      "text/html": [
       "<div>\n",
       "<style scoped>\n",
       "    .dataframe tbody tr th:only-of-type {\n",
       "        vertical-align: middle;\n",
       "    }\n",
       "\n",
       "    .dataframe tbody tr th {\n",
       "        vertical-align: top;\n",
       "    }\n",
       "\n",
       "    .dataframe thead th {\n",
       "        text-align: right;\n",
       "    }\n",
       "</style>\n",
       "<table border=\"1\" class=\"dataframe\">\n",
       "  <thead>\n",
       "    <tr style=\"text-align: right;\">\n",
       "      <th></th>\n",
       "      <th>VIF Values</th>\n",
       "      <th>Features</th>\n",
       "    </tr>\n",
       "  </thead>\n",
       "  <tbody>\n",
       "    <tr>\n",
       "      <th>0</th>\n",
       "      <td>1.017498</td>\n",
       "      <td>age</td>\n",
       "    </tr>\n",
       "    <tr>\n",
       "      <th>1</th>\n",
       "      <td>1.008283</td>\n",
       "      <td>sex</td>\n",
       "    </tr>\n",
       "    <tr>\n",
       "      <th>2</th>\n",
       "      <td>1.041989</td>\n",
       "      <td>bmi</td>\n",
       "    </tr>\n",
       "    <tr>\n",
       "      <th>3</th>\n",
       "      <td>1.002811</td>\n",
       "      <td>children</td>\n",
       "    </tr>\n",
       "    <tr>\n",
       "      <th>4</th>\n",
       "      <td>1.006607</td>\n",
       "      <td>smoker</td>\n",
       "    </tr>\n",
       "    <tr>\n",
       "      <th>5</th>\n",
       "      <td>1.025755</td>\n",
       "      <td>region</td>\n",
       "    </tr>\n",
       "  </tbody>\n",
       "</table>\n",
       "</div>"
      ],
      "text/plain": [
       "   VIF Values  Features\n",
       "0    1.017498       age\n",
       "1    1.008283       sex\n",
       "2    1.041989       bmi\n",
       "3    1.002811  children\n",
       "4    1.006607    smoker\n",
       "5    1.025755    region"
      ]
     },
     "execution_count": 46,
     "metadata": {},
     "output_type": "execute_result"
    }
   ],
   "source": [
    "# Finding VIF in each scaled column i.e, x.shape[1] (1/(1-R2))\n",
    "\n",
    "from statsmodels.stats.outliers_influence import variance_inflation_factor\n",
    "vif=pd.DataFrame()\n",
    "vif['VIF Values']=[variance_inflation_factor(x.values,i) for i in range(len(x.columns))]\n",
    "vif[\"Features\"]=x.columns\n",
    "\n",
    "vif"
   ]
  },
  {
   "cell_type": "markdown",
   "id": "dd9c90f2",
   "metadata": {},
   "source": [
    "The VIF values show that there is no multicollinearity among the independent variables."
   ]
  },
  {
   "cell_type": "markdown",
   "id": "59b734c1",
   "metadata": {},
   "source": [
    "## Modelling"
   ]
  },
  {
   "cell_type": "markdown",
   "id": "72916034",
   "metadata": {},
   "source": [
    "### Finding the best random state"
   ]
  },
  {
   "cell_type": "code",
   "execution_count": 47,
   "id": "c036f2fa",
   "metadata": {},
   "outputs": [],
   "source": [
    "# importing necessary libraries\n",
    "from sklearn.model_selection import train_test_split\n",
    "from sklearn.metrics import mean_absolute_error\n",
    "from sklearn.metrics import mean_squared_error\n",
    "from sklearn.metrics import r2_score\n",
    "from sklearn.ensemble import GradientBoostingRegressor\n",
    "from sklearn.linear_model import LinearRegression"
   ]
  },
  {
   "cell_type": "markdown",
   "id": "c1b11abc",
   "metadata": {},
   "source": [
    "#### Creating train test split"
   ]
  },
  {
   "cell_type": "code",
   "execution_count": 48,
   "id": "ae6b4d5b",
   "metadata": {},
   "outputs": [
    {
     "name": "stdout",
     "output_type": "stream",
     "text": [
      "Maximun r2 score is  0.8378835671348739 on random_state 75\n"
     ]
    }
   ],
   "source": [
    "maxAccu=0\n",
    "maxRS=0\n",
    "\n",
    "for i in range(1,200):\n",
    "    x_train,x_test,y_train,y_test=train_test_split(x,y,test_size=0.30,random_state=i)\n",
    "    lr=LinearRegression()\n",
    "    lr.fit(x_train,y_train)\n",
    "    pred=lr.predict(x_test)\n",
    "    acc=r2_score(y_test,pred)\n",
    "    if acc>maxAccu:\n",
    "        maxAccu=acc\n",
    "        maxRS=i\n",
    "print(\"Maximun r2 score is \",maxAccu, \"on random_state\",maxRS)"
   ]
  },
  {
   "cell_type": "code",
   "execution_count": 49,
   "id": "5bf7f25a",
   "metadata": {},
   "outputs": [],
   "source": [
    "x_train,x_test,y_train,y_test=train_test_split(x,y,test_size=0.30,random_state=maxRS)"
   ]
  },
  {
   "cell_type": "code",
   "execution_count": 50,
   "id": "44341fb0",
   "metadata": {},
   "outputs": [],
   "source": [
    "from sklearn.linear_model import LinearRegression\n",
    "from sklearn.ensemble import RandomForestRegressor, ExtraTreesRegressor\n",
    "from sklearn.tree import DecisionTreeRegressor\n",
    "from sklearn.neighbors import KNeighborsRegressor as KNN\n",
    "from sklearn.linear_model import Lasso, Ridge\n",
    "from sklearn.svm import SVR"
   ]
  },
  {
   "cell_type": "code",
   "execution_count": 51,
   "id": "36299b46",
   "metadata": {},
   "outputs": [
    {
     "name": "stdout",
     "output_type": "stream",
     "text": [
      "R2 Score: 0.8378835671348739\n",
      "R2 Score on training data: 74.99995443717123\n",
      "Mean Absolute Error: 1.8071514906125918\n",
      "Mean Squared Error: 6.788752358216624\n",
      "Root Mean Squared Error: 2.6055234326746373\n"
     ]
    }
   ],
   "source": [
    "LR=LinearRegression()\n",
    "LR.fit(x_train,y_train)\n",
    "pred_LR=LR.predict(x_test)\n",
    "pred_train=LR.predict(x_train)\n",
    "print('R2 Score:',r2_score(y_test,pred_LR))\n",
    "print('R2 Score on training data:',r2_score(y_train, pred_train)*100)\n",
    "print('Mean Absolute Error:',mean_absolute_error(y_test,pred_LR))\n",
    "print('Mean Squared Error:',mean_squared_error(y_test,pred_LR))\n",
    "print('Root Mean Squared Error:',np.sqrt(mean_squared_error(y_test,pred_LR)))"
   ]
  },
  {
   "cell_type": "code",
   "execution_count": 66,
   "id": "5bf30cfc",
   "metadata": {},
   "outputs": [
    {
     "data": {
      "image/png": "[encoded data removed]",
      "text/plain": [
       "<Figure size 720x432 with 1 Axes>"
      ]
     },
     "metadata": {
      "needs_background": "light"
     },
     "output_type": "display_data"
    }
   ],
   "source": [
    "plt.figure(figsize=(10,6))\n",
    "plt.scatter(x=pred_LR,y=y_test,color='aqua')\n",
    "plt.plot(pred_LR,pred_LR,color='b')\n",
    "plt.xlabel(\"Actual\",fontsize=14)\n",
    "plt.ylabel(\"Predicted\",fontsize=14)\n",
    "plt.title(\"Linear Regression\",fontsize=18)\n",
    "plt.show()"
   ]
  },
  {
   "cell_type": "code",
   "execution_count": 53,
   "id": "b04c0fb4",
   "metadata": {},
   "outputs": [
    {
     "name": "stdout",
     "output_type": "stream",
     "text": [
      "R2 Score: 0.8528509062829034\n",
      "R2 Score on training data: 96.79834430324236\n",
      "Mean Absolute Error: 1.4764012434904292\n",
      "Mean Squared Error: 6.1619833309092655\n",
      "Root Mean Squared Error: 2.4823342504403523\n"
     ]
    }
   ],
   "source": [
    "RFR=RandomForestRegressor()\n",
    "RFR.fit(x_train,y_train)\n",
    "pred_RFR=RFR.predict(x_test)\n",
    "pred_train=RFR.predict(x_train)\n",
    "print('R2 Score:',r2_score(y_test,pred_RFR))\n",
    "print('R2 Score on training data:',r2_score(y_train, pred_train)*100)\n",
    "print('Mean Absolute Error:',mean_absolute_error(y_test,pred_RFR))\n",
    "print('Mean Squared Error:',mean_squared_error(y_test,pred_RFR))\n",
    "print('Root Mean Squared Error:',np.sqrt(mean_squared_error(y_test,pred_RFR)))"
   ]
  },
  {
   "cell_type": "code",
   "execution_count": 65,
   "id": "e7c16692",
   "metadata": {},
   "outputs": [
    {
     "data": {
      "image/png": "[encoded data removed]",
      "text/plain": [
       "<Figure size 720x432 with 1 Axes>"
      ]
     },
     "metadata": {
      "needs_background": "light"
     },
     "output_type": "display_data"
    }
   ],
   "source": [
    "plt.figure(figsize=(10,6))\n",
    "plt.scatter(x=pred_LR,y=y_test,color='aqua')\n",
    "plt.plot(pred_LR,pred_LR,color='b')\n",
    "plt.xlabel(\"Actual\",fontsize=14)\n",
    "plt.ylabel(\"Predicted\",fontsize=14)\n",
    "plt.title(\"Random Forest Regressor\",fontsize=18)\n",
    "plt.show()"
   ]
  },
  {
   "cell_type": "code",
   "execution_count": 54,
   "id": "b2efdcb6",
   "metadata": {},
   "outputs": [
    {
     "name": "stdout",
     "output_type": "stream",
     "text": [
      "R2 Score: 0.8414853887896666\n",
      "R2 Score on training data: 83.76899946669991\n",
      "Mean Absolute Error: 1.7357030031338836\n",
      "Mean Squared Error: 6.637923260754352\n",
      "Root Mean Squared Error: 2.5764167482677083\n"
     ]
    }
   ],
   "source": [
    "knn=KNN()\n",
    "knn.fit(x_train,y_train)\n",
    "pred_knn=knn.predict(x_test)\n",
    "pred_train=knn.predict(x_train)\n",
    "print('R2 Score:',r2_score(y_test,pred_knn))\n",
    "print('R2 Score on training data:',r2_score(y_train, pred_train)*100)\n",
    "print('Mean Absolute Error:',mean_absolute_error(y_test,pred_knn))\n",
    "print('Mean Squared Error:',mean_squared_error(y_test,pred_knn))\n",
    "print('Root Mean Squared Error:',np.sqrt(mean_squared_error(y_test,pred_knn)))"
   ]
  },
  {
   "cell_type": "code",
   "execution_count": 64,
   "id": "1077017d",
   "metadata": {},
   "outputs": [
    {
     "data": {
      "image/png": "[encoded data removed]",
      "text/plain": [
       "<Figure size 720x432 with 1 Axes>"
      ]
     },
     "metadata": {
      "needs_background": "light"
     },
     "output_type": "display_data"
    }
   ],
   "source": [
    "plt.figure(figsize=(10,6))\n",
    "plt.scatter(x=pred_LR,y=y_test,color='aqua')\n",
    "plt.plot(pred_LR,pred_LR,color='b')\n",
    "plt.xlabel(\"Actual\",fontsize=14)\n",
    "plt.ylabel(\"Predicted\",fontsize=14)\n",
    "plt.title(\"KNN\",fontsize=18)\n",
    "plt.show()"
   ]
  },
  {
   "cell_type": "code",
   "execution_count": 55,
   "id": "36c11367",
   "metadata": {},
   "outputs": [
    {
     "name": "stdout",
     "output_type": "stream",
     "text": [
      "R2 Score: 0.8920245881408346\n",
      "R2 Score on training data: 86.36016820479217\n",
      "Mean Absolute Error: 1.3264293378000784\n",
      "Mean Squared Error: 4.521554779694415\n",
      "Root Mean Squared Error: 2.1263947845342397\n"
     ]
    }
   ],
   "source": [
    "GBR=GradientBoostingRegressor()\n",
    "GBR.fit(x_train,y_train)\n",
    "pred_GBR=GBR.predict(x_test)\n",
    "pred_train=GBR.predict(x_train)\n",
    "print('R2 Score:',r2_score(y_test,pred_GBR))\n",
    "print('R2 Score on training data:',r2_score(y_train, pred_train)*100)\n",
    "print('Mean Absolute Error:',mean_absolute_error(y_test,pred_GBR))\n",
    "print('Mean Squared Error:',mean_squared_error(y_test,pred_GBR))\n",
    "print('Root Mean Squared Error:',np.sqrt(mean_squared_error(y_test,pred_GBR)))"
   ]
  },
  {
   "cell_type": "code",
   "execution_count": 67,
   "id": "fe471a9f",
   "metadata": {},
   "outputs": [
    {
     "data": {
      "image/png": "[encoded data removed]",
      "text/plain": [
       "<Figure size 720x432 with 1 Axes>"
      ]
     },
     "metadata": {
      "needs_background": "light"
     },
     "output_type": "display_data"
    }
   ],
   "source": [
    "plt.figure(figsize=(10,6))\n",
    "plt.scatter(x=pred_LR,y=y_test,color='aqua')\n",
    "plt.plot(pred_LR,pred_LR,color='b')\n",
    "plt.xlabel(\"Actual\",fontsize=14)\n",
    "plt.ylabel(\"Predicted\",fontsize=14)\n",
    "plt.title(\"Gradient Boosting Regressor\",fontsize=18)\n",
    "plt.show()"
   ]
  },
  {
   "cell_type": "code",
   "execution_count": 56,
   "id": "eb752f98",
   "metadata": {},
   "outputs": [
    {
     "name": "stdout",
     "output_type": "stream",
     "text": [
      "R2 Score: 0.7338237648787371\n",
      "R2 Score on training data: 68.0694373236913\n",
      "Mean Absolute Error: 2.5252438009086293\n",
      "Mean Squared Error: 11.146337924817562\n",
      "Root Mean Squared Error: 3.338613173881868\n"
     ]
    }
   ],
   "source": [
    "lasso=Lasso()\n",
    "lasso.fit(x_train,y_train)\n",
    "pred_lasso=lasso.predict(x_test)\n",
    "pred_train=lasso.predict(x_train)\n",
    "print('R2 Score:',r2_score(y_test,pred_lasso))\n",
    "print('R2 Score on training data:',r2_score(y_train, pred_train)*100)\n",
    "print('Mean Absolute Error:',mean_absolute_error(y_test,pred_lasso))\n",
    "print('Mean Squared Error:',mean_squared_error(y_test,pred_lasso))\n",
    "print('Root Mean Squared Error:',np.sqrt(mean_squared_error(y_test,pred_lasso)))"
   ]
  },
  {
   "cell_type": "code",
   "execution_count": 68,
   "id": "d7caec9b",
   "metadata": {},
   "outputs": [
    {
     "data": {
      "image/png": "[encoded data removed]",
      "text/plain": [
       "<Figure size 720x432 with 1 Axes>"
      ]
     },
     "metadata": {
      "needs_background": "light"
     },
     "output_type": "display_data"
    }
   ],
   "source": [
    "plt.figure(figsize=(10,6))\n",
    "plt.scatter(x=pred_LR,y=y_test,color='aqua')\n",
    "plt.plot(pred_LR,pred_LR,color='b')\n",
    "plt.xlabel(\"Actual\",fontsize=14)\n",
    "plt.ylabel(\"Predicted\",fontsize=14)\n",
    "plt.title(\"Lasso\",fontsize=18)\n",
    "plt.show()"
   ]
  },
  {
   "cell_type": "code",
   "execution_count": 57,
   "id": "a91029e5",
   "metadata": {},
   "outputs": [
    {
     "name": "stdout",
     "output_type": "stream",
     "text": [
      "R2 Score: 0.8377500308956811\n",
      "R2 Score on training data: 74.99986792847425\n",
      "Mean Absolute Error: 1.8091383133539372\n",
      "Mean Squared Error: 6.794344292622688\n",
      "Root Mean Squared Error: 2.606596304114369\n"
     ]
    }
   ],
   "source": [
    "rd=Ridge()\n",
    "rd.fit(x_train,y_train)\n",
    "pred_ridge=rd.predict(x_test)\n",
    "pred_train=rd.predict(x_train)\n",
    "print('R2 Score:',r2_score(y_test,pred_ridge))\n",
    "print('R2 Score on training data:',r2_score(y_train, pred_train)*100)\n",
    "print('Mean Absolute Error:',mean_absolute_error(y_test,pred_ridge))\n",
    "print('Mean Squared Error:',mean_squared_error(y_test,pred_ridge))\n",
    "print('Root Mean Squared Error:',np.sqrt(mean_squared_error(y_test,pred_ridge)))"
   ]
  },
  {
   "cell_type": "code",
   "execution_count": 69,
   "id": "d84e56b7",
   "metadata": {},
   "outputs": [
    {
     "data": {
      "image/png": "[encoded data removed]",
      "text/plain": [
       "<Figure size 720x432 with 1 Axes>"
      ]
     },
     "metadata": {
      "needs_background": "light"
     },
     "output_type": "display_data"
    }
   ],
   "source": [
    "plt.figure(figsize=(10,6))\n",
    "plt.scatter(x=pred_LR,y=y_test,color='aqua')\n",
    "plt.plot(pred_LR,pred_LR,color='b')\n",
    "plt.xlabel(\"Actual\",fontsize=14)\n",
    "plt.ylabel(\"Predicted\",fontsize=14)\n",
    "plt.title(\"Ridge\",fontsize=18)\n",
    "plt.show()"
   ]
  },
  {
   "cell_type": "code",
   "execution_count": 58,
   "id": "3894c0e9",
   "metadata": {},
   "outputs": [
    {
     "name": "stdout",
     "output_type": "stream",
     "text": [
      "R2 Score: 0.6493858498352316\n",
      "R2 Score on training data: 100.0\n",
      "Mean Absolute Error: 1.7948867133484707\n",
      "Mean Squared Error: 14.682241625285693\n",
      "Root Mean Squared Error: 3.831741330685788\n"
     ]
    }
   ],
   "source": [
    "dtr=DecisionTreeRegressor()\n",
    "dtr.fit(x_train,y_train)\n",
    "pred_DTR=dtr.predict(x_test)\n",
    "pred_train=dtr.predict(x_train)\n",
    "print('R2 Score:',r2_score(y_test,pred_DTR))\n",
    "print('R2 Score on training data:',r2_score(y_train, pred_train)*100)\n",
    "print('Mean Absolute Error:',mean_absolute_error(y_test,pred_DTR))\n",
    "print('Mean Squared Error:',mean_squared_error(y_test,pred_DTR))\n",
    "print('Root Mean Squared Error:',np.sqrt(mean_squared_error(y_test,pred_DTR)))"
   ]
  },
  {
   "cell_type": "code",
   "execution_count": 70,
   "id": "6ea9f003",
   "metadata": {},
   "outputs": [
    {
     "data": {
      "image/png": "[encoded data removed]",
      "text/plain": [
       "<Figure size 720x432 with 1 Axes>"
      ]
     },
     "metadata": {
      "needs_background": "light"
     },
     "output_type": "display_data"
    }
   ],
   "source": [
    "plt.figure(figsize=(10,6))\n",
    "plt.scatter(x=pred_LR,y=y_test,color='aqua')\n",
    "plt.plot(pred_LR,pred_LR,color='b')\n",
    "plt.xlabel(\"Actual\",fontsize=14)\n",
    "plt.ylabel(\"Predicted\",fontsize=14)\n",
    "plt.title(\"Decision Tree Regressor\",fontsize=18)\n",
    "plt.show()"
   ]
  },
  {
   "cell_type": "code",
   "execution_count": 59,
   "id": "0081daf4",
   "metadata": {},
   "outputs": [
    {
     "name": "stdout",
     "output_type": "stream",
     "text": [
      "R2 Score: 0.8854445540573231\n",
      "R2 Score on training data: 78.65332779967954\n",
      "Mean Absolute Error: 0.9313027905406074\n",
      "Mean Squared Error: 4.79709885078034\n",
      "Root Mean Squared Error: 2.1902280362510975\n"
     ]
    }
   ],
   "source": [
    "svr=SVR()\n",
    "svr.fit(x_train,y_train)\n",
    "pred_SVR=svr.predict(x_test)\n",
    "pred_train=svr.predict(x_train)\n",
    "print('R2 Score:',r2_score(y_test,pred_SVR))\n",
    "print('R2 Score on training data:',r2_score(y_train, pred_train)*100)\n",
    "print('Mean Absolute Error:',mean_absolute_error(y_test,pred_SVR))\n",
    "print('Mean Squared Error:',mean_squared_error(y_test,pred_SVR))\n",
    "print('Root Mean Squared Error:',np.sqrt(mean_squared_error(y_test,pred_SVR)))"
   ]
  },
  {
   "cell_type": "code",
   "execution_count": 71,
   "id": "9768270b",
   "metadata": {},
   "outputs": [
    {
     "data": {
      "image/png": "[encoded data removed]",
      "text/plain": [
       "<Figure size 720x432 with 1 Axes>"
      ]
     },
     "metadata": {
      "needs_background": "light"
     },
     "output_type": "display_data"
    }
   ],
   "source": [
    "plt.figure(figsize=(10,6))\n",
    "plt.scatter(x=pred_LR,y=y_test,color='aqua')\n",
    "plt.plot(pred_LR,pred_LR,color='b')\n",
    "plt.xlabel(\"Actual\",fontsize=14)\n",
    "plt.ylabel(\"Predicted\",fontsize=14)\n",
    "plt.title(\"SVR\",fontsize=18)\n",
    "plt.show()"
   ]
  },
  {
   "cell_type": "code",
   "execution_count": 60,
   "id": "6c8c7eae",
   "metadata": {},
   "outputs": [
    {
     "name": "stdout",
     "output_type": "stream",
     "text": [
      "R2 Score: 0.8317003411592991\n",
      "R2 Score on training data: 100.0\n",
      "Mean Absolute Error: 1.355810701231566\n",
      "Mean Squared Error: 7.0476797795841515\n",
      "Root Mean Squared Error: 2.6547466507341433\n"
     ]
    }
   ],
   "source": [
    "etr=ExtraTreesRegressor()\n",
    "etr.fit(x_train,y_train)\n",
    "pred_ETR=etr.predict(x_test)\n",
    "pred_train=etr.predict(x_train)\n",
    "print('R2 Score:',r2_score(y_test,pred_ETR))\n",
    "print('R2 Score on training data:',r2_score(y_train, pred_train)*100)\n",
    "print('Mean Absolute Error:',mean_absolute_error(y_test,pred_ETR))\n",
    "print('Mean Squared Error:',mean_squared_error(y_test,pred_ETR))\n",
    "print('Root Mean Squared Error:',np.sqrt(mean_squared_error(y_test,pred_ETR)))"
   ]
  },
  {
   "cell_type": "code",
   "execution_count": 72,
   "id": "52e3bae9",
   "metadata": {},
   "outputs": [
    {
     "data": {
      "image/png": "[encoded data removed]",
      "text/plain": [
       "<Figure size 720x432 with 1 Axes>"
      ]
     },
     "metadata": {
      "needs_background": "light"
     },
     "output_type": "display_data"
    }
   ],
   "source": [
    "plt.figure(figsize=(10,6))\n",
    "plt.scatter(x=pred_LR,y=y_test,color='aqua')\n",
    "plt.plot(pred_LR,pred_LR,color='b')\n",
    "plt.xlabel(\"Actual\",fontsize=14)\n",
    "plt.ylabel(\"Predicted\",fontsize=14)\n",
    "plt.title(\"Extra Trees Regressor\",fontsize=18)\n",
    "plt.show()"
   ]
  },
  {
   "cell_type": "markdown",
   "id": "f223ba8c",
   "metadata": {},
   "source": [
    "### Cross Validation Score"
   ]
  },
  {
   "cell_type": "code",
   "execution_count": 61,
   "id": "603e50c7",
   "metadata": {},
   "outputs": [],
   "source": [
    "from sklearn.model_selection import cross_val_score"
   ]
  },
  {
   "cell_type": "code",
   "execution_count": 73,
   "id": "996039e1",
   "metadata": {},
   "outputs": [
    {
     "name": "stdout",
     "output_type": "stream",
     "text": [
      "[0.80862291 0.70720627 0.83000087 0.76991128 0.75689263]\n",
      "0.7745267926490887\n",
      "Difference between R2 Score and Cross Validation Score is 6.3356774485785134\n"
     ]
    }
   ],
   "source": [
    "# Checking cv score\n",
    "score=cross_val_score(LR,x,y,cv=5,scoring=\"r2\")\n",
    "print(score)\n",
    "print(score.mean())\n",
    "print(\"Difference between R2 Score and Cross Validation Score is\",(r2_score(y_test,pred_LR)-score.mean())*100)"
   ]
  },
  {
   "cell_type": "code",
   "execution_count": 74,
   "id": "a64dba0c",
   "metadata": {},
   "outputs": [
    {
     "name": "stdout",
     "output_type": "stream",
     "text": [
      "[0.83788892 0.71375347 0.84850474 0.81769193 0.80404839]\n",
      "0.8043774894833167\n",
      "Difference between R2 Score and Cross Validation Score is 4.847341679958673\n"
     ]
    }
   ],
   "source": [
    "# Checking CV Score\n",
    "score1=cross_val_score(RFR,x,y)\n",
    "print(score1)\n",
    "print(score1.mean())\n",
    "print(\"Difference between R2 Score and Cross Validation Score is\",(r2_score(y_test,pred_RFR)-score1.mean())*100)"
   ]
  },
  {
   "cell_type": "code",
   "execution_count": 75,
   "id": "20be443c",
   "metadata": {},
   "outputs": [
    {
     "name": "stdout",
     "output_type": "stream",
     "text": [
      "[0.83877161 0.70736416 0.83032421 0.79527829 0.79201812]\n",
      "0.7927512793257401\n",
      "Difference between R2 Score and Cross Validation Score is 4.873410946392653\n"
     ]
    }
   ],
   "source": [
    "# Checking CV Score\n",
    "score2=cross_val_score(knn,x,y)\n",
    "print(score2)\n",
    "print(score2.mean())\n",
    "print(\"Difference between R2 Score and Cross Validation Score is\",(r2_score(y_test,pred_knn)-score2.mean())*100)"
   ]
  },
  {
   "cell_type": "code",
   "execution_count": 76,
   "id": "bff522f5",
   "metadata": {},
   "outputs": [
    {
     "name": "stdout",
     "output_type": "stream",
     "text": [
      "[0.86653935 0.74449272 0.89368483 0.83021168 0.81765487]\n",
      "0.8305166911752797\n",
      "Difference between R2 Score and Cross Validation Score is 6.150789696555492\n"
     ]
    }
   ],
   "source": [
    "# Checking CV Score\n",
    "score3=cross_val_score(GBR,x,y)\n",
    "print(score3)\n",
    "print(score3.mean())\n",
    "print(\"Difference between R2 Score and Cross Validation Score is\",(r2_score(y_test,pred_GBR)-score3.mean())*100)"
   ]
  },
  {
   "cell_type": "code",
   "execution_count": 77,
   "id": "a649ac3b",
   "metadata": {},
   "outputs": [
    {
     "name": "stdout",
     "output_type": "stream",
     "text": [
      "[0.73165544 0.66122026 0.72476515 0.70298669 0.69575232]\n",
      "0.7032759718946521\n",
      "Difference between R2 Score and Cross Validation Score is 3.0547792984085054\n"
     ]
    }
   ],
   "source": [
    "# Checking CV Score\n",
    "score4=cross_val_score(lasso,x,y)\n",
    "print(score4)\n",
    "print(score4.mean())\n",
    "print(\"Difference between R2 Score and Cross Validation Score is\",(r2_score(y_test,pred_lasso)-score4.mean())*100)"
   ]
  },
  {
   "cell_type": "code",
   "execution_count": 78,
   "id": "c51770da",
   "metadata": {},
   "outputs": [
    {
     "name": "stdout",
     "output_type": "stream",
     "text": [
      "[0.80857832 0.70731953 0.82987612 0.76995601 0.75691514]\n",
      "0.7745290250149982\n",
      "Difference between R2 Score and Cross Validation Score is 6.322100588068292\n"
     ]
    }
   ],
   "source": [
    "# Checking CV Score\n",
    "score5=cross_val_score(rd,x,y)\n",
    "print(score5)\n",
    "print(score5.mean())\n",
    "print(\"Difference between R2 Score and Cross Validation Score is\",(r2_score(y_test,pred_ridge)-score5.mean())*100)"
   ]
  },
  {
   "cell_type": "code",
   "execution_count": 79,
   "id": "52b56f62",
   "metadata": {},
   "outputs": [
    {
     "name": "stdout",
     "output_type": "stream",
     "text": [
      "[0.73234954 0.61230198 0.62167862 0.68260258 0.55389086]\n",
      "0.6405647152284574\n",
      "Difference between R2 Score and Cross Validation Score is 0.882113460677425\n"
     ]
    }
   ],
   "source": [
    "# Checking CV Score\n",
    "score6=cross_val_score(dtr,x,y)\n",
    "print(score6)\n",
    "print(score6.mean())\n",
    "print(\"Difference between R2 Score and Cross Validation Score is\",(r2_score(y_test,pred_DTR)-score6.mean())*100)"
   ]
  },
  {
   "cell_type": "code",
   "execution_count": 80,
   "id": "808f2f49",
   "metadata": {},
   "outputs": [
    {
     "name": "stdout",
     "output_type": "stream",
     "text": [
      "[0.86639263 0.71953315 0.88136762 0.80082427 0.79238129]\n",
      "0.8120997927476189\n",
      "Difference between R2 Score and Cross Validation Score is 7.334476130970424\n"
     ]
    }
   ],
   "source": [
    "# Checking CV Score\n",
    "score7=cross_val_score(svr,x,y)\n",
    "print(score7)\n",
    "print(score7.mean())\n",
    "print(\"Difference between R2 Score and Cross Validation Score is\",(r2_score(y_test,pred_SVR)-score7.mean())*100)"
   ]
  },
  {
   "cell_type": "code",
   "execution_count": 81,
   "id": "37999d64",
   "metadata": {},
   "outputs": [
    {
     "name": "stdout",
     "output_type": "stream",
     "text": [
      "[0.80371194 0.68465465 0.82745043 0.78712275 0.78689655]\n",
      "0.7779672636684601\n",
      "Difference between R2 Score and Cross Validation Score is 5.373307749083899\n"
     ]
    }
   ],
   "source": [
    "# Checking CV Score\n",
    "score8=cross_val_score(etr,x,y)\n",
    "print(score8)\n",
    "print(score8.mean())\n",
    "print(\"Difference between R2 Score and Cross Validation Score is\",(r2_score(y_test,pred_ETR)-score8.mean())*100)"
   ]
  },
  {
   "cell_type": "markdown",
   "id": "45b41336",
   "metadata": {},
   "source": [
    "DecisionTreeRegressor is the best fitting and performing model given the difference between the R2 Score and Cross Validation Score."
   ]
  },
  {
   "cell_type": "markdown",
   "id": "c0852042",
   "metadata": {},
   "source": [
    "### Hyperparameter Tuning"
   ]
  },
  {
   "cell_type": "code",
   "execution_count": 96,
   "id": "c4d7d072",
   "metadata": {},
   "outputs": [],
   "source": [
    "# DecisionTreeRegressor\n",
    "\n",
    "from sklearn.model_selection import GridSearchCV\n",
    "\n",
    "# Always take at least 5 parameters\n",
    "parameters={'criterion':['mse','squared_error', 'friedman_mse', 'absolute_error', 'poisson'],\n",
    "            'max_depth':[10,12,25,50,100],\n",
    "            'min_samples_split':[2,5,10,15],\n",
    "            'min_impurity_decrease':[0,0.0005,0.001,0.005,0.01]\n",
    "      }"
   ]
  },
  {
   "cell_type": "code",
   "execution_count": 97,
   "id": "80c0a923",
   "metadata": {},
   "outputs": [
    {
     "data": {
      "text/plain": [
       "dict_keys(['ccp_alpha', 'criterion', 'max_depth', 'max_features', 'max_leaf_nodes', 'min_impurity_decrease', 'min_impurity_split', 'min_samples_leaf', 'min_samples_split', 'min_weight_fraction_leaf', 'random_state', 'splitter'])"
      ]
     },
     "execution_count": 97,
     "metadata": {},
     "output_type": "execute_result"
    }
   ],
   "source": [
    "DecisionTreeRegressor().get_params().keys()"
   ]
  },
  {
   "cell_type": "code",
   "execution_count": 98,
   "id": "889a856b",
   "metadata": {},
   "outputs": [],
   "source": [
    "gscv=GridSearchCV(DecisionTreeRegressor(),parameters,cv=5)"
   ]
  },
  {
   "cell_type": "code",
   "execution_count": 99,
   "id": "eb9e3407",
   "metadata": {},
   "outputs": [
    {
     "data": {
      "text/plain": [
       "GridSearchCV(cv=5, estimator=DecisionTreeRegressor(),\n",
       "             param_grid={'criterion': ['mse', 'squared_error', 'friedman_mse',\n",
       "                                       'absolute_error', 'poisson'],\n",
       "                         'max_depth': [10, 12, 25, 50, 100],\n",
       "                         'min_impurity_decrease': [0, 0.0005, 0.001, 0.005,\n",
       "                                                   0.01],\n",
       "                         'min_samples_split': [2, 5, 10, 15]})"
      ]
     },
     "execution_count": 99,
     "metadata": {},
     "output_type": "execute_result"
    }
   ],
   "source": [
    "gscv.fit(x_train,y_train)"
   ]
  },
  {
   "cell_type": "code",
   "execution_count": 100,
   "id": "95d9820a",
   "metadata": {},
   "outputs": [
    {
     "data": {
      "text/plain": [
       "{'criterion': 'poisson',\n",
       " 'max_depth': 25,\n",
       " 'min_impurity_decrease': 0,\n",
       " 'min_samples_split': 15}"
      ]
     },
     "execution_count": 100,
     "metadata": {},
     "output_type": "execute_result"
    }
   ],
   "source": [
    "gscv.best_params_"
   ]
  },
  {
   "cell_type": "code",
   "execution_count": 101,
   "id": "6b083883",
   "metadata": {},
   "outputs": [],
   "source": [
    "Model=DecisionTreeRegressor(criterion='poisson',max_depth=25,min_samples_split=15,min_impurity_decrease=0)"
   ]
  },
  {
   "cell_type": "code",
   "execution_count": 102,
   "id": "9c554d54",
   "metadata": {},
   "outputs": [
    {
     "name": "stdout",
     "output_type": "stream",
     "text": [
      "R2 Score: 0.8522315475412792\n",
      "Mean Absolute Error: 1.602933137767989\n",
      "Mean Squared Error: 6.187919462388803\n",
      "Root Mean Squared Error: 2.487552906450193\n"
     ]
    }
   ],
   "source": [
    "Model.fit(x_train,y_train)\n",
    "pred=Model.predict(x_test)\n",
    "print('R2 Score:',r2_score(y_test,pred))\n",
    "print('Mean Absolute Error:',mean_absolute_error(y_test,pred))\n",
    "print('Mean Squared Error:',mean_squared_error(y_test,pred))\n",
    "print('Root Mean Squared Error:',np.sqrt(mean_squared_error(y_test,pred)))"
   ]
  },
  {
   "cell_type": "markdown",
   "id": "befcf036",
   "metadata": {},
   "source": [
    "### Saving the model"
   ]
  },
  {
   "cell_type": "code",
   "execution_count": 103,
   "id": "5e7cd149",
   "metadata": {},
   "outputs": [],
   "source": [
    "import pickle\n",
    "filename=\"Insurance.pkl\"\n",
    "pickle.dump(Model,open(filename,'wb'))"
   ]
  },
  {
   "cell_type": "markdown",
   "id": "87832874",
   "metadata": {},
   "source": [
    "### Predicting based on saved model"
   ]
  },
  {
   "cell_type": "code",
   "execution_count": 104,
   "id": "7c235345",
   "metadata": {},
   "outputs": [
    {
     "name": "stdout",
     "output_type": "stream",
     "text": [
      "85.22315475412792\n"
     ]
    }
   ],
   "source": [
    "# Loading the saved model and getting the predictions\n",
    "\n",
    "import pickle\n",
    "loaded_model=pickle.load(open(\"Insurance.pkl\",\"rb\"))\n",
    "result=loaded_model.score(x_test,y_test)\n",
    "print(result*100)"
   ]
  },
  {
   "cell_type": "code",
   "execution_count": 105,
   "id": "dadd9657",
   "metadata": {},
   "outputs": [
    {
     "data": {
      "text/html": [
       "<div>\n",
       "<style scoped>\n",
       "    .dataframe tbody tr th:only-of-type {\n",
       "        vertical-align: middle;\n",
       "    }\n",
       "\n",
       "    .dataframe tbody tr th {\n",
       "        vertical-align: top;\n",
       "    }\n",
       "\n",
       "    .dataframe thead th {\n",
       "        text-align: right;\n",
       "    }\n",
       "</style>\n",
       "<table border=\"1\" class=\"dataframe\">\n",
       "  <thead>\n",
       "    <tr style=\"text-align: right;\">\n",
       "      <th></th>\n",
       "      <th>0</th>\n",
       "      <th>1</th>\n",
       "      <th>2</th>\n",
       "      <th>3</th>\n",
       "      <th>4</th>\n",
       "      <th>5</th>\n",
       "      <th>6</th>\n",
       "      <th>7</th>\n",
       "      <th>8</th>\n",
       "      <th>9</th>\n",
       "      <th>...</th>\n",
       "      <th>389</th>\n",
       "      <th>390</th>\n",
       "      <th>391</th>\n",
       "      <th>392</th>\n",
       "      <th>393</th>\n",
       "      <th>394</th>\n",
       "      <th>395</th>\n",
       "      <th>396</th>\n",
       "      <th>397</th>\n",
       "      <th>398</th>\n",
       "    </tr>\n",
       "  </thead>\n",
       "  <tbody>\n",
       "    <tr>\n",
       "      <th>Predicted</th>\n",
       "      <td>17.587394</td>\n",
       "      <td>14.438912</td>\n",
       "      <td>17.521698</td>\n",
       "      <td>24.648557</td>\n",
       "      <td>17.428923</td>\n",
       "      <td>22.819861</td>\n",
       "      <td>17.428923</td>\n",
       "      <td>24.86842</td>\n",
       "      <td>33.317798</td>\n",
       "      <td>23.44216</td>\n",
       "      <td>...</td>\n",
       "      <td>21.831949</td>\n",
       "      <td>17.428923</td>\n",
       "      <td>24.091592</td>\n",
       "      <td>21.237391</td>\n",
       "      <td>23.442160</td>\n",
       "      <td>33.758857</td>\n",
       "      <td>34.670675</td>\n",
       "      <td>24.467392</td>\n",
       "      <td>23.359249</td>\n",
       "      <td>25.312579</td>\n",
       "    </tr>\n",
       "    <tr>\n",
       "      <th>Original</th>\n",
       "      <td>26.608292</td>\n",
       "      <td>13.040507</td>\n",
       "      <td>16.715735</td>\n",
       "      <td>22.432959</td>\n",
       "      <td>16.811139</td>\n",
       "      <td>23.524894</td>\n",
       "      <td>16.389197</td>\n",
       "      <td>23.19268</td>\n",
       "      <td>32.608206</td>\n",
       "      <td>33.19574</td>\n",
       "      <td>...</td>\n",
       "      <td>20.350544</td>\n",
       "      <td>24.305338</td>\n",
       "      <td>21.228784</td>\n",
       "      <td>29.084592</td>\n",
       "      <td>23.599766</td>\n",
       "      <td>36.166234</td>\n",
       "      <td>33.362366</td>\n",
       "      <td>21.182321</td>\n",
       "      <td>22.475349</td>\n",
       "      <td>24.370790</td>\n",
       "    </tr>\n",
       "  </tbody>\n",
       "</table>\n",
       "<p>2 rows × 399 columns</p>\n",
       "</div>"
      ],
      "text/plain": [
       "                 0          1          2          3          4          5    \\\n",
       "Predicted  17.587394  14.438912  17.521698  24.648557  17.428923  22.819861   \n",
       "Original   26.608292  13.040507  16.715735  22.432959  16.811139  23.524894   \n",
       "\n",
       "                 6         7          8         9    ...        389  \\\n",
       "Predicted  17.428923  24.86842  33.317798  23.44216  ...  21.831949   \n",
       "Original   16.389197  23.19268  32.608206  33.19574  ...  20.350544   \n",
       "\n",
       "                 390        391        392        393        394        395  \\\n",
       "Predicted  17.428923  24.091592  21.237391  23.442160  33.758857  34.670675   \n",
       "Original   24.305338  21.228784  29.084592  23.599766  36.166234  33.362366   \n",
       "\n",
       "                 396        397        398  \n",
       "Predicted  24.467392  23.359249  25.312579  \n",
       "Original   21.182321  22.475349  24.370790  \n",
       "\n",
       "[2 rows x 399 columns]"
      ]
     },
     "execution_count": 105,
     "metadata": {},
     "output_type": "execute_result"
    }
   ],
   "source": [
    "# Checking if the model is giving the consistent predictions\n",
    "\n",
    "comp=pd.DataFrame([loaded_model.predict(x_test)[:],y_test[:]],index=['Predicted','Original'])\n",
    "comp"
   ]
  },
  {
   "cell_type": "markdown",
   "id": "1176a969",
   "metadata": {},
   "source": [
    "After Hyperameter Tuning, there is an evident increase in the accuracy of the model. Furthermore, the results show that in general terms the model is giving good predictions."
   ]
  }
 ],
 "metadata": {
  "kernelspec": {
   "display_name": "Python 3",
   "language": "python",
   "name": "python3"
  },
  "language_info": {
   "codemirror_mode": {
    "name": "ipython",
    "version": 3
   },
   "file_extension": ".py",
   "mimetype": "text/x-python",
   "name": "python",
   "nbconvert_exporter": "python",
   "pygments_lexer": "ipython3",
   "version": "3.8.8"
  }
 },
 "nbformat": 4,
 "nbformat_minor": 5
}
